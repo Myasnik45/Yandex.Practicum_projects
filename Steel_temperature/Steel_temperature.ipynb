{
 "cells": [
  {
   "cell_type": "markdown",
   "metadata": {
    "id": "kGvyRJT5xWNn"
   },
   "source": [
    "# Температура стали"
   ]
  },
  {
   "cell_type": "markdown",
   "metadata": {
    "id": "ZJAgYXPjxi-r"
   },
   "source": [
    "**Техническое задание.**  \n",
    "<ins><i>Заказчик:</i></ins>  ООО «Металлургический комбинат «Так закаляем сталь»  \n",
    "<ins><i>Цели:</i></ins> Оптимизация производственных расходов посредством снижения затрат на электроэнергию на этапе обработки стали  \n",
    "<ins><i>Задачи:</i></ins> Построение модели, которая предскажет температуру стали  \n",
    "<ins><i>Исходные данные:</i></ins> набор файлов из различных источников  \n",
    "<ins><i>Критерии качества:</i></ins> Метрика MAE<=6"
   ]
  },
  {
   "cell_type": "markdown",
   "metadata": {},
   "source": [
    "<a id='start'></a>\n",
    "**Содержание**\n",
    "\n",
    "[1. Загрузка данных](#load)  \n",
    "[2. Первичный анализ данных](#da)  \n",
    "[3. Подготовка признаков](#features)  \n",
    "[4. Обучение моделей](#models)  \n",
    "[5. Выводы](#conclusion)  \n",
    "[6. Отчёт](#report)\n"
   ]
  },
  {
   "cell_type": "markdown",
   "metadata": {
    "id": "MI5QxQVFbTcO"
   },
   "source": [
    "<a id='da'></a>\n",
    "## Первичный анализ данных\n",
    "[В начало](#start)"
   ]
  },
  {
   "cell_type": "code",
   "execution_count": 7,
   "metadata": {
    "id": "nUs0xd3Mhbdo"
   },
   "outputs": [],
   "source": [
    "import pandas as pd\n",
    "import numpy as np\n",
    "import matplotlib.pyplot as plt\n",
    "import seaborn as sns\n",
    "import warnings\n",
    "\n",
    "from sklearn.model_selection import train_test_split, RandomizedSearchCV\n",
    "from sklearn.linear_model import LinearRegression\n",
    "from sklearn.ensemble import RandomForestRegressor\n",
    "from catboost import CatBoostRegressor\n",
    "from xgboost import XGBRegressor\n",
    "\n",
    "from sklearn.metrics import mean_absolute_error\n",
    "\n",
    "\n",
    "plt.rcParams.update({'font.size':14, \n",
    "                     'figure.figsize':(8,6)})\n",
    "warnings.filterwarnings(\"ignore\")"
   ]
  },
  {
   "cell_type": "markdown",
   "metadata": {},
   "source": [
    "Загрузка данных"
   ]
  },
  {
   "cell_type": "code",
   "execution_count": null,
   "metadata": {
    "colab": {
     "base_uri": "https://localhost:8080/",
     "height": 72
    },
    "id": "i_UK4wY0f7os",
    "outputId": "e4a8754e-3500-43b9-81c6-2ee9ad9e7a14"
   },
   "outputs": [],
   "source": [
    "data_arc = pd.read_csv('/datasets/final_steel/data_arc.csv')\n",
    "data_bulk = pd.read_csv('/datasets/final_steel/data_bulk.csv')\n",
    "data_bulk_time = pd.read_csv('/datasets/final_steel/data_bulk_time.csv')\n",
    "data_gas = pd.read_csv('/datasets/final_steel/data_gas.csv')\n",
    "data_temp = pd.read_csv('/datasets/final_steel/data_temp.csv')\n",
    "data_wire = pd.read_csv('/datasets/final_steel/data_wire.csv')\n",
    "data_wire_time = pd.read_csv('/datasets/final_steel/data_wire_time.csv')"
   ]
  },
  {
   "cell_type": "code",
   "execution_count": 3,
   "metadata": {
    "id": "BAN19kUGgUIb"
   },
   "outputs": [],
   "source": [
    "data_arc.name = 'data_arc'\n",
    "data_bulk.name = 'data_bulk'\n",
    "data_bulk_time.name = 'data_bulk_time'\n",
    "data_gas.name = 'data_gas'\n",
    "data_temp.name = 'data_temp'\n",
    "data_wire.name = 'data_wire'\n",
    "data_wire_time.name = 'data_wire_time'"
   ]
  },
  {
   "cell_type": "code",
   "execution_count": 4,
   "metadata": {
    "id": "hbh3NWC4n1Rl"
   },
   "outputs": [],
   "source": [
    "def sum_info(data):\n",
    "    '''Вывод общей информации для заданного датафрейма'''\n",
    "    print(' * ' * 20)\n",
    "    print(f'File_name: {data.name}')\n",
    "    print(f'File_shape: {data.shape}')\n",
    "    display(data.head(3))\n",
    "    tab = pd.concat([data.dtypes, data.isna().mean()], axis=1)\n",
    "    tab.columns=['data_type', 'nan_part']\n",
    "    display(tab.sort_values(by='nan_part', ascending=False))\n",
    "    print(' * ' * 20)"
   ]
  },
  {
   "cell_type": "code",
   "execution_count": 5,
   "metadata": {
    "id": "0E3J6_ppj3UD"
   },
   "outputs": [],
   "source": [
    "data_list = [data_arc, data_bulk, data_bulk_time, data_gas, data_temp, data_wire, data_wire_time]"
   ]
  },
  {
   "cell_type": "code",
   "execution_count": 6,
   "metadata": {
    "colab": {
     "base_uri": "https://localhost:8080/",
     "height": 406
    },
    "id": "kidxEFsPsBcq",
    "outputId": "ce2c5f15-0df7-43b6-a738-760b41d70b26"
   },
   "outputs": [
    {
     "name": "stdout",
     "output_type": "stream",
     "text": [
      " *  *  *  *  *  *  *  *  *  *  *  *  *  *  *  *  *  *  *  * \n",
      "File_name: data_arc\n",
      "File_shape: (14876, 5)\n"
     ]
    },
    {
     "data": {
      "text/html": [
       "<div>\n",
       "<style scoped>\n",
       "    .dataframe tbody tr th:only-of-type {\n",
       "        vertical-align: middle;\n",
       "    }\n",
       "\n",
       "    .dataframe tbody tr th {\n",
       "        vertical-align: top;\n",
       "    }\n",
       "\n",
       "    .dataframe thead th {\n",
       "        text-align: right;\n",
       "    }\n",
       "</style>\n",
       "<table border=\"1\" class=\"dataframe\">\n",
       "  <thead>\n",
       "    <tr style=\"text-align: right;\">\n",
       "      <th></th>\n",
       "      <th>key</th>\n",
       "      <th>Начало нагрева дугой</th>\n",
       "      <th>Конец нагрева дугой</th>\n",
       "      <th>Активная мощность</th>\n",
       "      <th>Реактивная мощность</th>\n",
       "    </tr>\n",
       "  </thead>\n",
       "  <tbody>\n",
       "    <tr>\n",
       "      <td>0</td>\n",
       "      <td>1</td>\n",
       "      <td>2019-05-03 11:02:14</td>\n",
       "      <td>2019-05-03 11:06:02</td>\n",
       "      <td>0.976059</td>\n",
       "      <td>0.687084</td>\n",
       "    </tr>\n",
       "    <tr>\n",
       "      <td>1</td>\n",
       "      <td>1</td>\n",
       "      <td>2019-05-03 11:07:28</td>\n",
       "      <td>2019-05-03 11:10:33</td>\n",
       "      <td>0.805607</td>\n",
       "      <td>0.520285</td>\n",
       "    </tr>\n",
       "    <tr>\n",
       "      <td>2</td>\n",
       "      <td>1</td>\n",
       "      <td>2019-05-03 11:11:44</td>\n",
       "      <td>2019-05-03 11:14:36</td>\n",
       "      <td>0.744363</td>\n",
       "      <td>0.498805</td>\n",
       "    </tr>\n",
       "  </tbody>\n",
       "</table>\n",
       "</div>"
      ],
      "text/plain": [
       "   key Начало нагрева дугой  Конец нагрева дугой  Активная мощность  \\\n",
       "0    1  2019-05-03 11:02:14  2019-05-03 11:06:02           0.976059   \n",
       "1    1  2019-05-03 11:07:28  2019-05-03 11:10:33           0.805607   \n",
       "2    1  2019-05-03 11:11:44  2019-05-03 11:14:36           0.744363   \n",
       "\n",
       "   Реактивная мощность  \n",
       "0             0.687084  \n",
       "1             0.520285  \n",
       "2             0.498805  "
      ]
     },
     "metadata": {},
     "output_type": "display_data"
    },
    {
     "data": {
      "text/html": [
       "<div>\n",
       "<style scoped>\n",
       "    .dataframe tbody tr th:only-of-type {\n",
       "        vertical-align: middle;\n",
       "    }\n",
       "\n",
       "    .dataframe tbody tr th {\n",
       "        vertical-align: top;\n",
       "    }\n",
       "\n",
       "    .dataframe thead th {\n",
       "        text-align: right;\n",
       "    }\n",
       "</style>\n",
       "<table border=\"1\" class=\"dataframe\">\n",
       "  <thead>\n",
       "    <tr style=\"text-align: right;\">\n",
       "      <th></th>\n",
       "      <th>data_type</th>\n",
       "      <th>nan_part</th>\n",
       "    </tr>\n",
       "  </thead>\n",
       "  <tbody>\n",
       "    <tr>\n",
       "      <td>key</td>\n",
       "      <td>int64</td>\n",
       "      <td>0.0</td>\n",
       "    </tr>\n",
       "    <tr>\n",
       "      <td>Начало нагрева дугой</td>\n",
       "      <td>object</td>\n",
       "      <td>0.0</td>\n",
       "    </tr>\n",
       "    <tr>\n",
       "      <td>Конец нагрева дугой</td>\n",
       "      <td>object</td>\n",
       "      <td>0.0</td>\n",
       "    </tr>\n",
       "    <tr>\n",
       "      <td>Активная мощность</td>\n",
       "      <td>float64</td>\n",
       "      <td>0.0</td>\n",
       "    </tr>\n",
       "    <tr>\n",
       "      <td>Реактивная мощность</td>\n",
       "      <td>float64</td>\n",
       "      <td>0.0</td>\n",
       "    </tr>\n",
       "  </tbody>\n",
       "</table>\n",
       "</div>"
      ],
      "text/plain": [
       "                     data_type  nan_part\n",
       "key                      int64       0.0\n",
       "Начало нагрева дугой    object       0.0\n",
       "Конец нагрева дугой     object       0.0\n",
       "Активная мощность      float64       0.0\n",
       "Реактивная мощность    float64       0.0"
      ]
     },
     "metadata": {},
     "output_type": "display_data"
    },
    {
     "name": "stdout",
     "output_type": "stream",
     "text": [
      " *  *  *  *  *  *  *  *  *  *  *  *  *  *  *  *  *  *  *  * \n"
     ]
    }
   ],
   "source": [
    "sum_info(data_list[0])"
   ]
  },
  {
   "cell_type": "markdown",
   "metadata": {
    "id": "xScl1d4mq7Hh"
   },
   "source": [
    "Таблица \"Электроды\" (data_arc.csv) содержит 14876 строк. Столбцы с со датой/временем определены как строки. Тип данных в столбцах с мощностью правильный, пропущенных данных нет. Из имеющихся сведений интерес может представлять общее время нагрева и потребляемая нагревателем мощность.  \n",
    "Видно, что этапов нагрева может быть несколько, поэтому оценим распределение количества этапов нагрева. "
   ]
  },
  {
   "cell_type": "code",
   "execution_count": 7,
   "metadata": {
    "colab": {
     "base_uri": "https://localhost:8080/"
    },
    "id": "iBug6ELUPKMV",
    "outputId": "8aca12fe-9212-430a-9b0c-a393371f65bc"
   },
   "outputs": [
    {
     "data": {
      "text/plain": [
       "count    3214.000000\n",
       "mean        4.628500\n",
       "std         1.608647\n",
       "min         1.000000\n",
       "25%         4.000000\n",
       "50%         4.000000\n",
       "75%         6.000000\n",
       "max        16.000000\n",
       "Name: key, dtype: float64"
      ]
     },
     "execution_count": 7,
     "metadata": {},
     "output_type": "execute_result"
    }
   ],
   "source": [
    "data_arc.groupby(by='key')['key'].count().describe() "
   ]
  },
  {
   "cell_type": "markdown",
   "metadata": {
    "id": "NUbvXuavRVNu"
   },
   "source": [
    "Минимальное количество циклов нагрева - 1, максимальное - 16, в среднем 4. Всего партий 3214.  \n",
    "Посмотрим как распределена мощность и как связаны между собой активная и реактивная мощности. "
   ]
  },
  {
   "cell_type": "code",
   "execution_count": 8,
   "metadata": {
    "colab": {
     "base_uri": "https://localhost:8080/",
     "height": 300
    },
    "id": "E-5aGO4TSZNb",
    "outputId": "89eaedde-5f5c-4768-fdcc-b32ea9db2a24"
   },
   "outputs": [
    {
     "data": {
      "text/html": [
       "<div>\n",
       "<style scoped>\n",
       "    .dataframe tbody tr th:only-of-type {\n",
       "        vertical-align: middle;\n",
       "    }\n",
       "\n",
       "    .dataframe tbody tr th {\n",
       "        vertical-align: top;\n",
       "    }\n",
       "\n",
       "    .dataframe thead th {\n",
       "        text-align: right;\n",
       "    }\n",
       "</style>\n",
       "<table border=\"1\" class=\"dataframe\">\n",
       "  <thead>\n",
       "    <tr style=\"text-align: right;\">\n",
       "      <th></th>\n",
       "      <th>Активная мощность</th>\n",
       "      <th>Реактивная мощность</th>\n",
       "    </tr>\n",
       "  </thead>\n",
       "  <tbody>\n",
       "    <tr>\n",
       "      <td>count</td>\n",
       "      <td>14876.000000</td>\n",
       "      <td>14876.000000</td>\n",
       "    </tr>\n",
       "    <tr>\n",
       "      <td>mean</td>\n",
       "      <td>0.670441</td>\n",
       "      <td>0.452592</td>\n",
       "    </tr>\n",
       "    <tr>\n",
       "      <td>std</td>\n",
       "      <td>0.408159</td>\n",
       "      <td>5.878702</td>\n",
       "    </tr>\n",
       "    <tr>\n",
       "      <td>min</td>\n",
       "      <td>0.030002</td>\n",
       "      <td>-715.504924</td>\n",
       "    </tr>\n",
       "    <tr>\n",
       "      <td>25%</td>\n",
       "      <td>0.395297</td>\n",
       "      <td>0.290991</td>\n",
       "    </tr>\n",
       "    <tr>\n",
       "      <td>50%</td>\n",
       "      <td>0.555517</td>\n",
       "      <td>0.415962</td>\n",
       "    </tr>\n",
       "    <tr>\n",
       "      <td>75%</td>\n",
       "      <td>0.857034</td>\n",
       "      <td>0.637371</td>\n",
       "    </tr>\n",
       "    <tr>\n",
       "      <td>max</td>\n",
       "      <td>3.731596</td>\n",
       "      <td>2.676388</td>\n",
       "    </tr>\n",
       "  </tbody>\n",
       "</table>\n",
       "</div>"
      ],
      "text/plain": [
       "       Активная мощность  Реактивная мощность\n",
       "count       14876.000000         14876.000000\n",
       "mean            0.670441             0.452592\n",
       "std             0.408159             5.878702\n",
       "min             0.030002          -715.504924\n",
       "25%             0.395297             0.290991\n",
       "50%             0.555517             0.415962\n",
       "75%             0.857034             0.637371\n",
       "max             3.731596             2.676388"
      ]
     },
     "execution_count": 8,
     "metadata": {},
     "output_type": "execute_result"
    }
   ],
   "source": [
    "data_arc[['Активная мощность', 'Реактивная мощность']].describe()"
   ]
  },
  {
   "cell_type": "markdown",
   "metadata": {
    "id": "XKaGSN_ATCzY"
   },
   "source": [
    "В реактивной мощности есть аномалия - отрицательное значение."
   ]
  },
  {
   "cell_type": "code",
   "execution_count": 9,
   "metadata": {
    "colab": {
     "base_uri": "https://localhost:8080/",
     "height": 81
    },
    "id": "rUNP_zY8TOKr",
    "outputId": "5653fbc4-8435-4c4e-ecc4-2e388586dbef"
   },
   "outputs": [
    {
     "data": {
      "text/html": [
       "<div>\n",
       "<style scoped>\n",
       "    .dataframe tbody tr th:only-of-type {\n",
       "        vertical-align: middle;\n",
       "    }\n",
       "\n",
       "    .dataframe tbody tr th {\n",
       "        vertical-align: top;\n",
       "    }\n",
       "\n",
       "    .dataframe thead th {\n",
       "        text-align: right;\n",
       "    }\n",
       "</style>\n",
       "<table border=\"1\" class=\"dataframe\">\n",
       "  <thead>\n",
       "    <tr style=\"text-align: right;\">\n",
       "      <th></th>\n",
       "      <th>key</th>\n",
       "      <th>Начало нагрева дугой</th>\n",
       "      <th>Конец нагрева дугой</th>\n",
       "      <th>Активная мощность</th>\n",
       "      <th>Реактивная мощность</th>\n",
       "    </tr>\n",
       "  </thead>\n",
       "  <tbody>\n",
       "    <tr>\n",
       "      <td>9780</td>\n",
       "      <td>2116</td>\n",
       "      <td>2019-07-24 00:44:48</td>\n",
       "      <td>2019-07-24 00:46:37</td>\n",
       "      <td>0.495782</td>\n",
       "      <td>-715.504924</td>\n",
       "    </tr>\n",
       "  </tbody>\n",
       "</table>\n",
       "</div>"
      ],
      "text/plain": [
       "       key Начало нагрева дугой  Конец нагрева дугой  Активная мощность  \\\n",
       "9780  2116  2019-07-24 00:44:48  2019-07-24 00:46:37           0.495782   \n",
       "\n",
       "      Реактивная мощность  \n",
       "9780          -715.504924  "
      ]
     },
     "execution_count": 9,
     "metadata": {},
     "output_type": "execute_result"
    }
   ],
   "source": [
    "data_arc[data_arc['Реактивная мощность'] < 0]"
   ]
  },
  {
   "cell_type": "markdown",
   "metadata": {
    "id": "SzsxzlqqYFEa"
   },
   "source": [
    "Видимо какой-то глюк при измерениях. Посмотрим как связаны эти две величины."
   ]
  },
  {
   "cell_type": "code",
   "execution_count": 10,
   "metadata": {
    "colab": {
     "base_uri": "https://localhost:8080/",
     "height": 279
    },
    "id": "iiYQi4-rV2UV",
    "outputId": "5de833a2-4b65-4984-c5c2-2f8e4846dd97"
   },
   "outputs": [
    {
     "data": {
      "image/png": "[encoded data removed]",
      "text/plain": [
       "<Figure size 576x432 with 1 Axes>"
      ]
     },
     "metadata": {
      "needs_background": "light"
     },
     "output_type": "display_data"
    }
   ],
   "source": [
    "data_arc[data_arc['Реактивная мощность'] >= 0].plot(x='Активная мощность', \n",
    "                                                    y='Реактивная мощность', \n",
    "                                                    kind='scatter', alpha=0.3)\n",
    "plt.show()"
   ]
  },
  {
   "cell_type": "markdown",
   "metadata": {
    "id": "nCWWnpkNYo8o"
   },
   "source": [
    "Видно весьма ощутимую взаимосвязь. Впрочем, это и есть две крайности одной сущности и, возможно, в будущем их стоит объединить в один признак \"полная мощность\" через соотношение:  \n",
    "\n",
    "$$ \n",
    "S = \\sqrt{P^2 + Q^2}\n",
    "$$ \n",
    "где: S - полная мощность, Р - активная, Q - реактивная"
   ]
  },
  {
   "cell_type": "markdown",
   "metadata": {
    "id": "XAmOoz0eTbYd"
   },
   "source": [
    "  \n",
    "Смотрим следующую таблицу."
   ]
  },
  {
   "cell_type": "code",
   "execution_count": 11,
   "metadata": {
    "colab": {
     "base_uri": "https://localhost:8080/",
     "height": 751
    },
    "id": "EMssgeZ3mv8r",
    "outputId": "05536492-f22e-4925-f113-c3c6221ac01a"
   },
   "outputs": [
    {
     "name": "stdout",
     "output_type": "stream",
     "text": [
      " *  *  *  *  *  *  *  *  *  *  *  *  *  *  *  *  *  *  *  * \n",
      "File_name: data_bulk\n",
      "File_shape: (3129, 16)\n"
     ]
    },
    {
     "data": {
      "text/html": [
       "<div>\n",
       "<style scoped>\n",
       "    .dataframe tbody tr th:only-of-type {\n",
       "        vertical-align: middle;\n",
       "    }\n",
       "\n",
       "    .dataframe tbody tr th {\n",
       "        vertical-align: top;\n",
       "    }\n",
       "\n",
       "    .dataframe thead th {\n",
       "        text-align: right;\n",
       "    }\n",
       "</style>\n",
       "<table border=\"1\" class=\"dataframe\">\n",
       "  <thead>\n",
       "    <tr style=\"text-align: right;\">\n",
       "      <th></th>\n",
       "      <th>key</th>\n",
       "      <th>Bulk 1</th>\n",
       "      <th>Bulk 2</th>\n",
       "      <th>Bulk 3</th>\n",
       "      <th>Bulk 4</th>\n",
       "      <th>Bulk 5</th>\n",
       "      <th>Bulk 6</th>\n",
       "      <th>Bulk 7</th>\n",
       "      <th>Bulk 8</th>\n",
       "      <th>Bulk 9</th>\n",
       "      <th>Bulk 10</th>\n",
       "      <th>Bulk 11</th>\n",
       "      <th>Bulk 12</th>\n",
       "      <th>Bulk 13</th>\n",
       "      <th>Bulk 14</th>\n",
       "      <th>Bulk 15</th>\n",
       "    </tr>\n",
       "  </thead>\n",
       "  <tbody>\n",
       "    <tr>\n",
       "      <td>0</td>\n",
       "      <td>1</td>\n",
       "      <td>NaN</td>\n",
       "      <td>NaN</td>\n",
       "      <td>NaN</td>\n",
       "      <td>43.0</td>\n",
       "      <td>NaN</td>\n",
       "      <td>NaN</td>\n",
       "      <td>NaN</td>\n",
       "      <td>NaN</td>\n",
       "      <td>NaN</td>\n",
       "      <td>NaN</td>\n",
       "      <td>NaN</td>\n",
       "      <td>206.0</td>\n",
       "      <td>NaN</td>\n",
       "      <td>150.0</td>\n",
       "      <td>154.0</td>\n",
       "    </tr>\n",
       "    <tr>\n",
       "      <td>1</td>\n",
       "      <td>2</td>\n",
       "      <td>NaN</td>\n",
       "      <td>NaN</td>\n",
       "      <td>NaN</td>\n",
       "      <td>73.0</td>\n",
       "      <td>NaN</td>\n",
       "      <td>NaN</td>\n",
       "      <td>NaN</td>\n",
       "      <td>NaN</td>\n",
       "      <td>NaN</td>\n",
       "      <td>NaN</td>\n",
       "      <td>NaN</td>\n",
       "      <td>206.0</td>\n",
       "      <td>NaN</td>\n",
       "      <td>149.0</td>\n",
       "      <td>154.0</td>\n",
       "    </tr>\n",
       "    <tr>\n",
       "      <td>2</td>\n",
       "      <td>3</td>\n",
       "      <td>NaN</td>\n",
       "      <td>NaN</td>\n",
       "      <td>NaN</td>\n",
       "      <td>34.0</td>\n",
       "      <td>NaN</td>\n",
       "      <td>NaN</td>\n",
       "      <td>NaN</td>\n",
       "      <td>NaN</td>\n",
       "      <td>NaN</td>\n",
       "      <td>NaN</td>\n",
       "      <td>NaN</td>\n",
       "      <td>205.0</td>\n",
       "      <td>NaN</td>\n",
       "      <td>152.0</td>\n",
       "      <td>153.0</td>\n",
       "    </tr>\n",
       "  </tbody>\n",
       "</table>\n",
       "</div>"
      ],
      "text/plain": [
       "   key  Bulk 1  Bulk 2  Bulk 3  Bulk 4  Bulk 5  Bulk 6  Bulk 7  Bulk 8  \\\n",
       "0    1     NaN     NaN     NaN    43.0     NaN     NaN     NaN     NaN   \n",
       "1    2     NaN     NaN     NaN    73.0     NaN     NaN     NaN     NaN   \n",
       "2    3     NaN     NaN     NaN    34.0     NaN     NaN     NaN     NaN   \n",
       "\n",
       "   Bulk 9  Bulk 10  Bulk 11  Bulk 12  Bulk 13  Bulk 14  Bulk 15  \n",
       "0     NaN      NaN      NaN    206.0      NaN    150.0    154.0  \n",
       "1     NaN      NaN      NaN    206.0      NaN    149.0    154.0  \n",
       "2     NaN      NaN      NaN    205.0      NaN    152.0    153.0  "
      ]
     },
     "metadata": {},
     "output_type": "display_data"
    },
    {
     "data": {
      "text/html": [
       "<div>\n",
       "<style scoped>\n",
       "    .dataframe tbody tr th:only-of-type {\n",
       "        vertical-align: middle;\n",
       "    }\n",
       "\n",
       "    .dataframe tbody tr th {\n",
       "        vertical-align: top;\n",
       "    }\n",
       "\n",
       "    .dataframe thead th {\n",
       "        text-align: right;\n",
       "    }\n",
       "</style>\n",
       "<table border=\"1\" class=\"dataframe\">\n",
       "  <thead>\n",
       "    <tr style=\"text-align: right;\">\n",
       "      <th></th>\n",
       "      <th>data_type</th>\n",
       "      <th>nan_part</th>\n",
       "    </tr>\n",
       "  </thead>\n",
       "  <tbody>\n",
       "    <tr>\n",
       "      <td>Bulk 8</td>\n",
       "      <td>float64</td>\n",
       "      <td>0.999680</td>\n",
       "    </tr>\n",
       "    <tr>\n",
       "      <td>Bulk 13</td>\n",
       "      <td>float64</td>\n",
       "      <td>0.994247</td>\n",
       "    </tr>\n",
       "    <tr>\n",
       "      <td>Bulk 9</td>\n",
       "      <td>float64</td>\n",
       "      <td>0.993928</td>\n",
       "    </tr>\n",
       "    <tr>\n",
       "      <td>Bulk 2</td>\n",
       "      <td>float64</td>\n",
       "      <td>0.992969</td>\n",
       "    </tr>\n",
       "    <tr>\n",
       "      <td>Bulk 7</td>\n",
       "      <td>float64</td>\n",
       "      <td>0.992010</td>\n",
       "    </tr>\n",
       "    <tr>\n",
       "      <td>Bulk 5</td>\n",
       "      <td>float64</td>\n",
       "      <td>0.975391</td>\n",
       "    </tr>\n",
       "    <tr>\n",
       "      <td>Bulk 10</td>\n",
       "      <td>float64</td>\n",
       "      <td>0.943752</td>\n",
       "    </tr>\n",
       "    <tr>\n",
       "      <td>Bulk 11</td>\n",
       "      <td>float64</td>\n",
       "      <td>0.943432</td>\n",
       "    </tr>\n",
       "    <tr>\n",
       "      <td>Bulk 1</td>\n",
       "      <td>float64</td>\n",
       "      <td>0.919463</td>\n",
       "    </tr>\n",
       "    <tr>\n",
       "      <td>Bulk 6</td>\n",
       "      <td>float64</td>\n",
       "      <td>0.815916</td>\n",
       "    </tr>\n",
       "    <tr>\n",
       "      <td>Bulk 4</td>\n",
       "      <td>float64</td>\n",
       "      <td>0.675935</td>\n",
       "    </tr>\n",
       "    <tr>\n",
       "      <td>Bulk 3</td>\n",
       "      <td>float64</td>\n",
       "      <td>0.585171</td>\n",
       "    </tr>\n",
       "    <tr>\n",
       "      <td>Bulk 15</td>\n",
       "      <td>float64</td>\n",
       "      <td>0.281560</td>\n",
       "    </tr>\n",
       "    <tr>\n",
       "      <td>Bulk 12</td>\n",
       "      <td>float64</td>\n",
       "      <td>0.217002</td>\n",
       "    </tr>\n",
       "    <tr>\n",
       "      <td>Bulk 14</td>\n",
       "      <td>float64</td>\n",
       "      <td>0.103228</td>\n",
       "    </tr>\n",
       "    <tr>\n",
       "      <td>key</td>\n",
       "      <td>int64</td>\n",
       "      <td>0.000000</td>\n",
       "    </tr>\n",
       "  </tbody>\n",
       "</table>\n",
       "</div>"
      ],
      "text/plain": [
       "        data_type  nan_part\n",
       "Bulk 8    float64  0.999680\n",
       "Bulk 13   float64  0.994247\n",
       "Bulk 9    float64  0.993928\n",
       "Bulk 2    float64  0.992969\n",
       "Bulk 7    float64  0.992010\n",
       "Bulk 5    float64  0.975391\n",
       "Bulk 10   float64  0.943752\n",
       "Bulk 11   float64  0.943432\n",
       "Bulk 1    float64  0.919463\n",
       "Bulk 6    float64  0.815916\n",
       "Bulk 4    float64  0.675935\n",
       "Bulk 3    float64  0.585171\n",
       "Bulk 15   float64  0.281560\n",
       "Bulk 12   float64  0.217002\n",
       "Bulk 14   float64  0.103228\n",
       "key         int64  0.000000"
      ]
     },
     "metadata": {},
     "output_type": "display_data"
    },
    {
     "name": "stdout",
     "output_type": "stream",
     "text": [
      " *  *  *  *  *  *  *  *  *  *  *  *  *  *  *  *  *  *  *  * \n"
     ]
    }
   ],
   "source": [
    "sum_info(data_list[1])"
   ]
  },
  {
   "cell_type": "markdown",
   "metadata": {
    "id": "zM3aZX2FtMVy"
   },
   "source": [
    "Таблица \"Сыпучие материалы\" ('data_bulk') содержит сведения об объёме добавленных материалов в расплав. Все данные числовые, однако содержится большое количество пропусков, которые говорят нам о том, что-то в расплав не добавлялось. А если не добавлялось, значит пропуски можно заменить на нули. Но пока открыт вопрос о том, насколько этот признак является значимым. "
   ]
  },
  {
   "cell_type": "code",
   "execution_count": 12,
   "metadata": {
    "colab": {
     "base_uri": "https://localhost:8080/",
     "height": 751
    },
    "id": "n-frHGR2s1WV",
    "outputId": "bc4b94ca-733e-4e17-cebd-a4221f6022ae"
   },
   "outputs": [
    {
     "name": "stdout",
     "output_type": "stream",
     "text": [
      " *  *  *  *  *  *  *  *  *  *  *  *  *  *  *  *  *  *  *  * \n",
      "File_name: data_bulk_time\n",
      "File_shape: (3129, 16)\n"
     ]
    },
    {
     "data": {
      "text/html": [
       "<div>\n",
       "<style scoped>\n",
       "    .dataframe tbody tr th:only-of-type {\n",
       "        vertical-align: middle;\n",
       "    }\n",
       "\n",
       "    .dataframe tbody tr th {\n",
       "        vertical-align: top;\n",
       "    }\n",
       "\n",
       "    .dataframe thead th {\n",
       "        text-align: right;\n",
       "    }\n",
       "</style>\n",
       "<table border=\"1\" class=\"dataframe\">\n",
       "  <thead>\n",
       "    <tr style=\"text-align: right;\">\n",
       "      <th></th>\n",
       "      <th>key</th>\n",
       "      <th>Bulk 1</th>\n",
       "      <th>Bulk 2</th>\n",
       "      <th>Bulk 3</th>\n",
       "      <th>Bulk 4</th>\n",
       "      <th>Bulk 5</th>\n",
       "      <th>Bulk 6</th>\n",
       "      <th>Bulk 7</th>\n",
       "      <th>Bulk 8</th>\n",
       "      <th>Bulk 9</th>\n",
       "      <th>Bulk 10</th>\n",
       "      <th>Bulk 11</th>\n",
       "      <th>Bulk 12</th>\n",
       "      <th>Bulk 13</th>\n",
       "      <th>Bulk 14</th>\n",
       "      <th>Bulk 15</th>\n",
       "    </tr>\n",
       "  </thead>\n",
       "  <tbody>\n",
       "    <tr>\n",
       "      <td>0</td>\n",
       "      <td>1</td>\n",
       "      <td>NaN</td>\n",
       "      <td>NaN</td>\n",
       "      <td>NaN</td>\n",
       "      <td>2019-05-03 11:21:30</td>\n",
       "      <td>NaN</td>\n",
       "      <td>NaN</td>\n",
       "      <td>NaN</td>\n",
       "      <td>NaN</td>\n",
       "      <td>NaN</td>\n",
       "      <td>NaN</td>\n",
       "      <td>NaN</td>\n",
       "      <td>2019-05-03 11:03:52</td>\n",
       "      <td>NaN</td>\n",
       "      <td>2019-05-03 11:03:52</td>\n",
       "      <td>2019-05-03 11:03:52</td>\n",
       "    </tr>\n",
       "    <tr>\n",
       "      <td>1</td>\n",
       "      <td>2</td>\n",
       "      <td>NaN</td>\n",
       "      <td>NaN</td>\n",
       "      <td>NaN</td>\n",
       "      <td>2019-05-03 11:46:38</td>\n",
       "      <td>NaN</td>\n",
       "      <td>NaN</td>\n",
       "      <td>NaN</td>\n",
       "      <td>NaN</td>\n",
       "      <td>NaN</td>\n",
       "      <td>NaN</td>\n",
       "      <td>NaN</td>\n",
       "      <td>2019-05-03 11:40:20</td>\n",
       "      <td>NaN</td>\n",
       "      <td>2019-05-03 11:40:20</td>\n",
       "      <td>2019-05-03 11:40:20</td>\n",
       "    </tr>\n",
       "    <tr>\n",
       "      <td>2</td>\n",
       "      <td>3</td>\n",
       "      <td>NaN</td>\n",
       "      <td>NaN</td>\n",
       "      <td>NaN</td>\n",
       "      <td>2019-05-03 12:31:06</td>\n",
       "      <td>NaN</td>\n",
       "      <td>NaN</td>\n",
       "      <td>NaN</td>\n",
       "      <td>NaN</td>\n",
       "      <td>NaN</td>\n",
       "      <td>NaN</td>\n",
       "      <td>NaN</td>\n",
       "      <td>2019-05-03 12:09:40</td>\n",
       "      <td>NaN</td>\n",
       "      <td>2019-05-03 12:09:40</td>\n",
       "      <td>2019-05-03 12:09:40</td>\n",
       "    </tr>\n",
       "  </tbody>\n",
       "</table>\n",
       "</div>"
      ],
      "text/plain": [
       "   key Bulk 1 Bulk 2 Bulk 3               Bulk 4 Bulk 5 Bulk 6 Bulk 7 Bulk 8  \\\n",
       "0    1    NaN    NaN    NaN  2019-05-03 11:21:30    NaN    NaN    NaN    NaN   \n",
       "1    2    NaN    NaN    NaN  2019-05-03 11:46:38    NaN    NaN    NaN    NaN   \n",
       "2    3    NaN    NaN    NaN  2019-05-03 12:31:06    NaN    NaN    NaN    NaN   \n",
       "\n",
       "  Bulk 9 Bulk 10 Bulk 11              Bulk 12 Bulk 13              Bulk 14  \\\n",
       "0    NaN     NaN     NaN  2019-05-03 11:03:52     NaN  2019-05-03 11:03:52   \n",
       "1    NaN     NaN     NaN  2019-05-03 11:40:20     NaN  2019-05-03 11:40:20   \n",
       "2    NaN     NaN     NaN  2019-05-03 12:09:40     NaN  2019-05-03 12:09:40   \n",
       "\n",
       "               Bulk 15  \n",
       "0  2019-05-03 11:03:52  \n",
       "1  2019-05-03 11:40:20  \n",
       "2  2019-05-03 12:09:40  "
      ]
     },
     "metadata": {},
     "output_type": "display_data"
    },
    {
     "data": {
      "text/html": [
       "<div>\n",
       "<style scoped>\n",
       "    .dataframe tbody tr th:only-of-type {\n",
       "        vertical-align: middle;\n",
       "    }\n",
       "\n",
       "    .dataframe tbody tr th {\n",
       "        vertical-align: top;\n",
       "    }\n",
       "\n",
       "    .dataframe thead th {\n",
       "        text-align: right;\n",
       "    }\n",
       "</style>\n",
       "<table border=\"1\" class=\"dataframe\">\n",
       "  <thead>\n",
       "    <tr style=\"text-align: right;\">\n",
       "      <th></th>\n",
       "      <th>data_type</th>\n",
       "      <th>nan_part</th>\n",
       "    </tr>\n",
       "  </thead>\n",
       "  <tbody>\n",
       "    <tr>\n",
       "      <td>Bulk 8</td>\n",
       "      <td>object</td>\n",
       "      <td>0.999680</td>\n",
       "    </tr>\n",
       "    <tr>\n",
       "      <td>Bulk 13</td>\n",
       "      <td>object</td>\n",
       "      <td>0.994247</td>\n",
       "    </tr>\n",
       "    <tr>\n",
       "      <td>Bulk 9</td>\n",
       "      <td>object</td>\n",
       "      <td>0.993928</td>\n",
       "    </tr>\n",
       "    <tr>\n",
       "      <td>Bulk 2</td>\n",
       "      <td>object</td>\n",
       "      <td>0.992969</td>\n",
       "    </tr>\n",
       "    <tr>\n",
       "      <td>Bulk 7</td>\n",
       "      <td>object</td>\n",
       "      <td>0.992010</td>\n",
       "    </tr>\n",
       "    <tr>\n",
       "      <td>Bulk 5</td>\n",
       "      <td>object</td>\n",
       "      <td>0.975391</td>\n",
       "    </tr>\n",
       "    <tr>\n",
       "      <td>Bulk 10</td>\n",
       "      <td>object</td>\n",
       "      <td>0.943752</td>\n",
       "    </tr>\n",
       "    <tr>\n",
       "      <td>Bulk 11</td>\n",
       "      <td>object</td>\n",
       "      <td>0.943432</td>\n",
       "    </tr>\n",
       "    <tr>\n",
       "      <td>Bulk 1</td>\n",
       "      <td>object</td>\n",
       "      <td>0.919463</td>\n",
       "    </tr>\n",
       "    <tr>\n",
       "      <td>Bulk 6</td>\n",
       "      <td>object</td>\n",
       "      <td>0.815916</td>\n",
       "    </tr>\n",
       "    <tr>\n",
       "      <td>Bulk 4</td>\n",
       "      <td>object</td>\n",
       "      <td>0.675935</td>\n",
       "    </tr>\n",
       "    <tr>\n",
       "      <td>Bulk 3</td>\n",
       "      <td>object</td>\n",
       "      <td>0.585171</td>\n",
       "    </tr>\n",
       "    <tr>\n",
       "      <td>Bulk 15</td>\n",
       "      <td>object</td>\n",
       "      <td>0.281560</td>\n",
       "    </tr>\n",
       "    <tr>\n",
       "      <td>Bulk 12</td>\n",
       "      <td>object</td>\n",
       "      <td>0.217002</td>\n",
       "    </tr>\n",
       "    <tr>\n",
       "      <td>Bulk 14</td>\n",
       "      <td>object</td>\n",
       "      <td>0.103228</td>\n",
       "    </tr>\n",
       "    <tr>\n",
       "      <td>key</td>\n",
       "      <td>int64</td>\n",
       "      <td>0.000000</td>\n",
       "    </tr>\n",
       "  </tbody>\n",
       "</table>\n",
       "</div>"
      ],
      "text/plain": [
       "        data_type  nan_part\n",
       "Bulk 8     object  0.999680\n",
       "Bulk 13    object  0.994247\n",
       "Bulk 9     object  0.993928\n",
       "Bulk 2     object  0.992969\n",
       "Bulk 7     object  0.992010\n",
       "Bulk 5     object  0.975391\n",
       "Bulk 10    object  0.943752\n",
       "Bulk 11    object  0.943432\n",
       "Bulk 1     object  0.919463\n",
       "Bulk 6     object  0.815916\n",
       "Bulk 4     object  0.675935\n",
       "Bulk 3     object  0.585171\n",
       "Bulk 15    object  0.281560\n",
       "Bulk 12    object  0.217002\n",
       "Bulk 14    object  0.103228\n",
       "key         int64  0.000000"
      ]
     },
     "metadata": {},
     "output_type": "display_data"
    },
    {
     "name": "stdout",
     "output_type": "stream",
     "text": [
      " *  *  *  *  *  *  *  *  *  *  *  *  *  *  *  *  *  *  *  * \n"
     ]
    }
   ],
   "source": [
    "sum_info(data_list[2])"
   ]
  },
  {
   "cell_type": "markdown",
   "metadata": {
    "id": "ppQ9jsfdvN6a"
   },
   "source": [
    "Таблица \"Сыпучие материалы (время\" ('data_bulk_time') содержит сведения о времени добавления материалов в расплав. Пропуски симметричны предыдущей таблице."
   ]
  },
  {
   "cell_type": "code",
   "execution_count": 13,
   "metadata": {
    "colab": {
     "base_uri": "https://localhost:8080/",
     "height": 312
    },
    "id": "pMv_WuglvJVH",
    "outputId": "e27eafd3-86d3-4775-a41a-6af5d8d8c42f"
   },
   "outputs": [
    {
     "name": "stdout",
     "output_type": "stream",
     "text": [
      " *  *  *  *  *  *  *  *  *  *  *  *  *  *  *  *  *  *  *  * \n",
      "File_name: data_gas\n",
      "File_shape: (3239, 2)\n"
     ]
    },
    {
     "data": {
      "text/html": [
       "<div>\n",
       "<style scoped>\n",
       "    .dataframe tbody tr th:only-of-type {\n",
       "        vertical-align: middle;\n",
       "    }\n",
       "\n",
       "    .dataframe tbody tr th {\n",
       "        vertical-align: top;\n",
       "    }\n",
       "\n",
       "    .dataframe thead th {\n",
       "        text-align: right;\n",
       "    }\n",
       "</style>\n",
       "<table border=\"1\" class=\"dataframe\">\n",
       "  <thead>\n",
       "    <tr style=\"text-align: right;\">\n",
       "      <th></th>\n",
       "      <th>key</th>\n",
       "      <th>Газ 1</th>\n",
       "    </tr>\n",
       "  </thead>\n",
       "  <tbody>\n",
       "    <tr>\n",
       "      <td>0</td>\n",
       "      <td>1</td>\n",
       "      <td>29.749986</td>\n",
       "    </tr>\n",
       "    <tr>\n",
       "      <td>1</td>\n",
       "      <td>2</td>\n",
       "      <td>12.555561</td>\n",
       "    </tr>\n",
       "    <tr>\n",
       "      <td>2</td>\n",
       "      <td>3</td>\n",
       "      <td>28.554793</td>\n",
       "    </tr>\n",
       "  </tbody>\n",
       "</table>\n",
       "</div>"
      ],
      "text/plain": [
       "   key      Газ 1\n",
       "0    1  29.749986\n",
       "1    2  12.555561\n",
       "2    3  28.554793"
      ]
     },
     "metadata": {},
     "output_type": "display_data"
    },
    {
     "data": {
      "text/html": [
       "<div>\n",
       "<style scoped>\n",
       "    .dataframe tbody tr th:only-of-type {\n",
       "        vertical-align: middle;\n",
       "    }\n",
       "\n",
       "    .dataframe tbody tr th {\n",
       "        vertical-align: top;\n",
       "    }\n",
       "\n",
       "    .dataframe thead th {\n",
       "        text-align: right;\n",
       "    }\n",
       "</style>\n",
       "<table border=\"1\" class=\"dataframe\">\n",
       "  <thead>\n",
       "    <tr style=\"text-align: right;\">\n",
       "      <th></th>\n",
       "      <th>data_type</th>\n",
       "      <th>nan_part</th>\n",
       "    </tr>\n",
       "  </thead>\n",
       "  <tbody>\n",
       "    <tr>\n",
       "      <td>key</td>\n",
       "      <td>int64</td>\n",
       "      <td>0.0</td>\n",
       "    </tr>\n",
       "    <tr>\n",
       "      <td>Газ 1</td>\n",
       "      <td>float64</td>\n",
       "      <td>0.0</td>\n",
       "    </tr>\n",
       "  </tbody>\n",
       "</table>\n",
       "</div>"
      ],
      "text/plain": [
       "      data_type  nan_part\n",
       "key       int64       0.0\n",
       "Газ 1   float64       0.0"
      ]
     },
     "metadata": {},
     "output_type": "display_data"
    },
    {
     "name": "stdout",
     "output_type": "stream",
     "text": [
      " *  *  *  *  *  *  *  *  *  *  *  *  *  *  *  *  *  *  *  * \n"
     ]
    }
   ],
   "source": [
    "sum_info(data_list[3])"
   ]
  },
  {
   "cell_type": "markdown",
   "metadata": {
    "id": "84ZXAXaYvyF1"
   },
   "source": [
    "В таблице \"data_gas\" дано что-то про продувку расплава инертным газом."
   ]
  },
  {
   "cell_type": "code",
   "execution_count": 14,
   "metadata": {
    "colab": {
     "base_uri": "https://localhost:8080/",
     "height": 175
    },
    "id": "oHRzye6BeSOc",
    "outputId": "0dd9b57e-fc46-4d71-dc60-40c7f7679551"
   },
   "outputs": [
    {
     "data": {
      "text/html": [
       "<div>\n",
       "<style scoped>\n",
       "    .dataframe tbody tr th:only-of-type {\n",
       "        vertical-align: middle;\n",
       "    }\n",
       "\n",
       "    .dataframe tbody tr th {\n",
       "        vertical-align: top;\n",
       "    }\n",
       "\n",
       "    .dataframe thead th {\n",
       "        text-align: right;\n",
       "    }\n",
       "</style>\n",
       "<table border=\"1\" class=\"dataframe\">\n",
       "  <thead>\n",
       "    <tr style=\"text-align: right;\">\n",
       "      <th></th>\n",
       "      <th>key</th>\n",
       "      <th>Газ 1</th>\n",
       "    </tr>\n",
       "  </thead>\n",
       "  <tbody>\n",
       "    <tr>\n",
       "      <td>count</td>\n",
       "      <td>3239.000000</td>\n",
       "      <td>3239.000000</td>\n",
       "    </tr>\n",
       "    <tr>\n",
       "      <td>min</td>\n",
       "      <td>1.000000</td>\n",
       "      <td>0.008399</td>\n",
       "    </tr>\n",
       "    <tr>\n",
       "      <td>max</td>\n",
       "      <td>3241.000000</td>\n",
       "      <td>77.995040</td>\n",
       "    </tr>\n",
       "    <tr>\n",
       "      <td>mean</td>\n",
       "      <td>1621.861377</td>\n",
       "      <td>11.002062</td>\n",
       "    </tr>\n",
       "  </tbody>\n",
       "</table>\n",
       "</div>"
      ],
      "text/plain": [
       "               key        Газ 1\n",
       "count  3239.000000  3239.000000\n",
       "min       1.000000     0.008399\n",
       "max    3241.000000    77.995040\n",
       "mean   1621.861377    11.002062"
      ]
     },
     "execution_count": 14,
     "metadata": {},
     "output_type": "execute_result"
    }
   ],
   "source": [
    "data_gas.agg(['count','min','max', 'mean'])"
   ]
  },
  {
   "cell_type": "code",
   "execution_count": 15,
   "metadata": {
    "colab": {
     "base_uri": "https://localhost:8080/",
     "height": 211
    },
    "id": "yzjs-CCNeuKR",
    "outputId": "56dcbe7e-a567-4e11-a0e4-bed637fa2fd9"
   },
   "outputs": [
    {
     "data": {
      "image/png": "[encoded data removed]",
      "text/plain": [
       "<Figure size 576x216 with 1 Axes>"
      ]
     },
     "metadata": {
      "needs_background": "light"
     },
     "output_type": "display_data"
    }
   ],
   "source": [
    "plt.figure(figsize=(8, 3))\n",
    "plt.boxplot(data_gas['Газ 1'], vert=False)\n",
    "plt.show()"
   ]
  },
  {
   "cell_type": "markdown",
   "metadata": {
    "id": "JAHqtN2BfBT2"
   },
   "source": [
    "Имеются выбросы, но не очень сильные. С этим можно жить.  \n",
    "Смотрим следующую таблицу."
   ]
  },
  {
   "cell_type": "code",
   "execution_count": 16,
   "metadata": {
    "colab": {
     "base_uri": "https://localhost:8080/",
     "height": 343
    },
    "id": "p2N0mbsfwft3",
    "outputId": "4a2bfbba-c281-4767-a216-70a97f7e7dfc"
   },
   "outputs": [
    {
     "name": "stdout",
     "output_type": "stream",
     "text": [
      " *  *  *  *  *  *  *  *  *  *  *  *  *  *  *  *  *  *  *  * \n",
      "File_name: data_temp\n",
      "File_shape: (15907, 3)\n"
     ]
    },
    {
     "data": {
      "text/html": [
       "<div>\n",
       "<style scoped>\n",
       "    .dataframe tbody tr th:only-of-type {\n",
       "        vertical-align: middle;\n",
       "    }\n",
       "\n",
       "    .dataframe tbody tr th {\n",
       "        vertical-align: top;\n",
       "    }\n",
       "\n",
       "    .dataframe thead th {\n",
       "        text-align: right;\n",
       "    }\n",
       "</style>\n",
       "<table border=\"1\" class=\"dataframe\">\n",
       "  <thead>\n",
       "    <tr style=\"text-align: right;\">\n",
       "      <th></th>\n",
       "      <th>key</th>\n",
       "      <th>Время замера</th>\n",
       "      <th>Температура</th>\n",
       "    </tr>\n",
       "  </thead>\n",
       "  <tbody>\n",
       "    <tr>\n",
       "      <td>0</td>\n",
       "      <td>1</td>\n",
       "      <td>2019-05-03 11:16:18</td>\n",
       "      <td>1571.0</td>\n",
       "    </tr>\n",
       "    <tr>\n",
       "      <td>1</td>\n",
       "      <td>1</td>\n",
       "      <td>2019-05-03 11:25:53</td>\n",
       "      <td>1604.0</td>\n",
       "    </tr>\n",
       "    <tr>\n",
       "      <td>2</td>\n",
       "      <td>1</td>\n",
       "      <td>2019-05-03 11:29:11</td>\n",
       "      <td>1618.0</td>\n",
       "    </tr>\n",
       "  </tbody>\n",
       "</table>\n",
       "</div>"
      ],
      "text/plain": [
       "   key         Время замера  Температура\n",
       "0    1  2019-05-03 11:16:18       1571.0\n",
       "1    1  2019-05-03 11:25:53       1604.0\n",
       "2    1  2019-05-03 11:29:11       1618.0"
      ]
     },
     "metadata": {},
     "output_type": "display_data"
    },
    {
     "data": {
      "text/html": [
       "<div>\n",
       "<style scoped>\n",
       "    .dataframe tbody tr th:only-of-type {\n",
       "        vertical-align: middle;\n",
       "    }\n",
       "\n",
       "    .dataframe tbody tr th {\n",
       "        vertical-align: top;\n",
       "    }\n",
       "\n",
       "    .dataframe thead th {\n",
       "        text-align: right;\n",
       "    }\n",
       "</style>\n",
       "<table border=\"1\" class=\"dataframe\">\n",
       "  <thead>\n",
       "    <tr style=\"text-align: right;\">\n",
       "      <th></th>\n",
       "      <th>data_type</th>\n",
       "      <th>nan_part</th>\n",
       "    </tr>\n",
       "  </thead>\n",
       "  <tbody>\n",
       "    <tr>\n",
       "      <td>Температура</td>\n",
       "      <td>float64</td>\n",
       "      <td>0.182373</td>\n",
       "    </tr>\n",
       "    <tr>\n",
       "      <td>key</td>\n",
       "      <td>int64</td>\n",
       "      <td>0.000000</td>\n",
       "    </tr>\n",
       "    <tr>\n",
       "      <td>Время замера</td>\n",
       "      <td>object</td>\n",
       "      <td>0.000000</td>\n",
       "    </tr>\n",
       "  </tbody>\n",
       "</table>\n",
       "</div>"
      ],
      "text/plain": [
       "             data_type  nan_part\n",
       "Температура    float64  0.182373\n",
       "key              int64  0.000000\n",
       "Время замера    object  0.000000"
      ]
     },
     "metadata": {},
     "output_type": "display_data"
    },
    {
     "name": "stdout",
     "output_type": "stream",
     "text": [
      " *  *  *  *  *  *  *  *  *  *  *  *  *  *  *  *  *  *  *  * \n"
     ]
    }
   ],
   "source": [
    "sum_info(data_list[4])"
   ]
  },
  {
   "cell_type": "markdown",
   "metadata": {
    "id": "JhjC3bPJwrpL"
   },
   "source": [
    "А здесь у нас сведения о температуре. Где-то здесь должен быть наш целевой признак. Температура здесь дана одна, но в разные периоды времени. Причём примерно в 18% случаев она пропущена. Нехорошо. И снова дата не дата..."
   ]
  },
  {
   "cell_type": "code",
   "execution_count": 17,
   "metadata": {
    "id": "OnbX8hj_hRIq"
   },
   "outputs": [],
   "source": [
    "data_temp['Время замера'] = pd.to_datetime(data_temp['Время замера'], \n",
    "                                           format='%Y-%m-%d %H:%M:%S')"
   ]
  },
  {
   "cell_type": "code",
   "execution_count": 18,
   "metadata": {},
   "outputs": [
    {
     "data": {
      "text/html": [
       "<div>\n",
       "<style scoped>\n",
       "    .dataframe tbody tr th:only-of-type {\n",
       "        vertical-align: middle;\n",
       "    }\n",
       "\n",
       "    .dataframe tbody tr th {\n",
       "        vertical-align: top;\n",
       "    }\n",
       "\n",
       "    .dataframe thead th {\n",
       "        text-align: right;\n",
       "    }\n",
       "</style>\n",
       "<table border=\"1\" class=\"dataframe\">\n",
       "  <thead>\n",
       "    <tr style=\"text-align: right;\">\n",
       "      <th></th>\n",
       "      <th>key</th>\n",
       "      <th>Время замера</th>\n",
       "      <th>Температура</th>\n",
       "    </tr>\n",
       "  </thead>\n",
       "  <tbody>\n",
       "    <tr>\n",
       "      <td>0</td>\n",
       "      <td>1</td>\n",
       "      <td>2019-05-03 11:16:18</td>\n",
       "      <td>1571.0</td>\n",
       "    </tr>\n",
       "    <tr>\n",
       "      <td>1</td>\n",
       "      <td>1</td>\n",
       "      <td>2019-05-03 11:25:53</td>\n",
       "      <td>1604.0</td>\n",
       "    </tr>\n",
       "    <tr>\n",
       "      <td>2</td>\n",
       "      <td>1</td>\n",
       "      <td>2019-05-03 11:29:11</td>\n",
       "      <td>1618.0</td>\n",
       "    </tr>\n",
       "    <tr>\n",
       "      <td>3</td>\n",
       "      <td>1</td>\n",
       "      <td>2019-05-03 11:30:01</td>\n",
       "      <td>1601.0</td>\n",
       "    </tr>\n",
       "    <tr>\n",
       "      <td>4</td>\n",
       "      <td>1</td>\n",
       "      <td>2019-05-03 11:30:39</td>\n",
       "      <td>1613.0</td>\n",
       "    </tr>\n",
       "    <tr>\n",
       "      <td>...</td>\n",
       "      <td>...</td>\n",
       "      <td>...</td>\n",
       "      <td>...</td>\n",
       "    </tr>\n",
       "    <tr>\n",
       "      <td>15902</td>\n",
       "      <td>3241</td>\n",
       "      <td>2019-09-01 04:03:30</td>\n",
       "      <td>1586.0</td>\n",
       "    </tr>\n",
       "    <tr>\n",
       "      <td>15903</td>\n",
       "      <td>3241</td>\n",
       "      <td>2019-09-01 04:16:12</td>\n",
       "      <td>NaN</td>\n",
       "    </tr>\n",
       "    <tr>\n",
       "      <td>15904</td>\n",
       "      <td>3241</td>\n",
       "      <td>2019-09-01 04:22:39</td>\n",
       "      <td>NaN</td>\n",
       "    </tr>\n",
       "    <tr>\n",
       "      <td>15905</td>\n",
       "      <td>3241</td>\n",
       "      <td>2019-09-01 04:33:42</td>\n",
       "      <td>NaN</td>\n",
       "    </tr>\n",
       "    <tr>\n",
       "      <td>15906</td>\n",
       "      <td>3241</td>\n",
       "      <td>2019-09-01 04:38:08</td>\n",
       "      <td>NaN</td>\n",
       "    </tr>\n",
       "  </tbody>\n",
       "</table>\n",
       "<p>15907 rows × 3 columns</p>\n",
       "</div>"
      ],
      "text/plain": [
       "        key        Время замера  Температура\n",
       "0         1 2019-05-03 11:16:18       1571.0\n",
       "1         1 2019-05-03 11:25:53       1604.0\n",
       "2         1 2019-05-03 11:29:11       1618.0\n",
       "3         1 2019-05-03 11:30:01       1601.0\n",
       "4         1 2019-05-03 11:30:39       1613.0\n",
       "...     ...                 ...          ...\n",
       "15902  3241 2019-09-01 04:03:30       1586.0\n",
       "15903  3241 2019-09-01 04:16:12          NaN\n",
       "15904  3241 2019-09-01 04:22:39          NaN\n",
       "15905  3241 2019-09-01 04:33:42          NaN\n",
       "15906  3241 2019-09-01 04:38:08          NaN\n",
       "\n",
       "[15907 rows x 3 columns]"
      ]
     },
     "execution_count": 18,
     "metadata": {},
     "output_type": "execute_result"
    }
   ],
   "source": [
    "data_temp"
   ]
  },
  {
   "cell_type": "code",
   "execution_count": 19,
   "metadata": {
    "colab": {
     "base_uri": "https://localhost:8080/",
     "height": 423
    },
    "id": "UsxQZu9Lj_A0",
    "outputId": "28f47706-d547-4d4d-e661-af08dfa8068a"
   },
   "outputs": [
    {
     "data": {
      "image/png": "[encoded data removed]",
      "text/plain": [
       "<Figure size 576x432 with 1 Axes>"
      ]
     },
     "metadata": {
      "needs_background": "light"
     },
     "output_type": "display_data"
    }
   ],
   "source": [
    "ax = data_temp.plot(x='Время замера', \n",
    "                    y='Температура', \n",
    "                    label='данные есть',\n",
    "                    style='o')\n",
    "(data_temp[data_temp['Температура'].isna()]\n",
    "                                    .fillna(1800)\n",
    "                                    .plot(x='Время замера', \n",
    "                                          y='Температура',\n",
    "                                          style='o', \n",
    "                                          ax=ax, label='пропуски'))\n",
    "plt.legend()\n",
    "plt.xticks(rotation=20)\n",
    "plt.show()"
   ]
  },
  {
   "cell_type": "markdown",
   "metadata": {
    "id": "ImfyPH1RlVFX"
   },
   "source": [
    "Есть несколько выбросов температуры значительно ниже среднего значения. Это может быть как ошибка в измерениях, так и отклонения в техническом процессе. Но температура плавления чугуна 1150-1200 градусов, так что значение расплава 1200 хоть и подозрительно, но возможно но на аномалию не тянет.  \n",
    "Есть период, где измерения температуры отсутствуют полностью, но это не критично. А вот все пропуски сосредоточены на последнем временном промежутке. "
   ]
  },
  {
   "cell_type": "code",
   "execution_count": 20,
   "metadata": {
    "colab": {
     "base_uri": "https://localhost:8080/",
     "height": 206
    },
    "id": "BgtaFB3Jo0cL",
    "outputId": "b037b1c2-21da-469a-e941-55ac77760981"
   },
   "outputs": [
    {
     "data": {
      "text/html": [
       "<div>\n",
       "<style scoped>\n",
       "    .dataframe tbody tr th:only-of-type {\n",
       "        vertical-align: middle;\n",
       "    }\n",
       "\n",
       "    .dataframe tbody tr th {\n",
       "        vertical-align: top;\n",
       "    }\n",
       "\n",
       "    .dataframe thead th {\n",
       "        text-align: right;\n",
       "    }\n",
       "</style>\n",
       "<table border=\"1\" class=\"dataframe\">\n",
       "  <thead>\n",
       "    <tr style=\"text-align: right;\">\n",
       "      <th></th>\n",
       "      <th>key</th>\n",
       "      <th>Время замера</th>\n",
       "      <th>Температура</th>\n",
       "    </tr>\n",
       "  </thead>\n",
       "  <tbody>\n",
       "    <tr>\n",
       "      <td>12268</td>\n",
       "      <td>2500</td>\n",
       "      <td>2019-08-06 03:24:43</td>\n",
       "      <td>NaN</td>\n",
       "    </tr>\n",
       "    <tr>\n",
       "      <td>12269</td>\n",
       "      <td>2500</td>\n",
       "      <td>2019-08-06 03:25:16</td>\n",
       "      <td>NaN</td>\n",
       "    </tr>\n",
       "    <tr>\n",
       "      <td>12270</td>\n",
       "      <td>2500</td>\n",
       "      <td>2019-08-06 03:28:21</td>\n",
       "      <td>NaN</td>\n",
       "    </tr>\n",
       "    <tr>\n",
       "      <td>12272</td>\n",
       "      <td>2501</td>\n",
       "      <td>2019-08-06 04:01:59</td>\n",
       "      <td>NaN</td>\n",
       "    </tr>\n",
       "    <tr>\n",
       "      <td>12273</td>\n",
       "      <td>2501</td>\n",
       "      <td>2019-08-06 04:14:35</td>\n",
       "      <td>NaN</td>\n",
       "    </tr>\n",
       "  </tbody>\n",
       "</table>\n",
       "</div>"
      ],
      "text/plain": [
       "        key        Время замера  Температура\n",
       "12268  2500 2019-08-06 03:24:43          NaN\n",
       "12269  2500 2019-08-06 03:25:16          NaN\n",
       "12270  2500 2019-08-06 03:28:21          NaN\n",
       "12272  2501 2019-08-06 04:01:59          NaN\n",
       "12273  2501 2019-08-06 04:14:35          NaN"
      ]
     },
     "execution_count": 20,
     "metadata": {},
     "output_type": "execute_result"
    }
   ],
   "source": [
    "data_temp[data_temp['Температура'].isna()].head()"
   ]
  },
  {
   "cell_type": "code",
   "execution_count": 21,
   "metadata": {
    "colab": {
     "base_uri": "https://localhost:8080/",
     "height": 363
    },
    "id": "430aN3yXpKKn",
    "outputId": "b2d538b3-f776-4c09-e48f-8c30c98776ea"
   },
   "outputs": [
    {
     "data": {
      "text/html": [
       "<div>\n",
       "<style scoped>\n",
       "    .dataframe tbody tr th:only-of-type {\n",
       "        vertical-align: middle;\n",
       "    }\n",
       "\n",
       "    .dataframe tbody tr th {\n",
       "        vertical-align: top;\n",
       "    }\n",
       "\n",
       "    .dataframe thead th {\n",
       "        text-align: right;\n",
       "    }\n",
       "</style>\n",
       "<table border=\"1\" class=\"dataframe\">\n",
       "  <thead>\n",
       "    <tr style=\"text-align: right;\">\n",
       "      <th></th>\n",
       "      <th>key</th>\n",
       "      <th>Время замера</th>\n",
       "      <th>Температура</th>\n",
       "    </tr>\n",
       "  </thead>\n",
       "  <tbody>\n",
       "    <tr>\n",
       "      <td>12267</td>\n",
       "      <td>2500</td>\n",
       "      <td>2019-08-06 03:11:31</td>\n",
       "      <td>1539.0</td>\n",
       "    </tr>\n",
       "    <tr>\n",
       "      <td>12268</td>\n",
       "      <td>2500</td>\n",
       "      <td>2019-08-06 03:24:43</td>\n",
       "      <td>NaN</td>\n",
       "    </tr>\n",
       "    <tr>\n",
       "      <td>12269</td>\n",
       "      <td>2500</td>\n",
       "      <td>2019-08-06 03:25:16</td>\n",
       "      <td>NaN</td>\n",
       "    </tr>\n",
       "    <tr>\n",
       "      <td>12270</td>\n",
       "      <td>2500</td>\n",
       "      <td>2019-08-06 03:28:21</td>\n",
       "      <td>NaN</td>\n",
       "    </tr>\n",
       "    <tr>\n",
       "      <td>12271</td>\n",
       "      <td>2501</td>\n",
       "      <td>2019-08-06 03:44:42</td>\n",
       "      <td>1587.0</td>\n",
       "    </tr>\n",
       "    <tr>\n",
       "      <td>12272</td>\n",
       "      <td>2501</td>\n",
       "      <td>2019-08-06 04:01:59</td>\n",
       "      <td>NaN</td>\n",
       "    </tr>\n",
       "    <tr>\n",
       "      <td>12273</td>\n",
       "      <td>2501</td>\n",
       "      <td>2019-08-06 04:14:35</td>\n",
       "      <td>NaN</td>\n",
       "    </tr>\n",
       "    <tr>\n",
       "      <td>12274</td>\n",
       "      <td>2501</td>\n",
       "      <td>2019-08-06 04:22:14</td>\n",
       "      <td>NaN</td>\n",
       "    </tr>\n",
       "    <tr>\n",
       "      <td>12275</td>\n",
       "      <td>2501</td>\n",
       "      <td>2019-08-06 04:31:14</td>\n",
       "      <td>NaN</td>\n",
       "    </tr>\n",
       "    <tr>\n",
       "      <td>12276</td>\n",
       "      <td>2502</td>\n",
       "      <td>2019-08-06 04:45:26</td>\n",
       "      <td>1583.0</td>\n",
       "    </tr>\n",
       "  </tbody>\n",
       "</table>\n",
       "</div>"
      ],
      "text/plain": [
       "        key        Время замера  Температура\n",
       "12267  2500 2019-08-06 03:11:31       1539.0\n",
       "12268  2500 2019-08-06 03:24:43          NaN\n",
       "12269  2500 2019-08-06 03:25:16          NaN\n",
       "12270  2500 2019-08-06 03:28:21          NaN\n",
       "12271  2501 2019-08-06 03:44:42       1587.0\n",
       "12272  2501 2019-08-06 04:01:59          NaN\n",
       "12273  2501 2019-08-06 04:14:35          NaN\n",
       "12274  2501 2019-08-06 04:22:14          NaN\n",
       "12275  2501 2019-08-06 04:31:14          NaN\n",
       "12276  2502 2019-08-06 04:45:26       1583.0"
      ]
     },
     "execution_count": 21,
     "metadata": {},
     "output_type": "execute_result"
    }
   ],
   "source": [
    "data_temp[data_temp['key'] >= 2500].head(10)"
   ]
  },
  {
   "cell_type": "code",
   "execution_count": 22,
   "metadata": {
    "colab": {
     "base_uri": "https://localhost:8080/",
     "height": 112
    },
    "id": "UzpjSxpZpvkk",
    "outputId": "2c061b8f-7bb6-424c-a1d3-82b3d72a4bf4"
   },
   "outputs": [
    {
     "data": {
      "text/html": [
       "<div>\n",
       "<style scoped>\n",
       "    .dataframe tbody tr th:only-of-type {\n",
       "        vertical-align: middle;\n",
       "    }\n",
       "\n",
       "    .dataframe tbody tr th {\n",
       "        vertical-align: top;\n",
       "    }\n",
       "\n",
       "    .dataframe thead th {\n",
       "        text-align: right;\n",
       "    }\n",
       "</style>\n",
       "<table border=\"1\" class=\"dataframe\">\n",
       "  <thead>\n",
       "    <tr style=\"text-align: right;\">\n",
       "      <th></th>\n",
       "      <th>first</th>\n",
       "      <th>last</th>\n",
       "    </tr>\n",
       "  </thead>\n",
       "  <tbody>\n",
       "    <tr>\n",
       "      <td>min</td>\n",
       "      <td>1204.0</td>\n",
       "      <td>-1.0</td>\n",
       "    </tr>\n",
       "    <tr>\n",
       "      <td>max</td>\n",
       "      <td>1684.0</td>\n",
       "      <td>-1.0</td>\n",
       "    </tr>\n",
       "  </tbody>\n",
       "</table>\n",
       "</div>"
      ],
      "text/plain": [
       "      first  last\n",
       "min  1204.0  -1.0\n",
       "max  1684.0  -1.0"
      ]
     },
     "execution_count": 22,
     "metadata": {},
     "output_type": "execute_result"
    }
   ],
   "source": [
    "(data_temp[data_temp['key'] >= 2500]\n",
    "    .fillna(-1).groupby(by='key')['Температура']\n",
    "    .agg(['first', 'last'])\n",
    "    .agg(['min', 'max']))"
   ]
  },
  {
   "cell_type": "markdown",
   "metadata": {
    "id": "RuZbdnwPqbY1"
   },
   "source": [
    "Получается, что с 2500 партии в данных отсутствуют все измерения температуры, кроме первого. Если целевым признаком является последнее измерение температуры, то все данные после 2500 партии для обучения модели нам не подходят."
   ]
  },
  {
   "cell_type": "code",
   "execution_count": 23,
   "metadata": {
    "colab": {
     "base_uri": "https://localhost:8080/",
     "height": 563
    },
    "id": "_Z6mj5B1xPOc",
    "outputId": "494dcf87-8013-432d-e514-e7d05ac5756d"
   },
   "outputs": [
    {
     "name": "stdout",
     "output_type": "stream",
     "text": [
      " *  *  *  *  *  *  *  *  *  *  *  *  *  *  *  *  *  *  *  * \n",
      "File_name: data_wire\n",
      "File_shape: (3081, 10)\n"
     ]
    },
    {
     "data": {
      "text/html": [
       "<div>\n",
       "<style scoped>\n",
       "    .dataframe tbody tr th:only-of-type {\n",
       "        vertical-align: middle;\n",
       "    }\n",
       "\n",
       "    .dataframe tbody tr th {\n",
       "        vertical-align: top;\n",
       "    }\n",
       "\n",
       "    .dataframe thead th {\n",
       "        text-align: right;\n",
       "    }\n",
       "</style>\n",
       "<table border=\"1\" class=\"dataframe\">\n",
       "  <thead>\n",
       "    <tr style=\"text-align: right;\">\n",
       "      <th></th>\n",
       "      <th>key</th>\n",
       "      <th>Wire 1</th>\n",
       "      <th>Wire 2</th>\n",
       "      <th>Wire 3</th>\n",
       "      <th>Wire 4</th>\n",
       "      <th>Wire 5</th>\n",
       "      <th>Wire 6</th>\n",
       "      <th>Wire 7</th>\n",
       "      <th>Wire 8</th>\n",
       "      <th>Wire 9</th>\n",
       "    </tr>\n",
       "  </thead>\n",
       "  <tbody>\n",
       "    <tr>\n",
       "      <td>0</td>\n",
       "      <td>1</td>\n",
       "      <td>60.059998</td>\n",
       "      <td>NaN</td>\n",
       "      <td>NaN</td>\n",
       "      <td>NaN</td>\n",
       "      <td>NaN</td>\n",
       "      <td>NaN</td>\n",
       "      <td>NaN</td>\n",
       "      <td>NaN</td>\n",
       "      <td>NaN</td>\n",
       "    </tr>\n",
       "    <tr>\n",
       "      <td>1</td>\n",
       "      <td>2</td>\n",
       "      <td>96.052315</td>\n",
       "      <td>NaN</td>\n",
       "      <td>NaN</td>\n",
       "      <td>NaN</td>\n",
       "      <td>NaN</td>\n",
       "      <td>NaN</td>\n",
       "      <td>NaN</td>\n",
       "      <td>NaN</td>\n",
       "      <td>NaN</td>\n",
       "    </tr>\n",
       "    <tr>\n",
       "      <td>2</td>\n",
       "      <td>3</td>\n",
       "      <td>91.160157</td>\n",
       "      <td>NaN</td>\n",
       "      <td>NaN</td>\n",
       "      <td>NaN</td>\n",
       "      <td>NaN</td>\n",
       "      <td>NaN</td>\n",
       "      <td>NaN</td>\n",
       "      <td>NaN</td>\n",
       "      <td>NaN</td>\n",
       "    </tr>\n",
       "  </tbody>\n",
       "</table>\n",
       "</div>"
      ],
      "text/plain": [
       "   key     Wire 1  Wire 2  Wire 3  Wire 4  Wire 5  Wire 6  Wire 7  Wire 8  \\\n",
       "0    1  60.059998     NaN     NaN     NaN     NaN     NaN     NaN     NaN   \n",
       "1    2  96.052315     NaN     NaN     NaN     NaN     NaN     NaN     NaN   \n",
       "2    3  91.160157     NaN     NaN     NaN     NaN     NaN     NaN     NaN   \n",
       "\n",
       "   Wire 9  \n",
       "0     NaN  \n",
       "1     NaN  \n",
       "2     NaN  "
      ]
     },
     "metadata": {},
     "output_type": "display_data"
    },
    {
     "data": {
      "text/html": [
       "<div>\n",
       "<style scoped>\n",
       "    .dataframe tbody tr th:only-of-type {\n",
       "        vertical-align: middle;\n",
       "    }\n",
       "\n",
       "    .dataframe tbody tr th {\n",
       "        vertical-align: top;\n",
       "    }\n",
       "\n",
       "    .dataframe thead th {\n",
       "        text-align: right;\n",
       "    }\n",
       "</style>\n",
       "<table border=\"1\" class=\"dataframe\">\n",
       "  <thead>\n",
       "    <tr style=\"text-align: right;\">\n",
       "      <th></th>\n",
       "      <th>data_type</th>\n",
       "      <th>nan_part</th>\n",
       "    </tr>\n",
       "  </thead>\n",
       "  <tbody>\n",
       "    <tr>\n",
       "      <td>Wire 5</td>\n",
       "      <td>float64</td>\n",
       "      <td>0.999675</td>\n",
       "    </tr>\n",
       "    <tr>\n",
       "      <td>Wire 7</td>\n",
       "      <td>float64</td>\n",
       "      <td>0.996430</td>\n",
       "    </tr>\n",
       "    <tr>\n",
       "      <td>Wire 4</td>\n",
       "      <td>float64</td>\n",
       "      <td>0.995456</td>\n",
       "    </tr>\n",
       "    <tr>\n",
       "      <td>Wire 8</td>\n",
       "      <td>float64</td>\n",
       "      <td>0.993833</td>\n",
       "    </tr>\n",
       "    <tr>\n",
       "      <td>Wire 9</td>\n",
       "      <td>float64</td>\n",
       "      <td>0.990587</td>\n",
       "    </tr>\n",
       "    <tr>\n",
       "      <td>Wire 3</td>\n",
       "      <td>float64</td>\n",
       "      <td>0.979552</td>\n",
       "    </tr>\n",
       "    <tr>\n",
       "      <td>Wire 6</td>\n",
       "      <td>float64</td>\n",
       "      <td>0.976306</td>\n",
       "    </tr>\n",
       "    <tr>\n",
       "      <td>Wire 2</td>\n",
       "      <td>float64</td>\n",
       "      <td>0.649789</td>\n",
       "    </tr>\n",
       "    <tr>\n",
       "      <td>Wire 1</td>\n",
       "      <td>float64</td>\n",
       "      <td>0.008439</td>\n",
       "    </tr>\n",
       "    <tr>\n",
       "      <td>key</td>\n",
       "      <td>int64</td>\n",
       "      <td>0.000000</td>\n",
       "    </tr>\n",
       "  </tbody>\n",
       "</table>\n",
       "</div>"
      ],
      "text/plain": [
       "       data_type  nan_part\n",
       "Wire 5   float64  0.999675\n",
       "Wire 7   float64  0.996430\n",
       "Wire 4   float64  0.995456\n",
       "Wire 8   float64  0.993833\n",
       "Wire 9   float64  0.990587\n",
       "Wire 3   float64  0.979552\n",
       "Wire 6   float64  0.976306\n",
       "Wire 2   float64  0.649789\n",
       "Wire 1   float64  0.008439\n",
       "key        int64  0.000000"
      ]
     },
     "metadata": {},
     "output_type": "display_data"
    },
    {
     "name": "stdout",
     "output_type": "stream",
     "text": [
      " *  *  *  *  *  *  *  *  *  *  *  *  *  *  *  *  *  *  *  * \n"
     ]
    }
   ],
   "source": [
    "sum_info(data_list[5])"
   ]
  },
  {
   "cell_type": "markdown",
   "metadata": {
    "id": "Tq_y-jIqxVIq"
   },
   "source": [
    "А здесь краткая сводка по таблице \"wire\" - проволочные материалы. Она выполняет ту же функцию, что и bulk и судя по большому количеству пропусков, проволоку добавляют редко, кроме Wire_1 и Wire_2. "
   ]
  },
  {
   "cell_type": "code",
   "execution_count": 24,
   "metadata": {
    "colab": {
     "base_uri": "https://localhost:8080/",
     "height": 563
    },
    "id": "5biTKZ9xyqh0",
    "outputId": "d9e09fae-3807-4978-e8a9-c1893591792b"
   },
   "outputs": [
    {
     "name": "stdout",
     "output_type": "stream",
     "text": [
      " *  *  *  *  *  *  *  *  *  *  *  *  *  *  *  *  *  *  *  * \n",
      "File_name: data_wire_time\n",
      "File_shape: (3081, 10)\n"
     ]
    },
    {
     "data": {
      "text/html": [
       "<div>\n",
       "<style scoped>\n",
       "    .dataframe tbody tr th:only-of-type {\n",
       "        vertical-align: middle;\n",
       "    }\n",
       "\n",
       "    .dataframe tbody tr th {\n",
       "        vertical-align: top;\n",
       "    }\n",
       "\n",
       "    .dataframe thead th {\n",
       "        text-align: right;\n",
       "    }\n",
       "</style>\n",
       "<table border=\"1\" class=\"dataframe\">\n",
       "  <thead>\n",
       "    <tr style=\"text-align: right;\">\n",
       "      <th></th>\n",
       "      <th>key</th>\n",
       "      <th>Wire 1</th>\n",
       "      <th>Wire 2</th>\n",
       "      <th>Wire 3</th>\n",
       "      <th>Wire 4</th>\n",
       "      <th>Wire 5</th>\n",
       "      <th>Wire 6</th>\n",
       "      <th>Wire 7</th>\n",
       "      <th>Wire 8</th>\n",
       "      <th>Wire 9</th>\n",
       "    </tr>\n",
       "  </thead>\n",
       "  <tbody>\n",
       "    <tr>\n",
       "      <td>0</td>\n",
       "      <td>1</td>\n",
       "      <td>2019-05-03 11:11:41</td>\n",
       "      <td>NaN</td>\n",
       "      <td>NaN</td>\n",
       "      <td>NaN</td>\n",
       "      <td>NaN</td>\n",
       "      <td>NaN</td>\n",
       "      <td>NaN</td>\n",
       "      <td>NaN</td>\n",
       "      <td>NaN</td>\n",
       "    </tr>\n",
       "    <tr>\n",
       "      <td>1</td>\n",
       "      <td>2</td>\n",
       "      <td>2019-05-03 11:46:10</td>\n",
       "      <td>NaN</td>\n",
       "      <td>NaN</td>\n",
       "      <td>NaN</td>\n",
       "      <td>NaN</td>\n",
       "      <td>NaN</td>\n",
       "      <td>NaN</td>\n",
       "      <td>NaN</td>\n",
       "      <td>NaN</td>\n",
       "    </tr>\n",
       "    <tr>\n",
       "      <td>2</td>\n",
       "      <td>3</td>\n",
       "      <td>2019-05-03 12:13:47</td>\n",
       "      <td>NaN</td>\n",
       "      <td>NaN</td>\n",
       "      <td>NaN</td>\n",
       "      <td>NaN</td>\n",
       "      <td>NaN</td>\n",
       "      <td>NaN</td>\n",
       "      <td>NaN</td>\n",
       "      <td>NaN</td>\n",
       "    </tr>\n",
       "  </tbody>\n",
       "</table>\n",
       "</div>"
      ],
      "text/plain": [
       "   key               Wire 1 Wire 2 Wire 3 Wire 4 Wire 5 Wire 6 Wire 7 Wire 8  \\\n",
       "0    1  2019-05-03 11:11:41    NaN    NaN    NaN    NaN    NaN    NaN    NaN   \n",
       "1    2  2019-05-03 11:46:10    NaN    NaN    NaN    NaN    NaN    NaN    NaN   \n",
       "2    3  2019-05-03 12:13:47    NaN    NaN    NaN    NaN    NaN    NaN    NaN   \n",
       "\n",
       "  Wire 9  \n",
       "0    NaN  \n",
       "1    NaN  \n",
       "2    NaN  "
      ]
     },
     "metadata": {},
     "output_type": "display_data"
    },
    {
     "data": {
      "text/html": [
       "<div>\n",
       "<style scoped>\n",
       "    .dataframe tbody tr th:only-of-type {\n",
       "        vertical-align: middle;\n",
       "    }\n",
       "\n",
       "    .dataframe tbody tr th {\n",
       "        vertical-align: top;\n",
       "    }\n",
       "\n",
       "    .dataframe thead th {\n",
       "        text-align: right;\n",
       "    }\n",
       "</style>\n",
       "<table border=\"1\" class=\"dataframe\">\n",
       "  <thead>\n",
       "    <tr style=\"text-align: right;\">\n",
       "      <th></th>\n",
       "      <th>data_type</th>\n",
       "      <th>nan_part</th>\n",
       "    </tr>\n",
       "  </thead>\n",
       "  <tbody>\n",
       "    <tr>\n",
       "      <td>Wire 5</td>\n",
       "      <td>object</td>\n",
       "      <td>0.999675</td>\n",
       "    </tr>\n",
       "    <tr>\n",
       "      <td>Wire 7</td>\n",
       "      <td>object</td>\n",
       "      <td>0.996430</td>\n",
       "    </tr>\n",
       "    <tr>\n",
       "      <td>Wire 4</td>\n",
       "      <td>object</td>\n",
       "      <td>0.995456</td>\n",
       "    </tr>\n",
       "    <tr>\n",
       "      <td>Wire 8</td>\n",
       "      <td>object</td>\n",
       "      <td>0.993833</td>\n",
       "    </tr>\n",
       "    <tr>\n",
       "      <td>Wire 9</td>\n",
       "      <td>object</td>\n",
       "      <td>0.990587</td>\n",
       "    </tr>\n",
       "    <tr>\n",
       "      <td>Wire 3</td>\n",
       "      <td>object</td>\n",
       "      <td>0.979552</td>\n",
       "    </tr>\n",
       "    <tr>\n",
       "      <td>Wire 6</td>\n",
       "      <td>object</td>\n",
       "      <td>0.976306</td>\n",
       "    </tr>\n",
       "    <tr>\n",
       "      <td>Wire 2</td>\n",
       "      <td>object</td>\n",
       "      <td>0.649789</td>\n",
       "    </tr>\n",
       "    <tr>\n",
       "      <td>Wire 1</td>\n",
       "      <td>object</td>\n",
       "      <td>0.008439</td>\n",
       "    </tr>\n",
       "    <tr>\n",
       "      <td>key</td>\n",
       "      <td>int64</td>\n",
       "      <td>0.000000</td>\n",
       "    </tr>\n",
       "  </tbody>\n",
       "</table>\n",
       "</div>"
      ],
      "text/plain": [
       "       data_type  nan_part\n",
       "Wire 5    object  0.999675\n",
       "Wire 7    object  0.996430\n",
       "Wire 4    object  0.995456\n",
       "Wire 8    object  0.993833\n",
       "Wire 9    object  0.990587\n",
       "Wire 3    object  0.979552\n",
       "Wire 6    object  0.976306\n",
       "Wire 2    object  0.649789\n",
       "Wire 1    object  0.008439\n",
       "key        int64  0.000000"
      ]
     },
     "metadata": {},
     "output_type": "display_data"
    },
    {
     "name": "stdout",
     "output_type": "stream",
     "text": [
      " *  *  *  *  *  *  *  *  *  *  *  *  *  *  *  *  *  *  *  * \n"
     ]
    }
   ],
   "source": [
    "sum_info(data_list[6])"
   ]
  },
  {
   "cell_type": "markdown",
   "metadata": {
    "id": "ljJZqS2fy1p-"
   },
   "source": [
    "Ну то же самое - есть записи только там, где что-то добавили, иначе - пропуски."
   ]
  },
  {
   "cell_type": "markdown",
   "metadata": {
    "id": "tG4Ky0o5lvo5"
   },
   "source": [
    "<a id='features'></a>\n",
    "## Подготовка признаков\n",
    "[В начало](#start)"
   ]
  },
  {
   "cell_type": "markdown",
   "metadata": {
    "id": "sxR9qMtg1jbq"
   },
   "source": [
    "### Работа электродов"
   ]
  },
  {
   "cell_type": "markdown",
   "metadata": {
    "id": "iwLZ0JPNqUEZ"
   },
   "source": [
    "На текущем этапе необходимо сформировать общий датафрейм, состоящий из признаков, пригодных для обучения модели. Для этого нужно из каждой из имеющихся таблиц вытащить подходящие данные и сформировать из них признаки.  \n",
    "\n",
    "Начнём по порядку. В таблице data_arc у нас есть два вида мощности и по несколько итераций нагрева. Так как в качестве целевого признака нас интересует последняя температура в партии, то всё, что происходит в рамках этой партии с потреблением энергии логичнее всего просуммировать. Но сначала вычислим время работы нагревателя и полную мощность."
   ]
  },
  {
   "cell_type": "code",
   "execution_count": 25,
   "metadata": {
    "colab": {
     "base_uri": "https://localhost:8080/",
     "height": 143
    },
    "id": "ZJayoxBxqRUc",
    "outputId": "07388635-7887-42a3-997c-914d7816e4c4"
   },
   "outputs": [
    {
     "data": {
      "text/html": [
       "<div>\n",
       "<style scoped>\n",
       "    .dataframe tbody tr th:only-of-type {\n",
       "        vertical-align: middle;\n",
       "    }\n",
       "\n",
       "    .dataframe tbody tr th {\n",
       "        vertical-align: top;\n",
       "    }\n",
       "\n",
       "    .dataframe thead th {\n",
       "        text-align: right;\n",
       "    }\n",
       "</style>\n",
       "<table border=\"1\" class=\"dataframe\">\n",
       "  <thead>\n",
       "    <tr style=\"text-align: right;\">\n",
       "      <th></th>\n",
       "      <th>key</th>\n",
       "      <th>time_start</th>\n",
       "      <th>time_finish</th>\n",
       "      <th>act_power</th>\n",
       "      <th>react_power</th>\n",
       "      <th>action_time</th>\n",
       "      <th>total_power</th>\n",
       "    </tr>\n",
       "  </thead>\n",
       "  <tbody>\n",
       "    <tr>\n",
       "      <td>0</td>\n",
       "      <td>1</td>\n",
       "      <td>2019-05-03 11:02:14</td>\n",
       "      <td>2019-05-03 11:06:02</td>\n",
       "      <td>0.976059</td>\n",
       "      <td>0.687084</td>\n",
       "      <td>228</td>\n",
       "      <td>1.193639</td>\n",
       "    </tr>\n",
       "    <tr>\n",
       "      <td>1</td>\n",
       "      <td>1</td>\n",
       "      <td>2019-05-03 11:07:28</td>\n",
       "      <td>2019-05-03 11:10:33</td>\n",
       "      <td>0.805607</td>\n",
       "      <td>0.520285</td>\n",
       "      <td>185</td>\n",
       "      <td>0.959010</td>\n",
       "    </tr>\n",
       "    <tr>\n",
       "      <td>2</td>\n",
       "      <td>1</td>\n",
       "      <td>2019-05-03 11:11:44</td>\n",
       "      <td>2019-05-03 11:14:36</td>\n",
       "      <td>0.744363</td>\n",
       "      <td>0.498805</td>\n",
       "      <td>172</td>\n",
       "      <td>0.896038</td>\n",
       "    </tr>\n",
       "  </tbody>\n",
       "</table>\n",
       "</div>"
      ],
      "text/plain": [
       "   key          time_start         time_finish  act_power  react_power  \\\n",
       "0    1 2019-05-03 11:02:14 2019-05-03 11:06:02   0.976059     0.687084   \n",
       "1    1 2019-05-03 11:07:28 2019-05-03 11:10:33   0.805607     0.520285   \n",
       "2    1 2019-05-03 11:11:44 2019-05-03 11:14:36   0.744363     0.498805   \n",
       "\n",
       "   action_time  total_power  \n",
       "0          228     1.193639  \n",
       "1          185     0.959010  \n",
       "2          172     0.896038  "
      ]
     },
     "execution_count": 25,
     "metadata": {},
     "output_type": "execute_result"
    }
   ],
   "source": [
    "# Переименование столбцов на латиницу\n",
    "data_arc = data_arc.rename(columns={'Начало нагрева дугой':'time_start',\n",
    "                         'Конец нагрева дугой':'time_finish',\n",
    "                         'Активная мощность':'act_power',\n",
    "                         'Реактивная мощность':'react_power'\n",
    "                         })\n",
    "\n",
    "# Удаление аномалии\n",
    "data_arc = data_arc.query('react_power > 0')\n",
    "\n",
    "# Преобразование столбцов с датой в дату\n",
    "data_arc['time_start'] = pd.to_datetime(data_arc['time_start'], format='%Y-%m-%d %H:%M:%S')\n",
    "data_arc['time_finish'] = pd.to_datetime(data_arc['time_finish'], format='%Y-%m-%d %H:%M:%S')\n",
    "\n",
    "# Вычисление времени работы нагревателя\n",
    "data_arc['action_time'] = (data_arc['time_finish'] - data_arc['time_start']).dt.seconds\n",
    "\n",
    "# Вычисление полной мощности\n",
    "data_arc['total_power'] = (data_arc['act_power']**2 + data_arc['react_power']**2) ** 0.5\n",
    "\n",
    "# Проверка \n",
    "data_arc.head(3)"
   ]
  },
  {
   "cell_type": "markdown",
   "metadata": {
    "id": "ROvv5weWxhcW"
   },
   "source": [
    "А теперь выполним группировку с суммированием и получим готовую часть признаков. "
   ]
  },
  {
   "cell_type": "code",
   "execution_count": 26,
   "metadata": {
    "colab": {
     "base_uri": "https://localhost:8080/",
     "height": 238
    },
    "id": "jRggGW1ZtWf0",
    "outputId": "c044a229-a351-4be9-e401-5f5f0a0c4842"
   },
   "outputs": [
    {
     "data": {
      "text/html": [
       "<div>\n",
       "<style scoped>\n",
       "    .dataframe tbody tr th:only-of-type {\n",
       "        vertical-align: middle;\n",
       "    }\n",
       "\n",
       "    .dataframe tbody tr th {\n",
       "        vertical-align: top;\n",
       "    }\n",
       "\n",
       "    .dataframe thead th {\n",
       "        text-align: right;\n",
       "    }\n",
       "</style>\n",
       "<table border=\"1\" class=\"dataframe\">\n",
       "  <thead>\n",
       "    <tr style=\"text-align: right;\">\n",
       "      <th></th>\n",
       "      <th>action_time</th>\n",
       "      <th>act_power</th>\n",
       "      <th>react_power</th>\n",
       "      <th>total_power</th>\n",
       "      <th>heat_steps</th>\n",
       "    </tr>\n",
       "    <tr>\n",
       "      <th>key</th>\n",
       "      <th></th>\n",
       "      <th></th>\n",
       "      <th></th>\n",
       "      <th></th>\n",
       "      <th></th>\n",
       "    </tr>\n",
       "  </thead>\n",
       "  <tbody>\n",
       "    <tr>\n",
       "      <td>1</td>\n",
       "      <td>1098</td>\n",
       "      <td>4.878147</td>\n",
       "      <td>3.183241</td>\n",
       "      <td>5.826395</td>\n",
       "      <td>5</td>\n",
       "    </tr>\n",
       "    <tr>\n",
       "      <td>2</td>\n",
       "      <td>811</td>\n",
       "      <td>3.052598</td>\n",
       "      <td>1.998112</td>\n",
       "      <td>3.649216</td>\n",
       "      <td>4</td>\n",
       "    </tr>\n",
       "    <tr>\n",
       "      <td>3</td>\n",
       "      <td>655</td>\n",
       "      <td>2.525882</td>\n",
       "      <td>1.599076</td>\n",
       "      <td>2.989534</td>\n",
       "      <td>5</td>\n",
       "    </tr>\n",
       "    <tr>\n",
       "      <td>4</td>\n",
       "      <td>741</td>\n",
       "      <td>3.209250</td>\n",
       "      <td>2.060298</td>\n",
       "      <td>3.814962</td>\n",
       "      <td>4</td>\n",
       "    </tr>\n",
       "    <tr>\n",
       "      <td>5</td>\n",
       "      <td>869</td>\n",
       "      <td>3.347173</td>\n",
       "      <td>2.252643</td>\n",
       "      <td>4.035758</td>\n",
       "      <td>4</td>\n",
       "    </tr>\n",
       "  </tbody>\n",
       "</table>\n",
       "</div>"
      ],
      "text/plain": [
       "     action_time  act_power  react_power  total_power  heat_steps\n",
       "key                                                              \n",
       "1           1098   4.878147     3.183241     5.826395           5\n",
       "2            811   3.052598     1.998112     3.649216           4\n",
       "3            655   2.525882     1.599076     2.989534           5\n",
       "4            741   3.209250     2.060298     3.814962           4\n",
       "5            869   3.347173     2.252643     4.035758           4"
      ]
     },
     "execution_count": 26,
     "metadata": {},
     "output_type": "execute_result"
    }
   ],
   "source": [
    "data_arc_features = (\n",
    "    data_arc.groupby('key')[['action_time', 'act_power', \n",
    "                             'react_power', 'total_power', 'key']]\n",
    "    .agg({'action_time':'sum', 'act_power':'sum', \n",
    "          'react_power':'sum', 'total_power':'sum', 'key':'count'}))\n",
    "data_arc_features.rename(columns={'key':'heat_steps'}, inplace=True)\n",
    "data_arc_features.head()"
   ]
  },
  {
   "cell_type": "markdown",
   "metadata": {
    "id": "1UZKMrqU1cq5"
   },
   "source": [
    "Возможно эти признаки сильно коррелируют между собой, но с этим разберёмся позже. Пока посмотрим что получилось."
   ]
  },
  {
   "cell_type": "code",
   "execution_count": 27,
   "metadata": {
    "colab": {
     "base_uri": "https://localhost:8080/",
     "height": 300
    },
    "id": "Ohmy89f6vHVI",
    "outputId": "482b4e23-9018-413a-d3ef-95d3ebd9f64d"
   },
   "outputs": [
    {
     "data": {
      "text/html": [
       "<div>\n",
       "<style scoped>\n",
       "    .dataframe tbody tr th:only-of-type {\n",
       "        vertical-align: middle;\n",
       "    }\n",
       "\n",
       "    .dataframe tbody tr th {\n",
       "        vertical-align: top;\n",
       "    }\n",
       "\n",
       "    .dataframe thead th {\n",
       "        text-align: right;\n",
       "    }\n",
       "</style>\n",
       "<table border=\"1\" class=\"dataframe\">\n",
       "  <thead>\n",
       "    <tr style=\"text-align: right;\">\n",
       "      <th></th>\n",
       "      <th>action_time</th>\n",
       "      <th>act_power</th>\n",
       "      <th>react_power</th>\n",
       "      <th>total_power</th>\n",
       "      <th>heat_steps</th>\n",
       "    </tr>\n",
       "  </thead>\n",
       "  <tbody>\n",
       "    <tr>\n",
       "      <td>count</td>\n",
       "      <td>3214.000000</td>\n",
       "      <td>3214.000000</td>\n",
       "      <td>3214.000000</td>\n",
       "      <td>3214.000000</td>\n",
       "      <td>3214.000000</td>\n",
       "    </tr>\n",
       "    <tr>\n",
       "      <td>mean</td>\n",
       "      <td>794.545115</td>\n",
       "      <td>3.102984</td>\n",
       "      <td>2.317442</td>\n",
       "      <td>3.881975</td>\n",
       "      <td>4.628189</td>\n",
       "    </tr>\n",
       "    <tr>\n",
       "      <td>std</td>\n",
       "      <td>332.491076</td>\n",
       "      <td>1.397556</td>\n",
       "      <td>1.054316</td>\n",
       "      <td>1.740260</td>\n",
       "      <td>1.608866</td>\n",
       "    </tr>\n",
       "    <tr>\n",
       "      <td>min</td>\n",
       "      <td>57.000000</td>\n",
       "      <td>0.186226</td>\n",
       "      <td>0.158247</td>\n",
       "      <td>0.257637</td>\n",
       "      <td>1.000000</td>\n",
       "    </tr>\n",
       "    <tr>\n",
       "      <td>25%</td>\n",
       "      <td>571.000000</td>\n",
       "      <td>2.126339</td>\n",
       "      <td>1.599018</td>\n",
       "      <td>2.674763</td>\n",
       "      <td>4.000000</td>\n",
       "    </tr>\n",
       "    <tr>\n",
       "      <td>50%</td>\n",
       "      <td>770.000000</td>\n",
       "      <td>2.990537</td>\n",
       "      <td>2.229869</td>\n",
       "      <td>3.749955</td>\n",
       "      <td>4.000000</td>\n",
       "    </tr>\n",
       "    <tr>\n",
       "      <td>75%</td>\n",
       "      <td>983.000000</td>\n",
       "      <td>3.901147</td>\n",
       "      <td>2.899141</td>\n",
       "      <td>4.858563</td>\n",
       "      <td>6.000000</td>\n",
       "    </tr>\n",
       "    <tr>\n",
       "      <td>max</td>\n",
       "      <td>4189.000000</td>\n",
       "      <td>17.496497</td>\n",
       "      <td>12.587990</td>\n",
       "      <td>21.564771</td>\n",
       "      <td>16.000000</td>\n",
       "    </tr>\n",
       "  </tbody>\n",
       "</table>\n",
       "</div>"
      ],
      "text/plain": [
       "       action_time    act_power  react_power  total_power   heat_steps\n",
       "count  3214.000000  3214.000000  3214.000000  3214.000000  3214.000000\n",
       "mean    794.545115     3.102984     2.317442     3.881975     4.628189\n",
       "std     332.491076     1.397556     1.054316     1.740260     1.608866\n",
       "min      57.000000     0.186226     0.158247     0.257637     1.000000\n",
       "25%     571.000000     2.126339     1.599018     2.674763     4.000000\n",
       "50%     770.000000     2.990537     2.229869     3.749955     4.000000\n",
       "75%     983.000000     3.901147     2.899141     4.858563     6.000000\n",
       "max    4189.000000    17.496497    12.587990    21.564771    16.000000"
      ]
     },
     "execution_count": 27,
     "metadata": {},
     "output_type": "execute_result"
    }
   ],
   "source": [
    "data_arc_features.describe()"
   ]
  },
  {
   "cell_type": "code",
   "execution_count": 28,
   "metadata": {
    "colab": {
     "base_uri": "https://localhost:8080/",
     "height": 615
    },
    "id": "DSM-q0zhxurD",
    "outputId": "67098da9-3233-42f5-b1a8-d518c9e25273"
   },
   "outputs": [
    {
     "data": {
      "image/png": "[encoded data removed]",
      "text/plain": [
       "<Figure size 1152x720 with 4 Axes>"
      ]
     },
     "metadata": {
      "needs_background": "light"
     },
     "output_type": "display_data"
    }
   ],
   "source": [
    "plt.figure(figsize=(16,10))\n",
    "plt.subplot(2, 2, 1)\n",
    "data_arc_features['action_time'].hist(bins=50)\n",
    "plt.title('Время нагрева')\n",
    "\n",
    "plt.subplot(2, 2, 2)\n",
    "data_arc_features['total_power'].hist(bins=50)\n",
    "plt.title('Полная мощность')\n",
    "\n",
    "plt.subplot(2, 2, 3)\n",
    "data_arc_features['act_power'].hist(bins=50)\n",
    "plt.title('Активная мощность')\n",
    "\n",
    "plt.subplot(2, 2, 4)\n",
    "data_arc_features['react_power'].hist(bins=50)\n",
    "plt.title('Реактивная мощность')\n",
    "plt.show()"
   ]
  },
  {
   "cell_type": "markdown",
   "metadata": {
    "id": "nZxOOU8p3cnH"
   },
   "source": [
    "Нормальное распределение, за исключением небольшого хвоста. Но это вполне рабочий момент, оставим как есть. "
   ]
  },
  {
   "cell_type": "markdown",
   "metadata": {
    "id": "FjZQqf0T8p9i"
   },
   "source": [
    "### Сыпучие материалы"
   ]
  },
  {
   "cell_type": "markdown",
   "metadata": {
    "id": "b7TjGoQh846i"
   },
   "source": [
    "Сыпучие материалы представлены двумя таблицами - с объемом и временем. В сущности, конкретное время добавления присадок в процессе подготовки партии для нас особой роли не играет, поскольку время между добавками уже учтено в работе нагревателей. Поэтому будем работать только с таблицей, содержащей объёмные величины.  \n",
    "\n",
    "Первым делом установим в качестве индекса номер партии."
   ]
  },
  {
   "cell_type": "code",
   "execution_count": 29,
   "metadata": {
    "id": "U2xKSHfy_JPB"
   },
   "outputs": [],
   "source": [
    "data_bulk = data_bulk.set_index('key')"
   ]
  },
  {
   "cell_type": "markdown",
   "metadata": {
    "id": "C83pRSRz_aW_"
   },
   "source": [
    "Пока попробуем в качестве признаков использовать суммарный объём всех присадок и общее их количество."
   ]
  },
  {
   "cell_type": "code",
   "execution_count": 30,
   "metadata": {
    "colab": {
     "base_uri": "https://localhost:8080/",
     "height": 0
    },
    "id": "Z389oh_A_Dp9",
    "outputId": "1f383c27-778b-4672-cf71-f5f503e71215"
   },
   "outputs": [
    {
     "data": {
      "text/html": [
       "<div>\n",
       "<style scoped>\n",
       "    .dataframe tbody tr th:only-of-type {\n",
       "        vertical-align: middle;\n",
       "    }\n",
       "\n",
       "    .dataframe tbody tr th {\n",
       "        vertical-align: top;\n",
       "    }\n",
       "\n",
       "    .dataframe thead th {\n",
       "        text-align: right;\n",
       "    }\n",
       "</style>\n",
       "<table border=\"1\" class=\"dataframe\">\n",
       "  <thead>\n",
       "    <tr style=\"text-align: right;\">\n",
       "      <th></th>\n",
       "      <th>Bulk 1</th>\n",
       "      <th>Bulk 2</th>\n",
       "      <th>Bulk 3</th>\n",
       "      <th>Bulk 4</th>\n",
       "      <th>Bulk 5</th>\n",
       "      <th>Bulk 6</th>\n",
       "      <th>Bulk 7</th>\n",
       "      <th>Bulk 8</th>\n",
       "      <th>Bulk 9</th>\n",
       "      <th>Bulk 10</th>\n",
       "      <th>Bulk 11</th>\n",
       "      <th>Bulk 12</th>\n",
       "      <th>Bulk 13</th>\n",
       "      <th>Bulk 14</th>\n",
       "      <th>Bulk 15</th>\n",
       "      <th>count_bulk</th>\n",
       "      <th>sum_bulk</th>\n",
       "    </tr>\n",
       "    <tr>\n",
       "      <th>key</th>\n",
       "      <th></th>\n",
       "      <th></th>\n",
       "      <th></th>\n",
       "      <th></th>\n",
       "      <th></th>\n",
       "      <th></th>\n",
       "      <th></th>\n",
       "      <th></th>\n",
       "      <th></th>\n",
       "      <th></th>\n",
       "      <th></th>\n",
       "      <th></th>\n",
       "      <th></th>\n",
       "      <th></th>\n",
       "      <th></th>\n",
       "      <th></th>\n",
       "      <th></th>\n",
       "    </tr>\n",
       "  </thead>\n",
       "  <tbody>\n",
       "    <tr>\n",
       "      <td>1</td>\n",
       "      <td>NaN</td>\n",
       "      <td>NaN</td>\n",
       "      <td>NaN</td>\n",
       "      <td>43.0</td>\n",
       "      <td>NaN</td>\n",
       "      <td>NaN</td>\n",
       "      <td>NaN</td>\n",
       "      <td>NaN</td>\n",
       "      <td>NaN</td>\n",
       "      <td>NaN</td>\n",
       "      <td>NaN</td>\n",
       "      <td>206.0</td>\n",
       "      <td>NaN</td>\n",
       "      <td>150.0</td>\n",
       "      <td>154.0</td>\n",
       "      <td>4</td>\n",
       "      <td>553.0</td>\n",
       "    </tr>\n",
       "    <tr>\n",
       "      <td>2</td>\n",
       "      <td>NaN</td>\n",
       "      <td>NaN</td>\n",
       "      <td>NaN</td>\n",
       "      <td>73.0</td>\n",
       "      <td>NaN</td>\n",
       "      <td>NaN</td>\n",
       "      <td>NaN</td>\n",
       "      <td>NaN</td>\n",
       "      <td>NaN</td>\n",
       "      <td>NaN</td>\n",
       "      <td>NaN</td>\n",
       "      <td>206.0</td>\n",
       "      <td>NaN</td>\n",
       "      <td>149.0</td>\n",
       "      <td>154.0</td>\n",
       "      <td>4</td>\n",
       "      <td>582.0</td>\n",
       "    </tr>\n",
       "    <tr>\n",
       "      <td>3</td>\n",
       "      <td>NaN</td>\n",
       "      <td>NaN</td>\n",
       "      <td>NaN</td>\n",
       "      <td>34.0</td>\n",
       "      <td>NaN</td>\n",
       "      <td>NaN</td>\n",
       "      <td>NaN</td>\n",
       "      <td>NaN</td>\n",
       "      <td>NaN</td>\n",
       "      <td>NaN</td>\n",
       "      <td>NaN</td>\n",
       "      <td>205.0</td>\n",
       "      <td>NaN</td>\n",
       "      <td>152.0</td>\n",
       "      <td>153.0</td>\n",
       "      <td>4</td>\n",
       "      <td>544.0</td>\n",
       "    </tr>\n",
       "    <tr>\n",
       "      <td>4</td>\n",
       "      <td>NaN</td>\n",
       "      <td>NaN</td>\n",
       "      <td>NaN</td>\n",
       "      <td>81.0</td>\n",
       "      <td>NaN</td>\n",
       "      <td>NaN</td>\n",
       "      <td>NaN</td>\n",
       "      <td>NaN</td>\n",
       "      <td>NaN</td>\n",
       "      <td>NaN</td>\n",
       "      <td>NaN</td>\n",
       "      <td>207.0</td>\n",
       "      <td>NaN</td>\n",
       "      <td>153.0</td>\n",
       "      <td>154.0</td>\n",
       "      <td>4</td>\n",
       "      <td>595.0</td>\n",
       "    </tr>\n",
       "    <tr>\n",
       "      <td>5</td>\n",
       "      <td>NaN</td>\n",
       "      <td>NaN</td>\n",
       "      <td>NaN</td>\n",
       "      <td>78.0</td>\n",
       "      <td>NaN</td>\n",
       "      <td>NaN</td>\n",
       "      <td>NaN</td>\n",
       "      <td>NaN</td>\n",
       "      <td>NaN</td>\n",
       "      <td>NaN</td>\n",
       "      <td>NaN</td>\n",
       "      <td>203.0</td>\n",
       "      <td>NaN</td>\n",
       "      <td>151.0</td>\n",
       "      <td>152.0</td>\n",
       "      <td>4</td>\n",
       "      <td>584.0</td>\n",
       "    </tr>\n",
       "  </tbody>\n",
       "</table>\n",
       "</div>"
      ],
      "text/plain": [
       "     Bulk 1  Bulk 2  Bulk 3  Bulk 4  Bulk 5  Bulk 6  Bulk 7  Bulk 8  Bulk 9  \\\n",
       "key                                                                           \n",
       "1       NaN     NaN     NaN    43.0     NaN     NaN     NaN     NaN     NaN   \n",
       "2       NaN     NaN     NaN    73.0     NaN     NaN     NaN     NaN     NaN   \n",
       "3       NaN     NaN     NaN    34.0     NaN     NaN     NaN     NaN     NaN   \n",
       "4       NaN     NaN     NaN    81.0     NaN     NaN     NaN     NaN     NaN   \n",
       "5       NaN     NaN     NaN    78.0     NaN     NaN     NaN     NaN     NaN   \n",
       "\n",
       "     Bulk 10  Bulk 11  Bulk 12  Bulk 13  Bulk 14  Bulk 15  count_bulk  \\\n",
       "key                                                                     \n",
       "1        NaN      NaN    206.0      NaN    150.0    154.0           4   \n",
       "2        NaN      NaN    206.0      NaN    149.0    154.0           4   \n",
       "3        NaN      NaN    205.0      NaN    152.0    153.0           4   \n",
       "4        NaN      NaN    207.0      NaN    153.0    154.0           4   \n",
       "5        NaN      NaN    203.0      NaN    151.0    152.0           4   \n",
       "\n",
       "     sum_bulk  \n",
       "key            \n",
       "1       553.0  \n",
       "2       582.0  \n",
       "3       544.0  \n",
       "4       595.0  \n",
       "5       584.0  "
      ]
     },
     "execution_count": 30,
     "metadata": {},
     "output_type": "execute_result"
    }
   ],
   "source": [
    "#data_bulk.drop(['sum_bulk', 'count_bulk'], axis=1, inplace=True)\n",
    "data_bulk['count_bulk'] = data_bulk.count(axis=1)\n",
    "data_bulk['sum_bulk'] = data_bulk[data_bulk.drop('count_bulk', axis=1).columns].sum(axis=1)\n",
    "data_bulk.head()"
   ]
  },
  {
   "cell_type": "code",
   "execution_count": 31,
   "metadata": {
    "colab": {
     "base_uri": "https://localhost:8080/",
     "height": 0
    },
    "id": "RiRROVysGNTf",
    "outputId": "f6a05d12-2ee6-4b1a-8e7e-af2ecdf14722"
   },
   "outputs": [
    {
     "data": {
      "text/html": [
       "<div>\n",
       "<style scoped>\n",
       "    .dataframe tbody tr th:only-of-type {\n",
       "        vertical-align: middle;\n",
       "    }\n",
       "\n",
       "    .dataframe tbody tr th {\n",
       "        vertical-align: top;\n",
       "    }\n",
       "\n",
       "    .dataframe thead th {\n",
       "        text-align: right;\n",
       "    }\n",
       "</style>\n",
       "<table border=\"1\" class=\"dataframe\">\n",
       "  <thead>\n",
       "    <tr style=\"text-align: right;\">\n",
       "      <th></th>\n",
       "      <th>sum_bulk</th>\n",
       "      <th>count_bulk</th>\n",
       "    </tr>\n",
       "    <tr>\n",
       "      <th>key</th>\n",
       "      <th></th>\n",
       "      <th></th>\n",
       "    </tr>\n",
       "  </thead>\n",
       "  <tbody>\n",
       "    <tr>\n",
       "      <td>1</td>\n",
       "      <td>553.0</td>\n",
       "      <td>4</td>\n",
       "    </tr>\n",
       "    <tr>\n",
       "      <td>2</td>\n",
       "      <td>582.0</td>\n",
       "      <td>4</td>\n",
       "    </tr>\n",
       "    <tr>\n",
       "      <td>3</td>\n",
       "      <td>544.0</td>\n",
       "      <td>4</td>\n",
       "    </tr>\n",
       "    <tr>\n",
       "      <td>4</td>\n",
       "      <td>595.0</td>\n",
       "      <td>4</td>\n",
       "    </tr>\n",
       "    <tr>\n",
       "      <td>5</td>\n",
       "      <td>584.0</td>\n",
       "      <td>4</td>\n",
       "    </tr>\n",
       "  </tbody>\n",
       "</table>\n",
       "</div>"
      ],
      "text/plain": [
       "     sum_bulk  count_bulk\n",
       "key                      \n",
       "1       553.0           4\n",
       "2       582.0           4\n",
       "3       544.0           4\n",
       "4       595.0           4\n",
       "5       584.0           4"
      ]
     },
     "execution_count": 31,
     "metadata": {},
     "output_type": "execute_result"
    }
   ],
   "source": [
    "data_bulk_features = data_bulk[['sum_bulk', 'count_bulk']]\n",
    "data_bulk_features.head()"
   ]
  },
  {
   "cell_type": "markdown",
   "metadata": {
    "id": "hl3qFaIYGcui"
   },
   "source": [
    "### Проволочные материалы"
   ]
  },
  {
   "cell_type": "markdown",
   "metadata": {
    "id": "XmIOSAxPGuv0"
   },
   "source": [
    "С проволокой сделаем то же самое, что и с сыпучими материалами. "
   ]
  },
  {
   "cell_type": "code",
   "execution_count": 32,
   "metadata": {
    "colab": {
     "base_uri": "https://localhost:8080/",
     "height": 0
    },
    "id": "Mu3zB_P88wAa",
    "outputId": "b970932e-9ce8-498a-ebc8-03bc2ef3b260"
   },
   "outputs": [
    {
     "data": {
      "text/html": [
       "<div>\n",
       "<style scoped>\n",
       "    .dataframe tbody tr th:only-of-type {\n",
       "        vertical-align: middle;\n",
       "    }\n",
       "\n",
       "    .dataframe tbody tr th {\n",
       "        vertical-align: top;\n",
       "    }\n",
       "\n",
       "    .dataframe thead th {\n",
       "        text-align: right;\n",
       "    }\n",
       "</style>\n",
       "<table border=\"1\" class=\"dataframe\">\n",
       "  <thead>\n",
       "    <tr style=\"text-align: right;\">\n",
       "      <th></th>\n",
       "      <th>Wire 1</th>\n",
       "      <th>Wire 2</th>\n",
       "      <th>Wire 3</th>\n",
       "      <th>Wire 4</th>\n",
       "      <th>Wire 5</th>\n",
       "      <th>Wire 6</th>\n",
       "      <th>Wire 7</th>\n",
       "      <th>Wire 8</th>\n",
       "      <th>Wire 9</th>\n",
       "      <th>count_wire</th>\n",
       "      <th>sum_wire</th>\n",
       "    </tr>\n",
       "    <tr>\n",
       "      <th>key</th>\n",
       "      <th></th>\n",
       "      <th></th>\n",
       "      <th></th>\n",
       "      <th></th>\n",
       "      <th></th>\n",
       "      <th></th>\n",
       "      <th></th>\n",
       "      <th></th>\n",
       "      <th></th>\n",
       "      <th></th>\n",
       "      <th></th>\n",
       "    </tr>\n",
       "  </thead>\n",
       "  <tbody>\n",
       "    <tr>\n",
       "      <td>1</td>\n",
       "      <td>60.059998</td>\n",
       "      <td>NaN</td>\n",
       "      <td>NaN</td>\n",
       "      <td>NaN</td>\n",
       "      <td>NaN</td>\n",
       "      <td>NaN</td>\n",
       "      <td>NaN</td>\n",
       "      <td>NaN</td>\n",
       "      <td>NaN</td>\n",
       "      <td>1</td>\n",
       "      <td>60.059998</td>\n",
       "    </tr>\n",
       "    <tr>\n",
       "      <td>2</td>\n",
       "      <td>96.052315</td>\n",
       "      <td>NaN</td>\n",
       "      <td>NaN</td>\n",
       "      <td>NaN</td>\n",
       "      <td>NaN</td>\n",
       "      <td>NaN</td>\n",
       "      <td>NaN</td>\n",
       "      <td>NaN</td>\n",
       "      <td>NaN</td>\n",
       "      <td>1</td>\n",
       "      <td>96.052315</td>\n",
       "    </tr>\n",
       "    <tr>\n",
       "      <td>3</td>\n",
       "      <td>91.160157</td>\n",
       "      <td>NaN</td>\n",
       "      <td>NaN</td>\n",
       "      <td>NaN</td>\n",
       "      <td>NaN</td>\n",
       "      <td>NaN</td>\n",
       "      <td>NaN</td>\n",
       "      <td>NaN</td>\n",
       "      <td>NaN</td>\n",
       "      <td>1</td>\n",
       "      <td>91.160157</td>\n",
       "    </tr>\n",
       "    <tr>\n",
       "      <td>4</td>\n",
       "      <td>89.063515</td>\n",
       "      <td>NaN</td>\n",
       "      <td>NaN</td>\n",
       "      <td>NaN</td>\n",
       "      <td>NaN</td>\n",
       "      <td>NaN</td>\n",
       "      <td>NaN</td>\n",
       "      <td>NaN</td>\n",
       "      <td>NaN</td>\n",
       "      <td>1</td>\n",
       "      <td>89.063515</td>\n",
       "    </tr>\n",
       "    <tr>\n",
       "      <td>5</td>\n",
       "      <td>89.238236</td>\n",
       "      <td>9.11456</td>\n",
       "      <td>NaN</td>\n",
       "      <td>NaN</td>\n",
       "      <td>NaN</td>\n",
       "      <td>NaN</td>\n",
       "      <td>NaN</td>\n",
       "      <td>NaN</td>\n",
       "      <td>NaN</td>\n",
       "      <td>2</td>\n",
       "      <td>98.352796</td>\n",
       "    </tr>\n",
       "  </tbody>\n",
       "</table>\n",
       "</div>"
      ],
      "text/plain": [
       "        Wire 1   Wire 2  Wire 3  Wire 4  Wire 5  Wire 6  Wire 7  Wire 8  \\\n",
       "key                                                                       \n",
       "1    60.059998      NaN     NaN     NaN     NaN     NaN     NaN     NaN   \n",
       "2    96.052315      NaN     NaN     NaN     NaN     NaN     NaN     NaN   \n",
       "3    91.160157      NaN     NaN     NaN     NaN     NaN     NaN     NaN   \n",
       "4    89.063515      NaN     NaN     NaN     NaN     NaN     NaN     NaN   \n",
       "5    89.238236  9.11456     NaN     NaN     NaN     NaN     NaN     NaN   \n",
       "\n",
       "     Wire 9  count_wire   sum_wire  \n",
       "key                                 \n",
       "1       NaN           1  60.059998  \n",
       "2       NaN           1  96.052315  \n",
       "3       NaN           1  91.160157  \n",
       "4       NaN           1  89.063515  \n",
       "5       NaN           2  98.352796  "
      ]
     },
     "execution_count": 32,
     "metadata": {},
     "output_type": "execute_result"
    }
   ],
   "source": [
    "data_wire = data_wire.set_index('key')\n",
    "data_wire['count_wire'] = data_wire.count(axis=1)\n",
    "data_wire\n",
    "data_wire['sum_wire'] = data_wire[data_wire.drop('count_wire', axis=1).columns].sum(axis=1)\n",
    "data_wire.head()"
   ]
  },
  {
   "cell_type": "code",
   "execution_count": 33,
   "metadata": {
    "colab": {
     "base_uri": "https://localhost:8080/",
     "height": 0
    },
    "id": "MXQQqUNKGQGv",
    "outputId": "66e1c774-977d-440e-dce6-9d90b374d982"
   },
   "outputs": [
    {
     "data": {
      "text/html": [
       "<div>\n",
       "<style scoped>\n",
       "    .dataframe tbody tr th:only-of-type {\n",
       "        vertical-align: middle;\n",
       "    }\n",
       "\n",
       "    .dataframe tbody tr th {\n",
       "        vertical-align: top;\n",
       "    }\n",
       "\n",
       "    .dataframe thead th {\n",
       "        text-align: right;\n",
       "    }\n",
       "</style>\n",
       "<table border=\"1\" class=\"dataframe\">\n",
       "  <thead>\n",
       "    <tr style=\"text-align: right;\">\n",
       "      <th></th>\n",
       "      <th>sum_wire</th>\n",
       "      <th>count_wire</th>\n",
       "    </tr>\n",
       "    <tr>\n",
       "      <th>key</th>\n",
       "      <th></th>\n",
       "      <th></th>\n",
       "    </tr>\n",
       "  </thead>\n",
       "  <tbody>\n",
       "    <tr>\n",
       "      <td>1</td>\n",
       "      <td>60.059998</td>\n",
       "      <td>1</td>\n",
       "    </tr>\n",
       "    <tr>\n",
       "      <td>2</td>\n",
       "      <td>96.052315</td>\n",
       "      <td>1</td>\n",
       "    </tr>\n",
       "    <tr>\n",
       "      <td>3</td>\n",
       "      <td>91.160157</td>\n",
       "      <td>1</td>\n",
       "    </tr>\n",
       "    <tr>\n",
       "      <td>4</td>\n",
       "      <td>89.063515</td>\n",
       "      <td>1</td>\n",
       "    </tr>\n",
       "    <tr>\n",
       "      <td>5</td>\n",
       "      <td>98.352796</td>\n",
       "      <td>2</td>\n",
       "    </tr>\n",
       "  </tbody>\n",
       "</table>\n",
       "</div>"
      ],
      "text/plain": [
       "      sum_wire  count_wire\n",
       "key                       \n",
       "1    60.059998           1\n",
       "2    96.052315           1\n",
       "3    91.160157           1\n",
       "4    89.063515           1\n",
       "5    98.352796           2"
      ]
     },
     "execution_count": 33,
     "metadata": {},
     "output_type": "execute_result"
    }
   ],
   "source": [
    "data_wire_features = data_wire[['sum_wire', 'count_wire']]\n",
    "data_wire_features.head()"
   ]
  },
  {
   "cell_type": "markdown",
   "metadata": {
    "id": "Kudsi9piH3yj"
   },
   "source": [
    "### Газ"
   ]
  },
  {
   "cell_type": "markdown",
   "metadata": {
    "id": "vm_cV9zfIGJc"
   },
   "source": [
    "Табличка с газом нареканий не вызывала. В ней мы просто сделаем номер партии индексом, чтобы потом было проще все таблицы объединить."
   ]
  },
  {
   "cell_type": "code",
   "execution_count": 34,
   "metadata": {
    "colab": {
     "base_uri": "https://localhost:8080/",
     "height": 0
    },
    "id": "X1auGm2wH_qn",
    "outputId": "6bcc18ed-b948-4766-fee8-f08815350c0a"
   },
   "outputs": [
    {
     "data": {
      "text/html": [
       "<div>\n",
       "<style scoped>\n",
       "    .dataframe tbody tr th:only-of-type {\n",
       "        vertical-align: middle;\n",
       "    }\n",
       "\n",
       "    .dataframe tbody tr th {\n",
       "        vertical-align: top;\n",
       "    }\n",
       "\n",
       "    .dataframe thead th {\n",
       "        text-align: right;\n",
       "    }\n",
       "</style>\n",
       "<table border=\"1\" class=\"dataframe\">\n",
       "  <thead>\n",
       "    <tr style=\"text-align: right;\">\n",
       "      <th></th>\n",
       "      <th>gas</th>\n",
       "    </tr>\n",
       "    <tr>\n",
       "      <th>key</th>\n",
       "      <th></th>\n",
       "    </tr>\n",
       "  </thead>\n",
       "  <tbody>\n",
       "    <tr>\n",
       "      <td>1</td>\n",
       "      <td>29.749986</td>\n",
       "    </tr>\n",
       "    <tr>\n",
       "      <td>2</td>\n",
       "      <td>12.555561</td>\n",
       "    </tr>\n",
       "    <tr>\n",
       "      <td>3</td>\n",
       "      <td>28.554793</td>\n",
       "    </tr>\n",
       "    <tr>\n",
       "      <td>4</td>\n",
       "      <td>18.841219</td>\n",
       "    </tr>\n",
       "    <tr>\n",
       "      <td>5</td>\n",
       "      <td>5.413692</td>\n",
       "    </tr>\n",
       "  </tbody>\n",
       "</table>\n",
       "</div>"
      ],
      "text/plain": [
       "           gas\n",
       "key           \n",
       "1    29.749986\n",
       "2    12.555561\n",
       "3    28.554793\n",
       "4    18.841219\n",
       "5     5.413692"
      ]
     },
     "execution_count": 34,
     "metadata": {},
     "output_type": "execute_result"
    }
   ],
   "source": [
    "data_gas_features = data_gas.set_index('key').rename(columns={'Газ 1':'gas'})\n",
    "data_gas_features.head()"
   ]
  },
  {
   "cell_type": "markdown",
   "metadata": {
    "id": "frLCVyrUIwVe"
   },
   "source": [
    "### Температура"
   ]
  },
  {
   "cell_type": "markdown",
   "metadata": {
    "id": "1EzHecA1JX7v"
   },
   "source": [
    "Как выяснили ранее, из всех измерений температуры в партии нам нужны только первая и последняя, причём начиная с 2500 партии наличествует только первая. Выделим нужные данные."
   ]
  },
  {
   "cell_type": "code",
   "execution_count": 35,
   "metadata": {
    "colab": {
     "base_uri": "https://localhost:8080/",
     "height": 238
    },
    "id": "vQJ2yEOoH94a",
    "outputId": "2ee688bc-c7f1-4472-9123-160dd9b2d9da"
   },
   "outputs": [
    {
     "data": {
      "text/html": [
       "<div>\n",
       "<style scoped>\n",
       "    .dataframe tbody tr th:only-of-type {\n",
       "        vertical-align: middle;\n",
       "    }\n",
       "\n",
       "    .dataframe tbody tr th {\n",
       "        vertical-align: top;\n",
       "    }\n",
       "\n",
       "    .dataframe thead th {\n",
       "        text-align: right;\n",
       "    }\n",
       "</style>\n",
       "<table border=\"1\" class=\"dataframe\">\n",
       "  <thead>\n",
       "    <tr style=\"text-align: right;\">\n",
       "      <th></th>\n",
       "      <th>init_temp</th>\n",
       "      <th>last_temp</th>\n",
       "    </tr>\n",
       "    <tr>\n",
       "      <th>key</th>\n",
       "      <th></th>\n",
       "      <th></th>\n",
       "    </tr>\n",
       "  </thead>\n",
       "  <tbody>\n",
       "    <tr>\n",
       "      <td>1</td>\n",
       "      <td>1571.0</td>\n",
       "      <td>1613.0</td>\n",
       "    </tr>\n",
       "    <tr>\n",
       "      <td>2</td>\n",
       "      <td>1581.0</td>\n",
       "      <td>1602.0</td>\n",
       "    </tr>\n",
       "    <tr>\n",
       "      <td>3</td>\n",
       "      <td>1596.0</td>\n",
       "      <td>1599.0</td>\n",
       "    </tr>\n",
       "    <tr>\n",
       "      <td>4</td>\n",
       "      <td>1601.0</td>\n",
       "      <td>1625.0</td>\n",
       "    </tr>\n",
       "    <tr>\n",
       "      <td>5</td>\n",
       "      <td>1576.0</td>\n",
       "      <td>1602.0</td>\n",
       "    </tr>\n",
       "  </tbody>\n",
       "</table>\n",
       "</div>"
      ],
      "text/plain": [
       "     init_temp  last_temp\n",
       "key                      \n",
       "1       1571.0     1613.0\n",
       "2       1581.0     1602.0\n",
       "3       1596.0     1599.0\n",
       "4       1601.0     1625.0\n",
       "5       1576.0     1602.0"
      ]
     },
     "execution_count": 35,
     "metadata": {},
     "output_type": "execute_result"
    }
   ],
   "source": [
    "data_temp_features = (data_temp.groupby('key')['Температура']\n",
    "                      .agg(['first', 'last']).loc[:2499])\n",
    "data_temp_features = data_temp_features.rename(columns={'first':'init_temp', 'last':'last_temp'})\n",
    "data_temp_features.head()"
   ]
  },
  {
   "cell_type": "markdown",
   "metadata": {
    "id": "pU5K2V92LfGl"
   },
   "source": [
    "Теперь можем объединить все получившиеся таблицы в один общий датафрейм."
   ]
  },
  {
   "cell_type": "markdown",
   "metadata": {
    "id": "yl6ne2_IMsu9"
   },
   "source": [
    "### Объединённые данные. "
   ]
  },
  {
   "cell_type": "code",
   "execution_count": 36,
   "metadata": {
    "colab": {
     "base_uri": "https://localhost:8080/",
     "height": 455
    },
    "id": "KU_k_JJyM3Lz",
    "outputId": "ca67bcf2-3edd-4528-ae57-144507d81bae"
   },
   "outputs": [
    {
     "data": {
      "text/html": [
       "<div>\n",
       "<style scoped>\n",
       "    .dataframe tbody tr th:only-of-type {\n",
       "        vertical-align: middle;\n",
       "    }\n",
       "\n",
       "    .dataframe tbody tr th {\n",
       "        vertical-align: top;\n",
       "    }\n",
       "\n",
       "    .dataframe thead th {\n",
       "        text-align: right;\n",
       "    }\n",
       "</style>\n",
       "<table border=\"1\" class=\"dataframe\">\n",
       "  <thead>\n",
       "    <tr style=\"text-align: right;\">\n",
       "      <th></th>\n",
       "      <th>init_temp</th>\n",
       "      <th>last_temp</th>\n",
       "      <th>sum_bulk</th>\n",
       "      <th>count_bulk</th>\n",
       "      <th>action_time</th>\n",
       "      <th>act_power</th>\n",
       "      <th>react_power</th>\n",
       "      <th>total_power</th>\n",
       "      <th>heat_steps</th>\n",
       "      <th>sum_wire</th>\n",
       "      <th>count_wire</th>\n",
       "      <th>gas</th>\n",
       "    </tr>\n",
       "    <tr>\n",
       "      <th>key</th>\n",
       "      <th></th>\n",
       "      <th></th>\n",
       "      <th></th>\n",
       "      <th></th>\n",
       "      <th></th>\n",
       "      <th></th>\n",
       "      <th></th>\n",
       "      <th></th>\n",
       "      <th></th>\n",
       "      <th></th>\n",
       "      <th></th>\n",
       "      <th></th>\n",
       "    </tr>\n",
       "  </thead>\n",
       "  <tbody>\n",
       "    <tr>\n",
       "      <td>1</td>\n",
       "      <td>1571.0</td>\n",
       "      <td>1613.0</td>\n",
       "      <td>553.0</td>\n",
       "      <td>4.0</td>\n",
       "      <td>1098.0</td>\n",
       "      <td>4.878147</td>\n",
       "      <td>3.183241</td>\n",
       "      <td>5.826395</td>\n",
       "      <td>5.0</td>\n",
       "      <td>60.059998</td>\n",
       "      <td>1.0</td>\n",
       "      <td>29.749986</td>\n",
       "    </tr>\n",
       "    <tr>\n",
       "      <td>2</td>\n",
       "      <td>1581.0</td>\n",
       "      <td>1602.0</td>\n",
       "      <td>582.0</td>\n",
       "      <td>4.0</td>\n",
       "      <td>811.0</td>\n",
       "      <td>3.052598</td>\n",
       "      <td>1.998112</td>\n",
       "      <td>3.649216</td>\n",
       "      <td>4.0</td>\n",
       "      <td>96.052315</td>\n",
       "      <td>1.0</td>\n",
       "      <td>12.555561</td>\n",
       "    </tr>\n",
       "    <tr>\n",
       "      <td>3</td>\n",
       "      <td>1596.0</td>\n",
       "      <td>1599.0</td>\n",
       "      <td>544.0</td>\n",
       "      <td>4.0</td>\n",
       "      <td>655.0</td>\n",
       "      <td>2.525882</td>\n",
       "      <td>1.599076</td>\n",
       "      <td>2.989534</td>\n",
       "      <td>5.0</td>\n",
       "      <td>91.160157</td>\n",
       "      <td>1.0</td>\n",
       "      <td>28.554793</td>\n",
       "    </tr>\n",
       "    <tr>\n",
       "      <td>4</td>\n",
       "      <td>1601.0</td>\n",
       "      <td>1625.0</td>\n",
       "      <td>595.0</td>\n",
       "      <td>4.0</td>\n",
       "      <td>741.0</td>\n",
       "      <td>3.209250</td>\n",
       "      <td>2.060298</td>\n",
       "      <td>3.814962</td>\n",
       "      <td>4.0</td>\n",
       "      <td>89.063515</td>\n",
       "      <td>1.0</td>\n",
       "      <td>18.841219</td>\n",
       "    </tr>\n",
       "    <tr>\n",
       "      <td>5</td>\n",
       "      <td>1576.0</td>\n",
       "      <td>1602.0</td>\n",
       "      <td>584.0</td>\n",
       "      <td>4.0</td>\n",
       "      <td>869.0</td>\n",
       "      <td>3.347173</td>\n",
       "      <td>2.252643</td>\n",
       "      <td>4.035758</td>\n",
       "      <td>4.0</td>\n",
       "      <td>98.352796</td>\n",
       "      <td>2.0</td>\n",
       "      <td>5.413692</td>\n",
       "    </tr>\n",
       "    <tr>\n",
       "      <td>...</td>\n",
       "      <td>...</td>\n",
       "      <td>...</td>\n",
       "      <td>...</td>\n",
       "      <td>...</td>\n",
       "      <td>...</td>\n",
       "      <td>...</td>\n",
       "      <td>...</td>\n",
       "      <td>...</td>\n",
       "      <td>...</td>\n",
       "      <td>...</td>\n",
       "      <td>...</td>\n",
       "      <td>...</td>\n",
       "    </tr>\n",
       "    <tr>\n",
       "      <td>2495</td>\n",
       "      <td>1570.0</td>\n",
       "      <td>1591.0</td>\n",
       "      <td>719.0</td>\n",
       "      <td>5.0</td>\n",
       "      <td>723.0</td>\n",
       "      <td>3.210690</td>\n",
       "      <td>2.360777</td>\n",
       "      <td>3.986869</td>\n",
       "      <td>4.0</td>\n",
       "      <td>89.150879</td>\n",
       "      <td>1.0</td>\n",
       "      <td>7.125735</td>\n",
       "    </tr>\n",
       "    <tr>\n",
       "      <td>2496</td>\n",
       "      <td>1554.0</td>\n",
       "      <td>1591.0</td>\n",
       "      <td>796.0</td>\n",
       "      <td>5.0</td>\n",
       "      <td>940.0</td>\n",
       "      <td>4.203064</td>\n",
       "      <td>2.810185</td>\n",
       "      <td>5.057033</td>\n",
       "      <td>6.0</td>\n",
       "      <td>114.179527</td>\n",
       "      <td>1.0</td>\n",
       "      <td>9.412616</td>\n",
       "    </tr>\n",
       "    <tr>\n",
       "      <td>2497</td>\n",
       "      <td>1571.0</td>\n",
       "      <td>1589.0</td>\n",
       "      <td>665.0</td>\n",
       "      <td>4.0</td>\n",
       "      <td>569.0</td>\n",
       "      <td>2.212379</td>\n",
       "      <td>1.851269</td>\n",
       "      <td>2.885017</td>\n",
       "      <td>3.0</td>\n",
       "      <td>103.134723</td>\n",
       "      <td>2.0</td>\n",
       "      <td>6.271699</td>\n",
       "    </tr>\n",
       "    <tr>\n",
       "      <td>2498</td>\n",
       "      <td>1591.0</td>\n",
       "      <td>1594.0</td>\n",
       "      <td>733.0</td>\n",
       "      <td>5.0</td>\n",
       "      <td>750.0</td>\n",
       "      <td>3.408725</td>\n",
       "      <td>2.355428</td>\n",
       "      <td>4.143749</td>\n",
       "      <td>5.0</td>\n",
       "      <td>118.110717</td>\n",
       "      <td>1.0</td>\n",
       "      <td>14.953657</td>\n",
       "    </tr>\n",
       "    <tr>\n",
       "      <td>2499</td>\n",
       "      <td>1569.0</td>\n",
       "      <td>1603.0</td>\n",
       "      <td>633.0</td>\n",
       "      <td>4.0</td>\n",
       "      <td>883.0</td>\n",
       "      <td>4.098431</td>\n",
       "      <td>2.777865</td>\n",
       "      <td>4.953010</td>\n",
       "      <td>4.0</td>\n",
       "      <td>160.166238</td>\n",
       "      <td>2.0</td>\n",
       "      <td>11.336151</td>\n",
       "    </tr>\n",
       "  </tbody>\n",
       "</table>\n",
       "<p>2477 rows × 12 columns</p>\n",
       "</div>"
      ],
      "text/plain": [
       "      init_temp  last_temp  sum_bulk  count_bulk  action_time  act_power  \\\n",
       "key                                                                        \n",
       "1        1571.0     1613.0     553.0         4.0       1098.0   4.878147   \n",
       "2        1581.0     1602.0     582.0         4.0        811.0   3.052598   \n",
       "3        1596.0     1599.0     544.0         4.0        655.0   2.525882   \n",
       "4        1601.0     1625.0     595.0         4.0        741.0   3.209250   \n",
       "5        1576.0     1602.0     584.0         4.0        869.0   3.347173   \n",
       "...         ...        ...       ...         ...          ...        ...   \n",
       "2495     1570.0     1591.0     719.0         5.0        723.0   3.210690   \n",
       "2496     1554.0     1591.0     796.0         5.0        940.0   4.203064   \n",
       "2497     1571.0     1589.0     665.0         4.0        569.0   2.212379   \n",
       "2498     1591.0     1594.0     733.0         5.0        750.0   3.408725   \n",
       "2499     1569.0     1603.0     633.0         4.0        883.0   4.098431   \n",
       "\n",
       "      react_power  total_power  heat_steps    sum_wire  count_wire        gas  \n",
       "key                                                                            \n",
       "1        3.183241     5.826395         5.0   60.059998         1.0  29.749986  \n",
       "2        1.998112     3.649216         4.0   96.052315         1.0  12.555561  \n",
       "3        1.599076     2.989534         5.0   91.160157         1.0  28.554793  \n",
       "4        2.060298     3.814962         4.0   89.063515         1.0  18.841219  \n",
       "5        2.252643     4.035758         4.0   98.352796         2.0   5.413692  \n",
       "...           ...          ...         ...         ...         ...        ...  \n",
       "2495     2.360777     3.986869         4.0   89.150879         1.0   7.125735  \n",
       "2496     2.810185     5.057033         6.0  114.179527         1.0   9.412616  \n",
       "2497     1.851269     2.885017         3.0  103.134723         2.0   6.271699  \n",
       "2498     2.355428     4.143749         5.0  118.110717         1.0  14.953657  \n",
       "2499     2.777865     4.953010         4.0  160.166238         2.0  11.336151  \n",
       "\n",
       "[2477 rows x 12 columns]"
      ]
     },
     "execution_count": 36,
     "metadata": {},
     "output_type": "execute_result"
    }
   ],
   "source": [
    "df = (\n",
    "    data_temp_features\n",
    "    .join(data_bulk_features)\n",
    "    .join(data_arc_features)\n",
    "    .join(data_wire_features)\n",
    "    .join(data_gas_features)\n",
    "    )\n",
    "df"
   ]
  },
  {
   "cell_type": "markdown",
   "metadata": {
    "id": "vqhnlxRAO1E_"
   },
   "source": [
    "Оценим количество пропусков в общей таблице."
   ]
  },
  {
   "cell_type": "code",
   "execution_count": 37,
   "metadata": {
    "colab": {
     "base_uri": "https://localhost:8080/"
    },
    "id": "g3UTaadiOWbc",
    "outputId": "787ecc4e-3bce-467b-81a5-1d45bf217c29"
   },
   "outputs": [
    {
     "data": {
      "text/plain": [
       "init_temp        0\n",
       "last_temp        0\n",
       "sum_bulk        69\n",
       "count_bulk      69\n",
       "action_time      2\n",
       "act_power        2\n",
       "react_power      2\n",
       "total_power      2\n",
       "heat_steps       2\n",
       "sum_wire       104\n",
       "count_wire     104\n",
       "gas              2\n",
       "dtype: int64"
      ]
     },
     "execution_count": 37,
     "metadata": {},
     "output_type": "execute_result"
    }
   ],
   "source": [
    "df.isnull().sum()"
   ]
  },
  {
   "cell_type": "markdown",
   "metadata": {
    "id": "ygfg8iiWO7l_"
   },
   "source": [
    "Что касается добавления различных материалов и газа, то пропуски означают, что ничего в расплав не добавляли, то есть замена - ноль. Касаемо нагрева скорее всего так же. Но проверим:"
   ]
  },
  {
   "cell_type": "code",
   "execution_count": 38,
   "metadata": {
    "colab": {
     "base_uri": "https://localhost:8080/",
     "height": 143
    },
    "id": "wPB_W2j0PVUs",
    "outputId": "80e8e60a-32e5-4dc2-8598-0fbaf2e6f376"
   },
   "outputs": [
    {
     "data": {
      "text/html": [
       "<div>\n",
       "<style scoped>\n",
       "    .dataframe tbody tr th:only-of-type {\n",
       "        vertical-align: middle;\n",
       "    }\n",
       "\n",
       "    .dataframe tbody tr th {\n",
       "        vertical-align: top;\n",
       "    }\n",
       "\n",
       "    .dataframe thead th {\n",
       "        text-align: right;\n",
       "    }\n",
       "</style>\n",
       "<table border=\"1\" class=\"dataframe\">\n",
       "  <thead>\n",
       "    <tr style=\"text-align: right;\">\n",
       "      <th></th>\n",
       "      <th>init_temp</th>\n",
       "      <th>last_temp</th>\n",
       "      <th>sum_bulk</th>\n",
       "      <th>count_bulk</th>\n",
       "      <th>action_time</th>\n",
       "      <th>act_power</th>\n",
       "      <th>react_power</th>\n",
       "      <th>total_power</th>\n",
       "      <th>heat_steps</th>\n",
       "      <th>sum_wire</th>\n",
       "      <th>count_wire</th>\n",
       "      <th>gas</th>\n",
       "    </tr>\n",
       "    <tr>\n",
       "      <th>key</th>\n",
       "      <th></th>\n",
       "      <th></th>\n",
       "      <th></th>\n",
       "      <th></th>\n",
       "      <th></th>\n",
       "      <th></th>\n",
       "      <th></th>\n",
       "      <th></th>\n",
       "      <th></th>\n",
       "      <th></th>\n",
       "      <th></th>\n",
       "      <th></th>\n",
       "    </tr>\n",
       "  </thead>\n",
       "  <tbody>\n",
       "    <tr>\n",
       "      <td>195</td>\n",
       "      <td>1583.0</td>\n",
       "      <td>1583.0</td>\n",
       "      <td>NaN</td>\n",
       "      <td>NaN</td>\n",
       "      <td>NaN</td>\n",
       "      <td>NaN</td>\n",
       "      <td>NaN</td>\n",
       "      <td>NaN</td>\n",
       "      <td>NaN</td>\n",
       "      <td>NaN</td>\n",
       "      <td>NaN</td>\n",
       "      <td>0.374436</td>\n",
       "    </tr>\n",
       "    <tr>\n",
       "      <td>279</td>\n",
       "      <td>1603.0</td>\n",
       "      <td>1603.0</td>\n",
       "      <td>89.0</td>\n",
       "      <td>1.0</td>\n",
       "      <td>NaN</td>\n",
       "      <td>NaN</td>\n",
       "      <td>NaN</td>\n",
       "      <td>NaN</td>\n",
       "      <td>NaN</td>\n",
       "      <td>99.066236</td>\n",
       "      <td>1.0</td>\n",
       "      <td>7.232359</td>\n",
       "    </tr>\n",
       "  </tbody>\n",
       "</table>\n",
       "</div>"
      ],
      "text/plain": [
       "     init_temp  last_temp  sum_bulk  count_bulk  action_time  act_power  \\\n",
       "key                                                                       \n",
       "195     1583.0     1583.0       NaN         NaN          NaN        NaN   \n",
       "279     1603.0     1603.0      89.0         1.0          NaN        NaN   \n",
       "\n",
       "     react_power  total_power  heat_steps   sum_wire  count_wire       gas  \n",
       "key                                                                         \n",
       "195          NaN          NaN         NaN        NaN         NaN  0.374436  \n",
       "279          NaN          NaN         NaN  99.066236         1.0  7.232359  "
      ]
     },
     "execution_count": 38,
     "metadata": {},
     "output_type": "execute_result"
    }
   ],
   "source": [
    "df[(df['action_time'].isnull()) | (df['total_power'].isnull()) | (df['heat_steps'].isnull())]"
   ]
  },
  {
   "cell_type": "markdown",
   "metadata": {
    "id": "FVhizi82Qto1"
   },
   "source": [
    "Да, температура на старте и на финише одинаковая, стало быть нагрева не было.. Хотя странно, а само чтоль нисколько не остыло? Будем считать, что нет. У нас же нет предпосылок не доверять исходным данным, ведь правда?))"
   ]
  },
  {
   "cell_type": "code",
   "execution_count": 39,
   "metadata": {
    "id": "P3_TJBXtRLMd"
   },
   "outputs": [],
   "source": [
    "df = df.fillna(0)"
   ]
  },
  {
   "cell_type": "markdown",
   "metadata": {
    "id": "FRkcRt8wRXdk"
   },
   "source": [
    "Оценим мультиколлинеарность между получившимися признаками. "
   ]
  },
  {
   "cell_type": "code",
   "execution_count": 40,
   "metadata": {
    "colab": {
     "base_uri": "https://localhost:8080/",
     "height": 782
    },
    "id": "Bgqf55oXRjDs",
    "outputId": "193cbb56-2e9a-4cec-dc41-d94b621c6216"
   },
   "outputs": [
    {
     "data": {
      "image/png": "[encoded data removed]",
      "text/plain": [
       "<Figure size 864x864 with 2 Axes>"
      ]
     },
     "metadata": {
      "needs_background": "light"
     },
     "output_type": "display_data"
    }
   ],
   "source": [
    "plt.figure(figsize=(12, 12))\n",
    "sns.heatmap(df.corr(), annot=True)\n",
    "plt.show()"
   ]
  },
  {
   "cell_type": "markdown",
   "metadata": {
    "id": "757oqHm0SMJC"
   },
   "source": [
    "Из тепловой карты мы видим, что между собой сильно коррелируют выделенные нами признаки из общих групп, например total_power и action_time, что в общем-то логично - чем дольше греем, тем больше энергии потратим, а все виды мощности между собой связаны. То же самое можно сказать про добавление материалов. Поэтому исключим из обучения ряд признаков. "
   ]
  },
  {
   "cell_type": "markdown",
   "metadata": {
    "id": "yxZLiLmf_Tnu"
   },
   "source": [
    "(прим. автора - *После нескольких итераций моделирования пришёл к следующему:*)\n",
    "Из признаков исключим время нагрева, так как оно сильно коррелирует с затраченной мощностью. Полная мощность также оказалась невостребована - с ней хуже. Реактивная мощность тоже мешается, что и логично - это та мощность, которая возвращается в сеть, то есть в процессе нагрева она не участвует. "
   ]
  },
  {
   "cell_type": "code",
   "execution_count": 41,
   "metadata": {
    "id": "kLcq_GC9V1iS"
   },
   "outputs": [],
   "source": [
    "cols_to_drop = ['action_time', 'total_power', 'react_power',]"
   ]
  },
  {
   "cell_type": "markdown",
   "metadata": {
    "id": "vps6C5wRWgsK"
   },
   "source": [
    "<a id='models'></a>\n",
    "## Обучение моделей\n",
    "[В начало](#start)"
   ]
  },
  {
   "cell_type": "markdown",
   "metadata": {
    "id": "0Lxtx7UmeCEF"
   },
   "source": [
    "### Разделение выборок"
   ]
  },
  {
   "cell_type": "markdown",
   "metadata": {
    "id": "eSnoTSbkWmVo"
   },
   "source": [
    "Выделим целевой признак и разделим выборки на обучающую и тестовую"
   ]
  },
  {
   "cell_type": "code",
   "execution_count": 42,
   "metadata": {
    "id": "Ic9QbRUAXTYU"
   },
   "outputs": [],
   "source": [
    "target_name = 'last_temp'\n",
    "\n",
    "target = df[target_name]\n",
    "features = df.drop(target_name, axis=1).drop(cols_to_drop, axis=1)"
   ]
  },
  {
   "cell_type": "code",
   "execution_count": 43,
   "metadata": {
    "id": "kvTTwsw7XGiO"
   },
   "outputs": [],
   "source": [
    "features_train, features_test, target_train, target_test = train_test_split(features, target, test_size=0.25, random_state=12345)"
   ]
  },
  {
   "cell_type": "markdown",
   "metadata": {
    "id": "dICH_qonNMgs"
   },
   "source": [
    "Проверка:"
   ]
  },
  {
   "cell_type": "code",
   "execution_count": 44,
   "metadata": {
    "colab": {
     "base_uri": "https://localhost:8080/"
    },
    "id": "9ME95-ExYncw",
    "outputId": "91258c2f-9539-4033-9f65-2fdbe49286f5"
   },
   "outputs": [
    {
     "data": {
      "text/plain": [
       "True"
      ]
     },
     "execution_count": 44,
     "metadata": {},
     "output_type": "execute_result"
    }
   ],
   "source": [
    "len(features_train) + len(features_test) == len(features)"
   ]
  },
  {
   "cell_type": "markdown",
   "metadata": {
    "id": "rxCyjdzmeI40"
   },
   "source": [
    "### Линейная регрессия"
   ]
  },
  {
   "cell_type": "markdown",
   "metadata": {
    "id": "BY-_bjfLNP4v"
   },
   "source": [
    "Начнём с простого - линейной регрессии."
   ]
  },
  {
   "cell_type": "code",
   "execution_count": 45,
   "metadata": {
    "colab": {
     "base_uri": "https://localhost:8080/"
    },
    "id": "uQvE0b9iY0xf",
    "outputId": "a649d473-eb00-401a-8f05-70929de35f28"
   },
   "outputs": [
    {
     "name": "stdout",
     "output_type": "stream",
     "text": [
      "MAE= 7.506243492879418\n"
     ]
    }
   ],
   "source": [
    "model = LinearRegression()\n",
    "model.fit(features_train, target_train)\n",
    "result = model.predict(features_test)\n",
    "linreg_score = mean_absolute_error(target_test, result)\n",
    "print('MAE=', linreg_score)"
   ]
  },
  {
   "cell_type": "markdown",
   "metadata": {
    "id": "VKwEB14ZN06e"
   },
   "source": [
    "Попробуем ещё"
   ]
  },
  {
   "cell_type": "markdown",
   "metadata": {
    "id": "ZxbA8mtpeOUv"
   },
   "source": [
    "### Случайный лес"
   ]
  },
  {
   "cell_type": "markdown",
   "metadata": {
    "id": "CdFFKD3VN7MI"
   },
   "source": [
    "Попробуем случайный лес с гиперпараметрами по умолчанию (*потому что с подбором результат не сильно лучше* - прим. автора)"
   ]
  },
  {
   "cell_type": "code",
   "execution_count": 46,
   "metadata": {
    "colab": {
     "base_uri": "https://localhost:8080/"
    },
    "id": "N9Ijjy-paT-F",
    "outputId": "c4800ac3-d0fd-4bb2-fdd3-3a26b69be3a8"
   },
   "outputs": [
    {
     "name": "stdout",
     "output_type": "stream",
     "text": [
      "MAE= 6.321822580645162\n"
     ]
    }
   ],
   "source": [
    "model = RandomForestRegressor(random_state=42)\n",
    "model.fit(features_train, target_train)\n",
    "result = model.predict(features_test)\n",
    "forest_score = mean_absolute_error(target_test, result)\n",
    "print('MAE=', forest_score)"
   ]
  },
  {
   "cell_type": "markdown",
   "metadata": {
    "id": "9wbxy0InOThs"
   },
   "source": [
    "Уже получше. Попробуем ещё что-нибудь."
   ]
  },
  {
   "cell_type": "markdown",
   "metadata": {
    "id": "Npcbt4BQ4FRP"
   },
   "source": [
    "### XGBoost"
   ]
  },
  {
   "cell_type": "markdown",
   "metadata": {
    "id": "_8SutSK0OasV"
   },
   "source": [
    "Тяжёлая артиллерия."
   ]
  },
  {
   "cell_type": "code",
   "execution_count": 47,
   "metadata": {
    "colab": {
     "base_uri": "https://localhost:8080/"
    },
    "id": "HvKsRLzigV73",
    "outputId": "ccad6ee5-b848-4a7f-973a-3d1e8ec9246f"
   },
   "outputs": [
    {
     "name": "stdout",
     "output_type": "stream",
     "text": [
      "MAE= 5.926727885584677\n"
     ]
    }
   ],
   "source": [
    "model = XGBRegressor(\n",
    "    n_estimators=1000,\n",
    "    learning_rate=0.015,\n",
    "    reg_alpha=15,\n",
    "    objective='reg:squarederror',\n",
    "    random_state=12345\n",
    ")\n",
    "model.fit(features_train, target_train)\n",
    "\n",
    "result = model.predict(features_test)\n",
    "xgb_score = mean_absolute_error(target_test, result)\n",
    "print('MAE=', xgb_score)"
   ]
  },
  {
   "cell_type": "markdown",
   "metadata": {
    "id": "tVgmsJ13OfLv"
   },
   "source": [
    "Мы достигли требуемого результата. МАЕ на тесте уже меньше 6. "
   ]
  },
  {
   "cell_type": "markdown",
   "metadata": {
    "id": "pwIt1a5aeTX1"
   },
   "source": [
    "### CatBoost "
   ]
  },
  {
   "cell_type": "markdown",
   "metadata": {
    "id": "NYrtvmE_O184"
   },
   "source": [
    "Ну и последнее"
   ]
  },
  {
   "cell_type": "code",
   "execution_count": 48,
   "metadata": {
    "colab": {
     "base_uri": "https://localhost:8080/"
    },
    "id": "TfMqvdwdLULU",
    "outputId": "428b38b3-fa8b-4883-eb6f-381ea61a0c65"
   },
   "outputs": [
    {
     "name": "stdout",
     "output_type": "stream",
     "text": [
      "0:\tlearn: 9.9184610\ttotal: 49.6ms\tremaining: 49.5s\n",
      "200:\tlearn: 7.1426849\ttotal: 2.54s\tremaining: 10.1s\n",
      "400:\tlearn: 6.2768345\ttotal: 5.03s\tremaining: 7.51s\n",
      "600:\tlearn: 5.8672357\ttotal: 7.64s\tremaining: 5.07s\n",
      "800:\tlearn: 5.5954380\ttotal: 10.3s\tremaining: 2.55s\n",
      "999:\tlearn: 5.3681466\ttotal: 12.9s\tremaining: 0us\n",
      "\n",
      "Test MAE = 5.864735110932099\n"
     ]
    }
   ],
   "source": [
    "model = CatBoostRegressor(\n",
    "    loss_function='MAE', \n",
    "    random_state=12345, \n",
    "    iterations=1000, \n",
    "    learning_rate=0.008, \n",
    "    l2_leaf_reg=50,\n",
    "    )\n",
    "model.fit(features_train, target_train, verbose=200)\n",
    "\n",
    "result = model.predict(features_test)\n",
    "cb_score = mean_absolute_error(target_test, result)\n",
    "print('\\nTest MAE =', cb_score)"
   ]
  },
  {
   "cell_type": "markdown",
   "metadata": {
    "id": "1VJbWLMTO6Uq"
   },
   "source": [
    "Ещё лучше. Так и оставим. На всякий случай сравним результат с фиктивным предсказанием - по среднему.  \n",
    "Затем посмотрим что получилось."
   ]
  },
  {
   "cell_type": "code",
   "execution_count": 49,
   "metadata": {
    "id": "doxCL7cXTFhF"
   },
   "outputs": [
    {
     "name": "stdout",
     "output_type": "stream",
     "text": [
      "Dummy MAE = 10.018140601386204\n"
     ]
    }
   ],
   "source": [
    "dummy_pred = pd.Series(target_train.mean(), index=target_test.index)\n",
    "dummy_result = mean_absolute_error(target_test, dummy_pred)\n",
    "print('Dummy MAE =', dummy_result)"
   ]
  },
  {
   "cell_type": "code",
   "execution_count": 50,
   "metadata": {
    "colab": {
     "base_uri": "https://localhost:8080/",
     "height": 206
    },
    "id": "qlVjMRO6Pks3",
    "outputId": "8a309add-48bf-4f6f-8ea9-fd1f2f85e89c"
   },
   "outputs": [
    {
     "data": {
      "text/html": [
       "<div>\n",
       "<style scoped>\n",
       "    .dataframe tbody tr th:only-of-type {\n",
       "        vertical-align: middle;\n",
       "    }\n",
       "\n",
       "    .dataframe tbody tr th {\n",
       "        vertical-align: top;\n",
       "    }\n",
       "\n",
       "    .dataframe thead th {\n",
       "        text-align: right;\n",
       "    }\n",
       "</style>\n",
       "<table border=\"1\" class=\"dataframe\">\n",
       "  <thead>\n",
       "    <tr style=\"text-align: right;\">\n",
       "      <th></th>\n",
       "      <th>score</th>\n",
       "    </tr>\n",
       "  </thead>\n",
       "  <tbody>\n",
       "    <tr>\n",
       "      <td>CatBoost</td>\n",
       "      <td>5.864735</td>\n",
       "    </tr>\n",
       "    <tr>\n",
       "      <td>XGB</td>\n",
       "      <td>5.926728</td>\n",
       "    </tr>\n",
       "    <tr>\n",
       "      <td>RandomForest</td>\n",
       "      <td>6.321823</td>\n",
       "    </tr>\n",
       "    <tr>\n",
       "      <td>LinearRegression</td>\n",
       "      <td>7.506243</td>\n",
       "    </tr>\n",
       "    <tr>\n",
       "      <td>Dummy_mean</td>\n",
       "      <td>10.018141</td>\n",
       "    </tr>\n",
       "  </tbody>\n",
       "</table>\n",
       "</div>"
      ],
      "text/plain": [
       "                      score\n",
       "CatBoost           5.864735\n",
       "XGB                5.926728\n",
       "RandomForest       6.321823\n",
       "LinearRegression   7.506243\n",
       "Dummy_mean        10.018141"
      ]
     },
     "execution_count": 50,
     "metadata": {},
     "output_type": "execute_result"
    }
   ],
   "source": [
    "(\n",
    "    pd.Series(\n",
    "    data=[linreg_score, forest_score, xgb_score, cb_score, dummy_result],\n",
    "    index=['LinearRegression', 'RandomForest', 'XGB', 'CatBoost', 'Dummy_mean'],\n",
    "    name='score'\n",
    "    )\n",
    "    .sort_values()\n",
    "    .to_frame()\n",
    ")"
   ]
  },
  {
   "cell_type": "markdown",
   "metadata": {
    "id": "DohiCmtxRpwZ"
   },
   "source": [
    "Посмотрим, какие признаки оказались определяющими."
   ]
  },
  {
   "cell_type": "code",
   "execution_count": 51,
   "metadata": {
    "colab": {
     "base_uri": "https://localhost:8080/",
     "height": 398
    },
    "id": "_KbqdG-Fmir1",
    "outputId": "2164277f-23b1-4af2-e436-ca2f2189eebf"
   },
   "outputs": [
    {
     "data": {
      "image/png": "[encoded data removed]",
      "text/plain": [
       "<Figure size 576x432 with 1 Axes>"
      ]
     },
     "metadata": {
      "needs_background": "light"
     },
     "output_type": "display_data"
    }
   ],
   "source": [
    "importances = (\n",
    "    pd.Series(model.feature_importances_, index=features.columns)\n",
    "    .sort_values(ascending=False)\n",
    "    )\n",
    "\n",
    "sns.barplot(y=importances.index, x=importances)\n",
    "plt.title('Влияние признаков на результат')\n",
    "plt.show()"
   ]
  },
  {
   "cell_type": "markdown",
   "metadata": {
    "id": "zK4WZt8fR4He"
   },
   "source": [
    "Начальная температура сильнее всего влияет на конечную. Затраченная мощность тоже. А вот количество циклов нагрева и сыпучие добавки на результат предсказания модели влияют не сильно.  "
   ]
  },
  {
   "cell_type": "markdown",
   "metadata": {
    "id": "xqF_kVl6TaQS"
   },
   "source": [
    "<a id='conclusion'></a>\n",
    "## Выводы\n",
    "[В начало](#start)"
   ]
  },
  {
   "cell_type": "markdown",
   "metadata": {
    "id": "DR7QNO1_Tgyy"
   },
   "source": [
    "Решена задача построения модели прогнозирования температуры стали на основании исторических данных технического процесса. Выполнены следующие этапы работы:\n",
    "* Проведен первичный анализ полученных от Заказчика данных, определён план дальнейшей работы. Выявлено отсутствие необходимых данных по температуре начиная с 2500 партии. \n",
    "* Определена целевая переменная - последняя температура в партии. Выделены необходимые для построения моделей признаки и проведена их подготовка. Данные техпроцесса сгруппированы по номеру партии. Введены такие признаки как суммарный объём добавленных материалов, количество этапов нагрева, время нагрева, полная мощность (последние два в процессе разработки исключены). \n",
    "* Обучено 4 модели. Лучший результат на тестовой выборке МАЕ=5.9. Определена важность признаков. \n",
    "\n"
   ]
  }
 ],
 "metadata": {
  "ExecuteTimeLog": [
   {
    "duration": 1976,
    "start_time": "2021-09-25T19:26:58.566Z"
   },
   {
    "duration": 199,
    "start_time": "2021-09-25T19:27:02.100Z"
   },
   {
    "duration": 4,
    "start_time": "2021-09-25T19:27:07.969Z"
   },
   {
    "duration": 10,
    "start_time": "2021-09-25T19:27:09.851Z"
   },
   {
    "duration": 3,
    "start_time": "2021-09-25T19:27:11.603Z"
   },
   {
    "duration": 32,
    "start_time": "2021-09-25T19:27:11.853Z"
   },
   {
    "duration": 13,
    "start_time": "2021-09-25T19:27:15.010Z"
   },
   {
    "duration": 24,
    "start_time": "2021-09-25T19:27:16.299Z"
   },
   {
    "duration": 14,
    "start_time": "2021-09-25T19:27:18.085Z"
   },
   {
    "duration": 664,
    "start_time": "2021-09-25T19:27:20.080Z"
   },
   {
    "duration": 34,
    "start_time": "2021-09-25T19:27:24.087Z"
   },
   {
    "duration": 40,
    "start_time": "2021-09-25T19:27:27.151Z"
   },
   {
    "duration": 23,
    "start_time": "2021-09-25T19:27:28.915Z"
   },
   {
    "duration": 16,
    "start_time": "2021-09-25T19:27:30.881Z"
   },
   {
    "duration": 215,
    "start_time": "2021-09-25T19:27:32.108Z"
   },
   {
    "duration": 33,
    "start_time": "2021-09-25T19:27:35.131Z"
   },
   {
    "duration": 14,
    "start_time": "2021-09-25T19:27:39.956Z"
   },
   {
    "duration": 540,
    "start_time": "2021-09-25T19:27:40.952Z"
   },
   {
    "duration": 388,
    "start_time": "2021-09-25T19:30:10.600Z"
   },
   {
    "duration": 463,
    "start_time": "2021-09-25T19:30:17.028Z"
   },
   {
    "duration": 382,
    "start_time": "2021-09-25T19:30:31.458Z"
   },
   {
    "duration": 381,
    "start_time": "2021-09-25T19:31:03.622Z"
   },
   {
    "duration": 16,
    "start_time": "2021-09-25T19:31:25.939Z"
   },
   {
    "duration": 372,
    "start_time": "2021-09-25T19:34:39.034Z"
   },
   {
    "duration": 382,
    "start_time": "2021-09-25T19:34:43.092Z"
   },
   {
    "duration": 380,
    "start_time": "2021-09-25T19:38:51.967Z"
   },
   {
    "duration": 6,
    "start_time": "2021-09-25T19:40:24.232Z"
   },
   {
    "duration": 4494,
    "start_time": "2021-09-25T19:40:48.066Z"
   },
   {
    "duration": 61555,
    "start_time": "2021-09-25T19:43:17.886Z"
   },
   {
    "duration": 2659,
    "start_time": "2021-09-25T19:44:27.018Z"
   },
   {
    "duration": 927,
    "start_time": "2021-09-25T19:44:52.198Z"
   },
   {
    "duration": 500,
    "start_time": "2021-09-25T19:45:10.263Z"
   },
   {
    "duration": 498,
    "start_time": "2021-09-25T19:45:37.549Z"
   },
   {
    "duration": 121,
    "start_time": "2021-09-25T19:45:51.842Z"
   },
   {
    "duration": 1107,
    "start_time": "2021-09-25T19:45:57.081Z"
   },
   {
    "duration": 516,
    "start_time": "2021-09-25T19:46:22.963Z"
   },
   {
    "duration": 508,
    "start_time": "2021-09-25T19:46:52.492Z"
   },
   {
    "duration": 520,
    "start_time": "2021-09-25T19:47:38.972Z"
   },
   {
    "duration": 14,
    "start_time": "2021-09-25T19:47:56.712Z"
   },
   {
    "duration": 15,
    "start_time": "2021-09-25T19:48:04.036Z"
   },
   {
    "duration": 21,
    "start_time": "2021-09-25T19:48:06.024Z"
   },
   {
    "duration": 33,
    "start_time": "2021-09-25T19:48:08.127Z"
   },
   {
    "duration": 33,
    "start_time": "2021-09-25T19:48:09.682Z"
   },
   {
    "duration": 52,
    "start_time": "2021-09-25T19:48:14.047Z"
   },
   {
    "duration": 28,
    "start_time": "2021-09-25T19:48:16.650Z"
   },
   {
    "duration": 39,
    "start_time": "2021-09-25T19:48:19.038Z"
   },
   {
    "duration": 1737,
    "start_time": "2021-09-25T19:48:20.990Z"
   },
   {
    "duration": 5,
    "start_time": "2021-09-25T19:48:25.925Z"
   },
   {
    "duration": 32,
    "start_time": "2021-09-25T19:48:27.327Z"
   },
   {
    "duration": 12,
    "start_time": "2021-09-25T19:48:28.577Z"
   },
   {
    "duration": 28,
    "start_time": "2021-09-25T19:48:30.394Z"
   },
   {
    "duration": 13,
    "start_time": "2021-09-25T19:48:31.567Z"
   },
   {
    "duration": 11,
    "start_time": "2021-09-25T19:48:33.101Z"
   },
   {
    "duration": 27,
    "start_time": "2021-09-25T19:48:34.708Z"
   },
   {
    "duration": 39,
    "start_time": "2021-09-25T19:48:39.676Z"
   },
   {
    "duration": 9,
    "start_time": "2021-09-25T19:48:43.889Z"
   },
   {
    "duration": 25,
    "start_time": "2021-09-25T19:48:45.755Z"
   },
   {
    "duration": 4,
    "start_time": "2021-09-25T19:48:47.242Z"
   },
   {
    "duration": 1535,
    "start_time": "2021-09-25T19:48:48.969Z"
   },
   {
    "duration": 4,
    "start_time": "2021-09-25T19:48:52.609Z"
   },
   {
    "duration": 7,
    "start_time": "2021-09-25T19:49:00.138Z"
   },
   {
    "duration": 8,
    "start_time": "2021-09-25T19:49:00.686Z"
   },
   {
    "duration": 6,
    "start_time": "2021-09-25T19:49:02.616Z"
   },
   {
    "duration": 16,
    "start_time": "2021-09-25T19:49:04.605Z"
   },
   {
    "duration": 112,
    "start_time": "2021-09-25T19:49:06.189Z"
   },
   {
    "duration": 1263,
    "start_time": "2021-09-25T19:49:08.166Z"
   },
   {
    "duration": 14787,
    "start_time": "2021-09-25T19:49:11.411Z"
   },
   {
    "duration": 7,
    "start_time": "2021-09-25T19:49:39.456Z"
   },
   {
    "duration": 13,
    "start_time": "2021-09-25T19:49:40.826Z"
   },
   {
    "duration": 327,
    "start_time": "2021-09-25T19:49:43.463Z"
   },
   {
    "duration": 14,
    "start_time": "2021-09-25T19:49:57.893Z"
   },
   {
    "duration": 1612,
    "start_time": "2021-09-25T19:49:57.909Z"
   },
   {
    "duration": 193,
    "start_time": "2021-09-25T19:49:59.524Z"
   },
   {
    "duration": 4,
    "start_time": "2021-09-25T19:49:59.720Z"
   },
   {
    "duration": 9,
    "start_time": "2021-09-25T19:49:59.727Z"
   },
   {
    "duration": 13,
    "start_time": "2021-09-25T19:49:59.738Z"
   },
   {
    "duration": 37,
    "start_time": "2021-09-25T19:49:59.754Z"
   },
   {
    "duration": 11,
    "start_time": "2021-09-25T19:49:59.795Z"
   },
   {
    "duration": 23,
    "start_time": "2021-09-25T19:49:59.809Z"
   },
   {
    "duration": 34,
    "start_time": "2021-09-25T19:49:59.834Z"
   },
   {
    "duration": 769,
    "start_time": "2021-09-25T19:49:59.871Z"
   },
   {
    "duration": 37,
    "start_time": "2021-09-25T19:50:00.643Z"
   },
   {
    "duration": 75,
    "start_time": "2021-09-25T19:50:00.683Z"
   },
   {
    "duration": 23,
    "start_time": "2021-09-25T19:50:00.762Z"
   },
   {
    "duration": 16,
    "start_time": "2021-09-25T19:50:00.789Z"
   },
   {
    "duration": 258,
    "start_time": "2021-09-25T19:50:00.807Z"
   },
   {
    "duration": 24,
    "start_time": "2021-09-25T19:50:01.068Z"
   },
   {
    "duration": 12,
    "start_time": "2021-09-25T19:50:01.094Z"
   },
   {
    "duration": 50,
    "start_time": "2021-09-25T19:50:01.108Z"
   },
   {
    "duration": 540,
    "start_time": "2021-09-25T19:50:01.161Z"
   },
   {
    "duration": 13,
    "start_time": "2021-09-25T19:50:01.704Z"
   },
   {
    "duration": 34,
    "start_time": "2021-09-25T19:50:01.719Z"
   },
   {
    "duration": 46,
    "start_time": "2021-09-25T19:50:01.759Z"
   },
   {
    "duration": 45,
    "start_time": "2021-09-25T19:50:01.808Z"
   },
   {
    "duration": 29,
    "start_time": "2021-09-25T19:50:01.855Z"
   },
   {
    "duration": 76,
    "start_time": "2021-09-25T19:50:01.886Z"
   },
   {
    "duration": 22,
    "start_time": "2021-09-25T19:50:01.965Z"
   },
   {
    "duration": 69,
    "start_time": "2021-09-25T19:50:01.989Z"
   },
   {
    "duration": 1728,
    "start_time": "2021-09-25T19:50:02.061Z"
   },
   {
    "duration": 5,
    "start_time": "2021-09-25T19:50:03.791Z"
   },
   {
    "duration": 42,
    "start_time": "2021-09-25T19:50:03.798Z"
   },
   {
    "duration": 18,
    "start_time": "2021-09-25T19:50:03.855Z"
   },
   {
    "duration": 31,
    "start_time": "2021-09-25T19:50:03.875Z"
   },
   {
    "duration": 13,
    "start_time": "2021-09-25T19:50:03.908Z"
   },
   {
    "duration": 56,
    "start_time": "2021-09-25T19:50:03.923Z"
   },
   {
    "duration": 21,
    "start_time": "2021-09-25T19:50:03.981Z"
   },
   {
    "duration": 35,
    "start_time": "2021-09-25T19:50:04.004Z"
   },
   {
    "duration": 15,
    "start_time": "2021-09-25T19:50:04.041Z"
   },
   {
    "duration": 24,
    "start_time": "2021-09-25T19:50:04.059Z"
   },
   {
    "duration": 3,
    "start_time": "2021-09-25T19:50:04.086Z"
   },
   {
    "duration": 1457,
    "start_time": "2021-09-25T19:50:04.092Z"
   },
   {
    "duration": 3,
    "start_time": "2021-09-25T19:50:05.555Z"
   },
   {
    "duration": 23,
    "start_time": "2021-09-25T19:50:05.562Z"
   },
   {
    "duration": 32,
    "start_time": "2021-09-25T19:50:05.587Z"
   },
   {
    "duration": 12,
    "start_time": "2021-09-25T19:50:05.621Z"
   },
   {
    "duration": 16,
    "start_time": "2021-09-25T19:50:05.635Z"
   },
   {
    "duration": 169,
    "start_time": "2021-09-25T19:50:05.655Z"
   },
   {
    "duration": 1388,
    "start_time": "2021-09-25T19:50:05.857Z"
   },
   {
    "duration": 15172,
    "start_time": "2021-09-25T19:50:07.247Z"
   },
   {
    "duration": 6,
    "start_time": "2021-09-25T19:50:22.422Z"
   },
   {
    "duration": 14,
    "start_time": "2021-09-25T19:50:22.430Z"
   },
   {
    "duration": 315,
    "start_time": "2021-09-25T19:50:22.447Z"
   },
   {
    "duration": 1583,
    "start_time": "2021-09-26T00:41:07.598Z"
   },
   {
    "duration": 226,
    "start_time": "2021-09-26T00:41:09.184Z"
   },
   {
    "duration": 5,
    "start_time": "2021-09-26T00:41:09.413Z"
   },
   {
    "duration": 5,
    "start_time": "2021-09-26T00:41:26.803Z"
   },
   {
    "duration": 4,
    "start_time": "2021-09-26T00:41:27.653Z"
   },
   {
    "duration": 31,
    "start_time": "2021-09-26T00:41:28.603Z"
   },
   {
    "duration": 14,
    "start_time": "2021-09-26T00:41:30.058Z"
   },
   {
    "duration": 26,
    "start_time": "2021-09-26T00:41:30.650Z"
   },
   {
    "duration": 14,
    "start_time": "2021-09-26T00:41:31.166Z"
   },
   {
    "duration": 582,
    "start_time": "2021-09-26T00:41:31.900Z"
   },
   {
    "duration": 35,
    "start_time": "2021-09-26T00:41:33.148Z"
   },
   {
    "duration": 35,
    "start_time": "2021-09-26T00:41:33.850Z"
   },
   {
    "duration": 25,
    "start_time": "2021-09-26T00:41:34.546Z"
   },
   {
    "duration": 15,
    "start_time": "2021-09-26T00:41:35.149Z"
   },
   {
    "duration": 207,
    "start_time": "2021-09-26T00:41:35.567Z"
   },
   {
    "duration": 24,
    "start_time": "2021-09-26T00:41:35.967Z"
   },
   {
    "duration": 11,
    "start_time": "2021-09-26T00:41:36.301Z"
   },
   {
    "duration": 15,
    "start_time": "2021-09-26T00:41:36.477Z"
   },
   {
    "duration": 494,
    "start_time": "2021-09-26T00:41:36.633Z"
   },
   {
    "duration": 13,
    "start_time": "2021-09-26T00:41:37.130Z"
   },
   {
    "duration": 15,
    "start_time": "2021-09-26T00:41:37.241Z"
   },
   {
    "duration": 21,
    "start_time": "2021-09-26T00:41:37.456Z"
   },
   {
    "duration": 31,
    "start_time": "2021-09-26T00:41:37.859Z"
   },
   {
    "duration": 29,
    "start_time": "2021-09-26T00:41:38.462Z"
   },
   {
    "duration": 47,
    "start_time": "2021-09-26T00:41:46.079Z"
   },
   {
    "duration": 24,
    "start_time": "2021-09-26T00:41:46.897Z"
   },
   {
    "duration": 34,
    "start_time": "2021-09-26T00:41:47.262Z"
   },
   {
    "duration": 1815,
    "start_time": "2021-09-26T00:41:47.442Z"
   },
   {
    "duration": 11,
    "start_time": "2021-09-26T00:41:49.260Z"
   },
   {
    "duration": 34,
    "start_time": "2021-09-26T00:41:49.274Z"
   },
   {
    "duration": 12,
    "start_time": "2021-09-26T00:41:49.316Z"
   },
   {
    "duration": 28,
    "start_time": "2021-09-26T00:41:49.331Z"
   },
   {
    "duration": 12,
    "start_time": "2021-09-26T00:41:49.464Z"
   },
   {
    "duration": 12,
    "start_time": "2021-09-26T00:41:50.003Z"
   },
   {
    "duration": 18,
    "start_time": "2021-09-26T00:41:50.551Z"
   },
   {
    "duration": 33,
    "start_time": "2021-09-26T00:41:51.091Z"
   },
   {
    "duration": 8,
    "start_time": "2021-09-26T00:41:51.455Z"
   },
   {
    "duration": 22,
    "start_time": "2021-09-26T00:41:51.822Z"
   },
   {
    "duration": 5,
    "start_time": "2021-09-26T00:41:52.191Z"
   },
   {
    "duration": 1444,
    "start_time": "2021-09-26T00:41:52.528Z"
   },
   {
    "duration": 4,
    "start_time": "2021-09-26T00:41:53.975Z"
   },
   {
    "duration": 7,
    "start_time": "2021-09-26T00:41:55.890Z"
   },
   {
    "duration": 8,
    "start_time": "2021-09-26T00:41:57.081Z"
   },
   {
    "duration": 5,
    "start_time": "2021-09-26T00:41:57.447Z"
   },
   {
    "duration": 14,
    "start_time": "2021-09-26T00:41:58.004Z"
   },
   {
    "duration": 989,
    "start_time": "2021-09-26T00:41:58.933Z"
   },
   {
    "duration": 1245,
    "start_time": "2021-09-26T00:42:00.077Z"
   },
   {
    "duration": 15010,
    "start_time": "2021-09-26T00:42:03.983Z"
   },
   {
    "duration": 7,
    "start_time": "2021-09-26T00:42:18.995Z"
   },
   {
    "duration": 20,
    "start_time": "2021-09-26T00:42:19.004Z"
   },
   {
    "duration": 321,
    "start_time": "2021-09-26T00:42:19.026Z"
   }
  ],
  "colab": {
   "collapsed_sections": [
    "jUgu1XEqaDAi",
    "sxR9qMtg1jbq",
    "FjZQqf0T8p9i",
    "hl3qFaIYGcui",
    "Kudsi9piH3yj",
    "frLCVyrUIwVe"
   ],
   "name": "DS-18_final_project",
   "provenance": [],
   "toc_visible": true
  },
  "kernelspec": {
   "display_name": "Python 3",
   "language": "python",
   "name": "python3"
  },
  "language_info": {
   "codemirror_mode": {
    "name": "ipython",
    "version": 3
   },
   "file_extension": ".py",
   "mimetype": "text/x-python",
   "name": "python",
   "nbconvert_exporter": "python",
   "pygments_lexer": "ipython3",
   "version": "3.8.5"
  },
  "toc": {
   "base_numbering": 1,
   "nav_menu": {},
   "number_sections": true,
   "sideBar": true,
   "skip_h1_title": true,
   "title_cell": "Table of Contents",
   "title_sidebar": "Contents",
   "toc_cell": false,
   "toc_position": {},
   "toc_section_display": true,
   "toc_window_display": false
  }
 },
 "nbformat": 4,
 "nbformat_minor": 1
}
