{
 "cells": [
  {
   "cell_type": "markdown",
   "metadata": {},
   "source": [
    "# Определение стоимости автомобилей"
   ]
  },
  {
   "cell_type": "markdown",
   "metadata": {},
   "source": [
    "**Условия задачи:**  \n",
    "Сервис по продаже автомобилей с пробегом «Не бит, не крашен» разрабатывает приложение для привлечения новых клиентов. В нём можно быстро узнать рыночную стоимость своего автомобиля.  \n",
    "\n",
    "**Исходные данные:**  \n",
    "Технические характеристики, комплектации и цены автомобилей.\n",
    "\n",
    "**Цель работы:**  \n",
    "Построение, анализ и выбор моделей для определения стоимости. \n",
    "\n",
    "**Приоритеты заказчика:**\n",
    "\n",
    "- качество предсказания;\n",
    "- скорость предсказания;\n",
    "- время обучения."
   ]
  },
  {
   "cell_type": "markdown",
   "metadata": {},
   "source": [
    "## Подготовка данных"
   ]
  },
  {
   "cell_type": "markdown",
   "metadata": {},
   "source": [
    "Загрузим библиотеки:"
   ]
  },
  {
   "cell_type": "code",
   "execution_count": 1,
   "metadata": {},
   "outputs": [],
   "source": [
    "import pandas as pd\n",
    "import numpy as np\n",
    "import seaborn as sns\n",
    "import matplotlib.pyplot as plt\n",
    "import lightgbm as lgb \n",
    "from lightgbm import LGBMRegressor\n",
    "from catboost import CatBoostRegressor\n",
    "from sklearn.model_selection import cross_val_score, train_test_split\n",
    "from sklearn.metrics import mean_squared_error\n",
    "from sklearn.preprocessing import OrdinalEncoder\n",
    "from sklearn.ensemble import RandomForestRegressor\n",
    "from sklearn.tree import DecisionTreeRegressor\n",
    "from sklearn.model_selection import RandomizedSearchCV"
   ]
  },
  {
   "cell_type": "code",
   "execution_count": 2,
   "metadata": {},
   "outputs": [],
   "source": [
    "plt.rcParams.update({'font.size': 14})"
   ]
  },
  {
   "cell_type": "markdown",
   "metadata": {},
   "source": [
    "Откроем файл с данными:"
   ]
  },
  {
   "cell_type": "code",
   "execution_count": 3,
   "metadata": {},
   "outputs": [
    {
     "data": {
      "text/html": [
       "<div>\n",
       "<style scoped>\n",
       "    .dataframe tbody tr th:only-of-type {\n",
       "        vertical-align: middle;\n",
       "    }\n",
       "\n",
       "    .dataframe tbody tr th {\n",
       "        vertical-align: top;\n",
       "    }\n",
       "\n",
       "    .dataframe thead th {\n",
       "        text-align: right;\n",
       "    }\n",
       "</style>\n",
       "<table border=\"1\" class=\"dataframe\">\n",
       "  <thead>\n",
       "    <tr style=\"text-align: right;\">\n",
       "      <th></th>\n",
       "      <th>DateCrawled</th>\n",
       "      <th>Price</th>\n",
       "      <th>VehicleType</th>\n",
       "      <th>RegistrationYear</th>\n",
       "      <th>Gearbox</th>\n",
       "      <th>Power</th>\n",
       "      <th>Model</th>\n",
       "      <th>Kilometer</th>\n",
       "      <th>RegistrationMonth</th>\n",
       "      <th>FuelType</th>\n",
       "      <th>Brand</th>\n",
       "      <th>NotRepaired</th>\n",
       "      <th>DateCreated</th>\n",
       "      <th>NumberOfPictures</th>\n",
       "      <th>PostalCode</th>\n",
       "      <th>LastSeen</th>\n",
       "    </tr>\n",
       "  </thead>\n",
       "  <tbody>\n",
       "    <tr>\n",
       "      <td>0</td>\n",
       "      <td>2016-03-24 11:52:17</td>\n",
       "      <td>480</td>\n",
       "      <td>NaN</td>\n",
       "      <td>1993</td>\n",
       "      <td>manual</td>\n",
       "      <td>0</td>\n",
       "      <td>golf</td>\n",
       "      <td>150000</td>\n",
       "      <td>0</td>\n",
       "      <td>petrol</td>\n",
       "      <td>volkswagen</td>\n",
       "      <td>NaN</td>\n",
       "      <td>2016-03-24 00:00:00</td>\n",
       "      <td>0</td>\n",
       "      <td>70435</td>\n",
       "      <td>2016-04-07 03:16:57</td>\n",
       "    </tr>\n",
       "    <tr>\n",
       "      <td>1</td>\n",
       "      <td>2016-03-24 10:58:45</td>\n",
       "      <td>18300</td>\n",
       "      <td>coupe</td>\n",
       "      <td>2011</td>\n",
       "      <td>manual</td>\n",
       "      <td>190</td>\n",
       "      <td>NaN</td>\n",
       "      <td>125000</td>\n",
       "      <td>5</td>\n",
       "      <td>gasoline</td>\n",
       "      <td>audi</td>\n",
       "      <td>yes</td>\n",
       "      <td>2016-03-24 00:00:00</td>\n",
       "      <td>0</td>\n",
       "      <td>66954</td>\n",
       "      <td>2016-04-07 01:46:50</td>\n",
       "    </tr>\n",
       "    <tr>\n",
       "      <td>2</td>\n",
       "      <td>2016-03-14 12:52:21</td>\n",
       "      <td>9800</td>\n",
       "      <td>suv</td>\n",
       "      <td>2004</td>\n",
       "      <td>auto</td>\n",
       "      <td>163</td>\n",
       "      <td>grand</td>\n",
       "      <td>125000</td>\n",
       "      <td>8</td>\n",
       "      <td>gasoline</td>\n",
       "      <td>jeep</td>\n",
       "      <td>NaN</td>\n",
       "      <td>2016-03-14 00:00:00</td>\n",
       "      <td>0</td>\n",
       "      <td>90480</td>\n",
       "      <td>2016-04-05 12:47:46</td>\n",
       "    </tr>\n",
       "    <tr>\n",
       "      <td>3</td>\n",
       "      <td>2016-03-17 16:54:04</td>\n",
       "      <td>1500</td>\n",
       "      <td>small</td>\n",
       "      <td>2001</td>\n",
       "      <td>manual</td>\n",
       "      <td>75</td>\n",
       "      <td>golf</td>\n",
       "      <td>150000</td>\n",
       "      <td>6</td>\n",
       "      <td>petrol</td>\n",
       "      <td>volkswagen</td>\n",
       "      <td>no</td>\n",
       "      <td>2016-03-17 00:00:00</td>\n",
       "      <td>0</td>\n",
       "      <td>91074</td>\n",
       "      <td>2016-03-17 17:40:17</td>\n",
       "    </tr>\n",
       "    <tr>\n",
       "      <td>4</td>\n",
       "      <td>2016-03-31 17:25:20</td>\n",
       "      <td>3600</td>\n",
       "      <td>small</td>\n",
       "      <td>2008</td>\n",
       "      <td>manual</td>\n",
       "      <td>69</td>\n",
       "      <td>fabia</td>\n",
       "      <td>90000</td>\n",
       "      <td>7</td>\n",
       "      <td>gasoline</td>\n",
       "      <td>skoda</td>\n",
       "      <td>no</td>\n",
       "      <td>2016-03-31 00:00:00</td>\n",
       "      <td>0</td>\n",
       "      <td>60437</td>\n",
       "      <td>2016-04-06 10:17:21</td>\n",
       "    </tr>\n",
       "    <tr>\n",
       "      <td>...</td>\n",
       "      <td>...</td>\n",
       "      <td>...</td>\n",
       "      <td>...</td>\n",
       "      <td>...</td>\n",
       "      <td>...</td>\n",
       "      <td>...</td>\n",
       "      <td>...</td>\n",
       "      <td>...</td>\n",
       "      <td>...</td>\n",
       "      <td>...</td>\n",
       "      <td>...</td>\n",
       "      <td>...</td>\n",
       "      <td>...</td>\n",
       "      <td>...</td>\n",
       "      <td>...</td>\n",
       "      <td>...</td>\n",
       "    </tr>\n",
       "    <tr>\n",
       "      <td>354364</td>\n",
       "      <td>2016-03-21 09:50:58</td>\n",
       "      <td>0</td>\n",
       "      <td>NaN</td>\n",
       "      <td>2005</td>\n",
       "      <td>manual</td>\n",
       "      <td>0</td>\n",
       "      <td>colt</td>\n",
       "      <td>150000</td>\n",
       "      <td>7</td>\n",
       "      <td>petrol</td>\n",
       "      <td>mitsubishi</td>\n",
       "      <td>yes</td>\n",
       "      <td>2016-03-21 00:00:00</td>\n",
       "      <td>0</td>\n",
       "      <td>2694</td>\n",
       "      <td>2016-03-21 10:42:49</td>\n",
       "    </tr>\n",
       "    <tr>\n",
       "      <td>354365</td>\n",
       "      <td>2016-03-14 17:48:27</td>\n",
       "      <td>2200</td>\n",
       "      <td>NaN</td>\n",
       "      <td>2005</td>\n",
       "      <td>NaN</td>\n",
       "      <td>0</td>\n",
       "      <td>NaN</td>\n",
       "      <td>20000</td>\n",
       "      <td>1</td>\n",
       "      <td>NaN</td>\n",
       "      <td>sonstige_autos</td>\n",
       "      <td>NaN</td>\n",
       "      <td>2016-03-14 00:00:00</td>\n",
       "      <td>0</td>\n",
       "      <td>39576</td>\n",
       "      <td>2016-04-06 00:46:52</td>\n",
       "    </tr>\n",
       "    <tr>\n",
       "      <td>354366</td>\n",
       "      <td>2016-03-05 19:56:21</td>\n",
       "      <td>1199</td>\n",
       "      <td>convertible</td>\n",
       "      <td>2000</td>\n",
       "      <td>auto</td>\n",
       "      <td>101</td>\n",
       "      <td>fortwo</td>\n",
       "      <td>125000</td>\n",
       "      <td>3</td>\n",
       "      <td>petrol</td>\n",
       "      <td>smart</td>\n",
       "      <td>no</td>\n",
       "      <td>2016-03-05 00:00:00</td>\n",
       "      <td>0</td>\n",
       "      <td>26135</td>\n",
       "      <td>2016-03-11 18:17:12</td>\n",
       "    </tr>\n",
       "    <tr>\n",
       "      <td>354367</td>\n",
       "      <td>2016-03-19 18:57:12</td>\n",
       "      <td>9200</td>\n",
       "      <td>bus</td>\n",
       "      <td>1996</td>\n",
       "      <td>manual</td>\n",
       "      <td>102</td>\n",
       "      <td>transporter</td>\n",
       "      <td>150000</td>\n",
       "      <td>3</td>\n",
       "      <td>gasoline</td>\n",
       "      <td>volkswagen</td>\n",
       "      <td>no</td>\n",
       "      <td>2016-03-19 00:00:00</td>\n",
       "      <td>0</td>\n",
       "      <td>87439</td>\n",
       "      <td>2016-04-07 07:15:26</td>\n",
       "    </tr>\n",
       "    <tr>\n",
       "      <td>354368</td>\n",
       "      <td>2016-03-20 19:41:08</td>\n",
       "      <td>3400</td>\n",
       "      <td>wagon</td>\n",
       "      <td>2002</td>\n",
       "      <td>manual</td>\n",
       "      <td>100</td>\n",
       "      <td>golf</td>\n",
       "      <td>150000</td>\n",
       "      <td>6</td>\n",
       "      <td>gasoline</td>\n",
       "      <td>volkswagen</td>\n",
       "      <td>NaN</td>\n",
       "      <td>2016-03-20 00:00:00</td>\n",
       "      <td>0</td>\n",
       "      <td>40764</td>\n",
       "      <td>2016-03-24 12:45:21</td>\n",
       "    </tr>\n",
       "  </tbody>\n",
       "</table>\n",
       "<p>354369 rows × 16 columns</p>\n",
       "</div>"
      ],
      "text/plain": [
       "                DateCrawled  Price  VehicleType  RegistrationYear Gearbox  \\\n",
       "0       2016-03-24 11:52:17    480          NaN              1993  manual   \n",
       "1       2016-03-24 10:58:45  18300        coupe              2011  manual   \n",
       "2       2016-03-14 12:52:21   9800          suv              2004    auto   \n",
       "3       2016-03-17 16:54:04   1500        small              2001  manual   \n",
       "4       2016-03-31 17:25:20   3600        small              2008  manual   \n",
       "...                     ...    ...          ...               ...     ...   \n",
       "354364  2016-03-21 09:50:58      0          NaN              2005  manual   \n",
       "354365  2016-03-14 17:48:27   2200          NaN              2005     NaN   \n",
       "354366  2016-03-05 19:56:21   1199  convertible              2000    auto   \n",
       "354367  2016-03-19 18:57:12   9200          bus              1996  manual   \n",
       "354368  2016-03-20 19:41:08   3400        wagon              2002  manual   \n",
       "\n",
       "        Power        Model  Kilometer  RegistrationMonth  FuelType  \\\n",
       "0           0         golf     150000                  0    petrol   \n",
       "1         190          NaN     125000                  5  gasoline   \n",
       "2         163        grand     125000                  8  gasoline   \n",
       "3          75         golf     150000                  6    petrol   \n",
       "4          69        fabia      90000                  7  gasoline   \n",
       "...       ...          ...        ...                ...       ...   \n",
       "354364      0         colt     150000                  7    petrol   \n",
       "354365      0          NaN      20000                  1       NaN   \n",
       "354366    101       fortwo     125000                  3    petrol   \n",
       "354367    102  transporter     150000                  3  gasoline   \n",
       "354368    100         golf     150000                  6  gasoline   \n",
       "\n",
       "                 Brand NotRepaired          DateCreated  NumberOfPictures  \\\n",
       "0           volkswagen         NaN  2016-03-24 00:00:00                 0   \n",
       "1                 audi         yes  2016-03-24 00:00:00                 0   \n",
       "2                 jeep         NaN  2016-03-14 00:00:00                 0   \n",
       "3           volkswagen          no  2016-03-17 00:00:00                 0   \n",
       "4                skoda          no  2016-03-31 00:00:00                 0   \n",
       "...                ...         ...                  ...               ...   \n",
       "354364      mitsubishi         yes  2016-03-21 00:00:00                 0   \n",
       "354365  sonstige_autos         NaN  2016-03-14 00:00:00                 0   \n",
       "354366           smart          no  2016-03-05 00:00:00                 0   \n",
       "354367      volkswagen          no  2016-03-19 00:00:00                 0   \n",
       "354368      volkswagen         NaN  2016-03-20 00:00:00                 0   \n",
       "\n",
       "        PostalCode             LastSeen  \n",
       "0            70435  2016-04-07 03:16:57  \n",
       "1            66954  2016-04-07 01:46:50  \n",
       "2            90480  2016-04-05 12:47:46  \n",
       "3            91074  2016-03-17 17:40:17  \n",
       "4            60437  2016-04-06 10:17:21  \n",
       "...            ...                  ...  \n",
       "354364        2694  2016-03-21 10:42:49  \n",
       "354365       39576  2016-04-06 00:46:52  \n",
       "354366       26135  2016-03-11 18:17:12  \n",
       "354367       87439  2016-04-07 07:15:26  \n",
       "354368       40764  2016-03-24 12:45:21  \n",
       "\n",
       "[354369 rows x 16 columns]"
      ]
     },
     "execution_count": 3,
     "metadata": {},
     "output_type": "execute_result"
    }
   ],
   "source": [
    "df = pd.read_csv('/datasets/autos.csv')\n",
    "df"
   ]
  },
  {
   "cell_type": "markdown",
   "metadata": {},
   "source": [
    "В нашем распоряжении 354369 записей. Имеются 16 переменных:  \n",
    "**Количественные:** *DateCrawled*, *Price* - онo же целевой признак, *RegistrationYear*, *Power*, *Kilometer*, *RegistrationMonth*, *DateCreated*, *NumberOfPictures*, *LastSeen*;  \n",
    "\n",
    "**Категориальные:** *VehicleType*, *Gearbox*, *Model*, *FuelType*, *Brand*, *NotRepaired*, *PostalCode*.  \n",
    "\n",
    "В некоторых столбцах имеются пропуски:"
   ]
  },
  {
   "cell_type": "code",
   "execution_count": 4,
   "metadata": {},
   "outputs": [
    {
     "data": {
      "text/plain": [
       "NotRepaired    0.200791\n",
       "VehicleType    0.105794\n",
       "FuelType       0.092827\n",
       "Gearbox        0.055967\n",
       "Model          0.055606\n",
       "LastSeen       0.000000\n",
       "dtype: float64"
      ]
     },
     "execution_count": 4,
     "metadata": {},
     "output_type": "execute_result"
    }
   ],
   "source": [
    "df.isna().mean().sort_values(ascending=False).head(6)"
   ]
  },
  {
   "cell_type": "markdown",
   "metadata": {},
   "source": [
    "Больше всего данных пропущено в сведениях о ремонте - около 20%. Вполне ожидаемо, поскольку обычно это первый показатель, который пытаются скрыть при продаже подержаного автомобиля. Примерно по 10% пропусков столбцах, касающихся типа кузова и типа топлива. В 5% случаев не указаны тип трансмиссии и модель транспортного средства. Все пропуски только в категориальных признаках.  \n",
    "Посмотрим на некоторые из них."
   ]
  },
  {
   "cell_type": "code",
   "execution_count": 5,
   "metadata": {},
   "outputs": [
    {
     "data": {
      "text/plain": [
       "no     0.697468\n",
       "NaN    0.200791\n",
       "yes    0.101741\n",
       "Name: NotRepaired, dtype: float64"
      ]
     },
     "execution_count": 5,
     "metadata": {},
     "output_type": "execute_result"
    }
   ],
   "source": [
    "df['NotRepaired'].value_counts(dropna=False, normalize=True)"
   ]
  },
  {
   "cell_type": "markdown",
   "metadata": {},
   "source": [
    "Около 70% объявлений пытаются соответствовать сервису \"Не бит, не крашен\". 20% делают вид, что не заметили вопроса, и всего лишь 10% честно сообщают о том, что автомобиль был в ремонте. В данном случае отсутствие информации - это может само по себе являться информацией. Чтобы наша модель обрабатывала пропуски без ошибок, такие анкеты мы выделим в отдельную категорию \"not_reported\". "
   ]
  },
  {
   "cell_type": "code",
   "execution_count": 6,
   "metadata": {},
   "outputs": [],
   "source": [
    "df['NotRepaired'].fillna('not_reported', inplace=True)"
   ]
  },
  {
   "cell_type": "markdown",
   "metadata": {},
   "source": [
    "По топливу:"
   ]
  },
  {
   "cell_type": "code",
   "execution_count": 7,
   "metadata": {},
   "outputs": [
    {
     "data": {
      "text/plain": [
       "petrol      0.610527\n",
       "gasoline    0.278580\n",
       "NaN         0.092827\n",
       "lpg         0.014984\n",
       "cng         0.001594\n",
       "hybrid      0.000658\n",
       "other       0.000576\n",
       "electric    0.000254\n",
       "Name: FuelType, dtype: float64"
      ]
     },
     "execution_count": 7,
     "metadata": {},
     "output_type": "execute_result"
    }
   ],
   "source": [
    "df['FuelType'].value_counts(dropna=False, normalize=True)"
   ]
  },
  {
   "cell_type": "markdown",
   "metadata": {},
   "source": [
    "Касаемо типов топлива имеем странную картину. Во-первых, petrol и gasoline - это названия одного и того же бензина. Во-вторых, почему-то отсутствует дизельное топливо, хотя всякие газовые, электрические и гибридные автомобили присутствуют. При наличии записей с дизельным топливом можно было бы petrol и gasoline определить в одну категорию как дубликаты, но есть вероятность, что базе данных petrol, к примеру, это бензин, а gasoline - это обозначение дизельного топлива. Никаких пояснений в ТЗ по этому поводу нет, поэтому оставим как есть. Пропуски можно было бы заменить на бензин, как наиболее популярный вид топлива, но, в силу неясности предоставленных данных, также заменим на значение \"not_reported\". "
   ]
  },
  {
   "cell_type": "code",
   "execution_count": 8,
   "metadata": {},
   "outputs": [],
   "source": [
    "df['FuelType'].fillna('not_reported', inplace=True)"
   ]
  },
  {
   "cell_type": "markdown",
   "metadata": {},
   "source": [
    "Трансмиссия:"
   ]
  },
  {
   "cell_type": "code",
   "execution_count": 9,
   "metadata": {},
   "outputs": [
    {
     "data": {
      "text/plain": [
       "manual    0.756982\n",
       "auto      0.187051\n",
       "NaN       0.055967\n",
       "Name: Gearbox, dtype: float64"
      ]
     },
     "execution_count": 9,
     "metadata": {},
     "output_type": "execute_result"
    }
   ],
   "source": [
    "df['Gearbox'].value_counts(dropna=False, normalize=True)"
   ]
  },
  {
   "cell_type": "markdown",
   "metadata": {},
   "source": [
    "Три четверти автомобилей на механике, пятая часть на автомате. Остальные не определились. Коробка передач может быть одной из двух, причём по косвенным признакам это определить сложно - одна и та же модель может быть в двух вариантах. Чтобы не искажать данные, пропуски обрабатывать так же не будем, просто заменим их на категорию \"not_reported\", чтобы наши модели не пугались. "
   ]
  },
  {
   "cell_type": "code",
   "execution_count": 10,
   "metadata": {},
   "outputs": [],
   "source": [
    "df['Gearbox'].fillna('not_reported', inplace=True)"
   ]
  },
  {
   "cell_type": "markdown",
   "metadata": {},
   "source": [
    "С пропусками осталось два столбца - модель авто и тип кузова. Тип кузова действительно может быть неоднозначным и/или отсутствовать в списке. Этот параметр лучше оставить отдельной категорией. А вот название модели - это с высокой долей вероятности один из определяющих цену параметров и отсутствие значения является недопустимым для оценки стоимости. Такие пропуски мы удалим, порекомендовав разработчикам заставить пользователя эту информацию указывать. "
   ]
  },
  {
   "cell_type": "code",
   "execution_count": 11,
   "metadata": {},
   "outputs": [],
   "source": [
    "df['VehicleType'].fillna('unknown', inplace=True)\n",
    "df.dropna(subset=['Model'], inplace=True)"
   ]
  },
  {
   "cell_type": "markdown",
   "metadata": {},
   "source": [
    "Пропуски обработаны. "
   ]
  },
  {
   "cell_type": "code",
   "execution_count": 12,
   "metadata": {},
   "outputs": [
    {
     "data": {
      "text/plain": [
       "8130"
      ]
     },
     "execution_count": 12,
     "metadata": {},
     "output_type": "execute_result"
    }
   ],
   "source": [
    "df['PostalCode'].nunique()"
   ]
  },
  {
   "cell_type": "markdown",
   "metadata": {},
   "source": [
    "Количество почтовых индексов больше 8 тысяч. Пожалуй, это достаточно бесполезный и даже вредный признак для модели машинного обучения, наравне с датами создания и скачивания анкеты, а также датой последнего визита автора анкеты на сайт. "
   ]
  },
  {
   "cell_type": "markdown",
   "metadata": {},
   "source": [
    "Посмотрим на минимальный и максимальный годы регистрации, указанные в анкетах.   "
   ]
  },
  {
   "cell_type": "markdown",
   "metadata": {},
   "source": [
    "*Стоп. А почему годы регистрации? Может имеется ввиду год выпуска? Год выпуска в базе отсутствует, а вот год и месяц регистрации - эта информация достаточно бестолковая, хотя бы потому что перерегистрировать автомобиль можно много раз. Продолжаю с допущением, что перевод сделан неточно и здесь представлен именно год выпуска.* - прим. автора. "
   ]
  },
  {
   "cell_type": "code",
   "execution_count": 13,
   "metadata": {},
   "outputs": [
    {
     "data": {
      "text/plain": [
       "1000"
      ]
     },
     "execution_count": 13,
     "metadata": {},
     "output_type": "execute_result"
    }
   ],
   "source": [
    "df['RegistrationYear'].min()"
   ]
  },
  {
   "cell_type": "code",
   "execution_count": 14,
   "metadata": {},
   "outputs": [
    {
     "data": {
      "text/plain": [
       "9999"
      ]
     },
     "execution_count": 14,
     "metadata": {},
     "output_type": "execute_result"
    }
   ],
   "source": [
    "df['RegistrationYear'].max()"
   ]
  },
  {
   "cell_type": "markdown",
   "metadata": {},
   "source": [
    "Как видим, есть анкеты с некорректно указанным годом выпуска. Посмотрим, сколько таких от общего числа. "
   ]
  },
  {
   "cell_type": "code",
   "execution_count": 15,
   "metadata": {},
   "outputs": [
    {
     "data": {
      "text/plain": [
       "0.0002868548753376521"
      ]
     },
     "execution_count": 15,
     "metadata": {},
     "output_type": "execute_result"
    }
   ],
   "source": [
    "len(df.query('RegistrationYear <= 1886 or RegistrationYear >= 2021')) / len(df)"
   ]
  },
  {
   "cell_type": "markdown",
   "metadata": {},
   "source": [
    "Немного. Их можно удалить, а разработчикам сервиса предложить прикрутить фильтр по данному параметру, чтобы пользователь физически не мог указать подобное в заявке на оценку. "
   ]
  },
  {
   "cell_type": "code",
   "execution_count": 16,
   "metadata": {},
   "outputs": [],
   "source": [
    "df = df.query('RegistrationYear >= 1886 and RegistrationYear <= 2021')"
   ]
  },
  {
   "cell_type": "markdown",
   "metadata": {},
   "source": [
    "Посмотрим, как много обычно пользователи оставляют картинок своих авто. "
   ]
  },
  {
   "cell_type": "code",
   "execution_count": 17,
   "metadata": {},
   "outputs": [
    {
     "data": {
      "text/plain": [
       "array([0])"
      ]
     },
     "execution_count": 17,
     "metadata": {},
     "output_type": "execute_result"
    }
   ],
   "source": [
    "df['NumberOfPictures'].unique()"
   ]
  },
  {
   "cell_type": "markdown",
   "metadata": {},
   "source": [
    "Во всей базе данных не указано ни одного фото автомобиля. Возможные причины: никто не загружает фоток (маловероятно, если сервис это позволяет делать), ошибка на сервере (счётчик не работает) или ошибка выгрузки. В любом случае данный столбец для обучения не годится (лишние погрешности, лишняя нагрузка на железо). "
   ]
  },
  {
   "cell_type": "code",
   "execution_count": 18,
   "metadata": {},
   "outputs": [
    {
     "data": {
      "text/plain": [
       "array([ 0,  8,  6,  7, 10, 12, 11,  2,  3,  1,  4,  5,  9])"
      ]
     },
     "execution_count": 18,
     "metadata": {},
     "output_type": "execute_result"
    }
   ],
   "source": [
    "df['RegistrationMonth'].unique()"
   ]
  },
  {
   "cell_type": "markdown",
   "metadata": {},
   "source": [
    "Встречается нулевой месяц регистрации. Видимо авторы таких анкет - программисты, или просто они не знают (не хотят знать, лень посмотреть в ПТС и т.д.), т.е. по факту указывают только год выпуска. "
   ]
  },
  {
   "cell_type": "code",
   "execution_count": 19,
   "metadata": {},
   "outputs": [
    {
     "data": {
      "text/plain": [
       "0.09188266660290285"
      ]
     },
     "execution_count": 19,
     "metadata": {},
     "output_type": "execute_result"
    }
   ],
   "source": [
    "len(df[df['RegistrationMonth'] == 0]) / len(df)"
   ]
  },
  {
   "cell_type": "markdown",
   "metadata": {},
   "source": [
    "Таких записей около 10%. Удалять или как-то корректировать их не будем. Пусть остаются отдельной категорией."
   ]
  },
  {
   "cell_type": "code",
   "execution_count": 20,
   "metadata": {},
   "outputs": [
    {
     "data": {
      "text/plain": [
       "0.025639033021687668"
      ]
     },
     "execution_count": 20,
     "metadata": {},
     "output_type": "execute_result"
    }
   ],
   "source": [
    "len(df[df['Price'] == 0]) / len(df)"
   ]
  },
  {
   "cell_type": "markdown",
   "metadata": {},
   "source": [
    "Среди целевого признака в 3% случаях цена автомобиля указана нулевой. Теоретически такое возможно, например в случае \"Заберите уже кто-нибудь у меня этот разбитый вдребезги хлам!\". Но чаще всего даже такие автомобили пытаются сдать на запчасти. Вероятнее всего, владельцы, не указавшие цену, либо сами не представляют её, либо обозначают таким образом возможность открытого торга. А может быть это и ошибки при обработке. Но раз мы хотим получить максимально объективный сервис по быстрой оценке, то от таких значений лучше избавиться. "
   ]
  },
  {
   "cell_type": "code",
   "execution_count": 21,
   "metadata": {},
   "outputs": [],
   "source": [
    "df = df[df['Price'] != 0]"
   ]
  },
  {
   "cell_type": "markdown",
   "metadata": {},
   "source": [
    "С мощностью двигателя тоже какой-то бардак."
   ]
  },
  {
   "cell_type": "code",
   "execution_count": 22,
   "metadata": {},
   "outputs": [
    {
     "data": {
      "text/plain": [
       "0.09592625540660757"
      ]
     },
     "execution_count": 22,
     "metadata": {},
     "output_type": "execute_result"
    }
   ],
   "source": [
    "len(df[df['Power'] == 0]) / len(df)"
   ]
  },
  {
   "cell_type": "markdown",
   "metadata": {},
   "source": [
    "Во-первых, в 10% анкет она равна нулю. Такое может быть только если двигателя нет, но в этом случае это уже не автомобиль, а телега, а по условию задачи мы работаем с сервисом по продаже автомобилей. Впрочем, вероятнее всего это просто человеческий фактор - владелец анкеты не указал. Не будем ничего с этим делать, оставим на совести пользователей."
   ]
  },
  {
   "cell_type": "code",
   "execution_count": 23,
   "metadata": {},
   "outputs": [
    {
     "data": {
      "text/plain": [
       "0.0007730298475413357"
      ]
     },
     "execution_count": 23,
     "metadata": {},
     "output_type": "execute_result"
    }
   ],
   "source": [
    "len(df[df['Power'] >= 1000]) / len(df)"
   ]
  },
  {
   "cell_type": "code",
   "execution_count": 24,
   "metadata": {},
   "outputs": [
    {
     "data": {
      "text/html": [
       "<div>\n",
       "<style scoped>\n",
       "    .dataframe tbody tr th:only-of-type {\n",
       "        vertical-align: middle;\n",
       "    }\n",
       "\n",
       "    .dataframe tbody tr th {\n",
       "        vertical-align: top;\n",
       "    }\n",
       "\n",
       "    .dataframe thead th {\n",
       "        text-align: right;\n",
       "    }\n",
       "</style>\n",
       "<table border=\"1\" class=\"dataframe\">\n",
       "  <thead>\n",
       "    <tr style=\"text-align: right;\">\n",
       "      <th></th>\n",
       "      <th>DateCrawled</th>\n",
       "      <th>Price</th>\n",
       "      <th>VehicleType</th>\n",
       "      <th>RegistrationYear</th>\n",
       "      <th>Gearbox</th>\n",
       "      <th>Power</th>\n",
       "      <th>Model</th>\n",
       "      <th>Kilometer</th>\n",
       "      <th>RegistrationMonth</th>\n",
       "      <th>FuelType</th>\n",
       "      <th>Brand</th>\n",
       "      <th>NotRepaired</th>\n",
       "      <th>DateCreated</th>\n",
       "      <th>NumberOfPictures</th>\n",
       "      <th>PostalCode</th>\n",
       "      <th>LastSeen</th>\n",
       "    </tr>\n",
       "  </thead>\n",
       "  <tbody>\n",
       "    <tr>\n",
       "      <td>1816</td>\n",
       "      <td>2016-03-22 20:52:00</td>\n",
       "      <td>3200</td>\n",
       "      <td>small</td>\n",
       "      <td>2004</td>\n",
       "      <td>manual</td>\n",
       "      <td>1398</td>\n",
       "      <td>corolla</td>\n",
       "      <td>5000</td>\n",
       "      <td>6</td>\n",
       "      <td>petrol</td>\n",
       "      <td>toyota</td>\n",
       "      <td>no</td>\n",
       "      <td>2016-03-22 00:00:00</td>\n",
       "      <td>0</td>\n",
       "      <td>22043</td>\n",
       "      <td>2016-03-22 21:43:26</td>\n",
       "    </tr>\n",
       "    <tr>\n",
       "      <td>5328</td>\n",
       "      <td>2016-03-29 19:44:48</td>\n",
       "      <td>500</td>\n",
       "      <td>wagon</td>\n",
       "      <td>1999</td>\n",
       "      <td>manual</td>\n",
       "      <td>1001</td>\n",
       "      <td>astra</td>\n",
       "      <td>150000</td>\n",
       "      <td>7</td>\n",
       "      <td>petrol</td>\n",
       "      <td>opel</td>\n",
       "      <td>not_reported</td>\n",
       "      <td>2016-03-29 00:00:00</td>\n",
       "      <td>0</td>\n",
       "      <td>33154</td>\n",
       "      <td>2016-04-06 05:44:36</td>\n",
       "    </tr>\n",
       "    <tr>\n",
       "      <td>7661</td>\n",
       "      <td>2016-04-02 19:25:25</td>\n",
       "      <td>1499</td>\n",
       "      <td>small</td>\n",
       "      <td>1999</td>\n",
       "      <td>manual</td>\n",
       "      <td>7515</td>\n",
       "      <td>lupo</td>\n",
       "      <td>150000</td>\n",
       "      <td>4</td>\n",
       "      <td>petrol</td>\n",
       "      <td>volkswagen</td>\n",
       "      <td>not_reported</td>\n",
       "      <td>2016-04-02 00:00:00</td>\n",
       "      <td>0</td>\n",
       "      <td>65830</td>\n",
       "      <td>2016-04-06 11:46:49</td>\n",
       "    </tr>\n",
       "    <tr>\n",
       "      <td>9664</td>\n",
       "      <td>2016-03-14 20:06:19</td>\n",
       "      <td>2599</td>\n",
       "      <td>unknown</td>\n",
       "      <td>2016</td>\n",
       "      <td>manual</td>\n",
       "      <td>1779</td>\n",
       "      <td>zafira</td>\n",
       "      <td>150000</td>\n",
       "      <td>0</td>\n",
       "      <td>petrol</td>\n",
       "      <td>opel</td>\n",
       "      <td>no</td>\n",
       "      <td>2016-03-14 00:00:00</td>\n",
       "      <td>0</td>\n",
       "      <td>60326</td>\n",
       "      <td>2016-04-07 09:45:27</td>\n",
       "    </tr>\n",
       "    <tr>\n",
       "      <td>9875</td>\n",
       "      <td>2016-03-31 20:51:13</td>\n",
       "      <td>550</td>\n",
       "      <td>wagon</td>\n",
       "      <td>2003</td>\n",
       "      <td>manual</td>\n",
       "      <td>1753</td>\n",
       "      <td>focus</td>\n",
       "      <td>150000</td>\n",
       "      <td>1</td>\n",
       "      <td>gasoline</td>\n",
       "      <td>ford</td>\n",
       "      <td>yes</td>\n",
       "      <td>2016-03-31 00:00:00</td>\n",
       "      <td>0</td>\n",
       "      <td>21039</td>\n",
       "      <td>2016-03-31 20:51:13</td>\n",
       "    </tr>\n",
       "  </tbody>\n",
       "</table>\n",
       "</div>"
      ],
      "text/plain": [
       "              DateCrawled  Price VehicleType  RegistrationYear Gearbox  Power  \\\n",
       "1816  2016-03-22 20:52:00   3200       small              2004  manual   1398   \n",
       "5328  2016-03-29 19:44:48    500       wagon              1999  manual   1001   \n",
       "7661  2016-04-02 19:25:25   1499       small              1999  manual   7515   \n",
       "9664  2016-03-14 20:06:19   2599     unknown              2016  manual   1779   \n",
       "9875  2016-03-31 20:51:13    550       wagon              2003  manual   1753   \n",
       "\n",
       "        Model  Kilometer  RegistrationMonth  FuelType       Brand  \\\n",
       "1816  corolla       5000                  6    petrol      toyota   \n",
       "5328    astra     150000                  7    petrol        opel   \n",
       "7661     lupo     150000                  4    petrol  volkswagen   \n",
       "9664   zafira     150000                  0    petrol        opel   \n",
       "9875    focus     150000                  1  gasoline        ford   \n",
       "\n",
       "       NotRepaired          DateCreated  NumberOfPictures  PostalCode  \\\n",
       "1816            no  2016-03-22 00:00:00                 0       22043   \n",
       "5328  not_reported  2016-03-29 00:00:00                 0       33154   \n",
       "7661  not_reported  2016-04-02 00:00:00                 0       65830   \n",
       "9664            no  2016-03-14 00:00:00                 0       60326   \n",
       "9875           yes  2016-03-31 00:00:00                 0       21039   \n",
       "\n",
       "                 LastSeen  \n",
       "1816  2016-03-22 21:43:26  \n",
       "5328  2016-04-06 05:44:36  \n",
       "7661  2016-04-06 11:46:49  \n",
       "9664  2016-04-07 09:45:27  \n",
       "9875  2016-03-31 20:51:13  "
      ]
     },
     "execution_count": 24,
     "metadata": {},
     "output_type": "execute_result"
    }
   ],
   "source": [
    "df[df['Power'] >= 1000].head()"
   ]
  },
  {
   "cell_type": "markdown",
   "metadata": {},
   "source": [
    "Во-вторых, имеются записи, где мощность двигателя более 1000 л.с., что так же маловероятно. Причём, некоторые в это графу пишут не мощность двигателя, а его объем. Иные просто вносят какие-то неадекватные цифры. "
   ]
  },
  {
   "cell_type": "code",
   "execution_count": 25,
   "metadata": {},
   "outputs": [
    {
     "data": {
      "image/png": "[encoded data removed]",
      "text/plain": [
       "<Figure size 576x144 with 1 Axes>"
      ]
     },
     "metadata": {
      "needs_background": "light"
     },
     "output_type": "display_data"
    }
   ],
   "source": [
    "plt.figure(figsize=(8,2))\n",
    "sns.boxplot(x=df['Power'], showfliers=False)\n",
    "plt.show()"
   ]
  },
  {
   "cell_type": "markdown",
   "metadata": {},
   "source": [
    "В целом почти все автомобили имеют мощность до 250 л.с. остальное можно считать выбросами. Хотя некоторые экзепмпляры действительно обладают мощными двигателями (те же грузовики). Так что разумнее ограничить верхний предел 500 л.с., а остальное из датасета убрать. "
   ]
  },
  {
   "cell_type": "code",
   "execution_count": 26,
   "metadata": {},
   "outputs": [],
   "source": [
    "df = df[df['Power'] <= 500]"
   ]
  },
  {
   "cell_type": "markdown",
   "metadata": {},
   "source": [
    "Посмотрим, есть ли полные дубликаты?"
   ]
  },
  {
   "cell_type": "code",
   "execution_count": 27,
   "metadata": {},
   "outputs": [
    {
     "data": {
      "text/plain": [
       "4"
      ]
     },
     "execution_count": 27,
     "metadata": {},
     "output_type": "execute_result"
    }
   ],
   "source": [
    "df.duplicated().sum()"
   ]
  },
  {
   "cell_type": "markdown",
   "metadata": {},
   "source": [
    "Есть. Их тоже удалим. "
   ]
  },
  {
   "cell_type": "code",
   "execution_count": 28,
   "metadata": {},
   "outputs": [],
   "source": [
    "df = df.drop_duplicates()"
   ]
  },
  {
   "cell_type": "markdown",
   "metadata": {},
   "source": [
    "**Выводы:**\n"
   ]
  },
  {
   "cell_type": "markdown",
   "metadata": {},
   "source": [
    "- В данных имелись пропущенные значения. Только в категориальных признаках. Обработано. \n",
    "- Часть данных из датасета удалена - дубликаты, анкеты с целевым признаком равным нулю, некорректные данные по мощности и году выпуска. \n",
    "- Не совсем понятная ситуация с имеющимися в базе типами топлива - есть два названия бензина, но отсутствует дизельное топливо, требуется уточнение у поставщика данных.\n",
    "- Не все колонки годятся в качестве признаков. \n",
    "- Рекомендации разработчикам:  \n",
    "1) Дописать фильтр по году выпуска автомобиля во избежании ввода некорректных значений;  \n",
    "2) Проверить правильность обработки выгрузки данных (во всех записях количество фотографий равно нулю). \n",
    "- Данные подготовлены к обучению моделей. "
   ]
  },
  {
   "cell_type": "markdown",
   "metadata": {},
   "source": [
    "## Обучение моделей"
   ]
  },
  {
   "cell_type": "markdown",
   "metadata": {},
   "source": [
    "Сначала рассмотрим два алгоритма градиентного бустинга - LightGBM и CatBoost, затем попробуем более простые алгоритмы - решающее дерево и случайный лес. Качество моделей будем оценивать метрикой RMSE."
   ]
  },
  {
   "cell_type": "markdown",
   "metadata": {},
   "source": [
    "### Формирование выборок"
   ]
  },
  {
   "cell_type": "markdown",
   "metadata": {},
   "source": [
    "Разделим основной датасет на три выборки - тренировочную, валидационную и тестовую в соотношении 3:1:1. На тренировочной будем выполнять обучение, на валидационной выполнять оценку, в конце проверим результат на тестовой выборке. "
   ]
  },
  {
   "cell_type": "code",
   "execution_count": 29,
   "metadata": {},
   "outputs": [],
   "source": [
    "features_list = ['VehicleType', 'RegistrationYear', 'Gearbox', 'Power', 'Model', \n",
    "                 'Kilometer', 'RegistrationMonth', 'FuelType', 'Brand', 'NotRepaired']\n",
    "target_list = ['Price']\n",
    "cat_features = ['VehicleType', 'Gearbox', 'Model', 'FuelType', 'Brand', 'NotRepaired']\n",
    "\n",
    "features_train, features_valid, target_train, target_valid = \\\n",
    "train_test_split(df[features_list], df[target_list], test_size=0.4, random_state=42)\n",
    "\n",
    "features_valid, features_test, target_valid, target_test = \\\n",
    "train_test_split(features_valid, target_valid, test_size=0.5, random_state=42)"
   ]
  },
  {
   "cell_type": "code",
   "execution_count": 30,
   "metadata": {},
   "outputs": [
    {
     "name": "stdout",
     "output_type": "stream",
     "text": [
      "325614\n"
     ]
    },
    {
     "data": {
      "text/plain": [
       "325614"
      ]
     },
     "execution_count": 30,
     "metadata": {},
     "output_type": "execute_result"
    }
   ],
   "source": [
    "print(len(df))\n",
    "len(features_train) + len(features_valid) + len(features_test)"
   ]
  },
  {
   "cell_type": "markdown",
   "metadata": {},
   "source": [
    "Готово."
   ]
  },
  {
   "cell_type": "markdown",
   "metadata": {},
   "source": [
    "### Catboost"
   ]
  },
  {
   "cell_type": "markdown",
   "metadata": {},
   "source": [
    "Первым рассмотрим алгоритм градиентного бустинга Catboost. Его особенностью является возможность работы с категориальными признаками напрямую. Этим и воспользуемся. Так же будем использовать наш валидационный датасет для предотвращения переобучения модели. Максимальное количество деревьев по умолчанию стоит 1000 - оставим эту величину, а скорость обучения подберём такую, чтобы задача сходилась близко к этому значению итераций. "
   ]
  },
  {
   "cell_type": "code",
   "execution_count": 31,
   "metadata": {},
   "outputs": [
    {
     "name": "stdout",
     "output_type": "stream",
     "text": [
      "0:\tlearn: 3451.1910284\ttest: 3463.4830366\tbest: 3463.4830366 (0)\ttotal: 75.6ms\tremaining: 1m 15s\n",
      "100:\tlearn: 1656.4059614\ttest: 1719.3331865\tbest: 1719.3331865 (100)\ttotal: 9.62s\tremaining: 1m 25s\n",
      "200:\tlearn: 1572.4080163\ttest: 1660.7484224\tbest: 1660.7484224 (200)\ttotal: 19.1s\tremaining: 1m 15s\n",
      "300:\tlearn: 1522.9804312\ttest: 1634.7798684\tbest: 1634.7798684 (300)\ttotal: 28.5s\tremaining: 1m 6s\n",
      "400:\tlearn: 1489.3148248\ttest: 1621.9003908\tbest: 1621.6790399 (399)\ttotal: 37.9s\tremaining: 56.5s\n",
      "500:\tlearn: 1461.1285571\ttest: 1610.3106096\tbest: 1610.2838130 (497)\ttotal: 47.3s\tremaining: 47.1s\n",
      "600:\tlearn: 1438.3818811\ttest: 1605.6615749\tbest: 1605.6560083 (599)\ttotal: 56.8s\tremaining: 37.7s\n",
      "700:\tlearn: 1417.1777869\ttest: 1599.2298440\tbest: 1599.1686483 (699)\ttotal: 1m 6s\tremaining: 28.4s\n",
      "800:\tlearn: 1400.1183108\ttest: 1594.0552350\tbest: 1594.0552350 (800)\ttotal: 1m 16s\tremaining: 18.9s\n",
      "900:\tlearn: 1384.4911077\ttest: 1590.5302918\tbest: 1590.5185704 (896)\ttotal: 1m 25s\tremaining: 9.45s\n",
      "Stopped by overfitting detector  (20 iterations wait)\n",
      "\n",
      "bestTest = 1587.855718\n",
      "bestIteration = 964\n",
      "\n",
      "Shrink model to first 965 iterations.\n",
      "CPU times: user 1min 23s, sys: 11.1 s, total: 1min 34s\n",
      "Wall time: 1min 36s\n"
     ]
    },
    {
     "data": {
      "text/plain": [
       "<catboost.core.CatBoostRegressor at 0x7f404c941fd0>"
      ]
     },
     "execution_count": 31,
     "metadata": {},
     "output_type": "execute_result"
    }
   ],
   "source": [
    "%%time\n",
    "cb_model = CatBoostRegressor(learning_rate=0.4,\n",
    "                             early_stopping_rounds=20, \n",
    "                             random_state=42, \n",
    "                             one_hot_max_size=300)\n",
    "cb_model.fit(features_train, target_train, cat_features=cat_features, \n",
    "               eval_set=(features_valid, target_valid), verbose=100)"
   ]
  },
  {
   "cell_type": "markdown",
   "metadata": {},
   "source": [
    "Задача обучения сошлась на 965 итерациях. Время выполнения составило 1 минуту 35 секунд. (*может меняться в зависимости от времени суток и степени загрузки сервера - прим. автора*)"
   ]
  },
  {
   "cell_type": "code",
   "execution_count": 32,
   "metadata": {},
   "outputs": [
    {
     "data": {
      "text/plain": [
       "{'learn': {'RMSE': 1371.9867986690429},\n",
       " 'validation': {'RMSE': 1587.8557177495416}}"
      ]
     },
     "execution_count": 32,
     "metadata": {},
     "output_type": "execute_result"
    }
   ],
   "source": [
    "cb_model.best_score_"
   ]
  },
  {
   "cell_type": "markdown",
   "metadata": {},
   "source": [
    "Получили RMSE на обучающей выборке 1372, а на валидационной 1588. Сохраним эти значения. "
   ]
  },
  {
   "cell_type": "code",
   "execution_count": 33,
   "metadata": {},
   "outputs": [],
   "source": [
    "cb_train_score = cb_model.best_score_['learn']['RMSE']\n",
    "cb_valid_score = cb_model.best_score_['validation']['RMSE']\n",
    "cb_train_time = 95"
   ]
  },
  {
   "cell_type": "code",
   "execution_count": 34,
   "metadata": {},
   "outputs": [
    {
     "name": "stdout",
     "output_type": "stream",
     "text": [
      "CPU times: user 234 ms, sys: 0 ns, total: 234 ms\n",
      "Wall time: 165 ms\n"
     ]
    }
   ],
   "source": [
    "%%time\n",
    "cb_test_result = cb_model.predict(features_test)"
   ]
  },
  {
   "cell_type": "markdown",
   "metadata": {},
   "source": [
    "Скорость предсказания примерно 250 мс. "
   ]
  },
  {
   "cell_type": "code",
   "execution_count": 35,
   "metadata": {},
   "outputs": [
    {
     "data": {
      "text/plain": [
       "1560.185823095329"
      ]
     },
     "execution_count": 35,
     "metadata": {},
     "output_type": "execute_result"
    }
   ],
   "source": [
    "cb_predict_time = 0.25\n",
    "cb_test_score = mean_squared_error(target_test, cb_test_result) ** 0.5\n",
    "cb_test_score"
   ]
  },
  {
   "cell_type": "markdown",
   "metadata": {},
   "source": [
    "На тестовой выборке RMSE = 1560."
   ]
  },
  {
   "cell_type": "markdown",
   "metadata": {},
   "source": [
    "### Кодирование признаков"
   ]
  },
  {
   "cell_type": "markdown",
   "metadata": {},
   "source": [
    "Другие алгоритмы не столь всеядны и для них требуется выполнить кодирование категориальных перменных. Чтобы не увеличивать количество столбцов, воспользуемся техникой порядкового кодирования. "
   ]
  },
  {
   "cell_type": "code",
   "execution_count": 36,
   "metadata": {},
   "outputs": [
    {
     "data": {
      "text/plain": [
       "OrdinalEncoder(categories='auto', dtype=<class 'numpy.float64'>)"
      ]
     },
     "execution_count": 36,
     "metadata": {},
     "output_type": "execute_result"
    }
   ],
   "source": [
    "encoder = OrdinalEncoder()\n",
    "encoder.fit(features_train[cat_features])"
   ]
  },
  {
   "cell_type": "code",
   "execution_count": 37,
   "metadata": {},
   "outputs": [],
   "source": [
    "features_train[cat_features] = encoder.transform(features_train[cat_features])\n",
    "features_valid[cat_features] = encoder.transform(features_valid[cat_features])\n",
    "features_test[cat_features] = encoder.transform(features_test[cat_features])"
   ]
  },
  {
   "cell_type": "code",
   "execution_count": 38,
   "metadata": {},
   "outputs": [
    {
     "data": {
      "text/html": [
       "<div>\n",
       "<style scoped>\n",
       "    .dataframe tbody tr th:only-of-type {\n",
       "        vertical-align: middle;\n",
       "    }\n",
       "\n",
       "    .dataframe tbody tr th {\n",
       "        vertical-align: top;\n",
       "    }\n",
       "\n",
       "    .dataframe thead th {\n",
       "        text-align: right;\n",
       "    }\n",
       "</style>\n",
       "<table border=\"1\" class=\"dataframe\">\n",
       "  <thead>\n",
       "    <tr style=\"text-align: right;\">\n",
       "      <th></th>\n",
       "      <th>VehicleType</th>\n",
       "      <th>RegistrationYear</th>\n",
       "      <th>Gearbox</th>\n",
       "      <th>Power</th>\n",
       "      <th>Model</th>\n",
       "      <th>Kilometer</th>\n",
       "      <th>RegistrationMonth</th>\n",
       "      <th>FuelType</th>\n",
       "      <th>Brand</th>\n",
       "      <th>NotRepaired</th>\n",
       "    </tr>\n",
       "  </thead>\n",
       "  <tbody>\n",
       "    <tr>\n",
       "      <td>200443</td>\n",
       "      <td>5.0</td>\n",
       "      <td>1997</td>\n",
       "      <td>1.0</td>\n",
       "      <td>50</td>\n",
       "      <td>173.0</td>\n",
       "      <td>150000</td>\n",
       "      <td>10</td>\n",
       "      <td>7.0</td>\n",
       "      <td>37.0</td>\n",
       "      <td>0.0</td>\n",
       "    </tr>\n",
       "    <tr>\n",
       "      <td>204162</td>\n",
       "      <td>4.0</td>\n",
       "      <td>1996</td>\n",
       "      <td>0.0</td>\n",
       "      <td>122</td>\n",
       "      <td>59.0</td>\n",
       "      <td>150000</td>\n",
       "      <td>0</td>\n",
       "      <td>7.0</td>\n",
       "      <td>20.0</td>\n",
       "      <td>0.0</td>\n",
       "    </tr>\n",
       "    <tr>\n",
       "      <td>193087</td>\n",
       "      <td>8.0</td>\n",
       "      <td>2007</td>\n",
       "      <td>1.0</td>\n",
       "      <td>177</td>\n",
       "      <td>44.0</td>\n",
       "      <td>125000</td>\n",
       "      <td>8</td>\n",
       "      <td>2.0</td>\n",
       "      <td>35.0</td>\n",
       "      <td>0.0</td>\n",
       "    </tr>\n",
       "    <tr>\n",
       "      <td>278344</td>\n",
       "      <td>8.0</td>\n",
       "      <td>2011</td>\n",
       "      <td>1.0</td>\n",
       "      <td>105</td>\n",
       "      <td>116.0</td>\n",
       "      <td>80000</td>\n",
       "      <td>7</td>\n",
       "      <td>2.0</td>\n",
       "      <td>37.0</td>\n",
       "      <td>0.0</td>\n",
       "    </tr>\n",
       "    <tr>\n",
       "      <td>274005</td>\n",
       "      <td>0.0</td>\n",
       "      <td>2000</td>\n",
       "      <td>1.0</td>\n",
       "      <td>151</td>\n",
       "      <td>224.0</td>\n",
       "      <td>150000</td>\n",
       "      <td>12</td>\n",
       "      <td>2.0</td>\n",
       "      <td>37.0</td>\n",
       "      <td>0.0</td>\n",
       "    </tr>\n",
       "  </tbody>\n",
       "</table>\n",
       "</div>"
      ],
      "text/plain": [
       "        VehicleType  RegistrationYear  Gearbox  Power  Model  Kilometer  \\\n",
       "200443          5.0              1997      1.0     50  173.0     150000   \n",
       "204162          4.0              1996      0.0    122   59.0     150000   \n",
       "193087          8.0              2007      1.0    177   44.0     125000   \n",
       "278344          8.0              2011      1.0    105  116.0      80000   \n",
       "274005          0.0              2000      1.0    151  224.0     150000   \n",
       "\n",
       "        RegistrationMonth  FuelType  Brand  NotRepaired  \n",
       "200443                 10       7.0   37.0          0.0  \n",
       "204162                  0       7.0   20.0          0.0  \n",
       "193087                  8       2.0   35.0          0.0  \n",
       "278344                  7       2.0   37.0          0.0  \n",
       "274005                 12       2.0   37.0          0.0  "
      ]
     },
     "execution_count": 38,
     "metadata": {},
     "output_type": "execute_result"
    }
   ],
   "source": [
    "features_test.head()"
   ]
  },
  {
   "cell_type": "markdown",
   "metadata": {},
   "source": [
    "Кодирование выполнено."
   ]
  },
  {
   "cell_type": "markdown",
   "metadata": {},
   "source": [
    "### LightGBM"
   ]
  },
  {
   "cell_type": "markdown",
   "metadata": {},
   "source": [
    "Теперь обучим модель LightGBM. Чтобы у двух рассмотренных моделей был хоть какой-то общий знаменатель для сравнения, максимальное количество деревьев установим 1000, и скорость обучения подберём по аналогии с Catboost, чтобы задача сошлась ближе к концу. "
   ]
  },
  {
   "cell_type": "code",
   "execution_count": 39,
   "metadata": {},
   "outputs": [
    {
     "name": "stderr",
     "output_type": "stream",
     "text": [
      "/opt/conda/lib/python3.7/site-packages/lightgbm/basic.py:1291: UserWarning: Using categorical_feature in Dataset.\n",
      "  warnings.warn('Using categorical_feature in Dataset.')\n"
     ]
    },
    {
     "name": "stdout",
     "output_type": "stream",
     "text": [
      "Training until validation scores don't improve for 50 rounds\n",
      "[100]\ttraining's rmse: 1530.85\tvalid_1's rmse: 1638.78\n",
      "[200]\ttraining's rmse: 1453.49\tvalid_1's rmse: 1608.15\n",
      "[300]\ttraining's rmse: 1406.27\tvalid_1's rmse: 1596.84\n",
      "[400]\ttraining's rmse: 1368.92\tvalid_1's rmse: 1587.57\n",
      "[500]\ttraining's rmse: 1340.82\tvalid_1's rmse: 1584.19\n",
      "[600]\ttraining's rmse: 1312.27\tvalid_1's rmse: 1579.98\n",
      "[700]\ttraining's rmse: 1288.22\tvalid_1's rmse: 1576.21\n",
      "[800]\ttraining's rmse: 1268.28\tvalid_1's rmse: 1574.34\n",
      "[900]\ttraining's rmse: 1251.38\tvalid_1's rmse: 1573.34\n",
      "Early stopping, best iteration is:\n",
      "[891]\ttraining's rmse: 1252.65\tvalid_1's rmse: 1572.92\n",
      "CPU times: user 34 s, sys: 0 ns, total: 34 s\n",
      "Wall time: 34.6 s\n"
     ]
    }
   ],
   "source": [
    "%%time\n",
    "\n",
    "train_dataset = lgb.Dataset(features_train, target_train, categorical_feature=cat_features)\n",
    "valid_dataset = lgb.Dataset(features_valid, target_valid, categorical_feature=cat_features)\n",
    "\n",
    "params = {\"objective\": \"regression\",\n",
    "          \"metric\":'rmse',\n",
    "          \"learning_rate\":0.2,\n",
    "          \"seed\":42}\n",
    "\n",
    "lgbm_model = lgb.train(params=params, \n",
    "                       train_set=train_dataset, \n",
    "                       valid_sets=(train_dataset, valid_dataset),\n",
    "                       num_boost_round=1000, \n",
    "                       verbose_eval=100,\n",
    "                       early_stopping_rounds = 50\n",
    "                      )"
   ]
  },
  {
   "cell_type": "markdown",
   "metadata": {},
   "source": [
    "При заданных гиперпараметрах алгоритму LightGBM потребовалась менее 40 секунд, чтобы выполнить 891 итерацию и получить RMSE = 1252 на трейне и RMSE = 1573 на валидации. "
   ]
  },
  {
   "cell_type": "markdown",
   "metadata": {},
   "source": [
    "Сохраним результат. "
   ]
  },
  {
   "cell_type": "code",
   "execution_count": 40,
   "metadata": {},
   "outputs": [],
   "source": [
    "lgbm_train_score = mean_squared_error(target_train, lgbm_model.predict(features_train)) ** 0.5\n",
    "lgbm_valid_score = mean_squared_error(target_valid, lgbm_model.predict(features_valid)) ** 0.5\n",
    "lgbm_train_time = 38.5"
   ]
  },
  {
   "cell_type": "markdown",
   "metadata": {},
   "source": [
    "Оценим время предсказания. "
   ]
  },
  {
   "cell_type": "code",
   "execution_count": 41,
   "metadata": {},
   "outputs": [
    {
     "name": "stdout",
     "output_type": "stream",
     "text": [
      "CPU times: user 4.56 s, sys: 0 ns, total: 4.56 s\n",
      "Wall time: 4.58 s\n"
     ]
    }
   ],
   "source": [
    "%%time\n",
    "\n",
    "lgbm_test_result = lgbm_model.predict(features_test)"
   ]
  },
  {
   "cell_type": "markdown",
   "metadata": {},
   "source": [
    "Около 4.5 секунд. "
   ]
  },
  {
   "cell_type": "code",
   "execution_count": 42,
   "metadata": {},
   "outputs": [
    {
     "data": {
      "text/plain": [
       "1538.152238483256"
      ]
     },
     "execution_count": 42,
     "metadata": {},
     "output_type": "execute_result"
    }
   ],
   "source": [
    "lgbm_predict_time = 4.59\n",
    "lgbm_test_score = mean_squared_error(target_test, lgbm_test_result) ** 0.5\n",
    "lgbm_test_score"
   ]
  },
  {
   "cell_type": "markdown",
   "metadata": {},
   "source": [
    "На тестовой выборке RMSE = 1538."
   ]
  },
  {
   "cell_type": "markdown",
   "metadata": {},
   "source": [
    "### Более простые модели"
   ]
  },
  {
   "cell_type": "markdown",
   "metadata": {},
   "source": [
    "Выполним оценку по более простым моделям - решающему дереву и случайному лесу. "
   ]
  },
  {
   "cell_type": "code",
   "execution_count": 43,
   "metadata": {},
   "outputs": [],
   "source": [
    "model = DecisionTreeRegressor(random_state=42)\n",
    "\n",
    "tree_params = {\n",
    "    'max_depth':[x for x in range(1, 50, 1)], \n",
    "    'min_samples_leaf':[x for x in range(2, 20, 1)],\n",
    "    'min_samples_split':[x for x in range(2, 20, 1)],\n",
    "}\n",
    "\n",
    "tree_grid = RandomizedSearchCV(model, tree_params, \n",
    "                               scoring='neg_mean_squared_error', \n",
    "                               n_iter=20, random_state=45, cv=5)\n",
    "tree_grid.fit(features_train, target_train)\n",
    "\n",
    "tree_model = DecisionTreeRegressor(random_state=42, **tree_grid.best_params_)"
   ]
  },
  {
   "cell_type": "code",
   "execution_count": 44,
   "metadata": {},
   "outputs": [
    {
     "name": "stdout",
     "output_type": "stream",
     "text": [
      "CPU times: user 633 ms, sys: 0 ns, total: 633 ms\n",
      "Wall time: 642 ms\n"
     ]
    },
    {
     "data": {
      "text/plain": [
       "DecisionTreeRegressor(criterion='mse', max_depth=27, max_features=None,\n",
       "                      max_leaf_nodes=None, min_impurity_decrease=0.0,\n",
       "                      min_impurity_split=None, min_samples_leaf=11,\n",
       "                      min_samples_split=6, min_weight_fraction_leaf=0.0,\n",
       "                      presort=False, random_state=42, splitter='best')"
      ]
     },
     "execution_count": 44,
     "metadata": {},
     "output_type": "execute_result"
    }
   ],
   "source": [
    "%%time\n",
    "tree_model.fit(features_train, target_train)"
   ]
  },
  {
   "cell_type": "markdown",
   "metadata": {},
   "source": [
    "С уже подобранными гиперпараметрами модель обучается буквально за полсекунды. "
   ]
  },
  {
   "cell_type": "code",
   "execution_count": 45,
   "metadata": {},
   "outputs": [
    {
     "name": "stdout",
     "output_type": "stream",
     "text": [
      "CPU times: user 18.3 ms, sys: 0 ns, total: 18.3 ms\n",
      "Wall time: 17.1 ms\n"
     ]
    }
   ],
   "source": [
    "%%time\n",
    "tree_test_result = tree_model.predict(features_test)"
   ]
  },
  {
   "cell_type": "markdown",
   "metadata": {},
   "source": [
    "Да и предсказывает практически мгновенно. Осталось увидеть, что она нам предсказывает. "
   ]
  },
  {
   "cell_type": "code",
   "execution_count": 46,
   "metadata": {},
   "outputs": [
    {
     "name": "stdout",
     "output_type": "stream",
     "text": [
      "train RMSE = 1533.4800301255066\n",
      "valid RMSE = 1856.1946886338826\n",
      "test RMSE = 1816.6214250783842\n"
     ]
    }
   ],
   "source": [
    "tree_train_time = 0.667\n",
    "tree_predict_time = 0.017\n",
    "tree_train_score = mean_squared_error(target_train, tree_model.predict(features_train)) ** 0.5\n",
    "tree_valid_score = mean_squared_error(target_valid, tree_model.predict(features_valid)) ** 0.5\n",
    "tree_test_score = mean_squared_error(target_test, tree_model.predict(features_test)) ** 0.5\n",
    "print('train RMSE =', tree_train_score)\n",
    "print('valid RMSE =', tree_valid_score)\n",
    "print('test RMSE =', tree_test_score)"
   ]
  },
  {
   "cell_type": "markdown",
   "metadata": {},
   "source": [
    "Результат заметно хуже бустинговых моделей. Быть может случайный лес даст лучший результат?"
   ]
  },
  {
   "cell_type": "code",
   "execution_count": 47,
   "metadata": {},
   "outputs": [
    {
     "name": "stdout",
     "output_type": "stream",
     "text": [
      "CPU times: user 1min 43s, sys: 0 ns, total: 1min 43s\n",
      "Wall time: 1min 43s\n"
     ]
    }
   ],
   "source": [
    "%%time\n",
    "# Около 2 минут\n",
    "\n",
    "model = RandomForestRegressor(random_state=42)\n",
    "\n",
    "#Сетка поиска сокращена для экономии времени\n",
    "forest_params = {\n",
    "    'n_estimators':[x for x in range(50, 51, 1)],\n",
    "    'max_depth':[x for x in range(18, 19, 1)], \n",
    "    'min_samples_leaf':[x for x in range(5, 6, 1)],\n",
    "    'min_samples_split':[x for x in range(3, 4, 1)],\n",
    "}\n",
    "\n",
    "forest_grid = RandomizedSearchCV(model, forest_params, \n",
    "                                 scoring='neg_mean_squared_error', \n",
    "                                 n_iter=1, random_state=42, cv=5)\n",
    "forest_grid.fit(features_train, np.ravel(target_train))\n",
    "\n",
    "forest_model = RandomForestRegressor(random_state=42, **forest_grid.best_params_)"
   ]
  },
  {
   "cell_type": "code",
   "execution_count": 48,
   "metadata": {},
   "outputs": [
    {
     "name": "stdout",
     "output_type": "stream",
     "text": [
      "CPU times: user 20.4 s, sys: 0 ns, total: 20.4 s\n",
      "Wall time: 20.7 s\n"
     ]
    },
    {
     "data": {
      "text/plain": [
       "RandomForestRegressor(bootstrap=True, criterion='mse', max_depth=18,\n",
       "                      max_features='auto', max_leaf_nodes=None,\n",
       "                      min_impurity_decrease=0.0, min_impurity_split=None,\n",
       "                      min_samples_leaf=5, min_samples_split=3,\n",
       "                      min_weight_fraction_leaf=0.0, n_estimators=50,\n",
       "                      n_jobs=None, oob_score=False, random_state=42, verbose=0,\n",
       "                      warm_start=False)"
      ]
     },
     "execution_count": 48,
     "metadata": {},
     "output_type": "execute_result"
    }
   ],
   "source": [
    "%%time\n",
    "forest_model.fit(features_train, np.ravel(target_train))"
   ]
  },
  {
   "cell_type": "markdown",
   "metadata": {},
   "source": [
    "Подбор гиперпараметров для алгоритма случайного леса занимает много времени. Модель с выбранными параметрами в нашем случае обучается чуть дольше 30 секунд. "
   ]
  },
  {
   "cell_type": "code",
   "execution_count": 49,
   "metadata": {},
   "outputs": [
    {
     "name": "stdout",
     "output_type": "stream",
     "text": [
      "CPU times: user 18.1 ms, sys: 0 ns, total: 18.1 ms\n",
      "Wall time: 16.7 ms\n"
     ]
    }
   ],
   "source": [
    "%%time\n",
    "tree_test_result = tree_model.predict(features_test)"
   ]
  },
  {
   "cell_type": "markdown",
   "metadata": {},
   "source": [
    "Предсказание результата осуществляется за несколько милисекунд. "
   ]
  },
  {
   "cell_type": "code",
   "execution_count": 50,
   "metadata": {},
   "outputs": [
    {
     "name": "stdout",
     "output_type": "stream",
     "text": [
      "train RMSE = 1330.0036011547948\n",
      "valid RMSE = 1684.0391017679228\n",
      "test RMSE = 1643.1879201361844\n"
     ]
    }
   ],
   "source": [
    "forest_train_time = 34\n",
    "forest_predict_time = 0.02\n",
    "forest_train_score = mean_squared_error(target_train, forest_model.predict(features_train)) ** 0.5\n",
    "forest_valid_score = mean_squared_error(target_valid, forest_model.predict(features_valid)) ** 0.5\n",
    "forest_test_score = mean_squared_error(target_test, forest_model.predict(features_test)) ** 0.5\n",
    "print('train RMSE =', forest_train_score)\n",
    "print('valid RMSE =', forest_valid_score)\n",
    "print('test RMSE =', forest_test_score)"
   ]
  },
  {
   "cell_type": "markdown",
   "metadata": {},
   "source": [
    "Точность прогноза средняя. "
   ]
  },
  {
   "cell_type": "markdown",
   "metadata": {},
   "source": [
    "## Анализ моделей"
   ]
  },
  {
   "cell_type": "markdown",
   "metadata": {},
   "source": [
    "Сформирует сводную таблицу с достигнутыми результатами. "
   ]
  },
  {
   "cell_type": "code",
   "execution_count": 51,
   "metadata": {},
   "outputs": [
    {
     "data": {
      "text/html": [
       "<div>\n",
       "<style scoped>\n",
       "    .dataframe tbody tr th:only-of-type {\n",
       "        vertical-align: middle;\n",
       "    }\n",
       "\n",
       "    .dataframe tbody tr th {\n",
       "        vertical-align: top;\n",
       "    }\n",
       "\n",
       "    .dataframe thead th {\n",
       "        text-align: right;\n",
       "    }\n",
       "</style>\n",
       "<table border=\"1\" class=\"dataframe\">\n",
       "  <thead>\n",
       "    <tr style=\"text-align: right;\">\n",
       "      <th></th>\n",
       "      <th>Train_RMSE</th>\n",
       "      <th>Valid_RMSE</th>\n",
       "      <th>Test_RMSE</th>\n",
       "      <th>Train_Time[s]</th>\n",
       "      <th>Predict_Time[s]</th>\n",
       "    </tr>\n",
       "  </thead>\n",
       "  <tbody>\n",
       "    <tr>\n",
       "      <td>Catboost</td>\n",
       "      <td>1371.986799</td>\n",
       "      <td>1587.855718</td>\n",
       "      <td>1560.185823</td>\n",
       "      <td>95.000</td>\n",
       "      <td>0.250</td>\n",
       "    </tr>\n",
       "    <tr>\n",
       "      <td>LightGBM</td>\n",
       "      <td>1252.649077</td>\n",
       "      <td>1572.923173</td>\n",
       "      <td>1538.152238</td>\n",
       "      <td>38.500</td>\n",
       "      <td>4.590</td>\n",
       "    </tr>\n",
       "    <tr>\n",
       "      <td>RandomForest</td>\n",
       "      <td>1330.003601</td>\n",
       "      <td>1684.039102</td>\n",
       "      <td>1643.187920</td>\n",
       "      <td>34.000</td>\n",
       "      <td>0.020</td>\n",
       "    </tr>\n",
       "    <tr>\n",
       "      <td>RandomTree</td>\n",
       "      <td>1533.480030</td>\n",
       "      <td>1856.194689</td>\n",
       "      <td>1816.621425</td>\n",
       "      <td>0.667</td>\n",
       "      <td>0.017</td>\n",
       "    </tr>\n",
       "  </tbody>\n",
       "</table>\n",
       "</div>"
      ],
      "text/plain": [
       "               Train_RMSE   Valid_RMSE    Test_RMSE  Train_Time[s]  \\\n",
       "Catboost      1371.986799  1587.855718  1560.185823         95.000   \n",
       "LightGBM      1252.649077  1572.923173  1538.152238         38.500   \n",
       "RandomForest  1330.003601  1684.039102  1643.187920         34.000   \n",
       "RandomTree    1533.480030  1856.194689  1816.621425          0.667   \n",
       "\n",
       "              Predict_Time[s]  \n",
       "Catboost                0.250  \n",
       "LightGBM                4.590  \n",
       "RandomForest            0.020  \n",
       "RandomTree              0.017  "
      ]
     },
     "execution_count": 51,
     "metadata": {},
     "output_type": "execute_result"
    }
   ],
   "source": [
    "data = [\n",
    "    [cb_train_score, cb_valid_score, cb_test_score, cb_train_time, cb_predict_time],\n",
    "    [lgbm_train_score, lgbm_valid_score, lgbm_test_score, lgbm_train_time, lgbm_predict_time],\n",
    "    [forest_train_score, forest_valid_score, forest_test_score, forest_train_time, forest_predict_time],\n",
    "    [tree_train_score, tree_valid_score, tree_test_score, tree_train_time, tree_predict_time]\n",
    "       ]\n",
    "     \n",
    "index = ['Catboost','LightGBM', 'RandomForest', 'RandomTree']\n",
    "columns = ['Train_RMSE', 'Valid_RMSE', 'Test_RMSE', 'Train_Time[s]', 'Predict_Time[s]']\n",
    "final = pd.DataFrame(data, index=index, columns=columns)\n",
    "final"
   ]
  },
  {
   "cell_type": "markdown",
   "metadata": {},
   "source": [
    "Для более наглядного сравнения посмотрим на диаграммы."
   ]
  },
  {
   "cell_type": "code",
   "execution_count": 52,
   "metadata": {},
   "outputs": [
    {
     "data": {
      "image/png": "[encoded data removed]",
      "text/plain": [
       "<Figure size 864x216 with 1 Axes>"
      ]
     },
     "metadata": {
      "needs_background": "light"
     },
     "output_type": "display_data"
    },
    {
     "data": {
      "image/png": "[encoded data removed]",
      "text/plain": [
       "<Figure size 864x216 with 1 Axes>"
      ]
     },
     "metadata": {
      "needs_background": "light"
     },
     "output_type": "display_data"
    },
    {
     "data": {
      "image/png": "[encoded data removed]",
      "text/plain": [
       "<Figure size 864x216 with 1 Axes>"
      ]
     },
     "metadata": {
      "needs_background": "light"
     },
     "output_type": "display_data"
    }
   ],
   "source": [
    "for col in columns[:3]:\n",
    "    plt.figure(figsize=(12, 3))\n",
    "    sns.barplot(y=index, x=col, data=final)\n",
    "    plt.xlim(0,2000)\n",
    "    plt.show()"
   ]
  },
  {
   "cell_type": "markdown",
   "metadata": {},
   "source": [
    "Наибольшей точностью прогноза обладает алгоритм LGBM, модель Catboost отстаёт не сильно. Хуже всего модель случайного дерева, а лес где-то посреди. Посмотрим, как эти результаты соотносятся с константной моделью. "
   ]
  },
  {
   "cell_type": "code",
   "execution_count": 53,
   "metadata": {},
   "outputs": [
    {
     "data": {
      "text/plain": [
       "4622.993624352761"
      ]
     },
     "execution_count": 53,
     "metadata": {},
     "output_type": "execute_result"
    }
   ],
   "source": [
    "df['Price'].mean()"
   ]
  },
  {
   "cell_type": "code",
   "execution_count": 54,
   "metadata": {},
   "outputs": [
    {
     "data": {
      "text/plain": [
       "4521.236842207682"
      ]
     },
     "execution_count": 54,
     "metadata": {},
     "output_type": "execute_result"
    }
   ],
   "source": [
    "mean_squared_error(target_test['Price'], \n",
    "                   pd.Series(target_train['Price'].mean(), \n",
    "                   index=target_test.index)) ** 0.5"
   ]
  },
  {
   "cell_type": "markdown",
   "metadata": {},
   "source": [
    "При средней цене подержаных авто в 4600 евро, точность прогноза всех моделей 35-40% от этой величины. Насколько это удовлетворительно по исходным данным судить сложно. Но все модели работают значительно лучше константной модели и это хорошо.  \n",
    "Оценим время работы. "
   ]
  },
  {
   "cell_type": "code",
   "execution_count": 55,
   "metadata": {},
   "outputs": [
    {
     "data": {
      "image/png": "[encoded data removed]",
      "text/plain": [
       "<Figure size 864x216 with 1 Axes>"
      ]
     },
     "metadata": {
      "needs_background": "light"
     },
     "output_type": "display_data"
    },
    {
     "data": {
      "image/png": "[encoded data removed]",
      "text/plain": [
       "<Figure size 864x216 with 1 Axes>"
      ]
     },
     "metadata": {
      "needs_background": "light"
     },
     "output_type": "display_data"
    }
   ],
   "source": [
    "for col in columns[3:]:\n",
    "    plt.figure(figsize=(12, 3))\n",
    "    sns.barplot(y=index, x=col, data=final)\n",
    "    plt.show()"
   ]
  },
  {
   "cell_type": "markdown",
   "metadata": {},
   "source": [
    "Обучение моделей при условии уже выбранных гиперпараметров может занимать значительное время, особенно если искать варианты с наиболее точным предсказанием. В текущей работе рассмотрены модели с адекватным временем обучения в примерно одинаковых условиях. Наибольшее время обучения занимает у модели градиентного бустинга Catboost. LGBM и случайный лес обучаются вдвое быстрее. А одинокое дерево - практически мгновенно. Скорость предсказания у леса и дерева максимальная - несколько милисекунд, Кэтбуст справляется за четверть секунды, а вот LGBM предсказывает результат на порядок дольше - несколько секунд. "
   ]
  },
  {
   "cell_type": "markdown",
   "metadata": {},
   "source": [
    "## Заключение"
   ]
  },
  {
   "cell_type": "markdown",
   "metadata": {},
   "source": [
    "На основании исходных данных выполнено построение четырёх моделей машинного обучения для быстрой предварительной оценки подержаных автомобилей в интересах сервиса \"Не бит, не крашен\".  \n",
    "\n",
    "Достигнутые результаты показывают, что наибольшей точностью предсказания обладают алгоритмы градиентного бустинга LightGBM и Catboost, RMSE = 1538 и 1560 соответственно, но при схожих настройках LightGBM обучается вдвое быстрее, хотя время предсказания у него достаточно долгое - на имеющейся тестовой выборке более 4 секунд, что может быть критичным для нормальной работы приложения. Catboost хоть и обучается дольше, но предсказание выполняет за четверть секунды при близком значении качества. \n",
    "\n",
    "Из более простых моделей неплохо показал себя алгоритм случайного леса. Скорость обучения наравне с LGBM, но скорость предсказания почти моментальная. Финальное RMSE = 1640, что несколько хуже бустинговых моделей. Алгоритм случайного дерева обучается быстрее всех и предсказывает быстрее всех, но и RMSE = 1816, что является наихудшим результатом. \n",
    "\n",
    "Таким образом, если приоритет Заказчика в первую очередь направлен на качество предсказания, и он обладает достаточными вычислительными ресурсами для обработки большого количество запросов на оценку, то ему стоит обратить внимание на модель с алгоритмом LightGBM. Если же Заказчику важен баланс между качестом/скоростью предсказаний и есть время/ресурсы на длительное обучение модели, то вполне подойдёт Catboost. Если же приоритет сместить в сторону быстродействия, не взирая на качество предсказания, то можно обойтись и простыми деревьями или их ансамблем. \n",
    "\n",
    "В случае возникновения дополнительных условий или новых входных данных, наша команда готова продолжать работы согласно установленного прайс-листа. "
   ]
  }
 ],
 "metadata": {
  "ExecuteTimeLog": [
   {
    "duration": 548,
    "start_time": "2021-07-06T17:17:42.705Z"
   },
   {
    "duration": 775,
    "start_time": "2021-07-06T17:18:04.356Z"
   },
   {
    "duration": 126,
    "start_time": "2021-07-06T17:18:37.488Z"
   },
   {
    "duration": 129,
    "start_time": "2021-07-06T17:18:58.594Z"
   },
   {
    "duration": 123,
    "start_time": "2021-07-06T17:19:37.316Z"
   },
   {
    "duration": 146,
    "start_time": "2021-07-06T17:20:52.852Z"
   },
   {
    "duration": 118,
    "start_time": "2021-07-06T17:21:00.759Z"
   },
   {
    "duration": 566,
    "start_time": "2021-07-07T09:22:02.080Z"
   },
   {
    "duration": 10,
    "start_time": "2021-07-07T09:22:19.704Z"
   },
   {
    "duration": 474,
    "start_time": "2021-07-07T09:22:46.720Z"
   },
   {
    "duration": 4,
    "start_time": "2021-07-07T09:22:56.364Z"
   },
   {
    "duration": 2,
    "start_time": "2021-07-07T11:38:49.184Z"
   },
   {
    "duration": 811,
    "start_time": "2021-07-07T11:38:50.866Z"
   },
   {
    "duration": 118,
    "start_time": "2021-07-07T11:38:55.192Z"
   },
   {
    "duration": 282,
    "start_time": "2021-07-07T11:56:04.800Z"
   },
   {
    "duration": 381,
    "start_time": "2021-07-07T11:56:23.978Z"
   },
   {
    "duration": 514,
    "start_time": "2021-07-07T11:56:38.685Z"
   },
   {
    "duration": 3649,
    "start_time": "2021-07-07T11:57:19.342Z"
   },
   {
    "duration": 20,
    "start_time": "2021-07-07T11:58:47.138Z"
   },
   {
    "duration": 19,
    "start_time": "2021-07-07T11:59:31.056Z"
   },
   {
    "duration": 3,
    "start_time": "2021-07-07T12:00:53.515Z"
   },
   {
    "duration": 4,
    "start_time": "2021-07-07T12:03:02.422Z"
   },
   {
    "duration": 45,
    "start_time": "2021-07-07T12:05:06.505Z"
   },
   {
    "duration": 3,
    "start_time": "2021-07-07T12:06:09.098Z"
   },
   {
    "duration": 435,
    "start_time": "2021-07-07T12:11:37.254Z"
   },
   {
    "duration": 292,
    "start_time": "2021-07-07T12:11:57.531Z"
   },
   {
    "duration": 42,
    "start_time": "2021-07-07T12:14:13.416Z"
   },
   {
    "duration": 6525,
    "start_time": "2021-07-07T12:14:42.267Z"
   },
   {
    "duration": 5,
    "start_time": "2021-07-07T12:27:19.131Z"
   },
   {
    "duration": 180,
    "start_time": "2021-07-07T12:28:39.204Z"
   },
   {
    "duration": 34,
    "start_time": "2021-07-07T12:30:02.914Z"
   },
   {
    "duration": -755,
    "start_time": "2021-07-07T12:33:25.503Z"
   },
   {
    "duration": 23,
    "start_time": "2021-07-07T12:33:30.208Z"
   },
   {
    "duration": 23,
    "start_time": "2021-07-07T12:34:21.474Z"
   },
   {
    "duration": 37,
    "start_time": "2021-07-07T12:38:59.122Z"
   },
   {
    "duration": 20,
    "start_time": "2021-07-07T12:48:12.783Z"
   },
   {
    "duration": 19,
    "start_time": "2021-07-07T12:48:38.570Z"
   },
   {
    "duration": 32,
    "start_time": "2021-07-07T12:49:17.646Z"
   },
   {
    "duration": 8,
    "start_time": "2021-07-07T12:50:17.222Z"
   },
   {
    "duration": 35,
    "start_time": "2021-07-07T12:52:15.167Z"
   },
   {
    "duration": 32,
    "start_time": "2021-07-07T12:52:36.167Z"
   },
   {
    "duration": 31,
    "start_time": "2021-07-07T12:52:40.844Z"
   },
   {
    "duration": 33,
    "start_time": "2021-07-07T12:58:14.370Z"
   },
   {
    "duration": 33,
    "start_time": "2021-07-07T12:59:02.814Z"
   },
   {
    "duration": 5087,
    "start_time": "2021-07-07T13:35:58.510Z"
   },
   {
    "duration": 32,
    "start_time": "2021-07-07T13:36:09.533Z"
   },
   {
    "duration": 7,
    "start_time": "2021-07-07T13:38:20.765Z"
   },
   {
    "duration": 192,
    "start_time": "2021-07-07T13:43:43.032Z"
   },
   {
    "duration": 1908,
    "start_time": "2021-07-07T13:44:17.066Z"
   },
   {
    "duration": 10,
    "start_time": "2021-07-07T13:45:32.878Z"
   },
   {
    "duration": 10,
    "start_time": "2021-07-07T13:46:07.880Z"
   },
   {
    "duration": 8,
    "start_time": "2021-07-07T13:46:31.028Z"
   },
   {
    "duration": 5,
    "start_time": "2021-07-07T13:46:40.142Z"
   },
   {
    "duration": 5,
    "start_time": "2021-07-07T13:46:47.424Z"
   },
   {
    "duration": 4,
    "start_time": "2021-07-07T13:50:07.404Z"
   },
   {
    "duration": 67,
    "start_time": "2021-07-07T14:00:34.370Z"
   },
   {
    "duration": 9,
    "start_time": "2021-07-07T14:00:56.607Z"
   },
   {
    "duration": 9,
    "start_time": "2021-07-07T14:01:33.238Z"
   },
   {
    "duration": 61,
    "start_time": "2021-07-07T14:01:44.242Z"
   },
   {
    "duration": 9,
    "start_time": "2021-07-07T14:02:02.300Z"
   },
   {
    "duration": 9,
    "start_time": "2021-07-07T14:02:18.213Z"
   },
   {
    "duration": 10,
    "start_time": "2021-07-07T14:02:29.304Z"
   },
   {
    "duration": 10,
    "start_time": "2021-07-07T14:02:34.918Z"
   },
   {
    "duration": 1358,
    "start_time": "2021-07-08T08:07:48.803Z"
   },
   {
    "duration": 1154,
    "start_time": "2021-07-08T08:07:50.164Z"
   },
   {
    "duration": 208,
    "start_time": "2021-07-08T08:07:51.322Z"
   },
   {
    "duration": 48,
    "start_time": "2021-07-08T08:07:51.533Z"
   },
   {
    "duration": 56,
    "start_time": "2021-07-08T08:07:51.583Z"
   },
   {
    "duration": 58,
    "start_time": "2021-07-08T08:07:51.642Z"
   },
   {
    "duration": 8,
    "start_time": "2021-07-08T08:07:51.703Z"
   },
   {
    "duration": 14,
    "start_time": "2021-07-08T08:07:51.714Z"
   },
   {
    "duration": 9,
    "start_time": "2021-07-08T08:07:51.730Z"
   },
   {
    "duration": 16,
    "start_time": "2021-07-08T08:07:51.741Z"
   },
   {
    "duration": 81,
    "start_time": "2021-07-08T08:11:26.171Z"
   },
   {
    "duration": 425,
    "start_time": "2021-07-08T08:11:33.168Z"
   },
   {
    "duration": 6,
    "start_time": "2021-07-08T08:11:36.319Z"
   },
   {
    "duration": 7,
    "start_time": "2021-07-08T08:12:24.222Z"
   },
   {
    "duration": 8,
    "start_time": "2021-07-08T08:12:59.938Z"
   },
   {
    "duration": 6,
    "start_time": "2021-07-08T08:13:35.190Z"
   },
   {
    "duration": 9,
    "start_time": "2021-07-08T08:14:31.754Z"
   },
   {
    "duration": 328,
    "start_time": "2021-07-08T08:32:41.223Z"
   },
   {
    "duration": 20,
    "start_time": "2021-07-08T08:32:49.115Z"
   },
   {
    "duration": 7,
    "start_time": "2021-07-08T08:34:45.193Z"
   },
   {
    "duration": 20,
    "start_time": "2021-07-08T08:35:02.680Z"
   },
   {
    "duration": 47,
    "start_time": "2021-07-08T08:36:44.430Z"
   },
   {
    "duration": 8,
    "start_time": "2021-07-08T08:37:42.610Z"
   },
   {
    "duration": 9,
    "start_time": "2021-07-08T08:37:52.578Z"
   },
   {
    "duration": 7,
    "start_time": "2021-07-08T08:38:26.307Z"
   },
   {
    "duration": 25,
    "start_time": "2021-07-08T08:46:08.497Z"
   },
   {
    "duration": 633,
    "start_time": "2021-07-08T08:51:38.380Z"
   },
   {
    "duration": 326,
    "start_time": "2021-07-08T11:14:54.018Z"
   },
   {
    "duration": 1014,
    "start_time": "2021-07-08T11:15:09.607Z"
   },
   {
    "duration": 693,
    "start_time": "2021-07-08T11:15:10.623Z"
   },
   {
    "duration": 119,
    "start_time": "2021-07-08T11:15:11.318Z"
   },
   {
    "duration": 33,
    "start_time": "2021-07-08T11:15:11.439Z"
   },
   {
    "duration": 39,
    "start_time": "2021-07-08T11:15:11.474Z"
   },
   {
    "duration": 30,
    "start_time": "2021-07-08T11:15:11.515Z"
   },
   {
    "duration": 7,
    "start_time": "2021-07-08T11:15:11.547Z"
   },
   {
    "duration": 4,
    "start_time": "2021-07-08T11:15:11.555Z"
   },
   {
    "duration": 3,
    "start_time": "2021-07-08T11:15:11.593Z"
   },
   {
    "duration": 11,
    "start_time": "2021-07-08T11:15:11.598Z"
   },
   {
    "duration": 48,
    "start_time": "2021-07-08T11:15:11.610Z"
   },
   {
    "duration": 5,
    "start_time": "2021-07-08T11:15:11.659Z"
   },
   {
    "duration": 27,
    "start_time": "2021-07-08T11:15:11.665Z"
   },
   {
    "duration": 16,
    "start_time": "2021-07-08T11:15:11.693Z"
   },
   {
    "duration": 12,
    "start_time": "2021-07-08T11:15:11.710Z"
   },
   {
    "duration": 5,
    "start_time": "2021-07-08T11:15:11.723Z"
   },
   {
    "duration": 398,
    "start_time": "2021-07-08T11:15:11.729Z"
   },
   {
    "duration": 57,
    "start_time": "2021-07-08T11:18:58.371Z"
   },
   {
    "duration": 6,
    "start_time": "2021-07-08T11:18:59.375Z"
   },
   {
    "duration": 364,
    "start_time": "2021-07-08T11:19:29.819Z"
   },
   {
    "duration": 747,
    "start_time": "2021-07-08T11:20:18.369Z"
   },
   {
    "duration": 310,
    "start_time": "2021-07-08T11:20:41.273Z"
   },
   {
    "duration": 796,
    "start_time": "2021-07-08T11:20:51.343Z"
   },
   {
    "duration": 374,
    "start_time": "2021-07-08T11:21:46.653Z"
   },
   {
    "duration": 420,
    "start_time": "2021-07-08T11:22:00.417Z"
   },
   {
    "duration": 3,
    "start_time": "2021-07-08T11:22:08.801Z"
   },
   {
    "duration": 42,
    "start_time": "2021-07-08T11:39:37.469Z"
   },
   {
    "duration": 30,
    "start_time": "2021-07-08T11:40:00.255Z"
   },
   {
    "duration": 22,
    "start_time": "2021-07-08T11:40:46.389Z"
   },
   {
    "duration": 29,
    "start_time": "2021-07-08T11:40:49.660Z"
   },
   {
    "duration": 31,
    "start_time": "2021-07-08T11:42:11.553Z"
   },
   {
    "duration": 40,
    "start_time": "2021-07-08T11:43:51.366Z"
   },
   {
    "duration": 15,
    "start_time": "2021-07-08T11:47:23.910Z"
   },
   {
    "duration": 19,
    "start_time": "2021-07-08T11:47:24.501Z"
   },
   {
    "duration": 16,
    "start_time": "2021-07-08T11:56:08.151Z"
   },
   {
    "duration": 109,
    "start_time": "2021-07-08T11:56:24.789Z"
   },
   {
    "duration": 19,
    "start_time": "2021-07-08T11:57:51.110Z"
   },
   {
    "duration": 37,
    "start_time": "2021-07-08T11:58:26.211Z"
   },
   {
    "duration": 3,
    "start_time": "2021-07-08T12:07:34.453Z"
   },
   {
    "duration": 369,
    "start_time": "2021-07-08T12:09:41.909Z"
   },
   {
    "duration": 225,
    "start_time": "2021-07-08T12:10:05.334Z"
   },
   {
    "duration": 235,
    "start_time": "2021-07-08T12:10:26.130Z"
   },
   {
    "duration": 76,
    "start_time": "2021-07-08T12:10:44.549Z"
   },
   {
    "duration": 77,
    "start_time": "2021-07-08T12:11:00.964Z"
   },
   {
    "duration": 251,
    "start_time": "2021-07-08T12:11:09.663Z"
   },
   {
    "duration": 81,
    "start_time": "2021-07-08T12:11:35.729Z"
   },
   {
    "duration": 3,
    "start_time": "2021-07-08T12:11:41.608Z"
   },
   {
    "duration": 95,
    "start_time": "2021-07-08T12:13:12.770Z"
   },
   {
    "duration": 1053,
    "start_time": "2021-07-08T12:14:03.764Z"
   },
   {
    "duration": 714,
    "start_time": "2021-07-08T12:14:04.819Z"
   },
   {
    "duration": 109,
    "start_time": "2021-07-08T12:14:05.535Z"
   },
   {
    "duration": 30,
    "start_time": "2021-07-08T12:14:05.645Z"
   },
   {
    "duration": 124,
    "start_time": "2021-07-08T12:14:05.676Z"
   },
   {
    "duration": 32,
    "start_time": "2021-07-08T12:14:05.802Z"
   },
   {
    "duration": 16,
    "start_time": "2021-07-08T12:14:05.836Z"
   },
   {
    "duration": 43,
    "start_time": "2021-07-08T12:14:05.855Z"
   },
   {
    "duration": 16,
    "start_time": "2021-07-08T12:14:05.900Z"
   },
   {
    "duration": 95,
    "start_time": "2021-07-08T12:14:05.917Z"
   },
   {
    "duration": 7,
    "start_time": "2021-07-08T12:14:06.014Z"
   },
   {
    "duration": 5,
    "start_time": "2021-07-08T12:14:06.023Z"
   },
   {
    "duration": 5,
    "start_time": "2021-07-08T12:14:06.029Z"
   },
   {
    "duration": 10,
    "start_time": "2021-07-08T12:14:06.035Z"
   },
   {
    "duration": 77,
    "start_time": "2021-07-08T12:14:06.047Z"
   },
   {
    "duration": 7,
    "start_time": "2021-07-08T12:14:06.125Z"
   },
   {
    "duration": 6,
    "start_time": "2021-07-08T12:14:06.133Z"
   },
   {
    "duration": 17,
    "start_time": "2021-07-08T12:14:06.141Z"
   },
   {
    "duration": 40,
    "start_time": "2021-07-08T12:14:06.160Z"
   },
   {
    "duration": 53,
    "start_time": "2021-07-08T12:14:06.202Z"
   },
   {
    "duration": 298,
    "start_time": "2021-07-08T12:14:06.257Z"
   },
   {
    "duration": 324,
    "start_time": "2021-07-08T12:14:06.557Z"
   },
   {
    "duration": 17,
    "start_time": "2021-07-08T12:19:38.238Z"
   },
   {
    "duration": 237,
    "start_time": "2021-07-08T12:20:26.581Z"
   },
   {
    "duration": 832,
    "start_time": "2021-07-08T12:21:05.791Z"
   },
   {
    "duration": 193,
    "start_time": "2021-07-08T12:21:18.730Z"
   },
   {
    "duration": 233,
    "start_time": "2021-07-08T12:21:27.479Z"
   },
   {
    "duration": 299,
    "start_time": "2021-07-08T12:22:36.955Z"
   },
   {
    "duration": 176,
    "start_time": "2021-07-08T12:23:37.699Z"
   },
   {
    "duration": 318,
    "start_time": "2021-07-08T12:23:49.705Z"
   },
   {
    "duration": 326,
    "start_time": "2021-07-08T12:49:51.751Z"
   },
   {
    "duration": 1775,
    "start_time": "2021-07-08T12:49:59.626Z"
   },
   {
    "duration": 206,
    "start_time": "2021-07-08T12:50:14.411Z"
   },
   {
    "duration": 2,
    "start_time": "2021-07-08T12:52:01.126Z"
   },
   {
    "duration": 686,
    "start_time": "2021-07-08T12:52:01.148Z"
   },
   {
    "duration": 112,
    "start_time": "2021-07-08T12:52:01.836Z"
   },
   {
    "duration": 29,
    "start_time": "2021-07-08T12:52:01.950Z"
   },
   {
    "duration": 24,
    "start_time": "2021-07-08T12:52:01.981Z"
   },
   {
    "duration": 35,
    "start_time": "2021-07-08T12:52:02.007Z"
   },
   {
    "duration": 19,
    "start_time": "2021-07-08T12:52:02.043Z"
   },
   {
    "duration": 42,
    "start_time": "2021-07-08T12:52:02.063Z"
   },
   {
    "duration": 14,
    "start_time": "2021-07-08T12:52:02.108Z"
   },
   {
    "duration": 87,
    "start_time": "2021-07-08T12:52:02.124Z"
   },
   {
    "duration": 6,
    "start_time": "2021-07-08T12:52:02.212Z"
   },
   {
    "duration": 7,
    "start_time": "2021-07-08T12:52:02.219Z"
   },
   {
    "duration": 11,
    "start_time": "2021-07-08T12:52:02.227Z"
   },
   {
    "duration": 18,
    "start_time": "2021-07-08T12:52:02.240Z"
   },
   {
    "duration": 55,
    "start_time": "2021-07-08T12:52:02.260Z"
   },
   {
    "duration": 5,
    "start_time": "2021-07-08T12:52:02.317Z"
   },
   {
    "duration": 5,
    "start_time": "2021-07-08T12:52:02.324Z"
   },
   {
    "duration": 16,
    "start_time": "2021-07-08T12:52:02.330Z"
   },
   {
    "duration": 11,
    "start_time": "2021-07-08T12:52:02.348Z"
   },
   {
    "duration": 76,
    "start_time": "2021-07-08T12:52:02.361Z"
   },
   {
    "duration": 17,
    "start_time": "2021-07-08T12:52:18.373Z"
   },
   {
    "duration": 7,
    "start_time": "2021-07-08T12:59:35.009Z"
   },
   {
    "duration": 6,
    "start_time": "2021-07-08T13:01:23.389Z"
   },
   {
    "duration": 22,
    "start_time": "2021-07-08T13:02:45.904Z"
   },
   {
    "duration": 14,
    "start_time": "2021-07-08T13:04:00.800Z"
   },
   {
    "duration": 226,
    "start_time": "2021-07-08T13:08:54.660Z"
   },
   {
    "duration": 256,
    "start_time": "2021-07-08T13:09:18.593Z"
   },
   {
    "duration": 380,
    "start_time": "2021-07-08T13:09:37.863Z"
   },
   {
    "duration": 255,
    "start_time": "2021-07-08T13:10:19.093Z"
   },
   {
    "duration": 323,
    "start_time": "2021-07-08T13:10:25.791Z"
   },
   {
    "duration": 1060,
    "start_time": "2021-07-08T13:15:46.177Z"
   },
   {
    "duration": 144,
    "start_time": "2021-07-08T13:16:03.478Z"
   },
   {
    "duration": 224,
    "start_time": "2021-07-08T13:19:25.127Z"
   },
   {
    "duration": 29,
    "start_time": "2021-07-08T13:19:32.368Z"
   },
   {
    "duration": 271,
    "start_time": "2021-07-08T13:19:39.362Z"
   },
   {
    "duration": 142,
    "start_time": "2021-07-08T13:21:20.225Z"
   },
   {
    "duration": 112,
    "start_time": "2021-07-08T13:22:04.307Z"
   },
   {
    "duration": 11,
    "start_time": "2021-07-08T13:25:54.656Z"
   },
   {
    "duration": 9,
    "start_time": "2021-07-08T13:25:59.949Z"
   },
   {
    "duration": 10,
    "start_time": "2021-07-08T13:26:04.349Z"
   },
   {
    "duration": 10,
    "start_time": "2021-07-08T13:26:10.830Z"
   },
   {
    "duration": 9,
    "start_time": "2021-07-08T13:28:20.529Z"
   },
   {
    "duration": 9,
    "start_time": "2021-07-08T13:28:35.378Z"
   },
   {
    "duration": 10,
    "start_time": "2021-07-08T13:28:46.856Z"
   },
   {
    "duration": 10,
    "start_time": "2021-07-08T13:28:58.782Z"
   },
   {
    "duration": 9,
    "start_time": "2021-07-08T13:29:04.609Z"
   },
   {
    "duration": 9,
    "start_time": "2021-07-08T13:29:09.491Z"
   },
   {
    "duration": 9,
    "start_time": "2021-07-08T13:29:38.003Z"
   },
   {
    "duration": 10,
    "start_time": "2021-07-08T13:30:33.399Z"
   },
   {
    "duration": 49,
    "start_time": "2021-07-08T13:44:34.262Z"
   },
   {
    "duration": 30,
    "start_time": "2021-07-08T13:45:07.471Z"
   },
   {
    "duration": 50,
    "start_time": "2021-07-08T13:45:32.435Z"
   },
   {
    "duration": 296,
    "start_time": "2021-07-08T13:45:37.890Z"
   },
   {
    "duration": 314,
    "start_time": "2021-07-08T13:45:41.736Z"
   },
   {
    "duration": 1479,
    "start_time": "2021-07-09T09:51:54.980Z"
   },
   {
    "duration": 693,
    "start_time": "2021-07-09T09:51:56.461Z"
   },
   {
    "duration": 109,
    "start_time": "2021-07-09T09:51:57.156Z"
   },
   {
    "duration": 36,
    "start_time": "2021-07-09T09:51:57.267Z"
   },
   {
    "duration": 15,
    "start_time": "2021-07-09T09:51:57.305Z"
   },
   {
    "duration": 32,
    "start_time": "2021-07-09T09:51:57.321Z"
   },
   {
    "duration": 14,
    "start_time": "2021-07-09T09:51:57.354Z"
   },
   {
    "duration": 47,
    "start_time": "2021-07-09T09:51:57.370Z"
   },
   {
    "duration": 13,
    "start_time": "2021-07-09T09:51:57.419Z"
   },
   {
    "duration": 91,
    "start_time": "2021-07-09T09:51:57.434Z"
   },
   {
    "duration": 5,
    "start_time": "2021-07-09T09:51:57.527Z"
   },
   {
    "duration": 4,
    "start_time": "2021-07-09T09:51:57.533Z"
   },
   {
    "duration": 5,
    "start_time": "2021-07-09T09:51:57.539Z"
   },
   {
    "duration": 10,
    "start_time": "2021-07-09T09:51:57.545Z"
   },
   {
    "duration": 71,
    "start_time": "2021-07-09T09:51:57.557Z"
   },
   {
    "duration": 5,
    "start_time": "2021-07-09T09:51:57.630Z"
   },
   {
    "duration": 6,
    "start_time": "2021-07-09T09:51:57.637Z"
   },
   {
    "duration": 16,
    "start_time": "2021-07-09T09:51:57.645Z"
   },
   {
    "duration": 36,
    "start_time": "2021-07-09T09:51:57.663Z"
   },
   {
    "duration": 51,
    "start_time": "2021-07-09T09:51:57.701Z"
   },
   {
    "duration": 16,
    "start_time": "2021-07-09T09:51:57.754Z"
   },
   {
    "duration": 22,
    "start_time": "2021-07-09T09:51:57.771Z"
   },
   {
    "duration": 13,
    "start_time": "2021-07-09T09:51:57.795Z"
   },
   {
    "duration": 134,
    "start_time": "2021-07-09T09:51:57.809Z"
   },
   {
    "duration": 55,
    "start_time": "2021-07-09T09:51:57.945Z"
   },
   {
    "duration": 303,
    "start_time": "2021-07-09T09:51:58.002Z"
   },
   {
    "duration": 352,
    "start_time": "2021-07-09T09:51:58.306Z"
   },
   {
    "duration": 4,
    "start_time": "2021-07-09T10:14:11.046Z"
   },
   {
    "duration": 15,
    "start_time": "2021-07-09T10:24:22.496Z"
   },
   {
    "duration": 165,
    "start_time": "2021-07-09T10:24:41.322Z"
   },
   {
    "duration": 165,
    "start_time": "2021-07-09T10:24:58.315Z"
   },
   {
    "duration": 3,
    "start_time": "2021-07-09T10:26:38.874Z"
   },
   {
    "duration": 3,
    "start_time": "2021-07-09T10:29:00.172Z"
   },
   {
    "duration": 122,
    "start_time": "2021-07-09T10:37:58.511Z"
   },
   {
    "duration": 5,
    "start_time": "2021-07-09T10:38:58.206Z"
   },
   {
    "duration": 4,
    "start_time": "2021-07-09T10:39:22.032Z"
   },
   {
    "duration": 4,
    "start_time": "2021-07-09T10:39:27.880Z"
   },
   {
    "duration": 4,
    "start_time": "2021-07-09T10:39:33.383Z"
   },
   {
    "duration": 7,
    "start_time": "2021-07-09T11:07:04.573Z"
   },
   {
    "duration": 587,
    "start_time": "2021-07-09T11:07:41.977Z"
   },
   {
    "duration": 398,
    "start_time": "2021-07-09T11:08:11.675Z"
   },
   {
    "duration": 7,
    "start_time": "2021-07-09T11:08:26.546Z"
   },
   {
    "duration": 10,
    "start_time": "2021-07-09T11:09:08.344Z"
   },
   {
    "duration": 7,
    "start_time": "2021-07-09T11:09:21.476Z"
   },
   {
    "duration": 264,
    "start_time": "2021-07-09T11:11:52.361Z"
   },
   {
    "duration": 4,
    "start_time": "2021-07-09T11:11:57.777Z"
   },
   {
    "duration": 3,
    "start_time": "2021-07-09T11:15:28.248Z"
   },
   {
    "duration": 262,
    "start_time": "2021-07-09T11:20:24.332Z"
   },
   {
    "duration": 494,
    "start_time": "2021-07-09T11:20:47.772Z"
   },
   {
    "duration": 336,
    "start_time": "2021-07-09T11:21:19.270Z"
   },
   {
    "duration": 416734,
    "start_time": "2021-07-09T11:23:17.210Z"
   },
   {
    "duration": 425,
    "start_time": "2021-07-09T11:33:42.485Z"
   },
   {
    "duration": 629,
    "start_time": "2021-07-09T11:35:19.304Z"
   },
   {
    "duration": 3,
    "start_time": "2021-07-09T11:35:28.599Z"
   },
   {
    "duration": 391,
    "start_time": "2021-07-09T11:35:35.616Z"
   },
   {
    "duration": 1213,
    "start_time": "2021-07-09T11:35:59.901Z"
   },
   {
    "duration": 673,
    "start_time": "2021-07-09T11:36:13.881Z"
   },
   {
    "duration": 625,
    "start_time": "2021-07-09T11:36:24.613Z"
   },
   {
    "duration": 446,
    "start_time": "2021-07-09T11:36:48.062Z"
   },
   {
    "duration": 460,
    "start_time": "2021-07-09T11:39:36.454Z"
   },
   {
    "duration": 88,
    "start_time": "2021-07-09T11:39:47.273Z"
   },
   {
    "duration": 468,
    "start_time": "2021-07-09T11:39:55.954Z"
   },
   {
    "duration": 3791,
    "start_time": "2021-07-09T11:47:26.209Z"
   },
   {
    "duration": 3869,
    "start_time": "2021-07-09T11:50:55.328Z"
   },
   {
    "duration": 77,
    "start_time": "2021-07-09T11:51:54.999Z"
   },
   {
    "duration": 3884,
    "start_time": "2021-07-09T11:52:03.727Z"
   },
   {
    "duration": 4,
    "start_time": "2021-07-09T11:52:15.735Z"
   },
   {
    "duration": 4,
    "start_time": "2021-07-09T11:55:01.872Z"
   },
   {
    "duration": 7,
    "start_time": "2021-07-09T11:56:01.636Z"
   },
   {
    "duration": 238,
    "start_time": "2021-07-09T11:56:16.125Z"
   },
   {
    "duration": 6,
    "start_time": "2021-07-09T11:56:29.627Z"
   },
   {
    "duration": 60,
    "start_time": "2021-07-09T12:17:07.296Z"
   },
   {
    "duration": 242,
    "start_time": "2021-07-09T12:18:55.794Z"
   },
   {
    "duration": 268,
    "start_time": "2021-07-09T12:19:08.421Z"
   },
   {
    "duration": 269,
    "start_time": "2021-07-09T12:23:59.962Z"
   },
   {
    "duration": 2276,
    "start_time": "2021-07-09T12:24:05.165Z"
   },
   {
    "duration": 1984,
    "start_time": "2021-07-09T12:24:59.184Z"
   },
   {
    "duration": 1828,
    "start_time": "2021-07-09T12:26:06.741Z"
   },
   {
    "duration": 1090,
    "start_time": "2021-07-09T12:35:26.737Z"
   },
   {
    "duration": 754,
    "start_time": "2021-07-09T12:35:27.829Z"
   },
   {
    "duration": 117,
    "start_time": "2021-07-09T12:35:28.585Z"
   },
   {
    "duration": 30,
    "start_time": "2021-07-09T12:35:28.704Z"
   },
   {
    "duration": 16,
    "start_time": "2021-07-09T12:35:28.735Z"
   },
   {
    "duration": 50,
    "start_time": "2021-07-09T12:35:28.753Z"
   },
   {
    "duration": 26,
    "start_time": "2021-07-09T12:35:28.805Z"
   },
   {
    "duration": 31,
    "start_time": "2021-07-09T12:35:28.834Z"
   },
   {
    "duration": 32,
    "start_time": "2021-07-09T12:35:28.867Z"
   },
   {
    "duration": 90,
    "start_time": "2021-07-09T12:35:28.901Z"
   },
   {
    "duration": 5,
    "start_time": "2021-07-09T12:35:28.993Z"
   },
   {
    "duration": 4,
    "start_time": "2021-07-09T12:35:29.000Z"
   },
   {
    "duration": 5,
    "start_time": "2021-07-09T12:35:29.005Z"
   },
   {
    "duration": 11,
    "start_time": "2021-07-09T12:35:29.012Z"
   },
   {
    "duration": 68,
    "start_time": "2021-07-09T12:35:29.025Z"
   },
   {
    "duration": 7,
    "start_time": "2021-07-09T12:35:29.095Z"
   },
   {
    "duration": 9,
    "start_time": "2021-07-09T12:35:29.104Z"
   },
   {
    "duration": 16,
    "start_time": "2021-07-09T12:35:29.115Z"
   },
   {
    "duration": 14,
    "start_time": "2021-07-09T12:35:29.132Z"
   },
   {
    "duration": 81,
    "start_time": "2021-07-09T12:35:29.147Z"
   },
   {
    "duration": 17,
    "start_time": "2021-07-09T12:35:29.229Z"
   },
   {
    "duration": 5,
    "start_time": "2021-07-09T12:35:29.248Z"
   },
   {
    "duration": 12,
    "start_time": "2021-07-09T12:35:29.256Z"
   },
   {
    "duration": 140,
    "start_time": "2021-07-09T12:35:29.270Z"
   },
   {
    "duration": 43,
    "start_time": "2021-07-09T12:35:29.412Z"
   },
   {
    "duration": 306,
    "start_time": "2021-07-09T12:35:29.457Z"
   },
   {
    "duration": 365,
    "start_time": "2021-07-09T12:35:29.765Z"
   },
   {
    "duration": 1912,
    "start_time": "2021-07-09T12:35:30.132Z"
   },
   {
    "duration": 88,
    "start_time": "2021-07-09T12:35:41.955Z"
   },
   {
    "duration": 5,
    "start_time": "2021-07-09T12:35:43.433Z"
   },
   {
    "duration": 18,
    "start_time": "2021-07-09T12:41:44.625Z"
   },
   {
    "duration": 5523,
    "start_time": "2021-07-09T12:45:54.975Z"
   },
   {
    "duration": 8555,
    "start_time": "2021-07-09T12:46:59.649Z"
   },
   {
    "duration": 5929,
    "start_time": "2021-07-09T12:47:09.070Z"
   },
   {
    "duration": 388,
    "start_time": "2021-07-09T12:51:24.423Z"
   },
   {
    "duration": 1304,
    "start_time": "2021-07-09T12:52:08.005Z"
   },
   {
    "duration": 489,
    "start_time": "2021-07-09T12:55:33.604Z"
   },
   {
    "duration": 501,
    "start_time": "2021-07-09T12:55:44.191Z"
   },
   {
    "duration": 408,
    "start_time": "2021-07-09T12:55:52.199Z"
   },
   {
    "duration": 1263,
    "start_time": "2021-07-09T13:02:35.379Z"
   },
   {
    "duration": 768,
    "start_time": "2021-07-09T13:02:36.644Z"
   },
   {
    "duration": 120,
    "start_time": "2021-07-09T13:02:37.417Z"
   },
   {
    "duration": 30,
    "start_time": "2021-07-09T13:02:37.539Z"
   },
   {
    "duration": 37,
    "start_time": "2021-07-09T13:02:37.571Z"
   },
   {
    "duration": 32,
    "start_time": "2021-07-09T13:02:37.610Z"
   },
   {
    "duration": 16,
    "start_time": "2021-07-09T13:02:37.644Z"
   },
   {
    "duration": 56,
    "start_time": "2021-07-09T13:02:37.662Z"
   },
   {
    "duration": 15,
    "start_time": "2021-07-09T13:02:37.720Z"
   },
   {
    "duration": 100,
    "start_time": "2021-07-09T13:02:37.736Z"
   },
   {
    "duration": 6,
    "start_time": "2021-07-09T13:02:37.837Z"
   },
   {
    "duration": 7,
    "start_time": "2021-07-09T13:02:37.844Z"
   },
   {
    "duration": 6,
    "start_time": "2021-07-09T13:02:37.853Z"
   },
   {
    "duration": 31,
    "start_time": "2021-07-09T13:02:37.860Z"
   },
   {
    "duration": 48,
    "start_time": "2021-07-09T13:02:37.893Z"
   },
   {
    "duration": 6,
    "start_time": "2021-07-09T13:02:37.942Z"
   },
   {
    "duration": 5,
    "start_time": "2021-07-09T13:02:37.949Z"
   },
   {
    "duration": 42,
    "start_time": "2021-07-09T13:02:37.956Z"
   },
   {
    "duration": 13,
    "start_time": "2021-07-09T13:02:38.000Z"
   },
   {
    "duration": 53,
    "start_time": "2021-07-09T13:02:38.014Z"
   },
   {
    "duration": 37,
    "start_time": "2021-07-09T13:02:38.068Z"
   },
   {
    "duration": 6,
    "start_time": "2021-07-09T13:02:38.107Z"
   },
   {
    "duration": 13,
    "start_time": "2021-07-09T13:02:38.115Z"
   },
   {
    "duration": 145,
    "start_time": "2021-07-09T13:02:38.129Z"
   },
   {
    "duration": 57,
    "start_time": "2021-07-09T13:02:38.275Z"
   },
   {
    "duration": 314,
    "start_time": "2021-07-09T13:02:38.335Z"
   },
   {
    "duration": 375,
    "start_time": "2021-07-09T13:02:38.651Z"
   },
   {
    "duration": 1921,
    "start_time": "2021-07-09T13:02:39.028Z"
   },
   {
    "duration": 100,
    "start_time": "2021-07-09T13:02:40.950Z"
   },
   {
    "duration": 4,
    "start_time": "2021-07-09T13:02:41.052Z"
   },
   {
    "duration": 8,
    "start_time": "2021-07-09T13:02:46.655Z"
   },
   {
    "duration": 47509,
    "start_time": "2021-07-09T13:02:59.429Z"
   },
   {
    "duration": 3,
    "start_time": "2021-07-09T13:03:58.444Z"
   },
   {
    "duration": 10823,
    "start_time": "2021-07-09T13:04:03.254Z"
   },
   {
    "duration": 23736,
    "start_time": "2021-07-09T13:04:19.913Z"
   },
   {
    "duration": 15309,
    "start_time": "2021-07-09T13:05:01.158Z"
   },
   {
    "duration": 33051,
    "start_time": "2021-07-09T13:05:27.282Z"
   },
   {
    "duration": 6537,
    "start_time": "2021-07-09T13:06:04.964Z"
   },
   {
    "duration": 1268,
    "start_time": "2021-07-09T13:07:13.244Z"
   },
   {
    "duration": 1107,
    "start_time": "2021-07-09T13:07:45.723Z"
   },
   {
    "duration": 700,
    "start_time": "2021-07-09T13:07:46.832Z"
   },
   {
    "duration": 111,
    "start_time": "2021-07-09T13:07:47.534Z"
   },
   {
    "duration": 30,
    "start_time": "2021-07-09T13:07:47.646Z"
   },
   {
    "duration": 27,
    "start_time": "2021-07-09T13:07:47.678Z"
   },
   {
    "duration": 34,
    "start_time": "2021-07-09T13:07:47.707Z"
   },
   {
    "duration": 15,
    "start_time": "2021-07-09T13:07:47.742Z"
   },
   {
    "duration": 41,
    "start_time": "2021-07-09T13:07:47.759Z"
   },
   {
    "duration": 14,
    "start_time": "2021-07-09T13:07:47.802Z"
   },
   {
    "duration": 99,
    "start_time": "2021-07-09T13:07:47.817Z"
   },
   {
    "duration": 6,
    "start_time": "2021-07-09T13:07:47.917Z"
   },
   {
    "duration": 9,
    "start_time": "2021-07-09T13:07:47.924Z"
   },
   {
    "duration": 5,
    "start_time": "2021-07-09T13:07:47.934Z"
   },
   {
    "duration": 12,
    "start_time": "2021-07-09T13:07:47.941Z"
   },
   {
    "duration": 63,
    "start_time": "2021-07-09T13:07:47.954Z"
   },
   {
    "duration": 5,
    "start_time": "2021-07-09T13:07:48.018Z"
   },
   {
    "duration": 8,
    "start_time": "2021-07-09T13:07:48.024Z"
   },
   {
    "duration": 19,
    "start_time": "2021-07-09T13:07:48.033Z"
   },
   {
    "duration": 12,
    "start_time": "2021-07-09T13:07:48.053Z"
   },
   {
    "duration": 74,
    "start_time": "2021-07-09T13:07:48.067Z"
   },
   {
    "duration": 17,
    "start_time": "2021-07-09T13:07:48.143Z"
   },
   {
    "duration": 5,
    "start_time": "2021-07-09T13:07:48.161Z"
   },
   {
    "duration": 29,
    "start_time": "2021-07-09T13:07:48.169Z"
   },
   {
    "duration": 127,
    "start_time": "2021-07-09T13:07:48.199Z"
   },
   {
    "duration": 45,
    "start_time": "2021-07-09T13:07:48.327Z"
   },
   {
    "duration": 302,
    "start_time": "2021-07-09T13:07:48.373Z"
   },
   {
    "duration": 364,
    "start_time": "2021-07-09T13:07:48.677Z"
   },
   {
    "duration": 1808,
    "start_time": "2021-07-09T13:07:49.043Z"
   },
   {
    "duration": 99,
    "start_time": "2021-07-09T13:07:50.853Z"
   },
   {
    "duration": 4,
    "start_time": "2021-07-09T13:07:50.954Z"
   },
   {
    "duration": 6270,
    "start_time": "2021-07-09T13:18:50.327Z"
   },
   {
    "duration": 407,
    "start_time": "2021-07-09T13:19:01.402Z"
   },
   {
    "duration": 5700,
    "start_time": "2021-07-09T13:21:16.434Z"
   },
   {
    "duration": 95228,
    "start_time": "2021-07-09T13:22:05.489Z"
   },
   {
    "duration": 275,
    "start_time": "2021-07-09T13:24:22.312Z"
   },
   {
    "duration": 67,
    "start_time": "2021-07-09T13:24:30.631Z"
   },
   {
    "duration": 1143,
    "start_time": "2021-07-09T13:25:32.380Z"
   },
   {
    "duration": 693,
    "start_time": "2021-07-09T13:25:33.525Z"
   },
   {
    "duration": 117,
    "start_time": "2021-07-09T13:25:34.220Z"
   },
   {
    "duration": 30,
    "start_time": "2021-07-09T13:25:34.338Z"
   },
   {
    "duration": 24,
    "start_time": "2021-07-09T13:25:34.370Z"
   },
   {
    "duration": 32,
    "start_time": "2021-07-09T13:25:34.395Z"
   },
   {
    "duration": 14,
    "start_time": "2021-07-09T13:25:34.429Z"
   },
   {
    "duration": 32,
    "start_time": "2021-07-09T13:25:34.446Z"
   },
   {
    "duration": 14,
    "start_time": "2021-07-09T13:25:34.491Z"
   },
   {
    "duration": 94,
    "start_time": "2021-07-09T13:25:34.507Z"
   },
   {
    "duration": 6,
    "start_time": "2021-07-09T13:25:34.602Z"
   },
   {
    "duration": 4,
    "start_time": "2021-07-09T13:25:34.610Z"
   },
   {
    "duration": 5,
    "start_time": "2021-07-09T13:25:34.615Z"
   },
   {
    "duration": 10,
    "start_time": "2021-07-09T13:25:34.621Z"
   },
   {
    "duration": 72,
    "start_time": "2021-07-09T13:25:34.632Z"
   },
   {
    "duration": 5,
    "start_time": "2021-07-09T13:25:34.706Z"
   },
   {
    "duration": 6,
    "start_time": "2021-07-09T13:25:34.712Z"
   },
   {
    "duration": 17,
    "start_time": "2021-07-09T13:25:34.719Z"
   },
   {
    "duration": 11,
    "start_time": "2021-07-09T13:25:34.737Z"
   },
   {
    "duration": 75,
    "start_time": "2021-07-09T13:25:34.750Z"
   },
   {
    "duration": 17,
    "start_time": "2021-07-09T13:25:34.826Z"
   },
   {
    "duration": 5,
    "start_time": "2021-07-09T13:25:34.844Z"
   },
   {
    "duration": 14,
    "start_time": "2021-07-09T13:25:34.851Z"
   },
   {
    "duration": 143,
    "start_time": "2021-07-09T13:25:34.866Z"
   },
   {
    "duration": 43,
    "start_time": "2021-07-09T13:25:35.010Z"
   },
   {
    "duration": 314,
    "start_time": "2021-07-09T13:25:35.055Z"
   },
   {
    "duration": 350,
    "start_time": "2021-07-09T13:25:35.371Z"
   },
   {
    "duration": 120,
    "start_time": "2021-07-09T13:25:41.000Z"
   },
   {
    "duration": 5,
    "start_time": "2021-07-09T13:25:42.095Z"
   },
   {
    "duration": 6338,
    "start_time": "2021-07-09T13:25:56.468Z"
   },
   {
    "duration": 412553,
    "start_time": "2021-07-09T13:26:55.493Z"
   },
   {
    "duration": 410,
    "start_time": "2021-07-09T13:34:01.598Z"
   },
   {
    "duration": 1754,
    "start_time": "2021-07-09T13:34:57.282Z"
   },
   {
    "duration": 2106,
    "start_time": "2021-07-09T13:35:20.481Z"
   },
   {
    "duration": 2013,
    "start_time": "2021-07-09T13:35:46.554Z"
   },
   {
    "duration": 1934,
    "start_time": "2021-07-09T13:36:29.720Z"
   },
   {
    "duration": 421368,
    "start_time": "2021-07-09T13:37:14.880Z"
   },
   {
    "duration": 6997,
    "start_time": "2021-07-09T13:44:57.022Z"
   },
   {
    "duration": 423016,
    "start_time": "2021-07-09T13:45:48.022Z"
   },
   {
    "duration": 284,
    "start_time": "2021-07-09T13:53:32.028Z"
   },
   {
    "duration": 1120,
    "start_time": "2021-07-09T13:53:50.228Z"
   },
   {
    "duration": 765,
    "start_time": "2021-07-09T13:53:51.350Z"
   },
   {
    "duration": 122,
    "start_time": "2021-07-09T13:53:52.117Z"
   },
   {
    "duration": 35,
    "start_time": "2021-07-09T13:53:52.241Z"
   },
   {
    "duration": 24,
    "start_time": "2021-07-09T13:53:52.278Z"
   },
   {
    "duration": 35,
    "start_time": "2021-07-09T13:53:52.303Z"
   },
   {
    "duration": 15,
    "start_time": "2021-07-09T13:53:52.340Z"
   },
   {
    "duration": 46,
    "start_time": "2021-07-09T13:53:52.357Z"
   },
   {
    "duration": 15,
    "start_time": "2021-07-09T13:53:52.405Z"
   },
   {
    "duration": 101,
    "start_time": "2021-07-09T13:53:52.422Z"
   },
   {
    "duration": 6,
    "start_time": "2021-07-09T13:53:52.524Z"
   },
   {
    "duration": 5,
    "start_time": "2021-07-09T13:53:52.532Z"
   },
   {
    "duration": 5,
    "start_time": "2021-07-09T13:53:52.538Z"
   },
   {
    "duration": 11,
    "start_time": "2021-07-09T13:53:52.545Z"
   },
   {
    "duration": 70,
    "start_time": "2021-07-09T13:53:52.557Z"
   },
   {
    "duration": 5,
    "start_time": "2021-07-09T13:53:52.629Z"
   },
   {
    "duration": 9,
    "start_time": "2021-07-09T13:53:52.635Z"
   },
   {
    "duration": 21,
    "start_time": "2021-07-09T13:53:52.645Z"
   },
   {
    "duration": 35,
    "start_time": "2021-07-09T13:53:52.667Z"
   },
   {
    "duration": 54,
    "start_time": "2021-07-09T13:53:52.703Z"
   },
   {
    "duration": 38,
    "start_time": "2021-07-09T13:53:52.759Z"
   },
   {
    "duration": 5,
    "start_time": "2021-07-09T13:53:52.798Z"
   },
   {
    "duration": 13,
    "start_time": "2021-07-09T13:53:52.806Z"
   },
   {
    "duration": 133,
    "start_time": "2021-07-09T13:53:52.820Z"
   },
   {
    "duration": 54,
    "start_time": "2021-07-09T13:53:52.954Z"
   },
   {
    "duration": 311,
    "start_time": "2021-07-09T13:53:53.009Z"
   },
   {
    "duration": 371,
    "start_time": "2021-07-09T13:53:53.321Z"
   },
   {
    "duration": 2040,
    "start_time": "2021-07-09T13:53:53.694Z"
   },
   {
    "duration": 128,
    "start_time": "2021-07-09T13:53:55.736Z"
   },
   {
    "duration": 5,
    "start_time": "2021-07-09T13:53:55.866Z"
   },
   {
    "duration": 85,
    "start_time": "2021-07-09T13:54:07.697Z"
   },
   {
    "duration": 5,
    "start_time": "2021-07-09T13:54:09.355Z"
   },
   {
    "duration": 1120,
    "start_time": "2021-07-09T13:54:26.019Z"
   },
   {
    "duration": 737,
    "start_time": "2021-07-09T13:54:27.141Z"
   },
   {
    "duration": 128,
    "start_time": "2021-07-09T13:54:27.880Z"
   },
   {
    "duration": 31,
    "start_time": "2021-07-09T13:54:28.010Z"
   },
   {
    "duration": 21,
    "start_time": "2021-07-09T13:54:28.042Z"
   },
   {
    "duration": 58,
    "start_time": "2021-07-09T13:54:28.065Z"
   },
   {
    "duration": 28,
    "start_time": "2021-07-09T13:54:28.124Z"
   },
   {
    "duration": 45,
    "start_time": "2021-07-09T13:54:28.155Z"
   },
   {
    "duration": 26,
    "start_time": "2021-07-09T13:54:28.203Z"
   },
   {
    "duration": 102,
    "start_time": "2021-07-09T13:54:28.231Z"
   },
   {
    "duration": 6,
    "start_time": "2021-07-09T13:54:28.335Z"
   },
   {
    "duration": 13,
    "start_time": "2021-07-09T13:54:28.342Z"
   },
   {
    "duration": 19,
    "start_time": "2021-07-09T13:54:28.356Z"
   },
   {
    "duration": 16,
    "start_time": "2021-07-09T13:54:28.377Z"
   },
   {
    "duration": 51,
    "start_time": "2021-07-09T13:54:28.395Z"
   },
   {
    "duration": 6,
    "start_time": "2021-07-09T13:54:28.447Z"
   },
   {
    "duration": 5,
    "start_time": "2021-07-09T13:54:28.455Z"
   },
   {
    "duration": 41,
    "start_time": "2021-07-09T13:54:28.461Z"
   },
   {
    "duration": 15,
    "start_time": "2021-07-09T13:54:28.504Z"
   },
   {
    "duration": 74,
    "start_time": "2021-07-09T13:54:28.521Z"
   },
   {
    "duration": 24,
    "start_time": "2021-07-09T13:54:28.598Z"
   },
   {
    "duration": 5,
    "start_time": "2021-07-09T13:54:28.623Z"
   },
   {
    "duration": 12,
    "start_time": "2021-07-09T13:54:28.631Z"
   },
   {
    "duration": 154,
    "start_time": "2021-07-09T13:54:28.644Z"
   },
   {
    "duration": 51,
    "start_time": "2021-07-09T13:54:28.800Z"
   },
   {
    "duration": 329,
    "start_time": "2021-07-09T13:54:28.852Z"
   },
   {
    "duration": 369,
    "start_time": "2021-07-09T13:54:29.183Z"
   },
   {
    "duration": 126,
    "start_time": "2021-07-09T13:54:33.543Z"
   },
   {
    "duration": 6,
    "start_time": "2021-07-09T13:54:34.653Z"
   },
   {
    "duration": 321,
    "start_time": "2021-07-09T13:54:40.560Z"
   },
   {
    "duration": 2042,
    "start_time": "2021-07-09T13:54:59.456Z"
   },
   {
    "duration": 1151,
    "start_time": "2021-07-09T13:55:50.894Z"
   },
   {
    "duration": 714,
    "start_time": "2021-07-09T13:55:52.047Z"
   },
   {
    "duration": 128,
    "start_time": "2021-07-09T13:55:52.763Z"
   },
   {
    "duration": 36,
    "start_time": "2021-07-09T13:55:52.893Z"
   },
   {
    "duration": 18,
    "start_time": "2021-07-09T13:55:52.931Z"
   },
   {
    "duration": 52,
    "start_time": "2021-07-09T13:55:52.951Z"
   },
   {
    "duration": 17,
    "start_time": "2021-07-09T13:55:53.004Z"
   },
   {
    "duration": 68,
    "start_time": "2021-07-09T13:55:53.025Z"
   },
   {
    "duration": 28,
    "start_time": "2021-07-09T13:55:53.096Z"
   },
   {
    "duration": 142,
    "start_time": "2021-07-09T13:55:53.126Z"
   },
   {
    "duration": 9,
    "start_time": "2021-07-09T13:55:53.270Z"
   },
   {
    "duration": 11,
    "start_time": "2021-07-09T13:55:53.290Z"
   },
   {
    "duration": 14,
    "start_time": "2021-07-09T13:55:53.303Z"
   },
   {
    "duration": 27,
    "start_time": "2021-07-09T13:55:53.318Z"
   },
   {
    "duration": 69,
    "start_time": "2021-07-09T13:55:53.347Z"
   },
   {
    "duration": 8,
    "start_time": "2021-07-09T13:55:53.418Z"
   },
   {
    "duration": 21,
    "start_time": "2021-07-09T13:55:53.428Z"
   },
   {
    "duration": 27,
    "start_time": "2021-07-09T13:55:53.451Z"
   },
   {
    "duration": 13,
    "start_time": "2021-07-09T13:55:53.480Z"
   },
   {
    "duration": 79,
    "start_time": "2021-07-09T13:55:53.494Z"
   },
   {
    "duration": 26,
    "start_time": "2021-07-09T13:55:53.575Z"
   },
   {
    "duration": 8,
    "start_time": "2021-07-09T13:55:53.602Z"
   },
   {
    "duration": 28,
    "start_time": "2021-07-09T13:55:53.613Z"
   },
   {
    "duration": 151,
    "start_time": "2021-07-09T13:55:53.643Z"
   },
   {
    "duration": 46,
    "start_time": "2021-07-09T13:55:53.796Z"
   },
   {
    "duration": 339,
    "start_time": "2021-07-09T13:55:53.844Z"
   },
   {
    "duration": 399,
    "start_time": "2021-07-09T13:55:54.185Z"
   },
   {
    "duration": 1958,
    "start_time": "2021-07-09T13:55:54.586Z"
   },
   {
    "duration": 90,
    "start_time": "2021-07-09T13:55:56.547Z"
   },
   {
    "duration": 5,
    "start_time": "2021-07-09T13:55:56.639Z"
   },
   {
    "duration": 1116,
    "start_time": "2021-07-09T18:01:37.472Z"
   },
   {
    "duration": 770,
    "start_time": "2021-07-09T18:01:38.589Z"
   },
   {
    "duration": 120,
    "start_time": "2021-07-09T18:01:39.361Z"
   },
   {
    "duration": 35,
    "start_time": "2021-07-09T18:01:39.483Z"
   },
   {
    "duration": 34,
    "start_time": "2021-07-09T18:01:39.520Z"
   },
   {
    "duration": 38,
    "start_time": "2021-07-09T18:01:39.556Z"
   },
   {
    "duration": 15,
    "start_time": "2021-07-09T18:01:39.596Z"
   },
   {
    "duration": 44,
    "start_time": "2021-07-09T18:01:39.615Z"
   },
   {
    "duration": 15,
    "start_time": "2021-07-09T18:01:39.661Z"
   },
   {
    "duration": 97,
    "start_time": "2021-07-09T18:01:39.678Z"
   },
   {
    "duration": 6,
    "start_time": "2021-07-09T18:01:39.776Z"
   },
   {
    "duration": 5,
    "start_time": "2021-07-09T18:01:39.783Z"
   },
   {
    "duration": 6,
    "start_time": "2021-07-09T18:01:39.789Z"
   },
   {
    "duration": 10,
    "start_time": "2021-07-09T18:01:39.797Z"
   },
   {
    "duration": 71,
    "start_time": "2021-07-09T18:01:39.809Z"
   },
   {
    "duration": 5,
    "start_time": "2021-07-09T18:01:39.882Z"
   },
   {
    "duration": 7,
    "start_time": "2021-07-09T18:01:39.889Z"
   },
   {
    "duration": 17,
    "start_time": "2021-07-09T18:01:39.897Z"
   },
   {
    "duration": 33,
    "start_time": "2021-07-09T18:01:39.915Z"
   },
   {
    "duration": 52,
    "start_time": "2021-07-09T18:01:39.949Z"
   },
   {
    "duration": 39,
    "start_time": "2021-07-09T18:01:40.003Z"
   },
   {
    "duration": 6,
    "start_time": "2021-07-09T18:01:40.043Z"
   },
   {
    "duration": 15,
    "start_time": "2021-07-09T18:01:40.052Z"
   },
   {
    "duration": 148,
    "start_time": "2021-07-09T18:01:40.068Z"
   },
   {
    "duration": 49,
    "start_time": "2021-07-09T18:01:40.217Z"
   },
   {
    "duration": 310,
    "start_time": "2021-07-09T18:01:40.268Z"
   },
   {
    "duration": 369,
    "start_time": "2021-07-09T18:01:40.579Z"
   },
   {
    "duration": 116,
    "start_time": "2021-07-09T18:02:27.100Z"
   },
   {
    "duration": 5,
    "start_time": "2021-07-09T18:02:35.731Z"
   },
   {
    "duration": 175,
    "start_time": "2021-07-09T18:03:39.585Z"
   },
   {
    "duration": 3,
    "start_time": "2021-07-09T18:07:13.192Z"
   },
   {
    "duration": 4,
    "start_time": "2021-07-09T18:07:26.774Z"
   },
   {
    "duration": 4,
    "start_time": "2021-07-09T18:07:53.782Z"
   },
   {
    "duration": 423113,
    "start_time": "2021-07-09T18:08:28.587Z"
   },
   {
    "duration": 471,
    "start_time": "2021-07-09T18:16:41.681Z"
   },
   {
    "duration": 2072,
    "start_time": "2021-07-09T18:16:49.772Z"
   },
   {
    "duration": 430867,
    "start_time": "2021-07-09T18:16:57.134Z"
   },
   {
    "duration": 492,
    "start_time": "2021-07-09T18:24:10.688Z"
   },
   {
    "duration": 103505,
    "start_time": "2021-07-09T18:24:13.619Z"
   },
   {
    "duration": 56,
    "start_time": "2021-07-09T18:26:13.798Z"
   },
   {
    "duration": 9,
    "start_time": "2021-07-09T18:26:33.629Z"
   },
   {
    "duration": 8,
    "start_time": "2021-07-09T18:27:05.195Z"
   },
   {
    "duration": 1457,
    "start_time": "2021-07-09T19:05:34.924Z"
   },
   {
    "duration": 1090,
    "start_time": "2021-07-09T19:05:36.384Z"
   },
   {
    "duration": 151,
    "start_time": "2021-07-09T19:05:37.476Z"
   },
   {
    "duration": 50,
    "start_time": "2021-07-09T19:05:37.629Z"
   },
   {
    "duration": 16,
    "start_time": "2021-07-09T19:05:37.681Z"
   },
   {
    "duration": 71,
    "start_time": "2021-07-09T19:05:37.699Z"
   },
   {
    "duration": 17,
    "start_time": "2021-07-09T19:05:37.772Z"
   },
   {
    "duration": 51,
    "start_time": "2021-07-09T19:05:37.792Z"
   },
   {
    "duration": 17,
    "start_time": "2021-07-09T19:05:37.846Z"
   },
   {
    "duration": 92,
    "start_time": "2021-07-09T19:05:37.865Z"
   },
   {
    "duration": 6,
    "start_time": "2021-07-09T19:05:37.959Z"
   },
   {
    "duration": 7,
    "start_time": "2021-07-09T19:05:37.966Z"
   },
   {
    "duration": 8,
    "start_time": "2021-07-09T19:05:37.974Z"
   },
   {
    "duration": 21,
    "start_time": "2021-07-09T19:05:37.984Z"
   },
   {
    "duration": 65,
    "start_time": "2021-07-09T19:05:38.006Z"
   },
   {
    "duration": 5,
    "start_time": "2021-07-09T19:05:38.073Z"
   },
   {
    "duration": 13,
    "start_time": "2021-07-09T19:05:38.080Z"
   },
   {
    "duration": 20,
    "start_time": "2021-07-09T19:05:38.095Z"
   },
   {
    "duration": 25,
    "start_time": "2021-07-09T19:05:38.117Z"
   },
   {
    "duration": 63,
    "start_time": "2021-07-09T19:05:38.144Z"
   },
   {
    "duration": 35,
    "start_time": "2021-07-09T19:05:38.209Z"
   },
   {
    "duration": 6,
    "start_time": "2021-07-09T19:05:38.246Z"
   },
   {
    "duration": 19,
    "start_time": "2021-07-09T19:05:38.255Z"
   },
   {
    "duration": 211,
    "start_time": "2021-07-09T19:05:38.276Z"
   },
   {
    "duration": 59,
    "start_time": "2021-07-09T19:05:38.489Z"
   },
   {
    "duration": 441,
    "start_time": "2021-07-09T19:05:38.550Z"
   },
   {
    "duration": 501,
    "start_time": "2021-07-09T19:05:38.993Z"
   },
   {
    "duration": 194,
    "start_time": "2021-07-09T19:06:07.866Z"
   },
   {
    "duration": 351,
    "start_time": "2021-07-09T19:06:46.830Z"
   },
   {
    "duration": 116,
    "start_time": "2021-07-09T19:07:14.211Z"
   },
   {
    "duration": 105,
    "start_time": "2021-07-09T19:07:20.343Z"
   },
   {
    "duration": 216,
    "start_time": "2021-07-09T19:08:02.090Z"
   },
   {
    "duration": 78,
    "start_time": "2021-07-09T19:08:03.444Z"
   },
   {
    "duration": 18406,
    "start_time": "2021-07-09T19:08:07.063Z"
   },
   {
    "duration": 48,
    "start_time": "2021-07-09T19:08:40.407Z"
   },
   {
    "duration": 2069,
    "start_time": "2021-07-09T19:12:16.504Z"
   },
   {
    "duration": 98222,
    "start_time": "2021-07-09T19:12:26.502Z"
   },
   {
    "duration": 97,
    "start_time": "2021-07-09T19:14:04.753Z"
   },
   {
    "duration": 5,
    "start_time": "2021-07-09T19:14:04.852Z"
   },
   {
    "duration": 276,
    "start_time": "2021-07-09T19:18:34.100Z"
   },
   {
    "duration": 284,
    "start_time": "2021-07-09T19:22:30.343Z"
   },
   {
    "duration": 104658,
    "start_time": "2021-07-09T19:49:32.408Z"
   },
   {
    "duration": 2235,
    "start_time": "2021-07-09T19:51:37.835Z"
   },
   {
    "duration": 2970,
    "start_time": "2021-07-09T19:51:50.327Z"
   },
   {
    "duration": 22183,
    "start_time": "2021-07-09T19:51:57.479Z"
   },
   {
    "duration": 21530,
    "start_time": "2021-07-09T19:52:55.992Z"
   },
   {
    "duration": 101799,
    "start_time": "2021-07-09T19:53:30.865Z"
   },
   {
    "duration": 109141,
    "start_time": "2021-07-09T19:56:48.276Z"
   },
   {
    "duration": 1230,
    "start_time": "2021-07-09T20:00:15.332Z"
   },
   {
    "duration": 109816,
    "start_time": "2021-07-09T20:00:22.419Z"
   },
   {
    "duration": 105922,
    "start_time": "2021-07-09T20:04:08.206Z"
   },
   {
    "duration": 3,
    "start_time": "2021-07-09T20:08:06.376Z"
   },
   {
    "duration": 102636,
    "start_time": "2021-07-09T20:08:21.513Z"
   },
   {
    "duration": 1176,
    "start_time": "2021-07-10T07:01:00.918Z"
   },
   {
    "duration": 749,
    "start_time": "2021-07-10T07:01:02.096Z"
   },
   {
    "duration": 115,
    "start_time": "2021-07-10T07:01:02.847Z"
   },
   {
    "duration": 35,
    "start_time": "2021-07-10T07:01:02.964Z"
   },
   {
    "duration": 16,
    "start_time": "2021-07-10T07:01:03.000Z"
   },
   {
    "duration": 47,
    "start_time": "2021-07-10T07:01:03.017Z"
   },
   {
    "duration": 16,
    "start_time": "2021-07-10T07:01:03.066Z"
   },
   {
    "duration": 36,
    "start_time": "2021-07-10T07:01:03.084Z"
   },
   {
    "duration": 24,
    "start_time": "2021-07-10T07:01:03.122Z"
   },
   {
    "duration": 94,
    "start_time": "2021-07-10T07:01:03.147Z"
   },
   {
    "duration": 6,
    "start_time": "2021-07-10T07:01:03.242Z"
   },
   {
    "duration": 6,
    "start_time": "2021-07-10T07:01:03.249Z"
   },
   {
    "duration": 7,
    "start_time": "2021-07-10T07:01:03.257Z"
   },
   {
    "duration": 14,
    "start_time": "2021-07-10T07:01:03.265Z"
   },
   {
    "duration": 60,
    "start_time": "2021-07-10T07:01:03.281Z"
   },
   {
    "duration": 5,
    "start_time": "2021-07-10T07:01:03.342Z"
   },
   {
    "duration": 8,
    "start_time": "2021-07-10T07:01:03.349Z"
   },
   {
    "duration": 25,
    "start_time": "2021-07-10T07:01:03.359Z"
   },
   {
    "duration": 13,
    "start_time": "2021-07-10T07:01:03.385Z"
   },
   {
    "duration": 67,
    "start_time": "2021-07-10T07:01:03.400Z"
   },
   {
    "duration": 15,
    "start_time": "2021-07-10T07:01:03.469Z"
   },
   {
    "duration": 5,
    "start_time": "2021-07-10T07:01:03.486Z"
   },
   {
    "duration": 20,
    "start_time": "2021-07-10T07:01:03.494Z"
   },
   {
    "duration": 135,
    "start_time": "2021-07-10T07:01:03.516Z"
   },
   {
    "duration": 41,
    "start_time": "2021-07-10T07:01:03.653Z"
   },
   {
    "duration": 384,
    "start_time": "2021-07-10T07:01:03.696Z"
   },
   {
    "duration": 372,
    "start_time": "2021-07-10T07:01:04.081Z"
   },
   {
    "duration": 123,
    "start_time": "2021-07-10T07:01:08.884Z"
   },
   {
    "duration": 6,
    "start_time": "2021-07-10T07:01:10.038Z"
   },
   {
    "duration": 54837,
    "start_time": "2021-07-10T07:01:54.302Z"
   },
   {
    "duration": 197360,
    "start_time": "2021-07-10T07:03:19.188Z"
   },
   {
    "duration": 1177,
    "start_time": "2021-07-10T07:17:51.509Z"
   },
   {
    "duration": 768,
    "start_time": "2021-07-10T07:17:52.688Z"
   },
   {
    "duration": 111,
    "start_time": "2021-07-10T07:17:53.458Z"
   },
   {
    "duration": 35,
    "start_time": "2021-07-10T07:17:53.571Z"
   },
   {
    "duration": 19,
    "start_time": "2021-07-10T07:17:53.607Z"
   },
   {
    "duration": 42,
    "start_time": "2021-07-10T07:17:53.628Z"
   },
   {
    "duration": 20,
    "start_time": "2021-07-10T07:17:53.671Z"
   },
   {
    "duration": 34,
    "start_time": "2021-07-10T07:17:53.694Z"
   },
   {
    "duration": 18,
    "start_time": "2021-07-10T07:17:53.740Z"
   },
   {
    "duration": 106,
    "start_time": "2021-07-10T07:17:53.759Z"
   },
   {
    "duration": 5,
    "start_time": "2021-07-10T07:17:53.867Z"
   },
   {
    "duration": 9,
    "start_time": "2021-07-10T07:17:53.874Z"
   },
   {
    "duration": 9,
    "start_time": "2021-07-10T07:17:53.884Z"
   },
   {
    "duration": 15,
    "start_time": "2021-07-10T07:17:53.894Z"
   },
   {
    "duration": 67,
    "start_time": "2021-07-10T07:17:53.911Z"
   },
   {
    "duration": 7,
    "start_time": "2021-07-10T07:17:53.980Z"
   },
   {
    "duration": 10,
    "start_time": "2021-07-10T07:17:53.989Z"
   },
   {
    "duration": 18,
    "start_time": "2021-07-10T07:17:54.001Z"
   },
   {
    "duration": 33,
    "start_time": "2021-07-10T07:17:54.021Z"
   },
   {
    "duration": 56,
    "start_time": "2021-07-10T07:17:54.056Z"
   },
   {
    "duration": 36,
    "start_time": "2021-07-10T07:17:54.114Z"
   },
   {
    "duration": 10,
    "start_time": "2021-07-10T07:17:54.152Z"
   },
   {
    "duration": 16,
    "start_time": "2021-07-10T07:17:54.165Z"
   },
   {
    "duration": 159,
    "start_time": "2021-07-10T07:17:54.184Z"
   },
   {
    "duration": 45,
    "start_time": "2021-07-10T07:17:54.345Z"
   },
   {
    "duration": 334,
    "start_time": "2021-07-10T07:17:54.392Z"
   },
   {
    "duration": 372,
    "start_time": "2021-07-10T07:17:54.728Z"
   },
   {
    "duration": 337,
    "start_time": "2021-07-10T07:17:55.102Z"
   },
   {
    "duration": 3,
    "start_time": "2021-07-10T07:18:17.545Z"
   },
   {
    "duration": 641,
    "start_time": "2021-07-10T07:18:18.557Z"
   },
   {
    "duration": 541,
    "start_time": "2021-07-10T07:18:41.030Z"
   },
   {
    "duration": 24,
    "start_time": "2021-07-10T07:18:52.206Z"
   },
   {
    "duration": 1134,
    "start_time": "2021-07-10T07:19:25.463Z"
   },
   {
    "duration": 773,
    "start_time": "2021-07-10T07:19:26.599Z"
   },
   {
    "duration": 122,
    "start_time": "2021-07-10T07:19:27.375Z"
   },
   {
    "duration": 44,
    "start_time": "2021-07-10T07:19:27.499Z"
   },
   {
    "duration": 16,
    "start_time": "2021-07-10T07:19:27.545Z"
   },
   {
    "duration": 39,
    "start_time": "2021-07-10T07:19:27.562Z"
   },
   {
    "duration": 16,
    "start_time": "2021-07-10T07:19:27.603Z"
   },
   {
    "duration": 41,
    "start_time": "2021-07-10T07:19:27.621Z"
   },
   {
    "duration": 14,
    "start_time": "2021-07-10T07:19:27.664Z"
   },
   {
    "duration": 96,
    "start_time": "2021-07-10T07:19:27.680Z"
   },
   {
    "duration": 6,
    "start_time": "2021-07-10T07:19:27.778Z"
   },
   {
    "duration": 12,
    "start_time": "2021-07-10T07:19:27.785Z"
   },
   {
    "duration": 5,
    "start_time": "2021-07-10T07:19:27.798Z"
   },
   {
    "duration": 11,
    "start_time": "2021-07-10T07:19:27.804Z"
   },
   {
    "duration": 59,
    "start_time": "2021-07-10T07:19:27.816Z"
   },
   {
    "duration": 5,
    "start_time": "2021-07-10T07:19:27.876Z"
   },
   {
    "duration": 5,
    "start_time": "2021-07-10T07:19:27.883Z"
   },
   {
    "duration": 16,
    "start_time": "2021-07-10T07:19:27.890Z"
   },
   {
    "duration": 33,
    "start_time": "2021-07-10T07:19:27.907Z"
   },
   {
    "duration": 52,
    "start_time": "2021-07-10T07:19:27.942Z"
   },
   {
    "duration": 15,
    "start_time": "2021-07-10T07:19:27.996Z"
   },
   {
    "duration": 5,
    "start_time": "2021-07-10T07:19:28.013Z"
   },
   {
    "duration": 32,
    "start_time": "2021-07-10T07:19:28.020Z"
   },
   {
    "duration": 134,
    "start_time": "2021-07-10T07:19:28.054Z"
   },
   {
    "duration": 50,
    "start_time": "2021-07-10T07:19:28.190Z"
   },
   {
    "duration": 300,
    "start_time": "2021-07-10T07:19:28.242Z"
   },
   {
    "duration": 375,
    "start_time": "2021-07-10T07:19:28.544Z"
   },
   {
    "duration": 21,
    "start_time": "2021-07-10T07:19:31.423Z"
   },
   {
    "duration": 1857,
    "start_time": "2021-07-10T07:19:59.979Z"
   },
   {
    "duration": 18,
    "start_time": "2021-07-10T07:20:03.208Z"
   },
   {
    "duration": 1177,
    "start_time": "2021-07-10T07:21:12.597Z"
   },
   {
    "duration": 744,
    "start_time": "2021-07-10T07:21:13.776Z"
   },
   {
    "duration": 120,
    "start_time": "2021-07-10T07:21:14.522Z"
   },
   {
    "duration": 35,
    "start_time": "2021-07-10T07:21:14.644Z"
   },
   {
    "duration": 22,
    "start_time": "2021-07-10T07:21:14.680Z"
   },
   {
    "duration": 41,
    "start_time": "2021-07-10T07:21:14.703Z"
   },
   {
    "duration": 17,
    "start_time": "2021-07-10T07:21:14.746Z"
   },
   {
    "duration": 44,
    "start_time": "2021-07-10T07:21:14.766Z"
   },
   {
    "duration": 26,
    "start_time": "2021-07-10T07:21:14.812Z"
   },
   {
    "duration": 94,
    "start_time": "2021-07-10T07:21:14.840Z"
   },
   {
    "duration": 5,
    "start_time": "2021-07-10T07:21:14.936Z"
   },
   {
    "duration": 20,
    "start_time": "2021-07-10T07:21:14.943Z"
   },
   {
    "duration": 18,
    "start_time": "2021-07-10T07:21:14.964Z"
   },
   {
    "duration": 17,
    "start_time": "2021-07-10T07:21:14.984Z"
   },
   {
    "duration": 53,
    "start_time": "2021-07-10T07:21:15.003Z"
   },
   {
    "duration": 5,
    "start_time": "2021-07-10T07:21:15.057Z"
   },
   {
    "duration": 13,
    "start_time": "2021-07-10T07:21:15.064Z"
   },
   {
    "duration": 18,
    "start_time": "2021-07-10T07:21:15.078Z"
   },
   {
    "duration": 13,
    "start_time": "2021-07-10T07:21:15.097Z"
   },
   {
    "duration": 71,
    "start_time": "2021-07-10T07:21:15.111Z"
   },
   {
    "duration": 16,
    "start_time": "2021-07-10T07:21:15.183Z"
   },
   {
    "duration": 9,
    "start_time": "2021-07-10T07:21:15.200Z"
   },
   {
    "duration": 23,
    "start_time": "2021-07-10T07:21:15.212Z"
   },
   {
    "duration": 128,
    "start_time": "2021-07-10T07:21:15.240Z"
   },
   {
    "duration": 49,
    "start_time": "2021-07-10T07:21:15.370Z"
   },
   {
    "duration": 310,
    "start_time": "2021-07-10T07:21:15.421Z"
   },
   {
    "duration": 363,
    "start_time": "2021-07-10T07:21:15.733Z"
   },
   {
    "duration": 22,
    "start_time": "2021-07-10T07:21:39.592Z"
   },
   {
    "duration": 1933,
    "start_time": "2021-07-10T07:21:54.877Z"
   },
   {
    "duration": 18,
    "start_time": "2021-07-10T07:21:57.698Z"
   },
   {
    "duration": 3,
    "start_time": "2021-07-10T07:23:47.190Z"
   },
   {
    "duration": 404,
    "start_time": "2021-07-10T07:24:01.084Z"
   },
   {
    "duration": 1881,
    "start_time": "2021-07-10T07:24:39.512Z"
   },
   {
    "duration": 380,
    "start_time": "2021-07-10T07:25:39.983Z"
   },
   {
    "duration": 12,
    "start_time": "2021-07-10T07:25:42.521Z"
   },
   {
    "duration": 560,
    "start_time": "2021-07-10T07:28:35.601Z"
   },
   {
    "duration": 23,
    "start_time": "2021-07-10T07:28:38.328Z"
   },
   {
    "duration": 255,
    "start_time": "2021-07-10T07:28:55.370Z"
   },
   {
    "duration": 394,
    "start_time": "2021-07-10T07:29:00.693Z"
   },
   {
    "duration": 54,
    "start_time": "2021-07-10T07:29:05.228Z"
   },
   {
    "duration": 22,
    "start_time": "2021-07-10T07:29:17.547Z"
   },
   {
    "duration": 85,
    "start_time": "2021-07-10T07:31:16.560Z"
   },
   {
    "duration": 88,
    "start_time": "2021-07-10T07:31:33.111Z"
   },
   {
    "duration": 790,
    "start_time": "2021-07-10T07:32:36.015Z"
   },
   {
    "duration": 406,
    "start_time": "2021-07-10T07:33:08.309Z"
   },
   {
    "duration": 22,
    "start_time": "2021-07-10T07:33:18.133Z"
   },
   {
    "duration": 939,
    "start_time": "2021-07-10T07:33:35.053Z"
   },
   {
    "duration": 24,
    "start_time": "2021-07-10T07:33:37.421Z"
   },
   {
    "duration": 895,
    "start_time": "2021-07-10T07:34:27.095Z"
   },
   {
    "duration": 23,
    "start_time": "2021-07-10T07:34:29.382Z"
   },
   {
    "duration": 80,
    "start_time": "2021-07-10T07:34:45.077Z"
   },
   {
    "duration": 5,
    "start_time": "2021-07-10T07:34:45.995Z"
   },
   {
    "duration": 261,
    "start_time": "2021-07-10T07:36:40.888Z"
   },
   {
    "duration": 5423,
    "start_time": "2021-07-10T07:38:06.008Z"
   },
   {
    "duration": 583,
    "start_time": "2021-07-10T07:39:03.368Z"
   },
   {
    "duration": 17,
    "start_time": "2021-07-10T07:39:09.385Z"
   },
   {
    "duration": 6175,
    "start_time": "2021-07-10T07:39:34.463Z"
   },
   {
    "duration": 1187,
    "start_time": "2021-07-10T07:40:29.610Z"
   },
   {
    "duration": 757,
    "start_time": "2021-07-10T07:40:30.799Z"
   },
   {
    "duration": 124,
    "start_time": "2021-07-10T07:40:31.558Z"
   },
   {
    "duration": 36,
    "start_time": "2021-07-10T07:40:31.683Z"
   },
   {
    "duration": 26,
    "start_time": "2021-07-10T07:40:31.721Z"
   },
   {
    "duration": 53,
    "start_time": "2021-07-10T07:40:31.749Z"
   },
   {
    "duration": 35,
    "start_time": "2021-07-10T07:40:31.803Z"
   },
   {
    "duration": 53,
    "start_time": "2021-07-10T07:40:31.840Z"
   },
   {
    "duration": 21,
    "start_time": "2021-07-10T07:40:31.895Z"
   },
   {
    "duration": 103,
    "start_time": "2021-07-10T07:40:31.918Z"
   },
   {
    "duration": 5,
    "start_time": "2021-07-10T07:40:32.023Z"
   },
   {
    "duration": 11,
    "start_time": "2021-07-10T07:40:32.030Z"
   },
   {
    "duration": 20,
    "start_time": "2021-07-10T07:40:32.043Z"
   },
   {
    "duration": 29,
    "start_time": "2021-07-10T07:40:32.065Z"
   },
   {
    "duration": 52,
    "start_time": "2021-07-10T07:40:32.096Z"
   },
   {
    "duration": 5,
    "start_time": "2021-07-10T07:40:32.150Z"
   },
   {
    "duration": 14,
    "start_time": "2021-07-10T07:40:32.157Z"
   },
   {
    "duration": 30,
    "start_time": "2021-07-10T07:40:32.173Z"
   },
   {
    "duration": 13,
    "start_time": "2021-07-10T07:40:32.205Z"
   },
   {
    "duration": 59,
    "start_time": "2021-07-10T07:40:32.219Z"
   },
   {
    "duration": 17,
    "start_time": "2021-07-10T07:40:32.280Z"
   },
   {
    "duration": 6,
    "start_time": "2021-07-10T07:40:32.298Z"
   },
   {
    "duration": 36,
    "start_time": "2021-07-10T07:40:32.307Z"
   },
   {
    "duration": 145,
    "start_time": "2021-07-10T07:40:32.345Z"
   },
   {
    "duration": 49,
    "start_time": "2021-07-10T07:40:32.492Z"
   },
   {
    "duration": 311,
    "start_time": "2021-07-10T07:40:32.543Z"
   },
   {
    "duration": 375,
    "start_time": "2021-07-10T07:40:32.855Z"
   },
   {
    "duration": 2,
    "start_time": "2021-07-10T07:40:33.232Z"
   },
   {
    "duration": 865,
    "start_time": "2021-07-10T07:40:33.235Z"
   },
   {
    "duration": 19,
    "start_time": "2021-07-10T07:40:39.410Z"
   },
   {
    "duration": 5,
    "start_time": "2021-07-10T07:40:47.668Z"
   },
   {
    "duration": 108,
    "start_time": "2021-07-10T07:41:05.311Z"
   },
   {
    "duration": 4,
    "start_time": "2021-07-10T07:41:06.894Z"
   },
   {
    "duration": 322017,
    "start_time": "2021-07-10T07:41:38.000Z"
   },
   {
    "duration": 52981,
    "start_time": "2021-07-10T07:47:29.566Z"
   },
   {
    "duration": 103423,
    "start_time": "2021-07-10T07:49:05.171Z"
   },
   {
    "duration": 102634,
    "start_time": "2021-07-10T07:50:53.578Z"
   },
   {
    "duration": 5728,
    "start_time": "2021-07-10T07:52:36.218Z"
   },
   {
    "duration": 502,
    "start_time": "2021-07-10T07:52:41.948Z"
   },
   {
    "duration": 102209,
    "start_time": "2021-07-10T07:56:59.337Z"
   },
   {
    "duration": 4,
    "start_time": "2021-07-10T09:34:23.946Z"
   },
   {
    "duration": 3,
    "start_time": "2021-07-10T09:34:44.272Z"
   },
   {
    "duration": 255,
    "start_time": "2021-07-10T09:35:15.655Z"
   },
   {
    "duration": 31603,
    "start_time": "2021-07-10T09:35:23.726Z"
   },
   {
    "duration": 2,
    "start_time": "2021-07-10T09:37:42.566Z"
   },
   {
    "duration": 566,
    "start_time": "2021-07-10T09:37:47.140Z"
   },
   {
    "duration": 77,
    "start_time": "2021-07-10T09:38:15.151Z"
   },
   {
    "duration": 4,
    "start_time": "2021-07-10T09:38:17.106Z"
   },
   {
    "duration": 52276,
    "start_time": "2021-07-10T09:39:55.455Z"
   },
   {
    "duration": 82707,
    "start_time": "2021-07-10T09:41:07.137Z"
   },
   {
    "duration": 3,
    "start_time": "2021-07-10T09:45:07.962Z"
   },
   {
    "duration": 40256,
    "start_time": "2021-07-10T09:45:12.639Z"
   },
   {
    "duration": 44833,
    "start_time": "2021-07-10T09:48:47.008Z"
   },
   {
    "duration": 1178,
    "start_time": "2021-07-10T09:50:45.806Z"
   },
   {
    "duration": 757,
    "start_time": "2021-07-10T09:50:46.985Z"
   },
   {
    "duration": 111,
    "start_time": "2021-07-10T09:50:47.744Z"
   },
   {
    "duration": 34,
    "start_time": "2021-07-10T09:50:47.857Z"
   },
   {
    "duration": 16,
    "start_time": "2021-07-10T09:50:47.892Z"
   },
   {
    "duration": 47,
    "start_time": "2021-07-10T09:50:47.909Z"
   },
   {
    "duration": 15,
    "start_time": "2021-07-10T09:50:47.958Z"
   },
   {
    "duration": 37,
    "start_time": "2021-07-10T09:50:47.975Z"
   },
   {
    "duration": 29,
    "start_time": "2021-07-10T09:50:48.014Z"
   },
   {
    "duration": 86,
    "start_time": "2021-07-10T09:50:48.045Z"
   },
   {
    "duration": 12,
    "start_time": "2021-07-10T09:50:48.133Z"
   },
   {
    "duration": 4,
    "start_time": "2021-07-10T09:50:48.146Z"
   },
   {
    "duration": 6,
    "start_time": "2021-07-10T09:50:48.151Z"
   },
   {
    "duration": 11,
    "start_time": "2021-07-10T09:50:48.158Z"
   },
   {
    "duration": 43,
    "start_time": "2021-07-10T09:50:48.171Z"
   },
   {
    "duration": 25,
    "start_time": "2021-07-10T09:50:48.216Z"
   },
   {
    "duration": 4,
    "start_time": "2021-07-10T09:50:48.243Z"
   },
   {
    "duration": 20,
    "start_time": "2021-07-10T09:50:48.249Z"
   },
   {
    "duration": 13,
    "start_time": "2021-07-10T09:50:48.270Z"
   },
   {
    "duration": 80,
    "start_time": "2021-07-10T09:50:48.284Z"
   },
   {
    "duration": 15,
    "start_time": "2021-07-10T09:50:48.366Z"
   },
   {
    "duration": 9,
    "start_time": "2021-07-10T09:50:48.383Z"
   },
   {
    "duration": 19,
    "start_time": "2021-07-10T09:50:48.395Z"
   },
   {
    "duration": 127,
    "start_time": "2021-07-10T09:50:48.416Z"
   },
   {
    "duration": 41,
    "start_time": "2021-07-10T09:50:48.544Z"
   },
   {
    "duration": 326,
    "start_time": "2021-07-10T09:50:48.586Z"
   },
   {
    "duration": 384,
    "start_time": "2021-07-10T09:50:48.914Z"
   },
   {
    "duration": 2,
    "start_time": "2021-07-10T09:50:51.477Z"
   },
   {
    "duration": 119,
    "start_time": "2021-07-10T09:50:55.052Z"
   },
   {
    "duration": 5,
    "start_time": "2021-07-10T09:50:55.812Z"
   },
   {
    "duration": 72065,
    "start_time": "2021-07-10T09:51:55.984Z"
   },
   {
    "duration": 69952,
    "start_time": "2021-07-10T09:53:41.046Z"
   },
   {
    "duration": 1149,
    "start_time": "2021-07-10T10:08:36.139Z"
   },
   {
    "duration": 759,
    "start_time": "2021-07-10T10:08:37.290Z"
   },
   {
    "duration": 117,
    "start_time": "2021-07-10T10:08:38.051Z"
   },
   {
    "duration": 37,
    "start_time": "2021-07-10T10:08:38.170Z"
   },
   {
    "duration": 33,
    "start_time": "2021-07-10T10:08:38.208Z"
   },
   {
    "duration": 39,
    "start_time": "2021-07-10T10:08:38.243Z"
   },
   {
    "duration": 19,
    "start_time": "2021-07-10T10:08:38.284Z"
   },
   {
    "duration": 43,
    "start_time": "2021-07-10T10:08:38.306Z"
   },
   {
    "duration": 16,
    "start_time": "2021-07-10T10:08:38.352Z"
   },
   {
    "duration": 98,
    "start_time": "2021-07-10T10:08:38.370Z"
   },
   {
    "duration": 8,
    "start_time": "2021-07-10T10:08:38.470Z"
   },
   {
    "duration": 16,
    "start_time": "2021-07-10T10:08:38.479Z"
   },
   {
    "duration": 13,
    "start_time": "2021-07-10T10:08:38.496Z"
   },
   {
    "duration": 15,
    "start_time": "2021-07-10T10:08:38.511Z"
   },
   {
    "duration": 51,
    "start_time": "2021-07-10T10:08:38.527Z"
   },
   {
    "duration": 4,
    "start_time": "2021-07-10T10:08:38.580Z"
   },
   {
    "duration": 13,
    "start_time": "2021-07-10T10:08:38.586Z"
   },
   {
    "duration": 24,
    "start_time": "2021-07-10T10:08:38.600Z"
   },
   {
    "duration": 16,
    "start_time": "2021-07-10T10:08:38.625Z"
   },
   {
    "duration": 52,
    "start_time": "2021-07-10T10:08:38.643Z"
   },
   {
    "duration": 16,
    "start_time": "2021-07-10T10:08:38.696Z"
   },
   {
    "duration": 6,
    "start_time": "2021-07-10T10:08:38.713Z"
   },
   {
    "duration": 14,
    "start_time": "2021-07-10T10:08:38.742Z"
   },
   {
    "duration": 134,
    "start_time": "2021-07-10T10:08:38.758Z"
   },
   {
    "duration": 49,
    "start_time": "2021-07-10T10:08:38.894Z"
   },
   {
    "duration": 327,
    "start_time": "2021-07-10T10:08:38.945Z"
   },
   {
    "duration": 374,
    "start_time": "2021-07-10T10:08:39.274Z"
   },
   {
    "duration": 120,
    "start_time": "2021-07-10T10:08:43.977Z"
   },
   {
    "duration": 5,
    "start_time": "2021-07-10T10:08:46.006Z"
   },
   {
    "duration": 313777,
    "start_time": "2021-07-10T10:14:49.349Z"
   },
   {
    "duration": 340,
    "start_time": "2021-07-10T10:22:34.456Z"
   },
   {
    "duration": 450,
    "start_time": "2021-07-10T10:22:39.430Z"
   },
   {
    "duration": 87,
    "start_time": "2021-07-10T10:24:05.298Z"
   },
   {
    "duration": 6,
    "start_time": "2021-07-10T10:25:17.936Z"
   },
   {
    "duration": 41,
    "start_time": "2021-07-10T10:26:16.036Z"
   },
   {
    "duration": 124,
    "start_time": "2021-07-10T10:26:19.673Z"
   },
   {
    "duration": 4,
    "start_time": "2021-07-10T10:26:21.083Z"
   },
   {
    "duration": 431,
    "start_time": "2021-07-10T10:26:31.551Z"
   },
   {
    "duration": 5,
    "start_time": "2021-07-10T10:26:44.363Z"
   },
   {
    "duration": 68641,
    "start_time": "2021-07-10T10:27:53.553Z"
   },
   {
    "duration": 68208,
    "start_time": "2021-07-10T10:29:26.033Z"
   },
   {
    "duration": 4,
    "start_time": "2021-07-10T10:30:34.243Z"
   },
   {
    "duration": 4,
    "start_time": "2021-07-10T10:42:20.157Z"
   },
   {
    "duration": 4,
    "start_time": "2021-07-10T10:42:44.276Z"
   },
   {
    "duration": 4,
    "start_time": "2021-07-10T10:42:55.361Z"
   },
   {
    "duration": 4,
    "start_time": "2021-07-10T10:44:08.702Z"
   },
   {
    "duration": 3,
    "start_time": "2021-07-10T10:44:45.176Z"
   },
   {
    "duration": 102225,
    "start_time": "2021-07-10T10:44:56.929Z"
   },
   {
    "duration": 3,
    "start_time": "2021-07-10T10:46:39.156Z"
   },
   {
    "duration": 6,
    "start_time": "2021-07-10T10:46:39.161Z"
   },
   {
    "duration": 260,
    "start_time": "2021-07-10T10:46:39.169Z"
   },
   {
    "duration": 3,
    "start_time": "2021-07-10T11:23:03.438Z"
   },
   {
    "duration": 1139,
    "start_time": "2021-07-10T11:30:06.467Z"
   },
   {
    "duration": 3,
    "start_time": "2021-07-10T11:30:18.495Z"
   },
   {
    "duration": 832,
    "start_time": "2021-07-10T11:30:18.500Z"
   },
   {
    "duration": 133,
    "start_time": "2021-07-10T11:30:19.334Z"
   },
   {
    "duration": 37,
    "start_time": "2021-07-10T11:30:19.468Z"
   },
   {
    "duration": 17,
    "start_time": "2021-07-10T11:30:19.506Z"
   },
   {
    "duration": 54,
    "start_time": "2021-07-10T11:30:19.524Z"
   },
   {
    "duration": 16,
    "start_time": "2021-07-10T11:30:19.581Z"
   },
   {
    "duration": 52,
    "start_time": "2021-07-10T11:30:19.598Z"
   },
   {
    "duration": 20,
    "start_time": "2021-07-10T11:30:19.652Z"
   },
   {
    "duration": 99,
    "start_time": "2021-07-10T11:30:19.674Z"
   },
   {
    "duration": 5,
    "start_time": "2021-07-10T11:30:19.775Z"
   },
   {
    "duration": 4,
    "start_time": "2021-07-10T11:30:19.782Z"
   },
   {
    "duration": 7,
    "start_time": "2021-07-10T11:30:19.788Z"
   },
   {
    "duration": 9,
    "start_time": "2021-07-10T11:30:19.797Z"
   },
   {
    "duration": 73,
    "start_time": "2021-07-10T11:30:19.807Z"
   },
   {
    "duration": 5,
    "start_time": "2021-07-10T11:30:19.882Z"
   },
   {
    "duration": 6,
    "start_time": "2021-07-10T11:30:19.889Z"
   },
   {
    "duration": 17,
    "start_time": "2021-07-10T11:30:19.897Z"
   },
   {
    "duration": 31,
    "start_time": "2021-07-10T11:30:19.916Z"
   },
   {
    "duration": 54,
    "start_time": "2021-07-10T11:30:19.949Z"
   },
   {
    "duration": 16,
    "start_time": "2021-07-10T11:30:20.005Z"
   },
   {
    "duration": 27,
    "start_time": "2021-07-10T11:30:20.023Z"
   },
   {
    "duration": 15,
    "start_time": "2021-07-10T11:30:20.057Z"
   },
   {
    "duration": 150,
    "start_time": "2021-07-10T11:30:20.073Z"
   },
   {
    "duration": 56,
    "start_time": "2021-07-10T11:30:20.224Z"
   },
   {
    "duration": 327,
    "start_time": "2021-07-10T11:30:20.282Z"
   },
   {
    "duration": 400,
    "start_time": "2021-07-10T11:30:20.611Z"
   },
   {
    "duration": 138,
    "start_time": "2021-07-10T11:30:21.013Z"
   },
   {
    "duration": 5,
    "start_time": "2021-07-10T11:30:21.153Z"
   },
   {
    "duration": 4,
    "start_time": "2021-07-10T11:32:13.697Z"
   },
   {
    "duration": 5,
    "start_time": "2021-07-10T11:32:13.702Z"
   },
   {
    "duration": 5,
    "start_time": "2021-07-10T11:32:13.709Z"
   },
   {
    "duration": 1137,
    "start_time": "2021-07-10T11:36:19.780Z"
   },
   {
    "duration": 785,
    "start_time": "2021-07-10T11:36:20.919Z"
   },
   {
    "duration": 113,
    "start_time": "2021-07-10T11:36:21.705Z"
   },
   {
    "duration": 42,
    "start_time": "2021-07-10T11:36:21.820Z"
   },
   {
    "duration": 17,
    "start_time": "2021-07-10T11:36:21.863Z"
   },
   {
    "duration": 36,
    "start_time": "2021-07-10T11:36:21.881Z"
   },
   {
    "duration": 32,
    "start_time": "2021-07-10T11:36:21.919Z"
   },
   {
    "duration": 32,
    "start_time": "2021-07-10T11:36:21.954Z"
   },
   {
    "duration": 17,
    "start_time": "2021-07-10T11:36:21.988Z"
   },
   {
    "duration": 113,
    "start_time": "2021-07-10T11:36:22.006Z"
   },
   {
    "duration": 8,
    "start_time": "2021-07-10T11:36:22.120Z"
   },
   {
    "duration": 13,
    "start_time": "2021-07-10T11:36:22.130Z"
   },
   {
    "duration": 8,
    "start_time": "2021-07-10T11:36:22.146Z"
   },
   {
    "duration": 10,
    "start_time": "2021-07-10T11:36:22.161Z"
   },
   {
    "duration": 43,
    "start_time": "2021-07-10T11:36:22.173Z"
   },
   {
    "duration": 32,
    "start_time": "2021-07-10T11:36:22.218Z"
   },
   {
    "duration": 5,
    "start_time": "2021-07-10T11:36:22.252Z"
   },
   {
    "duration": 18,
    "start_time": "2021-07-10T11:36:22.258Z"
   },
   {
    "duration": 12,
    "start_time": "2021-07-10T11:36:22.278Z"
   },
   {
    "duration": 76,
    "start_time": "2021-07-10T11:36:22.292Z"
   },
   {
    "duration": 16,
    "start_time": "2021-07-10T11:36:22.369Z"
   },
   {
    "duration": 6,
    "start_time": "2021-07-10T11:36:22.386Z"
   },
   {
    "duration": 13,
    "start_time": "2021-07-10T11:36:22.396Z"
   },
   {
    "duration": 149,
    "start_time": "2021-07-10T11:36:22.411Z"
   },
   {
    "duration": 40,
    "start_time": "2021-07-10T11:36:22.562Z"
   },
   {
    "duration": 332,
    "start_time": "2021-07-10T11:36:22.604Z"
   },
   {
    "duration": 392,
    "start_time": "2021-07-10T11:36:22.937Z"
   },
   {
    "duration": 129,
    "start_time": "2021-07-10T11:36:23.330Z"
   },
   {
    "duration": 4,
    "start_time": "2021-07-10T11:36:23.461Z"
   },
   {
    "duration": 37052,
    "start_time": "2021-07-10T11:36:40.361Z"
   },
   {
    "duration": 4,
    "start_time": "2021-07-10T11:37:32.593Z"
   },
   {
    "duration": 233,
    "start_time": "2021-07-10T11:41:08.252Z"
   },
   {
    "duration": 1248,
    "start_time": "2021-07-10T11:41:15.921Z"
   },
   {
    "duration": 903,
    "start_time": "2021-07-10T11:41:17.171Z"
   },
   {
    "duration": 150,
    "start_time": "2021-07-10T11:41:18.076Z"
   },
   {
    "duration": 42,
    "start_time": "2021-07-10T11:41:18.228Z"
   },
   {
    "duration": 15,
    "start_time": "2021-07-10T11:41:18.272Z"
   },
   {
    "duration": 36,
    "start_time": "2021-07-10T11:41:18.289Z"
   },
   {
    "duration": 28,
    "start_time": "2021-07-10T11:41:18.326Z"
   },
   {
    "duration": 33,
    "start_time": "2021-07-10T11:41:18.356Z"
   },
   {
    "duration": 16,
    "start_time": "2021-07-10T11:41:18.392Z"
   },
   {
    "duration": 116,
    "start_time": "2021-07-10T11:41:18.410Z"
   },
   {
    "duration": 8,
    "start_time": "2021-07-10T11:41:18.527Z"
   },
   {
    "duration": 6,
    "start_time": "2021-07-10T11:41:18.549Z"
   },
   {
    "duration": 4,
    "start_time": "2021-07-10T11:41:18.557Z"
   },
   {
    "duration": 10,
    "start_time": "2021-07-10T11:41:18.562Z"
   },
   {
    "duration": 42,
    "start_time": "2021-07-10T11:41:18.574Z"
   },
   {
    "duration": 5,
    "start_time": "2021-07-10T11:41:18.618Z"
   },
   {
    "duration": 34,
    "start_time": "2021-07-10T11:41:18.624Z"
   },
   {
    "duration": 17,
    "start_time": "2021-07-10T11:41:18.661Z"
   },
   {
    "duration": 12,
    "start_time": "2021-07-10T11:41:18.679Z"
   },
   {
    "duration": 72,
    "start_time": "2021-07-10T11:41:18.693Z"
   },
   {
    "duration": 16,
    "start_time": "2021-07-10T11:41:18.767Z"
   },
   {
    "duration": 6,
    "start_time": "2021-07-10T11:41:18.784Z"
   },
   {
    "duration": 13,
    "start_time": "2021-07-10T11:41:18.793Z"
   },
   {
    "duration": 170,
    "start_time": "2021-07-10T11:41:18.808Z"
   },
   {
    "duration": 40,
    "start_time": "2021-07-10T11:41:18.980Z"
   },
   {
    "duration": 322,
    "start_time": "2021-07-10T11:41:19.022Z"
   },
   {
    "duration": 378,
    "start_time": "2021-07-10T11:41:19.347Z"
   },
   {
    "duration": 131,
    "start_time": "2021-07-10T11:41:19.726Z"
   },
   {
    "duration": 5,
    "start_time": "2021-07-10T11:41:19.858Z"
   },
   {
    "duration": 102401,
    "start_time": "2021-07-10T11:41:23.800Z"
   },
   {
    "duration": 100568,
    "start_time": "2021-07-10T11:43:17.172Z"
   },
   {
    "duration": 5,
    "start_time": "2021-07-10T11:45:12.773Z"
   },
   {
    "duration": 2,
    "start_time": "2021-07-10T11:48:09.674Z"
   },
   {
    "duration": 69067,
    "start_time": "2021-07-10T11:48:46.816Z"
   },
   {
    "duration": 102631,
    "start_time": "2021-07-10T12:02:03.852Z"
   },
   {
    "duration": 493,
    "start_time": "2021-07-10T12:03:46.485Z"
   },
   {
    "duration": 63,
    "start_time": "2021-07-10T12:05:31.198Z"
   },
   {
    "duration": 206,
    "start_time": "2021-07-10T12:05:43.571Z"
   },
   {
    "duration": 144,
    "start_time": "2021-07-10T12:06:38.625Z"
   },
   {
    "duration": 29,
    "start_time": "2021-07-10T12:06:49.061Z"
   },
   {
    "duration": 786,
    "start_time": "2021-07-10T12:08:03.485Z"
   },
   {
    "duration": 122,
    "start_time": "2021-07-10T12:08:23.515Z"
   },
   {
    "duration": 5,
    "start_time": "2021-07-10T12:08:25.244Z"
   },
   {
    "duration": 62,
    "start_time": "2021-07-10T12:08:28.436Z"
   },
   {
    "duration": 766,
    "start_time": "2021-07-10T12:08:30.142Z"
   },
   {
    "duration": 17,
    "start_time": "2021-07-10T12:08:33.549Z"
   },
   {
    "duration": 18,
    "start_time": "2021-07-10T12:08:40.995Z"
   },
   {
    "duration": 18,
    "start_time": "2021-07-10T12:08:45.313Z"
   },
   {
    "duration": 13,
    "start_time": "2021-07-10T12:10:58.752Z"
   },
   {
    "duration": 22358,
    "start_time": "2021-07-10T12:15:01.908Z"
   },
   {
    "duration": 438,
    "start_time": "2021-07-10T12:15:30.126Z"
   },
   {
    "duration": 21495,
    "start_time": "2021-07-10T12:15:44.266Z"
   },
   {
    "duration": 326,
    "start_time": "2021-07-10T12:16:15.736Z"
   },
   {
    "duration": 166,
    "start_time": "2021-07-10T12:38:23.617Z"
   },
   {
    "duration": 5318,
    "start_time": "2021-07-10T12:38:33.276Z"
   },
   {
    "duration": 1087,
    "start_time": "2021-07-10T12:39:05.200Z"
   },
   {
    "duration": 752,
    "start_time": "2021-07-10T12:39:06.289Z"
   },
   {
    "duration": 117,
    "start_time": "2021-07-10T12:39:07.044Z"
   },
   {
    "duration": 31,
    "start_time": "2021-07-10T12:39:07.163Z"
   },
   {
    "duration": 16,
    "start_time": "2021-07-10T12:39:07.196Z"
   },
   {
    "duration": 51,
    "start_time": "2021-07-10T12:39:07.214Z"
   },
   {
    "duration": 15,
    "start_time": "2021-07-10T12:39:07.267Z"
   },
   {
    "duration": 36,
    "start_time": "2021-07-10T12:39:07.285Z"
   },
   {
    "duration": 28,
    "start_time": "2021-07-10T12:39:07.324Z"
   },
   {
    "duration": 96,
    "start_time": "2021-07-10T12:39:07.353Z"
   },
   {
    "duration": 6,
    "start_time": "2021-07-10T12:39:07.450Z"
   },
   {
    "duration": 4,
    "start_time": "2021-07-10T12:39:07.458Z"
   },
   {
    "duration": 5,
    "start_time": "2021-07-10T12:39:07.464Z"
   },
   {
    "duration": 11,
    "start_time": "2021-07-10T12:39:07.470Z"
   },
   {
    "duration": 63,
    "start_time": "2021-07-10T12:39:07.482Z"
   },
   {
    "duration": 5,
    "start_time": "2021-07-10T12:39:07.546Z"
   },
   {
    "duration": 5,
    "start_time": "2021-07-10T12:39:07.553Z"
   },
   {
    "duration": 16,
    "start_time": "2021-07-10T12:39:07.560Z"
   },
   {
    "duration": 12,
    "start_time": "2021-07-10T12:39:07.578Z"
   },
   {
    "duration": 79,
    "start_time": "2021-07-10T12:39:07.592Z"
   },
   {
    "duration": 16,
    "start_time": "2021-07-10T12:39:07.672Z"
   },
   {
    "duration": 6,
    "start_time": "2021-07-10T12:39:07.689Z"
   },
   {
    "duration": 14,
    "start_time": "2021-07-10T12:39:07.698Z"
   },
   {
    "duration": 154,
    "start_time": "2021-07-10T12:39:07.713Z"
   },
   {
    "duration": 43,
    "start_time": "2021-07-10T12:39:07.869Z"
   },
   {
    "duration": 318,
    "start_time": "2021-07-10T12:39:07.914Z"
   },
   {
    "duration": 369,
    "start_time": "2021-07-10T12:39:08.234Z"
   },
   {
    "duration": 136,
    "start_time": "2021-07-10T12:39:08.605Z"
   },
   {
    "duration": 5,
    "start_time": "2021-07-10T12:39:08.742Z"
   },
   {
    "duration": 97604,
    "start_time": "2021-07-10T12:39:08.749Z"
   },
   {
    "duration": 4,
    "start_time": "2021-07-10T12:40:46.355Z"
   },
   {
    "duration": 6,
    "start_time": "2021-07-10T12:40:46.362Z"
   },
   {
    "duration": 188,
    "start_time": "2021-07-10T12:40:46.370Z"
   },
   {
    "duration": 5,
    "start_time": "2021-07-10T12:40:46.560Z"
   },
   {
    "duration": 58,
    "start_time": "2021-07-10T12:41:39.983Z"
   },
   {
    "duration": 683,
    "start_time": "2021-07-10T12:41:41.766Z"
   },
   {
    "duration": 11,
    "start_time": "2021-07-10T12:41:43.183Z"
   },
   {
    "duration": 1095,
    "start_time": "2021-07-10T12:48:19.495Z"
   },
   {
    "duration": 755,
    "start_time": "2021-07-10T12:48:20.592Z"
   },
   {
    "duration": 118,
    "start_time": "2021-07-10T12:48:21.349Z"
   },
   {
    "duration": 31,
    "start_time": "2021-07-10T12:48:21.469Z"
   },
   {
    "duration": 16,
    "start_time": "2021-07-10T12:48:21.501Z"
   },
   {
    "duration": 48,
    "start_time": "2021-07-10T12:48:21.518Z"
   },
   {
    "duration": 15,
    "start_time": "2021-07-10T12:48:21.567Z"
   },
   {
    "duration": 36,
    "start_time": "2021-07-10T12:48:21.584Z"
   },
   {
    "duration": 30,
    "start_time": "2021-07-10T12:48:21.622Z"
   },
   {
    "duration": 89,
    "start_time": "2021-07-10T12:48:21.654Z"
   },
   {
    "duration": 6,
    "start_time": "2021-07-10T12:48:21.744Z"
   },
   {
    "duration": 4,
    "start_time": "2021-07-10T12:48:21.752Z"
   },
   {
    "duration": 4,
    "start_time": "2021-07-10T12:48:21.758Z"
   },
   {
    "duration": 12,
    "start_time": "2021-07-10T12:48:21.764Z"
   },
   {
    "duration": 71,
    "start_time": "2021-07-10T12:48:21.778Z"
   },
   {
    "duration": 5,
    "start_time": "2021-07-10T12:48:21.850Z"
   },
   {
    "duration": 10,
    "start_time": "2021-07-10T12:48:21.857Z"
   },
   {
    "duration": 16,
    "start_time": "2021-07-10T12:48:21.869Z"
   },
   {
    "duration": 12,
    "start_time": "2021-07-10T12:48:21.887Z"
   },
   {
    "duration": 71,
    "start_time": "2021-07-10T12:48:21.900Z"
   },
   {
    "duration": 15,
    "start_time": "2021-07-10T12:48:21.973Z"
   },
   {
    "duration": 5,
    "start_time": "2021-07-10T12:48:21.990Z"
   },
   {
    "duration": 14,
    "start_time": "2021-07-10T12:48:21.998Z"
   },
   {
    "duration": 149,
    "start_time": "2021-07-10T12:48:22.014Z"
   },
   {
    "duration": 40,
    "start_time": "2021-07-10T12:48:22.164Z"
   },
   {
    "duration": 324,
    "start_time": "2021-07-10T12:48:22.206Z"
   },
   {
    "duration": 378,
    "start_time": "2021-07-10T12:48:22.532Z"
   },
   {
    "duration": 119,
    "start_time": "2021-07-10T12:48:22.912Z"
   },
   {
    "duration": 9,
    "start_time": "2021-07-10T12:48:23.033Z"
   },
   {
    "duration": 96687,
    "start_time": "2021-07-10T12:48:23.043Z"
   },
   {
    "duration": 4,
    "start_time": "2021-07-10T12:49:59.731Z"
   },
   {
    "duration": 5,
    "start_time": "2021-07-10T12:49:59.737Z"
   },
   {
    "duration": 210,
    "start_time": "2021-07-10T12:49:59.743Z"
   },
   {
    "duration": 5,
    "start_time": "2021-07-10T12:49:59.955Z"
   },
   {
    "duration": 6,
    "start_time": "2021-07-10T14:47:31.804Z"
   },
   {
    "duration": 3,
    "start_time": "2021-07-10T14:57:23.141Z"
   },
   {
    "duration": 4,
    "start_time": "2021-07-10T14:57:29.904Z"
   },
   {
    "duration": 259,
    "start_time": "2021-07-10T15:01:03.979Z"
   },
   {
    "duration": 2572,
    "start_time": "2021-07-10T15:02:23.225Z"
   },
   {
    "duration": 275,
    "start_time": "2021-07-10T15:04:35.275Z"
   },
   {
    "duration": 3,
    "start_time": "2021-07-10T15:04:52.713Z"
   },
   {
    "duration": 185,
    "start_time": "2021-07-10T15:04:55.750Z"
   },
   {
    "duration": 60,
    "start_time": "2021-07-10T15:05:14.695Z"
   },
   {
    "duration": 706,
    "start_time": "2021-07-10T15:05:17.469Z"
   },
   {
    "duration": 16,
    "start_time": "2021-07-10T15:05:19.787Z"
   },
   {
    "duration": 3,
    "start_time": "2021-07-10T15:05:21.996Z"
   },
   {
    "duration": 539,
    "start_time": "2021-07-10T15:05:23.297Z"
   },
   {
    "duration": 3,
    "start_time": "2021-07-10T15:07:41.893Z"
   },
   {
    "duration": 1663,
    "start_time": "2021-07-10T15:07:43.585Z"
   },
   {
    "duration": 188,
    "start_time": "2021-07-10T15:08:35.955Z"
   },
   {
    "duration": 3,
    "start_time": "2021-07-10T15:08:59.986Z"
   },
   {
    "duration": 1176,
    "start_time": "2021-07-10T15:09:01.165Z"
   },
   {
    "duration": 105,
    "start_time": "2021-07-10T15:09:48.708Z"
   },
   {
    "duration": 5,
    "start_time": "2021-07-10T15:09:50.675Z"
   },
   {
    "duration": 716,
    "start_time": "2021-07-10T15:10:01.841Z"
   },
   {
    "duration": 13,
    "start_time": "2021-07-10T15:10:03.880Z"
   },
   {
    "duration": 113,
    "start_time": "2021-07-10T15:10:12.363Z"
   },
   {
    "duration": 10,
    "start_time": "2021-07-10T15:10:16.288Z"
   },
   {
    "duration": 3,
    "start_time": "2021-07-10T15:10:19.312Z"
   },
   {
    "duration": 200,
    "start_time": "2021-07-10T15:10:20.441Z"
   },
   {
    "duration": 697,
    "start_time": "2021-07-10T15:10:38.860Z"
   },
   {
    "duration": 11,
    "start_time": "2021-07-10T15:10:40.523Z"
   },
   {
    "duration": 3,
    "start_time": "2021-07-10T15:10:43.256Z"
   },
   {
    "duration": 1374,
    "start_time": "2021-07-10T15:10:44.473Z"
   },
   {
    "duration": 165,
    "start_time": "2021-07-10T15:11:04.573Z"
   },
   {
    "duration": 361,
    "start_time": "2021-07-10T15:11:52.438Z"
   },
   {
    "duration": 4,
    "start_time": "2021-07-10T15:13:20.228Z"
   },
   {
    "duration": 40729,
    "start_time": "2021-07-10T15:13:21.523Z"
   },
   {
    "duration": 185,
    "start_time": "2021-07-10T15:14:39.308Z"
   },
   {
    "duration": 3,
    "start_time": "2021-07-10T15:14:43.347Z"
   },
   {
    "duration": 38689,
    "start_time": "2021-07-10T15:14:44.172Z"
   },
   {
    "duration": 38410,
    "start_time": "2021-07-10T15:15:29.542Z"
   },
   {
    "duration": 174,
    "start_time": "2021-07-10T15:16:20.661Z"
   },
   {
    "duration": 177,
    "start_time": "2021-07-10T15:16:50.425Z"
   },
   {
    "duration": 3,
    "start_time": "2021-07-10T15:16:55.912Z"
   },
   {
    "duration": 33098,
    "start_time": "2021-07-10T15:16:56.763Z"
   },
   {
    "duration": 3,
    "start_time": "2021-07-10T15:17:58.749Z"
   },
   {
    "duration": 38467,
    "start_time": "2021-07-10T15:17:59.288Z"
   },
   {
    "duration": 36472,
    "start_time": "2021-07-10T15:21:12.276Z"
   },
   {
    "duration": 34461,
    "start_time": "2021-07-10T15:24:54.586Z"
   },
   {
    "duration": 19546,
    "start_time": "2021-07-10T15:25:46.608Z"
   },
   {
    "duration": 18249,
    "start_time": "2021-07-10T15:26:42.005Z"
   },
   {
    "duration": 19464,
    "start_time": "2021-07-10T15:27:10.778Z"
   },
   {
    "duration": 37583,
    "start_time": "2021-07-10T15:27:45.168Z"
   },
   {
    "duration": 53723,
    "start_time": "2021-07-10T15:29:20.031Z"
   },
   {
    "duration": 891,
    "start_time": "2021-07-10T15:31:00.006Z"
   },
   {
    "duration": 5556,
    "start_time": "2021-07-10T15:41:53.551Z"
   },
   {
    "duration": 24,
    "start_time": "2021-07-10T15:42:56.202Z"
   },
   {
    "duration": 96887,
    "start_time": "2021-07-10T15:43:02.193Z"
   },
   {
    "duration": 1103,
    "start_time": "2021-07-10T16:30:14.979Z"
   },
   {
    "duration": 739,
    "start_time": "2021-07-10T16:30:16.084Z"
   },
   {
    "duration": 117,
    "start_time": "2021-07-10T16:30:16.825Z"
   },
   {
    "duration": 32,
    "start_time": "2021-07-10T16:30:16.944Z"
   },
   {
    "duration": 16,
    "start_time": "2021-07-10T16:30:16.978Z"
   },
   {
    "duration": 49,
    "start_time": "2021-07-10T16:30:16.996Z"
   },
   {
    "duration": 16,
    "start_time": "2021-07-10T16:30:17.047Z"
   },
   {
    "duration": 34,
    "start_time": "2021-07-10T16:30:17.067Z"
   },
   {
    "duration": 38,
    "start_time": "2021-07-10T16:30:17.104Z"
   },
   {
    "duration": 87,
    "start_time": "2021-07-10T16:30:17.144Z"
   },
   {
    "duration": 13,
    "start_time": "2021-07-10T16:30:17.232Z"
   },
   {
    "duration": 4,
    "start_time": "2021-07-10T16:30:17.246Z"
   },
   {
    "duration": 6,
    "start_time": "2021-07-10T16:30:17.252Z"
   },
   {
    "duration": 11,
    "start_time": "2021-07-10T16:30:17.259Z"
   },
   {
    "duration": 42,
    "start_time": "2021-07-10T16:30:17.271Z"
   },
   {
    "duration": 29,
    "start_time": "2021-07-10T16:30:17.315Z"
   },
   {
    "duration": 5,
    "start_time": "2021-07-10T16:30:17.346Z"
   },
   {
    "duration": 19,
    "start_time": "2021-07-10T16:30:17.353Z"
   },
   {
    "duration": 21,
    "start_time": "2021-07-10T16:30:17.373Z"
   },
   {
    "duration": 73,
    "start_time": "2021-07-10T16:30:17.396Z"
   },
   {
    "duration": 17,
    "start_time": "2021-07-10T16:30:17.471Z"
   },
   {
    "duration": 7,
    "start_time": "2021-07-10T16:30:17.489Z"
   },
   {
    "duration": 20,
    "start_time": "2021-07-10T16:30:17.499Z"
   },
   {
    "duration": 143,
    "start_time": "2021-07-10T16:30:17.521Z"
   },
   {
    "duration": 40,
    "start_time": "2021-07-10T16:30:17.666Z"
   },
   {
    "duration": 313,
    "start_time": "2021-07-10T16:30:17.708Z"
   },
   {
    "duration": 367,
    "start_time": "2021-07-10T16:30:18.022Z"
   },
   {
    "duration": 127,
    "start_time": "2021-07-10T16:30:18.391Z"
   },
   {
    "duration": 5,
    "start_time": "2021-07-10T16:30:18.520Z"
   },
   {
    "duration": 98149,
    "start_time": "2021-07-10T16:30:18.527Z"
   },
   {
    "duration": 4,
    "start_time": "2021-07-10T16:31:56.678Z"
   },
   {
    "duration": 7,
    "start_time": "2021-07-10T16:31:56.683Z"
   },
   {
    "duration": 254,
    "start_time": "2021-07-10T16:31:56.691Z"
   },
   {
    "duration": 5,
    "start_time": "2021-07-10T16:31:56.947Z"
   },
   {
    "duration": 59,
    "start_time": "2021-07-10T16:31:56.954Z"
   },
   {
    "duration": 841,
    "start_time": "2021-07-10T16:31:57.015Z"
   },
   {
    "duration": 11,
    "start_time": "2021-07-10T16:31:57.858Z"
   },
   {
    "duration": 50678,
    "start_time": "2021-07-10T16:31:57.871Z"
   },
   {
    "duration": 37388,
    "start_time": "2021-07-10T16:33:40.562Z"
   },
   {
    "duration": 34689,
    "start_time": "2021-07-10T16:35:23.669Z"
   },
   {
    "duration": 371,
    "start_time": "2021-07-10T16:36:47.906Z"
   },
   {
    "duration": 4,
    "start_time": "2021-07-10T16:37:27.954Z"
   },
   {
    "duration": 4,
    "start_time": "2021-07-10T16:37:40.592Z"
   },
   {
    "duration": 5377,
    "start_time": "2021-07-10T16:43:59.474Z"
   },
   {
    "duration": 5286,
    "start_time": "2021-07-10T16:44:23.668Z"
   },
   {
    "duration": 28377,
    "start_time": "2021-07-10T17:01:49.580Z"
   },
   {
    "duration": 42004,
    "start_time": "2021-07-10T17:02:34.450Z"
   },
   {
    "duration": 30238,
    "start_time": "2021-07-10T17:04:11.617Z"
   },
   {
    "duration": 31027,
    "start_time": "2021-07-10T17:05:49.618Z"
   },
   {
    "duration": 37285,
    "start_time": "2021-07-10T17:06:55.768Z"
   },
   {
    "duration": 172,
    "start_time": "2021-07-10T17:11:13.847Z"
   },
   {
    "duration": 5742,
    "start_time": "2021-07-10T17:11:23.900Z"
   },
   {
    "duration": 5896,
    "start_time": "2021-07-10T17:11:51.864Z"
   },
   {
    "duration": 6149,
    "start_time": "2021-07-10T17:12:02.477Z"
   },
   {
    "duration": 1164,
    "start_time": "2021-07-10T17:13:31.515Z"
   },
   {
    "duration": 734,
    "start_time": "2021-07-10T17:13:32.681Z"
   },
   {
    "duration": 113,
    "start_time": "2021-07-10T17:13:33.417Z"
   },
   {
    "duration": 31,
    "start_time": "2021-07-10T17:13:33.531Z"
   },
   {
    "duration": 17,
    "start_time": "2021-07-10T17:13:33.563Z"
   },
   {
    "duration": 36,
    "start_time": "2021-07-10T17:13:33.581Z"
   },
   {
    "duration": 33,
    "start_time": "2021-07-10T17:13:33.619Z"
   },
   {
    "duration": 33,
    "start_time": "2021-07-10T17:13:33.654Z"
   },
   {
    "duration": 15,
    "start_time": "2021-07-10T17:13:33.690Z"
   },
   {
    "duration": 107,
    "start_time": "2021-07-10T17:13:33.706Z"
   },
   {
    "duration": 8,
    "start_time": "2021-07-10T17:13:33.814Z"
   },
   {
    "duration": 5,
    "start_time": "2021-07-10T17:13:33.824Z"
   },
   {
    "duration": 5,
    "start_time": "2021-07-10T17:13:33.841Z"
   },
   {
    "duration": 15,
    "start_time": "2021-07-10T17:13:33.848Z"
   },
   {
    "duration": 44,
    "start_time": "2021-07-10T17:13:33.865Z"
   },
   {
    "duration": 31,
    "start_time": "2021-07-10T17:13:33.911Z"
   },
   {
    "duration": 7,
    "start_time": "2021-07-10T17:13:33.944Z"
   },
   {
    "duration": 18,
    "start_time": "2021-07-10T17:13:33.952Z"
   },
   {
    "duration": 13,
    "start_time": "2021-07-10T17:13:33.972Z"
   },
   {
    "duration": 87,
    "start_time": "2021-07-10T17:13:33.987Z"
   },
   {
    "duration": 17,
    "start_time": "2021-07-10T17:13:34.076Z"
   },
   {
    "duration": 7,
    "start_time": "2021-07-10T17:13:34.094Z"
   },
   {
    "duration": 37,
    "start_time": "2021-07-10T17:13:34.105Z"
   },
   {
    "duration": 135,
    "start_time": "2021-07-10T17:13:34.144Z"
   },
   {
    "duration": 41,
    "start_time": "2021-07-10T17:13:34.281Z"
   },
   {
    "duration": 330,
    "start_time": "2021-07-10T17:13:34.324Z"
   },
   {
    "duration": 377,
    "start_time": "2021-07-10T17:13:34.656Z"
   },
   {
    "duration": 125,
    "start_time": "2021-07-10T17:13:35.034Z"
   },
   {
    "duration": 5,
    "start_time": "2021-07-10T17:13:35.161Z"
   },
   {
    "duration": 97468,
    "start_time": "2021-07-10T17:13:35.168Z"
   },
   {
    "duration": 3,
    "start_time": "2021-07-10T17:15:12.638Z"
   },
   {
    "duration": 4,
    "start_time": "2021-07-10T17:15:12.643Z"
   },
   {
    "duration": 203,
    "start_time": "2021-07-10T17:15:12.649Z"
   },
   {
    "duration": 5,
    "start_time": "2021-07-10T17:15:12.854Z"
   },
   {
    "duration": 122,
    "start_time": "2021-07-10T17:15:12.860Z"
   },
   {
    "duration": 678,
    "start_time": "2021-07-10T17:15:12.984Z"
   },
   {
    "duration": 11,
    "start_time": "2021-07-10T17:15:13.663Z"
   },
   {
    "duration": 38478,
    "start_time": "2021-07-10T17:15:13.676Z"
   },
   {
    "duration": 4,
    "start_time": "2021-07-10T17:15:52.156Z"
   },
   {
    "duration": 4880,
    "start_time": "2021-07-10T17:15:52.161Z"
   },
   {
    "duration": 6,
    "start_time": "2021-07-10T17:15:57.043Z"
   },
   {
    "duration": 3,
    "start_time": "2021-07-10T17:18:43.906Z"
   },
   {
    "duration": 330,
    "start_time": "2021-07-10T17:18:52.907Z"
   },
   {
    "duration": 257,
    "start_time": "2021-07-10T17:21:09.438Z"
   },
   {
    "duration": 13922,
    "start_time": "2021-07-10T17:24:36.973Z"
   },
   {
    "duration": 13784,
    "start_time": "2021-07-10T17:25:07.216Z"
   },
   {
    "duration": 18746,
    "start_time": "2021-07-10T17:25:50.229Z"
   },
   {
    "duration": 4596,
    "start_time": "2021-07-10T17:26:08.977Z"
   },
   {
    "duration": 5,
    "start_time": "2021-07-10T17:28:37.553Z"
   },
   {
    "duration": 46,
    "start_time": "2021-07-10T17:48:00.520Z"
   },
   {
    "duration": 176,
    "start_time": "2021-07-10T17:55:14.034Z"
   },
   {
    "duration": 17666,
    "start_time": "2021-07-10T17:55:20.337Z"
   },
   {
    "duration": 18093,
    "start_time": "2021-07-10T17:55:49.739Z"
   },
   {
    "duration": 18262,
    "start_time": "2021-07-10T17:57:16.161Z"
   },
   {
    "duration": 34431,
    "start_time": "2021-07-10T17:58:29.142Z"
   },
   {
    "duration": 32917,
    "start_time": "2021-07-10T18:00:56.008Z"
   },
   {
    "duration": 259,
    "start_time": "2021-07-10T18:04:25.054Z"
   },
   {
    "duration": 259,
    "start_time": "2021-07-10T18:04:36.895Z"
   },
   {
    "duration": 271,
    "start_time": "2021-07-10T18:04:50.982Z"
   },
   {
    "duration": 4,
    "start_time": "2021-07-10T18:05:32.234Z"
   },
   {
    "duration": 256,
    "start_time": "2021-07-10T18:05:52.257Z"
   },
   {
    "duration": 266,
    "start_time": "2021-07-10T18:06:34.043Z"
   },
   {
    "duration": 259,
    "start_time": "2021-07-10T18:06:38.942Z"
   },
   {
    "duration": 293,
    "start_time": "2021-07-10T18:06:41.956Z"
   },
   {
    "duration": 317,
    "start_time": "2021-07-10T18:07:05.066Z"
   },
   {
    "duration": 258,
    "start_time": "2021-07-10T18:07:59.022Z"
   },
   {
    "duration": 32697,
    "start_time": "2021-07-10T18:09:01.296Z"
   },
   {
    "duration": 3,
    "start_time": "2021-07-10T18:09:58.635Z"
   },
   {
    "duration": 3,
    "start_time": "2021-07-10T18:10:07.947Z"
   },
   {
    "duration": 48399,
    "start_time": "2021-07-10T18:10:52.019Z"
   },
   {
    "duration": 671,
    "start_time": "2021-07-10T18:11:55.614Z"
   },
   {
    "duration": 20,
    "start_time": "2021-07-10T18:16:16.423Z"
   },
   {
    "duration": 52,
    "start_time": "2021-07-10T18:18:56.380Z"
   },
   {
    "duration": 51,
    "start_time": "2021-07-10T18:19:01.413Z"
   },
   {
    "duration": 87,
    "start_time": "2021-07-10T18:19:59.532Z"
   },
   {
    "duration": 3,
    "start_time": "2021-07-10T18:21:01.336Z"
   },
   {
    "duration": 86,
    "start_time": "2021-07-10T18:21:24.802Z"
   },
   {
    "duration": 240741,
    "start_time": "2021-07-10T18:31:00.500Z"
   },
   {
    "duration": 3,
    "start_time": "2021-07-10T18:35:01.243Z"
   },
   {
    "duration": 179,
    "start_time": "2021-07-10T18:35:19.435Z"
   },
   {
    "duration": 55902,
    "start_time": "2021-07-10T18:36:06.429Z"
   },
   {
    "duration": 3,
    "start_time": "2021-07-10T18:37:59.547Z"
   },
   {
    "duration": 702,
    "start_time": "2021-07-10T18:38:43.785Z"
   },
   {
    "duration": 636767,
    "start_time": "2021-07-10T18:39:39.996Z"
   },
   {
    "duration": 3,
    "start_time": "2021-07-10T18:50:16.765Z"
   },
   {
    "duration": 639,
    "start_time": "2021-07-10T18:50:16.770Z"
   },
   {
    "duration": 20,
    "start_time": "2021-07-10T18:50:17.410Z"
   },
   {
    "duration": 261,
    "start_time": "2021-07-10T18:50:17.431Z"
   },
   {
    "duration": 279,
    "start_time": "2021-07-10T18:51:29.108Z"
   },
   {
    "duration": -34,
    "start_time": "2021-07-10T18:52:23.959Z"
   },
   {
    "duration": 33516,
    "start_time": "2021-07-10T18:52:27.930Z"
   },
   {
    "duration": 3,
    "start_time": "2021-07-10T18:53:01.627Z"
   },
   {
    "duration": 33872,
    "start_time": "2021-07-10T18:53:29.269Z"
   },
   {
    "duration": 20,
    "start_time": "2021-07-10T18:54:29.729Z"
   },
   {
    "duration": 4968,
    "start_time": "2021-07-10T18:54:54.526Z"
   },
   {
    "duration": 166459,
    "start_time": "2021-07-10T18:57:03.967Z"
   },
   {
    "duration": 4,
    "start_time": "2021-07-10T18:59:50.428Z"
   },
   {
    "duration": 34560,
    "start_time": "2021-07-10T18:59:50.441Z"
   },
   {
    "duration": 22,
    "start_time": "2021-07-10T19:00:25.003Z"
   },
   {
    "duration": 4922,
    "start_time": "2021-07-10T19:00:25.027Z"
   },
   {
    "duration": 254,
    "start_time": "2021-07-10T19:13:14.755Z"
   },
   {
    "duration": 3,
    "start_time": "2021-07-10T19:13:40.468Z"
   },
   {
    "duration": 267,
    "start_time": "2021-07-10T19:13:53.184Z"
   },
   {
    "duration": 7,
    "start_time": "2021-07-10T19:14:05.152Z"
   },
   {
    "duration": 262,
    "start_time": "2021-07-10T19:14:12.771Z"
   },
   {
    "duration": 5,
    "start_time": "2021-07-10T19:14:17.974Z"
   },
   {
    "duration": 18640,
    "start_time": "2021-07-10T19:14:19.619Z"
   },
   {
    "duration": 247,
    "start_time": "2021-07-10T19:14:52.971Z"
   },
   {
    "duration": 88,
    "start_time": "2021-07-10T19:15:02.274Z"
   },
   {
    "duration": 4883,
    "start_time": "2021-07-10T19:15:06.141Z"
   },
   {
    "duration": 11,
    "start_time": "2021-07-10T19:15:16.138Z"
   },
   {
    "duration": 4,
    "start_time": "2021-07-10T19:17:18.772Z"
   },
   {
    "duration": 11,
    "start_time": "2021-07-10T19:17:26.771Z"
   },
   {
    "duration": 142,
    "start_time": "2021-07-10T19:18:56.209Z"
   },
   {
    "duration": 193,
    "start_time": "2021-07-10T19:19:23.398Z"
   },
   {
    "duration": 224,
    "start_time": "2021-07-10T19:20:32.732Z"
   },
   {
    "duration": 123,
    "start_time": "2021-07-10T19:21:09.934Z"
   },
   {
    "duration": 432,
    "start_time": "2021-07-10T19:21:25.975Z"
   },
   {
    "duration": 670,
    "start_time": "2021-07-10T19:22:01.622Z"
   },
   {
    "duration": 122,
    "start_time": "2021-07-10T19:22:05.417Z"
   },
   {
    "duration": 91,
    "start_time": "2021-07-10T19:23:04.841Z"
   },
   {
    "duration": 119,
    "start_time": "2021-07-10T19:23:09.047Z"
   },
   {
    "duration": 422,
    "start_time": "2021-07-10T19:23:22.675Z"
   },
   {
    "duration": 126,
    "start_time": "2021-07-10T19:23:28.380Z"
   },
   {
    "duration": 133,
    "start_time": "2021-07-10T19:24:01.869Z"
   },
   {
    "duration": 119,
    "start_time": "2021-07-10T19:24:11.391Z"
   },
   {
    "duration": 501,
    "start_time": "2021-07-10T19:25:00.678Z"
   },
   {
    "duration": 419,
    "start_time": "2021-07-10T19:25:15.972Z"
   },
   {
    "duration": 406,
    "start_time": "2021-07-10T19:25:34.138Z"
   },
   {
    "duration": 136,
    "start_time": "2021-07-10T19:26:00.181Z"
   },
   {
    "duration": 130,
    "start_time": "2021-07-10T19:26:11.547Z"
   },
   {
    "duration": 133,
    "start_time": "2021-07-10T19:26:17.468Z"
   },
   {
    "duration": 120,
    "start_time": "2021-07-10T19:26:21.687Z"
   },
   {
    "duration": 130,
    "start_time": "2021-07-10T19:26:26.360Z"
   },
   {
    "duration": 221,
    "start_time": "2021-07-10T19:26:29.814Z"
   },
   {
    "duration": 17,
    "start_time": "2021-07-10T19:26:39.568Z"
   },
   {
    "duration": 16,
    "start_time": "2021-07-10T19:26:49.617Z"
   },
   {
    "duration": 134,
    "start_time": "2021-07-10T19:27:55.318Z"
   },
   {
    "duration": 150,
    "start_time": "2021-07-10T19:29:18.321Z"
   },
   {
    "duration": 4,
    "start_time": "2021-07-10T19:29:40.080Z"
   },
   {
    "duration": 265,
    "start_time": "2021-07-10T19:29:58.065Z"
   },
   {
    "duration": 401,
    "start_time": "2021-07-10T19:30:05.076Z"
   },
   {
    "duration": 364,
    "start_time": "2021-07-10T19:31:06.004Z"
   },
   {
    "duration": 494,
    "start_time": "2021-07-10T19:32:27.311Z"
   },
   {
    "duration": 445,
    "start_time": "2021-07-10T19:32:44.514Z"
   },
   {
    "duration": 477,
    "start_time": "2021-07-10T19:33:14.483Z"
   },
   {
    "duration": 3,
    "start_time": "2021-07-10T19:34:38.831Z"
   },
   {
    "duration": 109,
    "start_time": "2021-07-10T19:35:10.780Z"
   },
   {
    "duration": 106,
    "start_time": "2021-07-10T19:35:28.036Z"
   },
   {
    "duration": 109,
    "start_time": "2021-07-10T19:35:35.781Z"
   },
   {
    "duration": 4,
    "start_time": "2021-07-10T19:38:15.466Z"
   },
   {
    "duration": 260,
    "start_time": "2021-07-10T19:39:48.503Z"
   },
   {
    "duration": 7,
    "start_time": "2021-07-10T19:40:27.086Z"
   },
   {
    "duration": 7,
    "start_time": "2021-07-10T19:40:39.355Z"
   },
   {
    "duration": 13,
    "start_time": "2021-07-10T19:40:54.159Z"
   },
   {
    "duration": 8,
    "start_time": "2021-07-10T19:40:58.685Z"
   },
   {
    "duration": 277,
    "start_time": "2021-07-10T19:42:10.209Z"
   },
   {
    "duration": 8,
    "start_time": "2021-07-10T19:42:27.008Z"
   },
   {
    "duration": 6,
    "start_time": "2021-07-10T19:42:41.999Z"
   },
   {
    "duration": 11,
    "start_time": "2021-07-10T19:43:22.216Z"
   },
   {
    "duration": 5,
    "start_time": "2021-07-10T19:43:31.778Z"
   },
   {
    "duration": 5,
    "start_time": "2021-07-10T19:43:46.196Z"
   },
   {
    "duration": 13,
    "start_time": "2021-07-10T19:44:07.591Z"
   },
   {
    "duration": 260,
    "start_time": "2021-07-10T19:44:17.086Z"
   },
   {
    "duration": 267,
    "start_time": "2021-07-10T19:44:27.847Z"
   },
   {
    "duration": 250,
    "start_time": "2021-07-10T19:44:45.649Z"
   },
   {
    "duration": 5,
    "start_time": "2021-07-10T19:44:51.736Z"
   },
   {
    "duration": 257,
    "start_time": "2021-07-10T19:45:03.403Z"
   },
   {
    "duration": 11,
    "start_time": "2021-07-10T19:45:12.702Z"
   },
   {
    "duration": 6,
    "start_time": "2021-07-10T19:45:25.226Z"
   },
   {
    "duration": 7,
    "start_time": "2021-07-10T19:45:40.491Z"
   },
   {
    "duration": 12,
    "start_time": "2021-07-10T19:45:45.069Z"
   },
   {
    "duration": 254,
    "start_time": "2021-07-10T19:46:16.867Z"
   },
   {
    "duration": 6232,
    "start_time": "2021-07-10T19:46:58.738Z"
   },
   {
    "duration": 6149,
    "start_time": "2021-07-10T19:47:26.578Z"
   },
   {
    "duration": 7,
    "start_time": "2021-07-10T19:47:34.953Z"
   },
   {
    "duration": 11,
    "start_time": "2021-07-10T19:48:04.542Z"
   },
   {
    "duration": 6,
    "start_time": "2021-07-10T19:48:10.753Z"
   },
   {
    "duration": 6,
    "start_time": "2021-07-10T19:48:29.423Z"
   },
   {
    "duration": 6,
    "start_time": "2021-07-10T19:50:09.033Z"
   },
   {
    "duration": 1178,
    "start_time": "2021-07-11T06:40:39.837Z"
   },
   {
    "duration": 2,
    "start_time": "2021-07-11T06:40:41.017Z"
   },
   {
    "duration": 725,
    "start_time": "2021-07-11T06:40:41.021Z"
   },
   {
    "duration": 118,
    "start_time": "2021-07-11T06:40:41.748Z"
   },
   {
    "duration": 35,
    "start_time": "2021-07-11T06:40:41.868Z"
   },
   {
    "duration": 16,
    "start_time": "2021-07-11T06:40:41.905Z"
   },
   {
    "duration": 43,
    "start_time": "2021-07-11T06:40:41.922Z"
   },
   {
    "duration": 14,
    "start_time": "2021-07-11T06:40:41.967Z"
   },
   {
    "duration": 31,
    "start_time": "2021-07-11T06:40:41.984Z"
   },
   {
    "duration": 32,
    "start_time": "2021-07-11T06:40:42.017Z"
   },
   {
    "duration": 95,
    "start_time": "2021-07-11T06:40:42.051Z"
   },
   {
    "duration": 5,
    "start_time": "2021-07-11T06:40:42.148Z"
   },
   {
    "duration": 4,
    "start_time": "2021-07-11T06:40:42.155Z"
   },
   {
    "duration": 5,
    "start_time": "2021-07-11T06:40:42.160Z"
   },
   {
    "duration": 9,
    "start_time": "2021-07-11T06:40:42.167Z"
   },
   {
    "duration": 68,
    "start_time": "2021-07-11T06:40:42.177Z"
   },
   {
    "duration": 5,
    "start_time": "2021-07-11T06:40:42.247Z"
   },
   {
    "duration": 6,
    "start_time": "2021-07-11T06:40:42.254Z"
   },
   {
    "duration": 15,
    "start_time": "2021-07-11T06:40:42.261Z"
   },
   {
    "duration": 12,
    "start_time": "2021-07-11T06:40:42.277Z"
   },
   {
    "duration": 78,
    "start_time": "2021-07-11T06:40:42.290Z"
   },
   {
    "duration": 15,
    "start_time": "2021-07-11T06:40:42.370Z"
   },
   {
    "duration": 6,
    "start_time": "2021-07-11T06:40:42.386Z"
   },
   {
    "duration": 18,
    "start_time": "2021-07-11T06:40:42.393Z"
   },
   {
    "duration": 136,
    "start_time": "2021-07-11T06:40:42.413Z"
   },
   {
    "duration": 38,
    "start_time": "2021-07-11T06:40:42.550Z"
   },
   {
    "duration": 293,
    "start_time": "2021-07-11T06:40:42.591Z"
   },
   {
    "duration": 364,
    "start_time": "2021-07-11T06:40:42.886Z"
   },
   {
    "duration": 118,
    "start_time": "2021-07-11T06:40:43.251Z"
   },
   {
    "duration": 4,
    "start_time": "2021-07-11T06:40:43.371Z"
   },
   {
    "duration": 99192,
    "start_time": "2021-07-11T06:40:43.377Z"
   },
   {
    "duration": 4,
    "start_time": "2021-07-11T06:42:22.571Z"
   },
   {
    "duration": 13,
    "start_time": "2021-07-11T06:42:22.577Z"
   },
   {
    "duration": 278,
    "start_time": "2021-07-11T06:42:22.591Z"
   },
   {
    "duration": 6,
    "start_time": "2021-07-11T06:42:22.871Z"
   },
   {
    "duration": 146,
    "start_time": "2021-07-11T06:42:22.879Z"
   },
   {
    "duration": 686,
    "start_time": "2021-07-11T06:42:23.027Z"
   },
   {
    "duration": 10,
    "start_time": "2021-07-11T06:42:23.715Z"
   },
   {
    "duration": 34524,
    "start_time": "2021-07-11T06:42:23.727Z"
   },
   {
    "duration": 18926,
    "start_time": "2021-07-11T06:42:58.252Z"
   },
   {
    "duration": 4792,
    "start_time": "2021-07-11T06:43:17.180Z"
   },
   {
    "duration": 5,
    "start_time": "2021-07-11T06:43:21.974Z"
   },
   {
    "duration": 394,
    "start_time": "2021-07-11T06:43:21.981Z"
   },
   {
    "duration": -5,
    "start_time": "2021-07-11T06:43:22.382Z"
   },
   {
    "duration": -14,
    "start_time": "2021-07-11T06:43:22.392Z"
   },
   {
    "duration": -16,
    "start_time": "2021-07-11T06:43:22.395Z"
   },
   {
    "duration": -18,
    "start_time": "2021-07-11T06:43:22.398Z"
   },
   {
    "duration": -20,
    "start_time": "2021-07-11T06:43:22.402Z"
   },
   {
    "duration": -30,
    "start_time": "2021-07-11T06:43:22.412Z"
   },
   {
    "duration": -32,
    "start_time": "2021-07-11T06:43:22.415Z"
   },
   {
    "duration": -46,
    "start_time": "2021-07-11T06:43:22.430Z"
   },
   {
    "duration": -48,
    "start_time": "2021-07-11T06:43:22.433Z"
   },
   {
    "duration": -56,
    "start_time": "2021-07-11T06:43:22.442Z"
   },
   {
    "duration": 47633,
    "start_time": "2021-07-11T06:44:35.626Z"
   },
   {
    "duration": 668,
    "start_time": "2021-07-11T06:45:23.261Z"
   },
   {
    "duration": 24,
    "start_time": "2021-07-11T06:45:23.930Z"
   },
   {
    "duration": 97,
    "start_time": "2021-07-11T06:45:23.956Z"
   },
   {
    "duration": 33969,
    "start_time": "2021-07-11T06:48:13.363Z"
   },
   {
    "duration": 19,
    "start_time": "2021-07-11T06:48:47.341Z"
   },
   {
    "duration": 4830,
    "start_time": "2021-07-11T06:48:47.362Z"
   },
   {
    "duration": 10,
    "start_time": "2021-07-11T06:48:52.194Z"
   },
   {
    "duration": 811,
    "start_time": "2021-07-11T06:48:52.206Z"
   },
   {
    "duration": 6,
    "start_time": "2021-07-11T06:48:53.019Z"
   },
   {
    "duration": 105338,
    "start_time": "2021-07-11T06:48:53.026Z"
   },
   {
    "duration": 458,
    "start_time": "2021-07-11T06:52:00.323Z"
   },
   {
    "duration": 268,
    "start_time": "2021-07-11T06:52:16.604Z"
   },
   {
    "duration": 6,
    "start_time": "2021-07-11T06:59:11.571Z"
   },
   {
    "duration": 4,
    "start_time": "2021-07-11T07:02:20.436Z"
   },
   {
    "duration": 1148,
    "start_time": "2021-07-11T07:53:52.961Z"
   },
   {
    "duration": 3,
    "start_time": "2021-07-11T07:53:54.111Z"
   },
   {
    "duration": 752,
    "start_time": "2021-07-11T07:53:54.116Z"
   },
   {
    "duration": 130,
    "start_time": "2021-07-11T07:53:54.870Z"
   },
   {
    "duration": 40,
    "start_time": "2021-07-11T07:53:55.002Z"
   },
   {
    "duration": 16,
    "start_time": "2021-07-11T07:53:55.043Z"
   },
   {
    "duration": 38,
    "start_time": "2021-07-11T07:53:55.061Z"
   },
   {
    "duration": 15,
    "start_time": "2021-07-11T07:53:55.101Z"
   },
   {
    "duration": 50,
    "start_time": "2021-07-11T07:53:55.118Z"
   },
   {
    "duration": 15,
    "start_time": "2021-07-11T07:53:55.170Z"
   },
   {
    "duration": 90,
    "start_time": "2021-07-11T07:53:55.187Z"
   },
   {
    "duration": 6,
    "start_time": "2021-07-11T07:53:55.278Z"
   },
   {
    "duration": 4,
    "start_time": "2021-07-11T07:53:55.286Z"
   },
   {
    "duration": 8,
    "start_time": "2021-07-11T07:53:55.291Z"
   },
   {
    "duration": 16,
    "start_time": "2021-07-11T07:53:55.301Z"
   },
   {
    "duration": 59,
    "start_time": "2021-07-11T07:53:55.319Z"
   },
   {
    "duration": 7,
    "start_time": "2021-07-11T07:53:55.380Z"
   },
   {
    "duration": 10,
    "start_time": "2021-07-11T07:53:55.388Z"
   },
   {
    "duration": 16,
    "start_time": "2021-07-11T07:53:55.399Z"
   },
   {
    "duration": 32,
    "start_time": "2021-07-11T07:53:55.417Z"
   },
   {
    "duration": 52,
    "start_time": "2021-07-11T07:53:55.450Z"
   },
   {
    "duration": 17,
    "start_time": "2021-07-11T07:53:55.504Z"
   },
   {
    "duration": 18,
    "start_time": "2021-07-11T07:53:55.525Z"
   },
   {
    "duration": 18,
    "start_time": "2021-07-11T07:53:55.545Z"
   },
   {
    "duration": 131,
    "start_time": "2021-07-11T07:53:55.564Z"
   },
   {
    "duration": 47,
    "start_time": "2021-07-11T07:53:55.696Z"
   },
   {
    "duration": 290,
    "start_time": "2021-07-11T07:53:55.745Z"
   },
   {
    "duration": 363,
    "start_time": "2021-07-11T07:53:56.037Z"
   },
   {
    "duration": 114,
    "start_time": "2021-07-11T07:53:56.401Z"
   },
   {
    "duration": 4,
    "start_time": "2021-07-11T07:53:56.517Z"
   },
   {
    "duration": 96951,
    "start_time": "2021-07-11T07:53:56.522Z"
   },
   {
    "duration": 4,
    "start_time": "2021-07-11T07:55:33.474Z"
   },
   {
    "duration": 5,
    "start_time": "2021-07-11T07:55:33.479Z"
   },
   {
    "duration": 170,
    "start_time": "2021-07-11T07:55:33.485Z"
   },
   {
    "duration": 5,
    "start_time": "2021-07-11T07:55:33.657Z"
   },
   {
    "duration": 128,
    "start_time": "2021-07-11T07:55:33.664Z"
   },
   {
    "duration": 693,
    "start_time": "2021-07-11T07:55:33.793Z"
   },
   {
    "duration": 10,
    "start_time": "2021-07-11T07:55:34.488Z"
   },
   {
    "duration": 34651,
    "start_time": "2021-07-11T07:55:34.500Z"
   },
   {
    "duration": 18412,
    "start_time": "2021-07-11T07:56:09.153Z"
   },
   {
    "duration": 4582,
    "start_time": "2021-07-11T07:56:27.567Z"
   },
   {
    "duration": 5,
    "start_time": "2021-07-11T07:56:32.151Z"
   },
   {
    "duration": 47965,
    "start_time": "2021-07-11T07:56:32.158Z"
   },
   {
    "duration": 647,
    "start_time": "2021-07-11T07:57:20.125Z"
   },
   {
    "duration": 21,
    "start_time": "2021-07-11T07:57:20.774Z"
   },
   {
    "duration": 106,
    "start_time": "2021-07-11T07:57:20.797Z"
   },
   {
    "duration": 103919,
    "start_time": "2021-07-11T07:57:20.905Z"
   },
   {
    "duration": 20674,
    "start_time": "2021-07-11T07:59:04.826Z"
   },
   {
    "duration": 20,
    "start_time": "2021-07-11T07:59:25.501Z"
   },
   {
    "duration": 2960,
    "start_time": "2021-07-11T07:59:25.523Z"
   },
   {
    "duration": 10,
    "start_time": "2021-07-11T07:59:28.484Z"
   },
   {
    "duration": 516,
    "start_time": "2021-07-11T07:59:28.496Z"
   },
   {
    "duration": 4,
    "start_time": "2021-07-11T07:59:29.013Z"
   },
   {
    "duration": 9,
    "start_time": "2021-07-11T07:59:29.019Z"
   },
   {
    "duration": 282,
    "start_time": "2021-07-11T07:59:29.029Z"
   },
   {
    "duration": 84,
    "start_time": "2021-07-11T14:11:48.541Z"
   }
  ],
  "kernelspec": {
   "display_name": "Python 3",
   "language": "python",
   "name": "python3"
  },
  "language_info": {
   "codemirror_mode": {
    "name": "ipython",
    "version": 3
   },
   "file_extension": ".py",
   "mimetype": "text/x-python",
   "name": "python",
   "nbconvert_exporter": "python",
   "pygments_lexer": "ipython3",
   "version": "3.8.5"
  },
  "toc": {
   "base_numbering": 1,
   "nav_menu": {},
   "number_sections": true,
   "sideBar": true,
   "skip_h1_title": true,
   "title_cell": "Table of Contents",
   "title_sidebar": "Contents",
   "toc_cell": false,
   "toc_position": {},
   "toc_section_display": true,
   "toc_window_display": false
  }
 },
 "nbformat": 4,
 "nbformat_minor": 2
}
