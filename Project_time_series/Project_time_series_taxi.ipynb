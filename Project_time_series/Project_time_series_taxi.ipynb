{
 "cells": [
  {
   "cell_type": "markdown",
   "metadata": {},
   "source": [
    "#  Прогнозирование заказов такси"
   ]
  },
  {
   "cell_type": "markdown",
   "metadata": {},
   "source": [
    "**Постановка задачи:**  \n",
    "- На основании исторических данных о заказах такси в аэропортах построить модель для предсказания количества заказов на следующий час.  \n",
    "\n",
    "**Исходные данные:**  \n",
    "- Файл \"taxi.csv\", в котором указана дата, время и количество заказов за определённый период.  \n",
    "\n",
    "**Требования по качеству моделей:**  \n",
    "- Значение метрики *RMSE* на тестовой выборке должно быть не больше 48.  \n",
    "\n",
    "**Область применения:**  \n",
    "- Оптимизация работы такси в часы пиковой нагрузки. "
   ]
  },
  {
   "cell_type": "markdown",
   "metadata": {},
   "source": [
    "## Подготовка"
   ]
  },
  {
   "cell_type": "markdown",
   "metadata": {},
   "source": [
    "Загрузка библиотек."
   ]
  },
  {
   "cell_type": "code",
   "execution_count": 1,
   "metadata": {},
   "outputs": [],
   "source": [
    "import pandas as pd\n",
    "import seaborn as sns\n",
    "import matplotlib.pyplot as plt \n",
    "from statsmodels.tsa.seasonal import seasonal_decompose\n",
    "from sklearn.model_selection import train_test_split\n",
    "from sklearn.model_selection import TimeSeriesSplit, GridSearchCV\n",
    "from sklearn.linear_model import LinearRegression\n",
    "from sklearn.ensemble import RandomForestRegressor\n",
    "from sklearn.metrics import mean_absolute_error, mean_squared_error\n",
    "from catboost import CatBoostRegressor"
   ]
  },
  {
   "cell_type": "markdown",
   "metadata": {},
   "source": [
    "Дополнительные настройки для визуализации."
   ]
  },
  {
   "cell_type": "code",
   "execution_count": 2,
   "metadata": {},
   "outputs": [],
   "source": [
    "plt.rcParams.update({'font.size':14, \n",
    "                     'figure.figsize':(8,4)})"
   ]
  },
  {
   "cell_type": "markdown",
   "metadata": {},
   "source": [
    "Загрузка данных. Сразу спарсим даты и сделаем из них индекс. "
   ]
  },
  {
   "cell_type": "code",
   "execution_count": 3,
   "metadata": {},
   "outputs": [
    {
     "data": {
      "text/html": [
       "<div>\n",
       "<style scoped>\n",
       "    .dataframe tbody tr th:only-of-type {\n",
       "        vertical-align: middle;\n",
       "    }\n",
       "\n",
       "    .dataframe tbody tr th {\n",
       "        vertical-align: top;\n",
       "    }\n",
       "\n",
       "    .dataframe thead th {\n",
       "        text-align: right;\n",
       "    }\n",
       "</style>\n",
       "<table border=\"1\" class=\"dataframe\">\n",
       "  <thead>\n",
       "    <tr style=\"text-align: right;\">\n",
       "      <th></th>\n",
       "      <th>num_orders</th>\n",
       "    </tr>\n",
       "    <tr>\n",
       "      <th>datetime</th>\n",
       "      <th></th>\n",
       "    </tr>\n",
       "  </thead>\n",
       "  <tbody>\n",
       "    <tr>\n",
       "      <td>2018-03-01 00:00:00</td>\n",
       "      <td>9</td>\n",
       "    </tr>\n",
       "    <tr>\n",
       "      <td>2018-03-01 00:10:00</td>\n",
       "      <td>14</td>\n",
       "    </tr>\n",
       "    <tr>\n",
       "      <td>2018-03-01 00:20:00</td>\n",
       "      <td>28</td>\n",
       "    </tr>\n",
       "    <tr>\n",
       "      <td>2018-03-01 00:30:00</td>\n",
       "      <td>20</td>\n",
       "    </tr>\n",
       "    <tr>\n",
       "      <td>2018-03-01 00:40:00</td>\n",
       "      <td>32</td>\n",
       "    </tr>\n",
       "  </tbody>\n",
       "</table>\n",
       "</div>"
      ],
      "text/plain": [
       "                     num_orders\n",
       "datetime                       \n",
       "2018-03-01 00:00:00           9\n",
       "2018-03-01 00:10:00          14\n",
       "2018-03-01 00:20:00          28\n",
       "2018-03-01 00:30:00          20\n",
       "2018-03-01 00:40:00          32"
      ]
     },
     "execution_count": 3,
     "metadata": {},
     "output_type": "execute_result"
    }
   ],
   "source": [
    "data = pd.read_csv('/datasets/taxi.csv', parse_dates=['datetime'], index_col=['datetime'])\n",
    "data.head()"
   ]
  },
  {
   "cell_type": "markdown",
   "metadata": {},
   "source": [
    "Данные представляют собой временной ряд - число заказов такси по временным отрезкам в 10 минут. "
   ]
  },
  {
   "cell_type": "markdown",
   "metadata": {},
   "source": [
    "Проверим на монотонность. "
   ]
  },
  {
   "cell_type": "code",
   "execution_count": 4,
   "metadata": {},
   "outputs": [
    {
     "data": {
      "text/plain": [
       "True"
      ]
     },
     "execution_count": 4,
     "metadata": {},
     "output_type": "execute_result"
    }
   ],
   "source": [
    "data.index.is_monotonic"
   ]
  },
  {
   "cell_type": "markdown",
   "metadata": {},
   "source": [
    "Всё хорошо, сортировка индекса не требуется. "
   ]
  },
  {
   "cell_type": "code",
   "execution_count": 5,
   "metadata": {},
   "outputs": [
    {
     "data": {
      "text/plain": [
       "num_orders    0\n",
       "dtype: int64"
      ]
     },
     "execution_count": 5,
     "metadata": {},
     "output_type": "execute_result"
    }
   ],
   "source": [
    "data.isnull().sum()"
   ]
  },
  {
   "cell_type": "markdown",
   "metadata": {},
   "source": [
    "Пропусков нет. "
   ]
  },
  {
   "cell_type": "markdown",
   "metadata": {},
   "source": [
    "Так как стоит задача прогнозирования количества заказов на следующий час, то выполним ресемплинг с агрегацией по сумме заказов.   "
   ]
  },
  {
   "cell_type": "code",
   "execution_count": 6,
   "metadata": {},
   "outputs": [
    {
     "data": {
      "text/html": [
       "<div>\n",
       "<style scoped>\n",
       "    .dataframe tbody tr th:only-of-type {\n",
       "        vertical-align: middle;\n",
       "    }\n",
       "\n",
       "    .dataframe tbody tr th {\n",
       "        vertical-align: top;\n",
       "    }\n",
       "\n",
       "    .dataframe thead th {\n",
       "        text-align: right;\n",
       "    }\n",
       "</style>\n",
       "<table border=\"1\" class=\"dataframe\">\n",
       "  <thead>\n",
       "    <tr style=\"text-align: right;\">\n",
       "      <th></th>\n",
       "      <th>num_orders</th>\n",
       "    </tr>\n",
       "    <tr>\n",
       "      <th>datetime</th>\n",
       "      <th></th>\n",
       "    </tr>\n",
       "  </thead>\n",
       "  <tbody>\n",
       "    <tr>\n",
       "      <td>2018-03-01 00:00:00</td>\n",
       "      <td>124</td>\n",
       "    </tr>\n",
       "    <tr>\n",
       "      <td>2018-03-01 01:00:00</td>\n",
       "      <td>85</td>\n",
       "    </tr>\n",
       "    <tr>\n",
       "      <td>2018-03-01 02:00:00</td>\n",
       "      <td>71</td>\n",
       "    </tr>\n",
       "    <tr>\n",
       "      <td>2018-03-01 03:00:00</td>\n",
       "      <td>66</td>\n",
       "    </tr>\n",
       "    <tr>\n",
       "      <td>2018-03-01 04:00:00</td>\n",
       "      <td>43</td>\n",
       "    </tr>\n",
       "  </tbody>\n",
       "</table>\n",
       "</div>"
      ],
      "text/plain": [
       "                     num_orders\n",
       "datetime                       \n",
       "2018-03-01 00:00:00         124\n",
       "2018-03-01 01:00:00          85\n",
       "2018-03-01 02:00:00          71\n",
       "2018-03-01 03:00:00          66\n",
       "2018-03-01 04:00:00          43"
      ]
     },
     "execution_count": 6,
     "metadata": {},
     "output_type": "execute_result"
    }
   ],
   "source": [
    "data = data.resample('1H').sum()\n",
    "data.head()"
   ]
  },
  {
   "cell_type": "markdown",
   "metadata": {},
   "source": [
    "Данные готовы для анализа. "
   ]
  },
  {
   "cell_type": "markdown",
   "metadata": {},
   "source": [
    "## Анализ данных"
   ]
  },
  {
   "cell_type": "markdown",
   "metadata": {},
   "source": [
    "В нашем распоряжении данные с 1 марта до 31 августа 2018г.  \n",
    "Взглянем на распределение по заказам такси. "
   ]
  },
  {
   "cell_type": "code",
   "execution_count": 7,
   "metadata": {},
   "outputs": [
    {
     "data": {
      "text/html": [
       "<div>\n",
       "<style scoped>\n",
       "    .dataframe tbody tr th:only-of-type {\n",
       "        vertical-align: middle;\n",
       "    }\n",
       "\n",
       "    .dataframe tbody tr th {\n",
       "        vertical-align: top;\n",
       "    }\n",
       "\n",
       "    .dataframe thead th {\n",
       "        text-align: right;\n",
       "    }\n",
       "</style>\n",
       "<table border=\"1\" class=\"dataframe\">\n",
       "  <thead>\n",
       "    <tr style=\"text-align: right;\">\n",
       "      <th></th>\n",
       "      <th>num_orders</th>\n",
       "    </tr>\n",
       "  </thead>\n",
       "  <tbody>\n",
       "    <tr>\n",
       "      <td>count</td>\n",
       "      <td>4416.000000</td>\n",
       "    </tr>\n",
       "    <tr>\n",
       "      <td>mean</td>\n",
       "      <td>84.422781</td>\n",
       "    </tr>\n",
       "    <tr>\n",
       "      <td>std</td>\n",
       "      <td>45.023853</td>\n",
       "    </tr>\n",
       "    <tr>\n",
       "      <td>min</td>\n",
       "      <td>0.000000</td>\n",
       "    </tr>\n",
       "    <tr>\n",
       "      <td>25%</td>\n",
       "      <td>54.000000</td>\n",
       "    </tr>\n",
       "    <tr>\n",
       "      <td>50%</td>\n",
       "      <td>78.000000</td>\n",
       "    </tr>\n",
       "    <tr>\n",
       "      <td>75%</td>\n",
       "      <td>107.000000</td>\n",
       "    </tr>\n",
       "    <tr>\n",
       "      <td>max</td>\n",
       "      <td>462.000000</td>\n",
       "    </tr>\n",
       "  </tbody>\n",
       "</table>\n",
       "</div>"
      ],
      "text/plain": [
       "        num_orders\n",
       "count  4416.000000\n",
       "mean     84.422781\n",
       "std      45.023853\n",
       "min       0.000000\n",
       "25%      54.000000\n",
       "50%      78.000000\n",
       "75%     107.000000\n",
       "max     462.000000"
      ]
     },
     "execution_count": 7,
     "metadata": {},
     "output_type": "execute_result"
    }
   ],
   "source": [
    "data.describe()"
   ]
  },
  {
   "cell_type": "code",
   "execution_count": 8,
   "metadata": {},
   "outputs": [
    {
     "data": {
      "image/png": "[encoded data removed]",
      "text/plain": [
       "<Figure size 576x288 with 1 Axes>"
      ]
     },
     "metadata": {
      "needs_background": "light"
     },
     "output_type": "display_data"
    }
   ],
   "source": [
    "sns.distplot(data, bins=46, color='r')\n",
    "plt.title('Распределение часовой потребности в машинах')\n",
    "plt.xlabel('Количество заказов')\n",
    "plt.ylabel('Плотность вероятности')\n",
    "plt.grid()\n",
    "plt.show()"
   ]
  },
  {
   "cell_type": "markdown",
   "metadata": {},
   "source": [
    "Всего получилось 4416 точек. Минимальное значение - ноль такси в час (ожидаемо), среднее - 84 машины в час, достигнутый рекорд заказов - 462 машины в час. Страшно представить, что там творилось."
   ]
  },
  {
   "cell_type": "markdown",
   "metadata": {},
   "source": [
    "Посмотрим на имеющийся временной ряд. "
   ]
  },
  {
   "cell_type": "code",
   "execution_count": 9,
   "metadata": {},
   "outputs": [
    {
     "data": {
      "image/png": "[encoded data removed]",
      "text/plain": [
       "<Figure size 576x288 with 1 Axes>"
      ]
     },
     "metadata": {
      "needs_background": "light"
     },
     "output_type": "display_data"
    }
   ],
   "source": [
    "data.plot()\n",
    "plt.xlabel('Дата')\n",
    "plt.ylabel('Количество заказов')\n",
    "plt.show()"
   ]
  },
  {
   "cell_type": "markdown",
   "metadata": {},
   "source": [
    "Какой прекрасный лес! Ничего не понятно. Попробуем сделать его более читабельным. \n",
    "Для начала построим скользящее среднее за неделю"
   ]
  },
  {
   "cell_type": "code",
   "execution_count": 10,
   "metadata": {},
   "outputs": [
    {
     "data": {
      "image/png": "[encoded data removed]",
      "text/plain": [
       "<Figure size 576x288 with 1 Axes>"
      ]
     },
     "metadata": {
      "needs_background": "light"
     },
     "output_type": "display_data"
    }
   ],
   "source": [
    "data.rolling(24*7).mean().plot()\n",
    "plt.title('Скользящее среднее\\nОкно:7 дней. ')\n",
    "plt.xlabel('Дата')\n",
    "plt.ylabel('Количество заказов')\n",
    "plt.show()"
   ]
  },
  {
   "cell_type": "markdown",
   "metadata": {},
   "source": [
    "Определённо, со временем количество заказов такси в аэропортах растёт. Однако, у нас есть данные только с марта по август, поэтому определить сезонные колебания невозможно. Впрочем, перед нами стоит задача прогнозирования на следующий час.  \n",
    "Выделим тренд и сезонную составляющую. "
   ]
  },
  {
   "cell_type": "code",
   "execution_count": 11,
   "metadata": {},
   "outputs": [],
   "source": [
    "decomposed = seasonal_decompose(data)"
   ]
  },
  {
   "cell_type": "code",
   "execution_count": 12,
   "metadata": {},
   "outputs": [
    {
     "data": {
      "image/png": "[encoded data removed]",
      "text/plain": [
       "<Figure size 576x288 with 1 Axes>"
      ]
     },
     "metadata": {
      "needs_background": "light"
     },
     "output_type": "display_data"
    }
   ],
   "source": [
    "decomposed.trend.plot()\n",
    "plt.title('Тренд')\n",
    "plt.xlabel('Дата')\n",
    "plt.ylabel('Количество заказов')\n",
    "plt.show()"
   ]
  },
  {
   "cell_type": "markdown",
   "metadata": {},
   "source": [
    "Тренд фактически повторяет приведённый выше график скользящего среднего. "
   ]
  },
  {
   "cell_type": "code",
   "execution_count": 13,
   "metadata": {},
   "outputs": [
    {
     "data": {
      "image/png": "[encoded data removed]",
      "text/plain": [
       "<Figure size 576x288 with 1 Axes>"
      ]
     },
     "metadata": {
      "needs_background": "light"
     },
     "output_type": "display_data"
    }
   ],
   "source": [
    "decomposed.seasonal['2018-08-01':'2018-08-02'].plot(grid=True)\n",
    "plt.title('Суточные колебания')\n",
    "plt.xlabel('Дата')\n",
    "plt.ylabel('Количество заказов\\nОтклонение от среднего')\n",
    "plt.show()"
   ]
  },
  {
   "cell_type": "markdown",
   "metadata": {},
   "source": [
    "В течение суток заказы распределены неравномерно. Пик заказов приходится на полночь. А минимум - на 6 часов утра. Чаще среднего такси заказывают в периоды 8-11, 14-17 и с 19 до 04 часов.  \n",
    "Посмотрим, как выглядя недельные колебания. "
   ]
  },
  {
   "cell_type": "code",
   "execution_count": 14,
   "metadata": {},
   "outputs": [
    {
     "data": {
      "image/png": "[encoded data removed]",
      "text/plain": [
       "<Figure size 576x288 with 1 Axes>"
      ]
     },
     "metadata": {
      "needs_background": "light"
     },
     "output_type": "display_data"
    }
   ],
   "source": [
    "decomposed_days = seasonal_decompose(data.resample('1D').mean())\n",
    "decomposed_days.seasonal['2018-08-06':'2018-08-20'].plot()\n",
    "plt.title('Недельные колебания')\n",
    "plt.xlabel('Дата')\n",
    "plt.ylabel('Количество заказов\\nОтклонение от среднего')\n",
    "plt.show()"
   ]
  },
  {
   "cell_type": "markdown",
   "metadata": {},
   "source": [
    "В течение недели наблюдается два пика заказов - в понедельник и пятницу. Вероятно, это связано командировками работников. Минимум заказов - во вторник, второй минимум - в воскресенье. Со вторника по пятницу среднее количество заказов растёт. "
   ]
  },
  {
   "cell_type": "markdown",
   "metadata": {},
   "source": [
    "**Выводы**:  \n",
    "1. Представленные исторические данные охватывают весенне-летний период 2018 года.  \n",
    "2. В рамках этого периода выявлен тренд на увеличение количество заказов такси в аэропортах. Это может быть связано как с общим интересом к данному виду транспорта, так и с сезонным колебаниями (сезон отпусков). Но в силу ограниченности данных, определить точнее возможным не представляется.  \n",
    "3. Выявлены недельные и суточные колебания количество заказов. "
   ]
  },
  {
   "cell_type": "markdown",
   "metadata": {},
   "source": [
    "## Обучение и тестирование"
   ]
  },
  {
   "cell_type": "markdown",
   "metadata": {},
   "source": [
    "Для обучения модели нам необходимо создать признаки. С учётом вышесказанного, количество заказов зависит от скользящего среднего, от дня недели и времени суток. Дополнительными признаками зададим предыдущие значения ряда.  \n",
    "\n",
    "*Чтобы не изобретать велосипед, функцию создания фичей скопируем из тренажёра. - прим. автора*"
   ]
  },
  {
   "cell_type": "code",
   "execution_count": 15,
   "metadata": {},
   "outputs": [],
   "source": [
    "def make_features(data, max_lag, rolling_mean_size):\n",
    "    df = data.copy()\n",
    "    df['hour'] = df.index.hour\n",
    "    df['dayofweek'] = df.index.dayofweek\n",
    "       \n",
    "    for i in range(max_lag):\n",
    "        name = 'lag_' + str(i+1)\n",
    "        df[name] = df['num_orders'].shift(i+1)\n",
    "\n",
    "    df['rolling_mean'] = df['num_orders'].rolling(rolling_mean_size).mean().shift(1)\n",
    "    return df"
   ]
  },
  {
   "cell_type": "markdown",
   "metadata": {},
   "source": [
    "Так как горизонт прогнозирования у нас один час, а цикличные изменения зафиксированы в рамках одних суток и одной недели, то логично скользящее среднее выбрать за неделю, а количичество отстающих значений задать в пределах суток. "
   ]
  },
  {
   "cell_type": "code",
   "execution_count": 16,
   "metadata": {},
   "outputs": [],
   "source": [
    "data = make_features(data, 24, 24*7)"
   ]
  },
  {
   "cell_type": "markdown",
   "metadata": {},
   "source": [
    "Разделим получившийся датасет на тренировочную и тестовую выборки. Тестовую выборку определим в 10% от всего массива данных."
   ]
  },
  {
   "cell_type": "code",
   "execution_count": 17,
   "metadata": {},
   "outputs": [],
   "source": [
    "train, test = train_test_split(data, shuffle=False, test_size=0.1)\n",
    "train = train.dropna()\n",
    "\n",
    "features_train = train.drop('num_orders', axis=1)\n",
    "target_train = train['num_orders']\n",
    "features_test = test.drop('num_orders', axis=1)\n",
    "target_test = test['num_orders']"
   ]
  },
  {
   "cell_type": "markdown",
   "metadata": {},
   "source": [
    "Обучим модели на основе линейной регрессии, случайного леса и градиентного бустинга из библиотеки CatBoost и посмотрим на её качество, опираясь на метрики: MAE, RMSE, sMAPE. "
   ]
  },
  {
   "cell_type": "code",
   "execution_count": 18,
   "metadata": {},
   "outputs": [],
   "source": [
    "def smape_score(y_true, y_pred):\n",
    "    y_calc = abs(y_true - y_pred) / ((abs(y_true) + abs(y_pred)) / 2) * 100\n",
    "    result = y_calc.sum() / len(y_true)\n",
    "    return result\n",
    "\n",
    "def testing(y_true, y_pred):\n",
    "    mae = mean_absolute_error(y_true, y_pred)\n",
    "    rmse = mean_squared_error(y_true, y_pred) ** 0.5\n",
    "    smape = smape_score(y_true, y_pred)\n",
    "    print('MAE:', mae)\n",
    "    print('RMSE:', rmse)\n",
    "    print('sMAPE:', smape)\n",
    "    \n",
    "    return mae, rmse, smape"
   ]
  },
  {
   "cell_type": "markdown",
   "metadata": {},
   "source": [
    "Начнём с самой просто модели - линейной регрессии. "
   ]
  },
  {
   "cell_type": "code",
   "execution_count": 19,
   "metadata": {},
   "outputs": [
    {
     "name": "stdout",
     "output_type": "stream",
     "text": [
      "MAE: 33.02066651279493\n",
      "RMSE: 44.713726562838694\n",
      "sMAPE: 25.28784533826011\n"
     ]
    }
   ],
   "source": [
    "model_linreg = LinearRegression()\n",
    "model_linreg.fit(features_train, target_train)\n",
    "linreg_res = model_linreg.predict(features_test)\n",
    "linreg_mae, linreg_rmse, linreg_smape = testing(target_test, linreg_res)"
   ]
  },
  {
   "cell_type": "markdown",
   "metadata": {},
   "source": [
    "Всё, ТЗ выполнено - RMSE меньше 48. Расходимся. :)  \n",
    "\n",
    "...\n",
    "\n",
    "...\n",
    "\n",
    "Нет? Ну ладно, посмотрим ещё что-нибудь.. случайный лес, например. Подбор гиперпараметров будем осуществлять случайным поиском, а в качестве кросс-валидации будем использовать TimeSeriesSplit, чтобы не обучать модель на данных из будущего. "
   ]
  },
  {
   "cell_type": "code",
   "execution_count": 20,
   "metadata": {},
   "outputs": [
    {
     "name": "stdout",
     "output_type": "stream",
     "text": [
      "MAE: 30.565906286265022\n",
      "RMSE: 41.10590919482626\n",
      "sMAPE: 23.245172320404887\n",
      "CPU times: user 1min 34s, sys: 196 ms, total: 1min 34s\n",
      "Wall time: 1min 34s\n"
     ]
    }
   ],
   "source": [
    "%%time\n",
    "# около 1.5 минут\n",
    "\n",
    "model_rfr = RandomForestRegressor(random_state=42)\n",
    "\n",
    "params = {\n",
    "    'n_estimators':[20, 50, 100],\n",
    "    'max_depth':[10, 15, 20], \n",
    "    'min_samples_leaf':[2, 6, 10]\n",
    "}\n",
    "\n",
    "rfr_grid = GridSearchCV(estimator=model_rfr,\n",
    "                        param_grid=params, \n",
    "                        cv=TimeSeriesSplit(n_splits=3).split(features_train), \n",
    "                        scoring='neg_mean_squared_error')\n",
    "rfr_grid.fit(features_train, target_train)\n",
    "rfr_res = rfr_grid.predict(features_test)\n",
    "rfr_mae, rfr_rmse, rfr_smape = testing(target_test, rfr_res)"
   ]
  },
  {
   "cell_type": "markdown",
   "metadata": {},
   "source": [
    "Результат чуть улучшили. Дадим шанс градиентному бустингу. "
   ]
  },
  {
   "cell_type": "code",
   "execution_count": 21,
   "metadata": {},
   "outputs": [
    {
     "name": "stdout",
     "output_type": "stream",
     "text": [
      "0:\tlearn: 36.8774649\ttest: 81.2816882\tbest: 81.2816882 (0)\ttotal: 55.3ms\tremaining: 55.2s\n",
      "100:\tlearn: 19.2829323\ttest: 42.5839615\tbest: 42.5687960 (99)\ttotal: 2.97s\tremaining: 26.4s\n",
      "200:\tlearn: 15.8865971\ttest: 40.6679678\tbest: 40.6679678 (200)\ttotal: 6s\tremaining: 23.9s\n",
      "300:\tlearn: 13.5660741\ttest: 39.7610583\tbest: 39.7610583 (300)\ttotal: 9.15s\tremaining: 21.2s\n",
      "Stopped by overfitting detector  (50 iterations wait)\n",
      "\n",
      "bestTest = 39.65385056\n",
      "bestIteration = 327\n",
      "\n",
      "Shrink model to first 328 iterations.\n",
      "MAE: 29.482679524559785\n",
      "RMSE: 39.65385055523195\n",
      "sMAPE: 22.4859629944373\n",
      "CPU times: user 10.5 s, sys: 1.37 s, total: 11.9 s\n",
      "Wall time: 13.7 s\n"
     ]
    }
   ],
   "source": [
    "%%time\n",
    "model_cb = CatBoostRegressor(learning_rate=0.1,\n",
    "                             early_stopping_rounds=50,\n",
    "                             loss_function='RMSE',\n",
    "                             random_state=42)\n",
    "model_cb.fit(features_train, target_train, eval_set=(features_test, target_test), verbose=100)\n",
    "cb_res = model_cb.predict(features_test)\n",
    "cb_mae, cb_rmse, cb_smape = testing(target_test, cb_res)"
   ]
  },
  {
   "cell_type": "markdown",
   "metadata": {},
   "source": [
    "Похоже, что это наш лидер. На следующем шаге сравним результаты.  \n",
    "\n",
    "Но нам ещё не хватает константных предсказаний - по среднему и по последнему значению. В качестве среднего возьмём скользящее среднее, которое у нас уже есть."
   ]
  },
  {
   "cell_type": "code",
   "execution_count": 22,
   "metadata": {},
   "outputs": [
    {
     "name": "stdout",
     "output_type": "stream",
     "text": [
      "MAE: 43.01478668390433\n",
      "RMSE: 57.71743422219121\n",
      "sMAPE: 32.751772011268706\n"
     ]
    }
   ],
   "source": [
    "dummy_rolling_mean = features_test['rolling_mean']\n",
    "roll_mean_mae, roll_mean_rmse, roll_mean_smape = testing(target_test, dummy_rolling_mean)"
   ]
  },
  {
   "cell_type": "markdown",
   "metadata": {},
   "source": [
    "А в качестве последнего наблюдения возьмём предыдущее значение ряда... которое у нас тоже сидит в признаках. "
   ]
  },
  {
   "cell_type": "code",
   "execution_count": 23,
   "metadata": {},
   "outputs": [
    {
     "name": "stdout",
     "output_type": "stream",
     "text": [
      "MAE: 44.97285067873303\n",
      "RMSE: 58.856486242815066\n",
      "sMAPE: 34.53874943338666\n"
     ]
    }
   ],
   "source": [
    "dummy_previous = features_test['lag_1']\n",
    "prev_mae, prev_rmse, prev_smape = testing(target_test, dummy_previous)"
   ]
  },
  {
   "cell_type": "markdown",
   "metadata": {},
   "source": [
    "Прогноз по последнему работает даже хуже скользящего среднего. Но обученные модели работают заметно лучше. "
   ]
  },
  {
   "cell_type": "markdown",
   "metadata": {},
   "source": [
    "## Анализ моделей"
   ]
  },
  {
   "cell_type": "markdown",
   "metadata": {},
   "source": [
    "У нас имеется три обученные модели и две фиктивные. Сравним результаты между собой."
   ]
  },
  {
   "cell_type": "code",
   "execution_count": 24,
   "metadata": {},
   "outputs": [
    {
     "data": {
      "text/html": [
       "<div>\n",
       "<style scoped>\n",
       "    .dataframe tbody tr th:only-of-type {\n",
       "        vertical-align: middle;\n",
       "    }\n",
       "\n",
       "    .dataframe tbody tr th {\n",
       "        vertical-align: top;\n",
       "    }\n",
       "\n",
       "    .dataframe thead th {\n",
       "        text-align: right;\n",
       "    }\n",
       "</style>\n",
       "<table border=\"1\" class=\"dataframe\">\n",
       "  <thead>\n",
       "    <tr style=\"text-align: right;\">\n",
       "      <th></th>\n",
       "      <th>MAE</th>\n",
       "      <th>RMSE</th>\n",
       "      <th>sMAPE</th>\n",
       "    </tr>\n",
       "  </thead>\n",
       "  <tbody>\n",
       "    <tr>\n",
       "      <td>CatBoostRegressor</td>\n",
       "      <td>29.482680</td>\n",
       "      <td>39.653851</td>\n",
       "      <td>22.485963</td>\n",
       "    </tr>\n",
       "    <tr>\n",
       "      <td>RandomForest</td>\n",
       "      <td>30.565906</td>\n",
       "      <td>41.105909</td>\n",
       "      <td>23.245172</td>\n",
       "    </tr>\n",
       "    <tr>\n",
       "      <td>LinearRegression</td>\n",
       "      <td>33.020667</td>\n",
       "      <td>44.713727</td>\n",
       "      <td>25.287845</td>\n",
       "    </tr>\n",
       "    <tr>\n",
       "      <td>Dummy_RollingMean</td>\n",
       "      <td>43.014787</td>\n",
       "      <td>57.717434</td>\n",
       "      <td>32.751772</td>\n",
       "    </tr>\n",
       "    <tr>\n",
       "      <td>Dummy_Previous</td>\n",
       "      <td>44.972851</td>\n",
       "      <td>58.856486</td>\n",
       "      <td>34.538749</td>\n",
       "    </tr>\n",
       "  </tbody>\n",
       "</table>\n",
       "</div>"
      ],
      "text/plain": [
       "                         MAE       RMSE      sMAPE\n",
       "CatBoostRegressor  29.482680  39.653851  22.485963\n",
       "RandomForest       30.565906  41.105909  23.245172\n",
       "LinearRegression   33.020667  44.713727  25.287845\n",
       "Dummy_RollingMean  43.014787  57.717434  32.751772\n",
       "Dummy_Previous     44.972851  58.856486  34.538749"
      ]
     },
     "execution_count": 24,
     "metadata": {},
     "output_type": "execute_result"
    }
   ],
   "source": [
    "metrics = [\n",
    "    [linreg_mae, linreg_rmse, linreg_smape],\n",
    "    [rfr_mae, rfr_rmse, rfr_smape],\n",
    "    [cb_mae, cb_rmse, cb_smape],\n",
    "    [roll_mean_mae, roll_mean_rmse, roll_mean_smape],\n",
    "    [prev_mae, prev_rmse, prev_smape]\n",
    "]\n",
    "     \n",
    "index = ['LinearRegression', 'RandomForest', 'CatBoostRegressor', \n",
    "         'Dummy_RollingMean', 'Dummy_Previous']\n",
    "columns = ['MAE', 'RMSE', 'sMAPE']\n",
    "final = pd.DataFrame(metrics, index=index, columns=columns)\n",
    "final.sort_values(by='RMSE')"
   ]
  },
  {
   "cell_type": "markdown",
   "metadata": {},
   "source": [
    "Цифры говорят за себя. В целом, все алгоритмы машинного обучения удовлетворяют требованиям заказчика - RMSE меньше 48. Лучший результат показала модель градиентного бустинга, она ошибается в среднем на 22.5%, что составляет около 30 машин.  \n",
    "Сравним графики предсказаний."
   ]
  },
  {
   "cell_type": "code",
   "execution_count": 25,
   "metadata": {},
   "outputs": [],
   "source": [
    "compare_table = target_test.to_frame()\n",
    "compare_table['LinearRegression'] = linreg_res\n",
    "compare_table['RandomForest'] =  rfr_res\n",
    "compare_table['CatBoost'] =  cb_res"
   ]
  },
  {
   "cell_type": "code",
   "execution_count": 26,
   "metadata": {},
   "outputs": [
    {
     "data": {
      "image/png": "[encoded data removed]",
      "text/plain": [
       "<Figure size 1152x576 with 1 Axes>"
      ]
     },
     "metadata": {
      "needs_background": "light"
     },
     "output_type": "display_data"
    }
   ],
   "source": [
    "compare_table['2018-08-26':'2018-08-31'].plot(figsize=(16,8))\n",
    "plt.title('Сравнение моделей')\n",
    "plt.xlabel('Дата')\n",
    "plt.ylabel('Количество заказов')\n",
    "plt.show()"
   ]
  },
  {
   "cell_type": "markdown",
   "metadata": {},
   "source": [
    "Все модели неплохо прогнозируют ряд. Конечно, сильные всплески и просадки и случайные выбросы моделям неподвластны, но сравнение с фиктивными предсказаниями показывают, что положительный эффект прогнозирования имеет место быть. "
   ]
  },
  {
   "cell_type": "markdown",
   "metadata": {},
   "source": [
    "##  Заключение"
   ]
  },
  {
   "cell_type": "markdown",
   "metadata": {},
   "source": [
    "- Рассмотрена задача прогнозирования временного ряда.  \n",
    "- На основании исторических данных, любезно предоставленных компанией «Чётенькое такси», были построеные модели машинного обучения для прогнозирования количества заказов в аэропортах на следующий час.  \n",
    "- Предоставленные сведения содержат данные с 1 марта по 31 августа 2018 г., что означает, что сезонные колебания учесть невозможно. Однако выявлена циклическая зависимость заказов такси от дня недели и времени суток. \n",
    "- Обучено три модели - линейной регрессии, случайного леса и градиентного бустинга (CatBoost). Лучший результат у последней модели, RMSE = 39.65. Самая простая модель - линейной регрессии - показала результат RMSE = 44.7. Все модели показывают качество существенно выше, чем предсказание по скользящему среднему или по предыдущему значению. "
   ]
  }
 ],
 "metadata": {
  "ExecuteTimeLog": [
   {
    "duration": 835,
    "start_time": "2021-07-14T17:27:33.269Z"
   },
   {
    "duration": 56,
    "start_time": "2021-07-14T17:28:39.924Z"
   },
   {
    "duration": 358,
    "start_time": "2021-07-14T17:29:30.919Z"
   },
   {
    "duration": 270,
    "start_time": "2021-07-14T17:30:19.017Z"
   },
   {
    "duration": 52,
    "start_time": "2021-07-14T17:30:32.270Z"
   },
   {
    "duration": 46,
    "start_time": "2021-07-14T17:31:43.530Z"
   },
   {
    "duration": 48,
    "start_time": "2021-07-14T17:31:55.456Z"
   },
   {
    "duration": 93,
    "start_time": "2021-07-14T17:33:10.272Z"
   },
   {
    "duration": 5,
    "start_time": "2021-07-14T17:33:17.154Z"
   },
   {
    "duration": 8,
    "start_time": "2021-07-14T17:33:58.892Z"
   },
   {
    "duration": 18,
    "start_time": "2021-07-14T17:34:26.015Z"
   },
   {
    "duration": 9,
    "start_time": "2021-07-14T17:35:22.618Z"
   },
   {
    "duration": 255,
    "start_time": "2021-07-14T17:35:53.536Z"
   },
   {
    "duration": 994,
    "start_time": "2021-07-14T17:36:51.456Z"
   },
   {
    "duration": 19,
    "start_time": "2021-07-14T18:22:31.212Z"
   },
   {
    "duration": 318,
    "start_time": "2021-07-14T18:23:44.172Z"
   },
   {
    "duration": 776,
    "start_time": "2021-07-14T18:25:04.861Z"
   },
   {
    "duration": 64,
    "start_time": "2021-07-14T18:25:05.640Z"
   },
   {
    "duration": 5,
    "start_time": "2021-07-14T18:25:05.707Z"
   },
   {
    "duration": 9,
    "start_time": "2021-07-14T18:25:05.715Z"
   },
   {
    "duration": 19,
    "start_time": "2021-07-14T18:25:05.726Z"
   },
   {
    "duration": 20,
    "start_time": "2021-07-14T18:25:20.574Z"
   },
   {
    "duration": 17,
    "start_time": "2021-07-14T18:27:12.831Z"
   },
   {
    "duration": 515,
    "start_time": "2021-07-14T18:27:40.192Z"
   },
   {
    "duration": 363,
    "start_time": "2021-07-14T18:27:59.387Z"
   },
   {
    "duration": 378,
    "start_time": "2021-07-14T18:30:17.025Z"
   },
   {
    "duration": 19,
    "start_time": "2021-07-14T18:30:33.110Z"
   },
   {
    "duration": 393,
    "start_time": "2021-07-14T18:32:08.240Z"
   },
   {
    "duration": 17,
    "start_time": "2021-07-14T18:36:49.370Z"
   },
   {
    "duration": 558,
    "start_time": "2021-07-14T18:40:49.366Z"
   },
   {
    "duration": 378,
    "start_time": "2021-07-14T18:41:13.728Z"
   },
   {
    "duration": 4,
    "start_time": "2021-07-14T18:43:43.736Z"
   },
   {
    "duration": 403,
    "start_time": "2021-07-14T18:43:46.913Z"
   },
   {
    "duration": 396,
    "start_time": "2021-07-14T18:44:49.923Z"
   },
   {
    "duration": 468,
    "start_time": "2021-07-14T18:45:48.700Z"
   },
   {
    "duration": 363,
    "start_time": "2021-07-14T18:45:58.147Z"
   },
   {
    "duration": 267,
    "start_time": "2021-07-14T18:47:12.941Z"
   },
   {
    "duration": 364,
    "start_time": "2021-07-14T18:47:17.165Z"
   },
   {
    "duration": 500,
    "start_time": "2021-07-14T18:47:59.545Z"
   },
   {
    "duration": 349,
    "start_time": "2021-07-14T18:48:43.499Z"
   },
   {
    "duration": 365,
    "start_time": "2021-07-14T18:50:16.757Z"
   },
   {
    "duration": 409,
    "start_time": "2021-07-14T18:52:53.492Z"
   },
   {
    "duration": 482,
    "start_time": "2021-07-14T18:53:02.941Z"
   },
   {
    "duration": 441,
    "start_time": "2021-07-14T18:54:10.350Z"
   },
   {
    "duration": 410,
    "start_time": "2021-07-14T18:54:25.896Z"
   },
   {
    "duration": 693,
    "start_time": "2021-07-14T18:55:46.992Z"
   },
   {
    "duration": 544,
    "start_time": "2021-07-14T18:56:39.286Z"
   },
   {
    "duration": 394,
    "start_time": "2021-07-14T18:56:47.189Z"
   },
   {
    "duration": 407,
    "start_time": "2021-07-14T18:58:43.925Z"
   },
   {
    "duration": 407,
    "start_time": "2021-07-14T18:58:51.343Z"
   },
   {
    "duration": 389,
    "start_time": "2021-07-14T18:59:06.909Z"
   },
   {
    "duration": 1603,
    "start_time": "2021-07-14T18:59:22.865Z"
   },
   {
    "duration": 1475,
    "start_time": "2021-07-14T18:59:37.118Z"
   },
   {
    "duration": 316,
    "start_time": "2021-07-14T18:59:58.402Z"
   },
   {
    "duration": 1640,
    "start_time": "2021-07-14T19:00:07.266Z"
   },
   {
    "duration": 1589,
    "start_time": "2021-07-14T19:00:27.390Z"
   },
   {
    "duration": 1620,
    "start_time": "2021-07-14T19:00:35.296Z"
   },
   {
    "duration": 1514,
    "start_time": "2021-07-14T19:00:45.755Z"
   },
   {
    "duration": 420,
    "start_time": "2021-07-14T19:00:59.404Z"
   },
   {
    "duration": 314,
    "start_time": "2021-07-14T19:01:08.700Z"
   },
   {
    "duration": 281,
    "start_time": "2021-07-14T19:01:20.099Z"
   },
   {
    "duration": 407,
    "start_time": "2021-07-14T19:01:26.888Z"
   },
   {
    "duration": 406,
    "start_time": "2021-07-14T19:01:38.222Z"
   },
   {
    "duration": 520,
    "start_time": "2021-07-14T19:04:38.260Z"
   },
   {
    "duration": 429,
    "start_time": "2021-07-14T19:06:30.010Z"
   },
   {
    "duration": 410,
    "start_time": "2021-07-14T19:06:37.894Z"
   },
   {
    "duration": 282,
    "start_time": "2021-07-14T19:07:42.878Z"
   },
   {
    "duration": 428,
    "start_time": "2021-07-14T19:07:46.800Z"
   },
   {
    "duration": 271,
    "start_time": "2021-07-14T19:08:02.827Z"
   },
   {
    "duration": 617,
    "start_time": "2021-07-14T19:08:10.551Z"
   },
   {
    "duration": 406,
    "start_time": "2021-07-14T19:09:24.257Z"
   },
   {
    "duration": 284,
    "start_time": "2021-07-14T19:11:08.640Z"
   },
   {
    "duration": 255,
    "start_time": "2021-07-14T19:11:45.415Z"
   },
   {
    "duration": 294,
    "start_time": "2021-07-14T19:12:00.061Z"
   },
   {
    "duration": 268,
    "start_time": "2021-07-14T19:12:37.419Z"
   },
   {
    "duration": 12,
    "start_time": "2021-07-14T19:13:02.519Z"
   },
   {
    "duration": 6,
    "start_time": "2021-07-14T19:13:09.376Z"
   },
   {
    "duration": 269,
    "start_time": "2021-07-14T19:13:18.273Z"
   },
   {
    "duration": 282,
    "start_time": "2021-07-14T19:13:27.073Z"
   },
   {
    "duration": 551,
    "start_time": "2021-07-14T19:13:45.607Z"
   },
   {
    "duration": 583,
    "start_time": "2021-07-14T19:14:05.883Z"
   },
   {
    "duration": 12,
    "start_time": "2021-07-14T19:15:01.892Z"
   },
   {
    "duration": 2623,
    "start_time": "2021-07-14T19:16:08.124Z"
   },
   {
    "duration": 2903,
    "start_time": "2021-07-14T19:16:56.590Z"
   },
   {
    "duration": 2686,
    "start_time": "2021-07-14T19:17:29.750Z"
   },
   {
    "duration": 512,
    "start_time": "2021-07-14T19:19:48.195Z"
   },
   {
    "duration": 261,
    "start_time": "2021-07-14T19:21:10.299Z"
   },
   {
    "duration": 4,
    "start_time": "2021-07-14T19:24:31.577Z"
   },
   {
    "duration": 2614,
    "start_time": "2021-07-14T19:24:35.818Z"
   },
   {
    "duration": 4091,
    "start_time": "2021-07-14T19:24:51.772Z"
   },
   {
    "duration": 428,
    "start_time": "2021-07-14T19:24:55.866Z"
   },
   {
    "duration": 2620,
    "start_time": "2021-07-14T19:24:59.019Z"
   },
   {
    "duration": 2682,
    "start_time": "2021-07-14T19:25:02.102Z"
   },
   {
    "duration": 2799,
    "start_time": "2021-07-14T19:25:17.977Z"
   },
   {
    "duration": 1382,
    "start_time": "2021-07-14T19:29:06.692Z"
   },
   {
    "duration": 4,
    "start_time": "2021-07-14T19:29:08.077Z"
   },
   {
    "duration": 59,
    "start_time": "2021-07-14T19:29:08.084Z"
   },
   {
    "duration": 5,
    "start_time": "2021-07-14T19:29:08.146Z"
   },
   {
    "duration": 7,
    "start_time": "2021-07-14T19:29:08.154Z"
   },
   {
    "duration": 49,
    "start_time": "2021-07-14T19:29:08.164Z"
   },
   {
    "duration": 16,
    "start_time": "2021-07-14T19:29:08.215Z"
   },
   {
    "duration": 485,
    "start_time": "2021-07-14T19:29:08.235Z"
   },
   {
    "duration": 2720,
    "start_time": "2021-07-14T19:29:08.723Z"
   },
   {
    "duration": 4,
    "start_time": "2021-07-14T19:29:51.684Z"
   },
   {
    "duration": 2666,
    "start_time": "2021-07-14T19:29:59.280Z"
   },
   {
    "duration": 411,
    "start_time": "2021-07-14T19:30:05.055Z"
   },
   {
    "duration": 1536,
    "start_time": "2021-07-17T11:14:37.726Z"
   },
   {
    "duration": 3,
    "start_time": "2021-07-17T11:14:39.265Z"
   },
   {
    "duration": 65,
    "start_time": "2021-07-17T11:14:39.272Z"
   },
   {
    "duration": 6,
    "start_time": "2021-07-17T11:14:39.340Z"
   },
   {
    "duration": 31,
    "start_time": "2021-07-17T11:14:39.349Z"
   },
   {
    "duration": 48,
    "start_time": "2021-07-17T11:14:39.383Z"
   },
   {
    "duration": 22,
    "start_time": "2021-07-17T11:14:39.434Z"
   },
   {
    "duration": 453,
    "start_time": "2021-07-17T11:14:39.458Z"
   },
   {
    "duration": 3400,
    "start_time": "2021-07-17T11:14:39.914Z"
   },
   {
    "duration": 736,
    "start_time": "2021-07-17T11:15:28.041Z"
   },
   {
    "duration": 5,
    "start_time": "2021-07-17T11:15:51.839Z"
   },
   {
    "duration": 792,
    "start_time": "2021-07-17T11:15:53.903Z"
   },
   {
    "duration": 4,
    "start_time": "2021-07-17T11:16:05.716Z"
   },
   {
    "duration": 649,
    "start_time": "2021-07-17T11:16:07.895Z"
   },
   {
    "duration": 728,
    "start_time": "2021-07-17T11:16:09.620Z"
   },
   {
    "duration": 732,
    "start_time": "2021-07-17T11:16:37.285Z"
   },
   {
    "duration": 501,
    "start_time": "2021-07-17T11:21:10.497Z"
   },
   {
    "duration": 467,
    "start_time": "2021-07-17T11:21:17.149Z"
   },
   {
    "duration": 606,
    "start_time": "2021-07-17T11:22:23.059Z"
   },
   {
    "duration": 320,
    "start_time": "2021-07-17T11:22:59.588Z"
   },
   {
    "duration": 323,
    "start_time": "2021-07-17T11:23:18.903Z"
   },
   {
    "duration": 539,
    "start_time": "2021-07-17T11:23:27.654Z"
   },
   {
    "duration": 432,
    "start_time": "2021-07-17T11:23:54.286Z"
   },
   {
    "duration": 446,
    "start_time": "2021-07-17T11:24:19.542Z"
   },
   {
    "duration": 434,
    "start_time": "2021-07-17T11:24:32.740Z"
   },
   {
    "duration": 576,
    "start_time": "2021-07-17T11:25:21.605Z"
   },
   {
    "duration": 4,
    "start_time": "2021-07-17T11:25:38.196Z"
   },
   {
    "duration": 6,
    "start_time": "2021-07-17T11:25:38.202Z"
   },
   {
    "duration": 53,
    "start_time": "2021-07-17T11:25:38.211Z"
   },
   {
    "duration": 5,
    "start_time": "2021-07-17T11:25:38.266Z"
   },
   {
    "duration": 7,
    "start_time": "2021-07-17T11:25:38.274Z"
   },
   {
    "duration": 18,
    "start_time": "2021-07-17T11:25:38.283Z"
   },
   {
    "duration": 15,
    "start_time": "2021-07-17T11:25:38.303Z"
   },
   {
    "duration": 456,
    "start_time": "2021-07-17T11:25:38.363Z"
   },
   {
    "duration": 494,
    "start_time": "2021-07-17T11:25:38.821Z"
   },
   {
    "duration": 464,
    "start_time": "2021-07-17T11:25:41.141Z"
   },
   {
    "duration": 28,
    "start_time": "2021-07-17T11:26:44.212Z"
   },
   {
    "duration": 463,
    "start_time": "2021-07-17T11:27:29.010Z"
   },
   {
    "duration": 529,
    "start_time": "2021-07-17T11:28:52.635Z"
   },
   {
    "duration": 446,
    "start_time": "2021-07-17T11:29:12.566Z"
   },
   {
    "duration": 526,
    "start_time": "2021-07-17T11:29:24.541Z"
   },
   {
    "duration": 403,
    "start_time": "2021-07-17T11:29:45.065Z"
   },
   {
    "duration": 301,
    "start_time": "2021-07-17T11:29:58.184Z"
   },
   {
    "duration": 301,
    "start_time": "2021-07-17T11:30:09.798Z"
   },
   {
    "duration": 474,
    "start_time": "2021-07-17T11:30:22.994Z"
   },
   {
    "duration": 488,
    "start_time": "2021-07-17T11:30:49.112Z"
   },
   {
    "duration": 458,
    "start_time": "2021-07-17T11:31:22.223Z"
   },
   {
    "duration": 5301,
    "start_time": "2021-07-17T11:31:39.229Z"
   },
   {
    "duration": 5634,
    "start_time": "2021-07-17T11:31:46.988Z"
   },
   {
    "duration": 604,
    "start_time": "2021-07-17T11:31:54.842Z"
   },
   {
    "duration": 634,
    "start_time": "2021-07-17T11:32:08.020Z"
   },
   {
    "duration": 295,
    "start_time": "2021-07-17T11:32:19.982Z"
   },
   {
    "duration": 354,
    "start_time": "2021-07-17T11:33:55.216Z"
   },
   {
    "duration": 617,
    "start_time": "2021-07-17T11:34:12.287Z"
   },
   {
    "duration": 448,
    "start_time": "2021-07-17T11:36:07.375Z"
   },
   {
    "duration": 475,
    "start_time": "2021-07-17T11:36:33.539Z"
   },
   {
    "duration": 280,
    "start_time": "2021-07-17T11:36:43.912Z"
   },
   {
    "duration": 13,
    "start_time": "2021-07-17T11:37:05.397Z"
   },
   {
    "duration": 586,
    "start_time": "2021-07-17T11:39:29.209Z"
   },
   {
    "duration": 461,
    "start_time": "2021-07-17T11:39:39.470Z"
   },
   {
    "duration": 479,
    "start_time": "2021-07-17T11:39:59.708Z"
   },
   {
    "duration": 488,
    "start_time": "2021-07-17T11:40:04.789Z"
   },
   {
    "duration": 6,
    "start_time": "2021-07-17T11:44:24.360Z"
   },
   {
    "duration": 6,
    "start_time": "2021-07-17T11:44:31.985Z"
   },
   {
    "duration": 6,
    "start_time": "2021-07-17T11:44:42.021Z"
   },
   {
    "duration": 484,
    "start_time": "2021-07-17T11:59:05.044Z"
   },
   {
    "duration": 450,
    "start_time": "2021-07-17T12:01:57.555Z"
   },
   {
    "duration": 290,
    "start_time": "2021-07-17T12:02:34.443Z"
   },
   {
    "duration": 368,
    "start_time": "2021-07-17T12:02:41.160Z"
   },
   {
    "duration": 431,
    "start_time": "2021-07-17T12:03:08.785Z"
   },
   {
    "duration": 462,
    "start_time": "2021-07-17T12:03:48.300Z"
   },
   {
    "duration": 331,
    "start_time": "2021-07-17T12:11:06.170Z"
   },
   {
    "duration": 312,
    "start_time": "2021-07-17T12:11:19.741Z"
   },
   {
    "duration": 650,
    "start_time": "2021-07-17T12:11:44.726Z"
   },
   {
    "duration": 501,
    "start_time": "2021-07-17T12:12:42.812Z"
   },
   {
    "duration": 516,
    "start_time": "2021-07-17T12:16:52.458Z"
   },
   {
    "duration": 511,
    "start_time": "2021-07-17T12:20:55.168Z"
   },
   {
    "duration": 619,
    "start_time": "2021-07-17T12:21:37.457Z"
   },
   {
    "duration": 495,
    "start_time": "2021-07-17T12:21:56.580Z"
   },
   {
    "duration": 500,
    "start_time": "2021-07-17T12:22:13.305Z"
   },
   {
    "duration": 375,
    "start_time": "2021-07-17T12:24:03.038Z"
   },
   {
    "duration": 373,
    "start_time": "2021-07-17T12:24:08.335Z"
   },
   {
    "duration": 333,
    "start_time": "2021-07-17T12:24:26.133Z"
   },
   {
    "duration": 396,
    "start_time": "2021-07-17T12:24:38.657Z"
   },
   {
    "duration": 378,
    "start_time": "2021-07-17T12:24:58.423Z"
   },
   {
    "duration": 57,
    "start_time": "2021-07-17T13:00:09.983Z"
   },
   {
    "duration": 362,
    "start_time": "2021-07-17T13:03:55.519Z"
   },
   {
    "duration": 5,
    "start_time": "2021-07-17T13:04:11.923Z"
   },
   {
    "duration": 774,
    "start_time": "2021-07-17T13:04:16.017Z"
   },
   {
    "duration": 786,
    "start_time": "2021-07-17T13:05:25.575Z"
   },
   {
    "duration": 2785,
    "start_time": "2021-07-17T13:06:02.530Z"
   },
   {
    "duration": 40,
    "start_time": "2021-07-17T13:06:29.470Z"
   },
   {
    "duration": 5,
    "start_time": "2021-07-17T13:11:20.742Z"
   },
   {
    "duration": 7564,
    "start_time": "2021-07-17T13:12:10.263Z"
   },
   {
    "duration": 42,
    "start_time": "2021-07-17T13:12:30.805Z"
   },
   {
    "duration": 1576,
    "start_time": "2021-07-17T13:13:52.758Z"
   },
   {
    "duration": 4,
    "start_time": "2021-07-17T13:13:54.336Z"
   },
   {
    "duration": 66,
    "start_time": "2021-07-17T13:13:54.344Z"
   },
   {
    "duration": 6,
    "start_time": "2021-07-17T13:13:54.413Z"
   },
   {
    "duration": 9,
    "start_time": "2021-07-17T13:13:54.422Z"
   },
   {
    "duration": 27,
    "start_time": "2021-07-17T13:13:54.433Z"
   },
   {
    "duration": 17,
    "start_time": "2021-07-17T13:13:54.462Z"
   },
   {
    "duration": 524,
    "start_time": "2021-07-17T13:13:54.482Z"
   },
   {
    "duration": 556,
    "start_time": "2021-07-17T13:13:55.008Z"
   },
   {
    "duration": 567,
    "start_time": "2021-07-17T13:13:55.566Z"
   },
   {
    "duration": 9,
    "start_time": "2021-07-17T13:13:56.135Z"
   },
   {
    "duration": 506,
    "start_time": "2021-07-17T13:13:56.147Z"
   },
   {
    "duration": 371,
    "start_time": "2021-07-17T13:13:56.656Z"
   },
   {
    "duration": 425,
    "start_time": "2021-07-17T13:13:57.029Z"
   },
   {
    "duration": 12,
    "start_time": "2021-07-17T13:15:24.897Z"
   },
   {
    "duration": 463,
    "start_time": "2021-07-17T13:17:32.501Z"
   },
   {
    "duration": 382,
    "start_time": "2021-07-17T13:17:58.734Z"
   },
   {
    "duration": 459,
    "start_time": "2021-07-17T13:18:26.477Z"
   },
   {
    "duration": 370,
    "start_time": "2021-07-17T13:18:34.956Z"
   },
   {
    "duration": 356,
    "start_time": "2021-07-17T13:18:46.638Z"
   },
   {
    "duration": 323,
    "start_time": "2021-07-17T13:19:09.790Z"
   },
   {
    "duration": 27,
    "start_time": "2021-07-17T13:27:43.068Z"
   },
   {
    "duration": 6,
    "start_time": "2021-07-17T13:29:57.834Z"
   },
   {
    "duration": 12,
    "start_time": "2021-07-17T13:30:26.905Z"
   },
   {
    "duration": 29,
    "start_time": "2021-07-17T13:30:34.851Z"
   },
   {
    "duration": 12,
    "start_time": "2021-07-17T13:30:44.629Z"
   },
   {
    "duration": 77,
    "start_time": "2021-07-17T13:31:58.958Z"
   },
   {
    "duration": 1898,
    "start_time": "2021-07-17T13:33:52.243Z"
   },
   {
    "duration": 8969,
    "start_time": "2021-07-17T13:34:13.723Z"
   },
   {
    "duration": 16255,
    "start_time": "2021-07-17T13:34:50.622Z"
   },
   {
    "duration": 83511,
    "start_time": "2021-07-17T13:35:35.406Z"
   },
   {
    "duration": 516,
    "start_time": "2021-07-17T13:43:43.182Z"
   },
   {
    "duration": 23782,
    "start_time": "2021-07-17T13:44:17.926Z"
   },
   {
    "duration": 22609,
    "start_time": "2021-07-17T13:55:55.143Z"
   },
   {
    "duration": 22848,
    "start_time": "2021-07-17T14:00:26.982Z"
   },
   {
    "duration": 36,
    "start_time": "2021-07-17T14:10:31.596Z"
   },
   {
    "duration": 45,
    "start_time": "2021-07-17T14:10:35.805Z"
   },
   {
    "duration": 12,
    "start_time": "2021-07-17T14:12:59.217Z"
   },
   {
    "duration": 16,
    "start_time": "2021-07-17T14:13:06.249Z"
   },
   {
    "duration": 13,
    "start_time": "2021-07-17T14:13:17.141Z"
   },
   {
    "duration": 9,
    "start_time": "2021-07-17T14:13:45.565Z"
   },
   {
    "duration": 12,
    "start_time": "2021-07-17T14:13:46.441Z"
   },
   {
    "duration": 12,
    "start_time": "2021-07-17T14:13:53.416Z"
   },
   {
    "duration": 34,
    "start_time": "2021-07-17T14:13:58.643Z"
   },
   {
    "duration": 45,
    "start_time": "2021-07-17T14:13:59.977Z"
   },
   {
    "duration": 12,
    "start_time": "2021-07-17T14:14:09.218Z"
   },
   {
    "duration": 14,
    "start_time": "2021-07-17T14:14:11.551Z"
   },
   {
    "duration": 41,
    "start_time": "2021-07-17T14:14:13.860Z"
   },
   {
    "duration": 42,
    "start_time": "2021-07-17T14:14:19.147Z"
   },
   {
    "duration": 10,
    "start_time": "2021-07-17T14:14:23.001Z"
   },
   {
    "duration": 42,
    "start_time": "2021-07-17T14:14:26.772Z"
   },
   {
    "duration": 8,
    "start_time": "2021-07-17T14:14:34.480Z"
   },
   {
    "duration": 134,
    "start_time": "2021-07-17T14:26:57.410Z"
   },
   {
    "duration": 6,
    "start_time": "2021-07-17T14:27:09.301Z"
   },
   {
    "duration": 5,
    "start_time": "2021-07-17T14:27:31.074Z"
   },
   {
    "duration": 101,
    "start_time": "2021-07-17T14:38:44.504Z"
   },
   {
    "duration": 402,
    "start_time": "2021-07-17T14:43:38.554Z"
   },
   {
    "duration": 6,
    "start_time": "2021-07-17T14:44:03.593Z"
   },
   {
    "duration": 792,
    "start_time": "2021-07-17T14:44:09.378Z"
   },
   {
    "duration": 6,
    "start_time": "2021-07-17T14:45:14.464Z"
   },
   {
    "duration": 94,
    "start_time": "2021-07-17T14:45:16.074Z"
   },
   {
    "duration": 6,
    "start_time": "2021-07-17T14:46:14.090Z"
   },
   {
    "duration": 312,
    "start_time": "2021-07-17T14:47:12.417Z"
   },
   {
    "duration": 393,
    "start_time": "2021-07-17T14:47:22.772Z"
   },
   {
    "duration": 4,
    "start_time": "2021-07-17T14:47:40.640Z"
   },
   {
    "duration": 4693,
    "start_time": "2021-07-17T14:49:53.088Z"
   },
   {
    "duration": 166,
    "start_time": "2021-07-17T14:50:24.658Z"
   },
   {
    "duration": 154,
    "start_time": "2021-07-17T14:50:47.257Z"
   },
   {
    "duration": 1441,
    "start_time": "2021-07-17T14:50:50.951Z"
   },
   {
    "duration": 6513,
    "start_time": "2021-07-17T14:50:55.007Z"
   },
   {
    "duration": 3253,
    "start_time": "2021-07-17T14:51:11.001Z"
   },
   {
    "duration": 6615,
    "start_time": "2021-07-17T14:51:49.426Z"
   },
   {
    "duration": 1590,
    "start_time": "2021-07-18T06:14:18.153Z"
   },
   {
    "duration": 4,
    "start_time": "2021-07-18T06:14:19.746Z"
   },
   {
    "duration": 63,
    "start_time": "2021-07-18T06:14:19.763Z"
   },
   {
    "duration": 6,
    "start_time": "2021-07-18T06:14:19.829Z"
   },
   {
    "duration": 10,
    "start_time": "2021-07-18T06:14:19.837Z"
   },
   {
    "duration": 18,
    "start_time": "2021-07-18T06:14:19.862Z"
   },
   {
    "duration": 16,
    "start_time": "2021-07-18T06:14:19.882Z"
   },
   {
    "duration": 466,
    "start_time": "2021-07-18T06:14:19.901Z"
   },
   {
    "duration": 500,
    "start_time": "2021-07-18T06:14:20.370Z"
   },
   {
    "duration": 558,
    "start_time": "2021-07-18T06:14:20.872Z"
   },
   {
    "duration": 9,
    "start_time": "2021-07-18T06:14:21.432Z"
   },
   {
    "duration": 491,
    "start_time": "2021-07-18T06:14:21.443Z"
   },
   {
    "duration": 378,
    "start_time": "2021-07-18T06:14:21.936Z"
   },
   {
    "duration": 408,
    "start_time": "2021-07-18T06:14:22.317Z"
   },
   {
    "duration": 5,
    "start_time": "2021-07-18T06:14:22.727Z"
   },
   {
    "duration": 59,
    "start_time": "2021-07-18T06:14:22.735Z"
   },
   {
    "duration": 18,
    "start_time": "2021-07-18T06:14:22.796Z"
   },
   {
    "duration": 6,
    "start_time": "2021-07-18T06:14:22.816Z"
   },
   {
    "duration": 238,
    "start_time": "2021-07-18T06:14:22.824Z"
   },
   {
    "duration": 25,
    "start_time": "2021-07-18T06:18:40.607Z"
   },
   {
    "duration": 5,
    "start_time": "2021-07-18T06:28:05.204Z"
   },
   {
    "duration": 599,
    "start_time": "2021-07-18T06:32:31.845Z"
   },
   {
    "duration": 7,
    "start_time": "2021-07-18T06:32:55.121Z"
   },
   {
    "duration": 10449,
    "start_time": "2021-07-18T06:33:26.054Z"
   },
   {
    "duration": 432,
    "start_time": "2021-07-18T06:34:04.189Z"
   },
   {
    "duration": 6,
    "start_time": "2021-07-18T06:34:17.093Z"
   },
   {
    "duration": 7,
    "start_time": "2021-07-18T06:34:28.649Z"
   },
   {
    "duration": 318,
    "start_time": "2021-07-18T06:36:08.843Z"
   },
   {
    "duration": 199,
    "start_time": "2021-07-18T06:36:17.311Z"
   },
   {
    "duration": 94078,
    "start_time": "2021-07-18T06:36:24.084Z"
   },
   {
    "duration": 7,
    "start_time": "2021-07-18T06:38:49.052Z"
   },
   {
    "duration": 5,
    "start_time": "2021-07-18T06:38:54.297Z"
   },
   {
    "duration": 5,
    "start_time": "2021-07-18T06:46:02.111Z"
   },
   {
    "duration": 92216,
    "start_time": "2021-07-18T06:46:32.476Z"
   },
   {
    "duration": 7,
    "start_time": "2021-07-18T06:48:42.736Z"
   },
   {
    "duration": 18,
    "start_time": "2021-07-18T06:50:36.563Z"
   },
   {
    "duration": 103123,
    "start_time": "2021-07-18T06:53:30.061Z"
   },
   {
    "duration": 3298,
    "start_time": "2021-07-18T06:55:43.009Z"
   },
   {
    "duration": 11723,
    "start_time": "2021-07-18T06:57:45.143Z"
   },
   {
    "duration": 105,
    "start_time": "2021-07-18T06:59:13.946Z"
   },
   {
    "duration": 30239,
    "start_time": "2021-07-18T06:59:20.117Z"
   },
   {
    "duration": 17587,
    "start_time": "2021-07-18T07:00:07.358Z"
   },
   {
    "duration": 12990,
    "start_time": "2021-07-18T07:00:34.345Z"
   },
   {
    "duration": 14,
    "start_time": "2021-07-18T07:08:21.976Z"
   },
   {
    "duration": 376,
    "start_time": "2021-07-18T07:09:39.148Z"
   },
   {
    "duration": 8,
    "start_time": "2021-07-18T07:09:57.576Z"
   },
   {
    "duration": 12,
    "start_time": "2021-07-18T07:10:14.483Z"
   },
   {
    "duration": 14,
    "start_time": "2021-07-18T07:10:29.244Z"
   },
   {
    "duration": 54,
    "start_time": "2021-07-18T07:11:54.810Z"
   },
   {
    "duration": 9,
    "start_time": "2021-07-18T07:12:04.113Z"
   },
   {
    "duration": 16,
    "start_time": "2021-07-18T07:12:20.323Z"
   },
   {
    "duration": 24,
    "start_time": "2021-07-18T07:13:11.172Z"
   },
   {
    "duration": 473,
    "start_time": "2021-07-18T07:13:34.950Z"
   },
   {
    "duration": 469,
    "start_time": "2021-07-18T07:16:12.593Z"
   },
   {
    "duration": 517,
    "start_time": "2021-07-18T07:16:57.396Z"
   },
   {
    "duration": 559,
    "start_time": "2021-07-18T07:17:13.515Z"
   },
   {
    "duration": 8,
    "start_time": "2021-07-18T07:17:19.084Z"
   },
   {
    "duration": 655,
    "start_time": "2021-07-18T07:17:19.888Z"
   },
   {
    "duration": 43,
    "start_time": "2021-07-18T07:25:26.066Z"
   },
   {
    "duration": 8,
    "start_time": "2021-07-18T07:29:52.748Z"
   },
   {
    "duration": 1161,
    "start_time": "2021-07-18T11:18:59.728Z"
   },
   {
    "duration": 3,
    "start_time": "2021-07-18T11:19:00.890Z"
   },
   {
    "duration": 56,
    "start_time": "2021-07-18T11:19:00.895Z"
   },
   {
    "duration": 4,
    "start_time": "2021-07-18T11:19:00.952Z"
   },
   {
    "duration": 28,
    "start_time": "2021-07-18T11:19:00.958Z"
   },
   {
    "duration": 20,
    "start_time": "2021-07-18T11:19:00.988Z"
   },
   {
    "duration": 15,
    "start_time": "2021-07-18T11:19:01.010Z"
   },
   {
    "duration": 283,
    "start_time": "2021-07-18T11:19:01.027Z"
   },
   {
    "duration": 300,
    "start_time": "2021-07-18T11:19:01.312Z"
   },
   {
    "duration": 353,
    "start_time": "2021-07-18T11:19:01.614Z"
   },
   {
    "duration": 7,
    "start_time": "2021-07-18T11:19:01.968Z"
   },
   {
    "duration": 295,
    "start_time": "2021-07-18T11:19:01.985Z"
   },
   {
    "duration": 217,
    "start_time": "2021-07-18T11:19:02.282Z"
   },
   {
    "duration": 246,
    "start_time": "2021-07-18T11:19:02.501Z"
   },
   {
    "duration": 4,
    "start_time": "2021-07-18T11:19:02.749Z"
   },
   {
    "duration": 35,
    "start_time": "2021-07-18T11:19:02.754Z"
   },
   {
    "duration": 11,
    "start_time": "2021-07-18T11:19:02.791Z"
   },
   {
    "duration": 4,
    "start_time": "2021-07-18T11:19:02.804Z"
   },
   {
    "duration": 175,
    "start_time": "2021-07-18T11:19:02.810Z"
   },
   {
    "duration": 216,
    "start_time": "2021-07-18T11:19:02.987Z"
   },
   {
    "duration": 10452,
    "start_time": "2021-07-18T11:19:03.205Z"
   },
   {
    "duration": 3,
    "start_time": "2021-07-18T11:19:26.937Z"
   },
   {
    "duration": 76632,
    "start_time": "2021-07-18T11:19:33.878Z"
   },
   {
    "duration": 10226,
    "start_time": "2021-07-18T11:20:50.512Z"
   },
   {
    "duration": 230,
    "start_time": "2021-07-18T11:21:09.223Z"
   },
   {
    "duration": 182,
    "start_time": "2021-07-18T11:21:19.887Z"
   },
   {
    "duration": 26,
    "start_time": "2021-07-18T11:21:31.950Z"
   },
   {
    "duration": 7,
    "start_time": "2021-07-18T11:25:52.489Z"
   },
   {
    "duration": 6,
    "start_time": "2021-07-18T11:30:52.450Z"
   },
   {
    "duration": 6,
    "start_time": "2021-07-18T11:31:36.614Z"
   },
   {
    "duration": 7,
    "start_time": "2021-07-18T11:31:40.177Z"
   },
   {
    "duration": 7,
    "start_time": "2021-07-18T11:31:43.016Z"
   },
   {
    "duration": 9,
    "start_time": "2021-07-18T11:34:21.002Z"
   },
   {
    "duration": 10,
    "start_time": "2021-07-18T11:34:49.523Z"
   },
   {
    "duration": 6,
    "start_time": "2021-07-18T11:35:39.437Z"
   },
   {
    "duration": 343,
    "start_time": "2021-07-18T11:35:41.168Z"
   },
   {
    "duration": 6,
    "start_time": "2021-07-18T11:38:35.098Z"
   },
   {
    "duration": 371,
    "start_time": "2021-07-18T11:38:35.973Z"
   },
   {
    "duration": 6,
    "start_time": "2021-07-18T11:39:03.405Z"
   },
   {
    "duration": 361,
    "start_time": "2021-07-18T11:39:04.213Z"
   },
   {
    "duration": 1169,
    "start_time": "2021-07-18T12:06:07.301Z"
   },
   {
    "duration": 2,
    "start_time": "2021-07-18T12:06:08.472Z"
   },
   {
    "duration": 50,
    "start_time": "2021-07-18T12:06:08.476Z"
   },
   {
    "duration": 3,
    "start_time": "2021-07-18T12:06:08.528Z"
   },
   {
    "duration": 8,
    "start_time": "2021-07-18T12:06:08.533Z"
   },
   {
    "duration": 15,
    "start_time": "2021-07-18T12:06:08.543Z"
   },
   {
    "duration": 26,
    "start_time": "2021-07-18T12:06:08.559Z"
   },
   {
    "duration": 271,
    "start_time": "2021-07-18T12:06:08.587Z"
   },
   {
    "duration": 303,
    "start_time": "2021-07-18T12:06:08.860Z"
   },
   {
    "duration": 349,
    "start_time": "2021-07-18T12:06:09.165Z"
   },
   {
    "duration": 6,
    "start_time": "2021-07-18T12:06:09.516Z"
   },
   {
    "duration": 297,
    "start_time": "2021-07-18T12:06:09.524Z"
   },
   {
    "duration": 221,
    "start_time": "2021-07-18T12:06:09.822Z"
   },
   {
    "duration": 249,
    "start_time": "2021-07-18T12:06:10.045Z"
   },
   {
    "duration": 3,
    "start_time": "2021-07-18T12:06:10.296Z"
   },
   {
    "duration": 23,
    "start_time": "2021-07-18T12:06:10.301Z"
   },
   {
    "duration": 12,
    "start_time": "2021-07-18T12:06:10.325Z"
   },
   {
    "duration": 4,
    "start_time": "2021-07-18T12:06:10.338Z"
   },
   {
    "duration": 144,
    "start_time": "2021-07-18T12:06:10.343Z"
   },
   {
    "duration": 76667,
    "start_time": "2021-07-18T12:06:10.489Z"
   },
   {
    "duration": 10534,
    "start_time": "2021-07-18T12:07:27.158Z"
   },
   {
    "duration": 5,
    "start_time": "2021-07-18T12:07:37.694Z"
   },
   {
    "duration": 6,
    "start_time": "2021-07-18T12:07:37.702Z"
   },
   {
    "duration": 10,
    "start_time": "2021-07-18T12:07:37.709Z"
   },
   {
    "duration": 7,
    "start_time": "2021-07-18T12:07:37.721Z"
   },
   {
    "duration": 367,
    "start_time": "2021-07-18T12:07:37.730Z"
   },
   {
    "duration": 1135,
    "start_time": "2021-07-19T05:57:53.913Z"
   },
   {
    "duration": 3,
    "start_time": "2021-07-19T05:57:55.050Z"
   },
   {
    "duration": 43,
    "start_time": "2021-07-19T05:57:55.054Z"
   },
   {
    "duration": 3,
    "start_time": "2021-07-19T05:57:55.099Z"
   },
   {
    "duration": 5,
    "start_time": "2021-07-19T05:57:55.104Z"
   },
   {
    "duration": 12,
    "start_time": "2021-07-19T05:57:55.111Z"
   },
   {
    "duration": 9,
    "start_time": "2021-07-19T05:57:55.125Z"
   },
   {
    "duration": 275,
    "start_time": "2021-07-19T05:57:55.136Z"
   },
   {
    "duration": 302,
    "start_time": "2021-07-19T05:57:55.412Z"
   },
   {
    "duration": 353,
    "start_time": "2021-07-19T05:57:55.717Z"
   },
   {
    "duration": 20,
    "start_time": "2021-07-19T05:57:56.072Z"
   },
   {
    "duration": 309,
    "start_time": "2021-07-19T05:57:56.094Z"
   },
   {
    "duration": 227,
    "start_time": "2021-07-19T05:57:56.405Z"
   },
   {
    "duration": 246,
    "start_time": "2021-07-19T05:57:56.634Z"
   },
   {
    "duration": 4,
    "start_time": "2021-07-19T06:04:32.412Z"
   },
   {
    "duration": 7,
    "start_time": "2021-07-19T06:04:43.730Z"
   },
   {
    "duration": 41,
    "start_time": "2021-07-19T06:04:47.331Z"
   },
   {
    "duration": 22,
    "start_time": "2021-07-19T06:04:54.481Z"
   },
   {
    "duration": 28,
    "start_time": "2021-07-19T06:04:57.055Z"
   },
   {
    "duration": 4,
    "start_time": "2021-07-19T06:08:24.942Z"
   },
   {
    "duration": 325,
    "start_time": "2021-07-19T06:08:27.107Z"
   },
   {
    "duration": 11,
    "start_time": "2021-07-19T06:08:31.205Z"
   },
   {
    "duration": 4,
    "start_time": "2021-07-19T06:08:32.410Z"
   },
   {
    "duration": 23,
    "start_time": "2021-07-19T06:08:33.672Z"
   },
   {
    "duration": 71710,
    "start_time": "2021-07-19T06:10:31.702Z"
   },
   {
    "duration": 72758,
    "start_time": "2021-07-19T06:12:45.091Z"
   },
   {
    "duration": 4,
    "start_time": "2021-07-19T06:14:40.293Z"
   },
   {
    "duration": 71898,
    "start_time": "2021-07-19T06:16:53.131Z"
   },
   {
    "duration": 1141,
    "start_time": "2021-07-19T06:30:12.921Z"
   },
   {
    "duration": 2,
    "start_time": "2021-07-19T06:30:14.064Z"
   },
   {
    "duration": 42,
    "start_time": "2021-07-19T06:30:14.070Z"
   },
   {
    "duration": 3,
    "start_time": "2021-07-19T06:30:14.114Z"
   },
   {
    "duration": 7,
    "start_time": "2021-07-19T06:30:14.119Z"
   },
   {
    "duration": 16,
    "start_time": "2021-07-19T06:30:14.127Z"
   },
   {
    "duration": 10,
    "start_time": "2021-07-19T06:30:14.146Z"
   },
   {
    "duration": 251,
    "start_time": "2021-07-19T06:30:14.158Z"
   },
   {
    "duration": 259,
    "start_time": "2021-07-19T06:30:14.411Z"
   },
   {
    "duration": 321,
    "start_time": "2021-07-19T06:30:14.672Z"
   },
   {
    "duration": 6,
    "start_time": "2021-07-19T06:30:14.995Z"
   },
   {
    "duration": 258,
    "start_time": "2021-07-19T06:30:15.003Z"
   },
   {
    "duration": 194,
    "start_time": "2021-07-19T06:30:15.263Z"
   },
   {
    "duration": 213,
    "start_time": "2021-07-19T06:30:15.459Z"
   },
   {
    "duration": 4,
    "start_time": "2021-07-19T06:30:15.674Z"
   },
   {
    "duration": 30,
    "start_time": "2021-07-19T06:30:15.680Z"
   },
   {
    "duration": 11,
    "start_time": "2021-07-19T06:30:15.712Z"
   },
   {
    "duration": 4,
    "start_time": "2021-07-19T06:30:15.725Z"
   },
   {
    "duration": 162,
    "start_time": "2021-07-19T06:30:15.731Z"
   },
   {
    "duration": 72428,
    "start_time": "2021-07-19T06:30:15.895Z"
   },
   {
    "duration": 9823,
    "start_time": "2021-07-19T06:31:28.325Z"
   },
   {
    "duration": 6,
    "start_time": "2021-07-19T06:31:38.151Z"
   },
   {
    "duration": 9,
    "start_time": "2021-07-19T06:31:38.158Z"
   },
   {
    "duration": 9,
    "start_time": "2021-07-19T06:31:38.168Z"
   },
   {
    "duration": 13,
    "start_time": "2021-07-19T06:31:38.179Z"
   },
   {
    "duration": 311,
    "start_time": "2021-07-19T06:31:38.194Z"
   },
   {
    "duration": 284,
    "start_time": "2021-08-06T09:58:49.913Z"
   },
   {
    "duration": 963,
    "start_time": "2021-08-06T09:59:21.056Z"
   },
   {
    "duration": 1396,
    "start_time": "2021-09-07T17:53:07.330Z"
   },
   {
    "duration": 3,
    "start_time": "2021-09-07T17:53:08.729Z"
   },
   {
    "duration": 63,
    "start_time": "2021-09-07T17:53:08.735Z"
   },
   {
    "duration": 6,
    "start_time": "2021-09-07T17:53:08.800Z"
   },
   {
    "duration": 7,
    "start_time": "2021-09-07T17:53:08.809Z"
   },
   {
    "duration": 25,
    "start_time": "2021-09-07T17:53:08.819Z"
   },
   {
    "duration": 45,
    "start_time": "2021-09-07T17:53:08.846Z"
   },
   {
    "duration": 431,
    "start_time": "2021-09-07T17:53:08.895Z"
   },
   {
    "duration": 433,
    "start_time": "2021-09-07T17:53:09.329Z"
   },
   {
    "duration": 488,
    "start_time": "2021-09-07T17:53:09.764Z"
   },
   {
    "duration": 9,
    "start_time": "2021-09-07T17:53:10.254Z"
   },
   {
    "duration": 436,
    "start_time": "2021-09-07T17:53:10.266Z"
   },
   {
    "duration": 327,
    "start_time": "2021-09-07T17:53:10.704Z"
   },
   {
    "duration": 379,
    "start_time": "2021-09-07T17:53:11.034Z"
   },
   {
    "duration": 7,
    "start_time": "2021-09-07T17:53:11.416Z"
   },
   {
    "duration": 57,
    "start_time": "2021-09-07T17:53:11.426Z"
   },
   {
    "duration": 15,
    "start_time": "2021-09-07T17:53:11.485Z"
   },
   {
    "duration": 6,
    "start_time": "2021-09-07T17:53:11.502Z"
   },
   {
    "duration": 187,
    "start_time": "2021-09-07T17:53:11.510Z"
   },
   {
    "duration": 94606,
    "start_time": "2021-09-07T17:53:11.700Z"
   },
   {
    "duration": 13715,
    "start_time": "2021-09-07T17:54:46.309Z"
   },
   {
    "duration": 8,
    "start_time": "2021-09-07T17:55:00.027Z"
   },
   {
    "duration": 13,
    "start_time": "2021-09-07T17:55:00.039Z"
   },
   {
    "duration": 16,
    "start_time": "2021-09-07T17:55:00.054Z"
   },
   {
    "duration": 16,
    "start_time": "2021-09-07T17:55:00.072Z"
   },
   {
    "duration": 551,
    "start_time": "2021-09-07T17:55:00.090Z"
   }
  ],
  "kernelspec": {
   "display_name": "Python 3",
   "language": "python",
   "name": "python3"
  },
  "language_info": {
   "codemirror_mode": {
    "name": "ipython",
    "version": 3
   },
   "file_extension": ".py",
   "mimetype": "text/x-python",
   "name": "python",
   "nbconvert_exporter": "python",
   "pygments_lexer": "ipython3",
   "version": "3.8.5"
  },
  "toc": {
   "base_numbering": 1,
   "nav_menu": {},
   "number_sections": true,
   "sideBar": true,
   "skip_h1_title": true,
   "title_cell": "Содержание",
   "title_sidebar": "Contents",
   "toc_cell": true,
   "toc_position": {
    "height": "calc(100% - 180px)",
    "left": "10px",
    "top": "150px",
    "width": "255.4px"
   },
   "toc_section_display": true,
   "toc_window_display": false
  }
 },
 "nbformat": 4,
 "nbformat_minor": 2
}
